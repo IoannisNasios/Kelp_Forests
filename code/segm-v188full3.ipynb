{
 "cells": [
  {
   "cell_type": "code",
   "execution_count": 1,
   "id": "53694358",
   "metadata": {
    "execution": {
     "iopub.execute_input": "2024-02-26T13:02:34.299140Z",
     "iopub.status.busy": "2024-02-26T13:02:34.298877Z",
     "iopub.status.idle": "2024-02-26T13:02:54.214502Z",
     "shell.execute_reply": "2024-02-26T13:02:54.213371Z"
    },
    "papermill": {
     "duration": 19.927798,
     "end_time": "2024-02-26T13:02:54.216880",
     "exception": false,
     "start_time": "2024-02-26T13:02:34.289082",
     "status": "completed"
    },
    "tags": []
   },
   "outputs": [],
   "source": [
    "# !pip install -q segmentation_models_pytorch"
   ]
  },
  {
   "cell_type": "code",
   "execution_count": 2,
   "id": "601a5d4c",
   "metadata": {
    "execution": {
     "iopub.execute_input": "2024-02-26T13:02:54.235657Z",
     "iopub.status.busy": "2024-02-26T13:02:54.235108Z",
     "iopub.status.idle": "2024-02-26T13:03:06.035271Z",
     "shell.execute_reply": "2024-02-26T13:03:06.034495Z"
    },
    "papermill": {
     "duration": 11.811896,
     "end_time": "2024-02-26T13:03:06.037620",
     "exception": false,
     "start_time": "2024-02-26T13:02:54.225724",
     "status": "completed"
    },
    "tags": []
   },
   "outputs": [],
   "source": [
    "import os\n",
    "# os.environ[\"CUDA_VISIBLE_DEVICES\"] = \"0\"\n",
    "\n",
    "import cv2\n",
    "import tifffile\n",
    "import numpy as np\n",
    "import pandas as pd\n",
    "import matplotlib.pyplot as plt\n",
    "import gc\n",
    "import warnings\n",
    "warnings.filterwarnings(\"ignore\")\n",
    "\n",
    "import random\n",
    "import torch\n",
    "import torch.nn as nn\n",
    "import albumentations\n",
    "\n",
    "import segmentation_models_pytorch as smp\n",
    "import skimage\n",
    "\n",
    "\n",
    "from tqdm import tqdm\n",
    "import torch.optim as optim\n",
    "from torch.utils.data import TensorDataset, DataLoader,Dataset\n",
    "from fastprogress import master_bar, progress_bar\n",
    "\n",
    "def create_dir(path):\n",
    "    if os.path.isdir(path)==False:\n",
    "        os.makedirs(path)"
   ]
  },
  {
   "cell_type": "code",
   "execution_count": 1,
   "id": "4dd7527b",
   "metadata": {
    "execution": {
     "iopub.execute_input": "2024-02-26T13:03:06.056048Z",
     "iopub.status.busy": "2024-02-26T13:03:06.055747Z",
     "iopub.status.idle": "2024-02-26T13:03:06.061198Z",
     "shell.execute_reply": "2024-02-26T13:03:06.060344Z"
    },
    "papermill": {
     "duration": 0.01657,
     "end_time": "2024-02-26T13:03:06.063013",
     "exception": false,
     "start_time": "2024-02-26T13:03:06.046443",
     "status": "completed"
    },
    "tags": []
   },
   "outputs": [],
   "source": [
    "# # CONFIGURE \n",
    "\n",
    "# # Set Data Paths\n",
    "# test_path='test_satellite/'\n",
    "# train_path='train_satellite/'\n",
    "# labels_path='train_kelp/'\n",
    "\n",
    "\n",
    "# # Create directories\n",
    "# # test_predmask_path='test_kelp/'\n",
    "# # create_dir(test_predmask_path)\n",
    "\n",
    "# # set weights directory for new training saving\n",
    "# weights_path='weights/'\n",
    "# create_dir(weights_path)\n",
    "\n",
    "\n",
    "# RETRAIN= False # if true retrain else use trained weights for inference\n",
    "# trained_weights = 'trained_weights/' # meaningful only when RETRAIN=False\n",
    "\n",
    "\n",
    "# # directory for prediction probabilities \n",
    "# test_preds_dir = 'test_preds/'\n",
    "# create_dir(test_preds_dir)\n",
    "\n",
    "from config import test_path, train_path, labels_path, weights_path, RETRAIN, trained_weights, test_preds_dir\n",
    "\n",
    "# DO NOT EDIT BELOW"
   ]
  },
  {
   "cell_type": "code",
   "execution_count": 2,
   "id": "ab2e6da5",
   "metadata": {},
   "outputs": [
    {
     "data": {
      "text/plain": [
       "('test_satellite/',\n",
       " 'train_satellite/',\n",
       " 'train_kelp/',\n",
       " 'weights/',\n",
       " False,\n",
       " 'trained_weights/',\n",
       " 'test_preds/')"
      ]
     },
     "execution_count": 2,
     "metadata": {},
     "output_type": "execute_result"
    }
   ],
   "source": [
    "test_path, train_path, labels_path, weights_path, RETRAIN, trained_weights, test_preds_dir"
   ]
  },
  {
   "cell_type": "code",
   "execution_count": 4,
   "id": "9f5c559c",
   "metadata": {
    "execution": {
     "iopub.execute_input": "2024-02-26T13:03:06.080525Z",
     "iopub.status.busy": "2024-02-26T13:03:06.080266Z",
     "iopub.status.idle": "2024-02-26T13:03:06.086226Z",
     "shell.execute_reply": "2024-02-26T13:03:06.085510Z"
    },
    "papermill": {
     "duration": 0.016719,
     "end_time": "2024-02-26T13:03:06.087991",
     "exception": false,
     "start_time": "2024-02-26T13:03:06.071272",
     "status": "completed"
    },
    "tags": []
   },
   "outputs": [],
   "source": [
    "basename='segm_v188full3'\n",
    "\n",
    "# training schedule variables\n",
    "epochs=35\n",
    "snapshots = 1\n",
    "lr_0 = 0.00005\n",
    "WARMUP_EPOCHS=2\n",
    "\n",
    "# training input variables\n",
    "SIZE=640 # resize image size\n",
    "channels=[0,1,3] # SWIR, NIR, Green\n",
    "meansCH = np.array( [0.485, 0.456, 0.406] )\n",
    "stdsCH = np.array( [0.229, 0.224, 0.225] )\n",
    "stdsCH *= 0.9\n",
    "CLIPMIN=6000\n",
    "CLIPMAX=24000\n",
    "\n",
    "\n",
    "BA=3 # Batch Accumulation\n",
    "num_workers = 4 # \n",
    "bs = 2 # Batch Size"
   ]
  },
  {
   "cell_type": "code",
   "execution_count": 5,
   "id": "ce81f1c1",
   "metadata": {
    "execution": {
     "iopub.execute_input": "2024-02-26T13:03:06.106496Z",
     "iopub.status.busy": "2024-02-26T13:03:06.106237Z",
     "iopub.status.idle": "2024-02-26T13:03:07.073927Z",
     "shell.execute_reply": "2024-02-26T13:03:07.073037Z"
    },
    "papermill": {
     "duration": 0.979838,
     "end_time": "2024-02-26T13:03:07.076087",
     "exception": false,
     "start_time": "2024-02-26T13:03:06.096249",
     "status": "completed"
    },
    "tags": []
   },
   "outputs": [
    {
     "data": {
      "text/plain": [
       "(1426, 5635, 5635, 'FF979226_satellite.tif', 'WG210136_kelp.tif')"
      ]
     },
     "execution_count": 5,
     "metadata": {},
     "output_type": "execute_result"
    }
   ],
   "source": [
    "test_image_names=os.listdir(test_path)\n",
    "train_image_names=os.listdir(train_path)\n",
    "mask_names = os.listdir(labels_path)\n",
    "len(test_image_names),len(train_image_names),len(mask_names),test_image_names[0],mask_names[0]"
   ]
  },
  {
   "cell_type": "code",
   "execution_count": 3,
   "id": "9b9fd1a6",
   "metadata": {
    "execution": {
     "iopub.execute_input": "2024-02-26T13:03:07.094889Z",
     "iopub.status.busy": "2024-02-26T13:03:07.094568Z",
     "iopub.status.idle": "2024-02-26T13:03:07.124059Z",
     "shell.execute_reply": "2024-02-26T13:03:07.123079Z"
    },
    "papermill": {
     "duration": 0.040903,
     "end_time": "2024-02-26T13:03:07.126052",
     "exception": false,
     "start_time": "2024-02-26T13:03:07.085149",
     "status": "completed"
    },
    "tags": []
   },
   "outputs": [],
   "source": [
    "full_train_img_paths= np.array([train_path+x for x in train_image_names])\n",
    "full_train_msk_paths= np.array([labels_path+x.split('_')[0]+'_kelp.tif' for x in train_image_names])\n",
    "# full_test_img_paths= np.array([test_path+x for x in test_image_names])\n",
    "# test_image_names=np.load('/kaggle/input/needkelp/kafe_test_image_names.npz')['arr_0']\n",
    "full_test_img_paths=np.array([test_path+x for x in test_image_names])\n",
    "len(full_train_img_paths),len(full_train_msk_paths),len(full_test_img_paths),full_train_img_paths[:2],full_test_img_paths[:2]\n"
   ]
  },
  {
   "cell_type": "code",
   "execution_count": null,
   "id": "7fefa326",
   "metadata": {},
   "outputs": [],
   "source": [
    "# vids=np.load('/kaggle/input/needkelp/valid_imids_ph2.npz')['arr_0']\n",
    "# tids=np.load('/kaggle/input/needkelp/train_imids_ph2.npz')['arr_0']\n",
    "# len(tids),len(vids)\n",
    "\n",
    "# train_ids= np.array([train_path+x for x in tids])\n",
    "# val_ids= np.array([train_path+x for x in vids])\n",
    "# train_ids.shape, val_ids.shape\n",
    "\n",
    "# train_ids=np.concatenate((train_ids,val_ids))\n",
    "\n",
    "train_ids=np.array([train_path+x for x in train_image_names])\n",
    "train_ids.shape,train_ids[:3]"
   ]
  },
  {
   "cell_type": "code",
   "execution_count": null,
   "id": "08933095",
   "metadata": {},
   "outputs": [],
   "source": []
  },
  {
   "cell_type": "code",
   "execution_count": 7,
   "id": "014351ce",
   "metadata": {
    "execution": {
     "iopub.execute_input": "2024-02-26T13:03:07.145262Z",
     "iopub.status.busy": "2024-02-26T13:03:07.145007Z",
     "iopub.status.idle": "2024-02-26T13:03:10.605508Z",
     "shell.execute_reply": "2024-02-26T13:03:10.604552Z"
    },
    "papermill": {
     "duration": 3.472348,
     "end_time": "2024-02-26T13:03:10.607927",
     "exception": false,
     "start_time": "2024-02-26T13:03:07.135579",
     "status": "completed"
    },
    "tags": []
   },
   "outputs": [
    {
     "name": "stderr",
     "output_type": "stream",
     "text": [
      "Downloading: \"https://github.com/qubvel/segmentation_models.pytorch/releases/download/v0.0.2/mit_b3.pth\" to /root/.cache/torch/hub/checkpoints/mit_b3.pth\n",
      "100%|██████████| 170M/170M [00:00<00:00, 286MB/s]\n"
     ]
    }
   ],
   "source": [
    "ENCODER = 'mit_b3'\n",
    "ENCODER_WEIGHTS = 'imagenet'\n",
    "\n",
    "# preprocessing_fn = smp.encoders.get_preprocessing_fn(ENCODER, ENCODER_WEIGHTS)\n",
    "##\n",
    "## define the model\n",
    "ACTIVATION = 'sigmoid'# None\n",
    "\n",
    "model = smp.Unet(\n",
    "    encoder_name=ENCODER,\n",
    "    encoder_weights=ENCODER_WEIGHTS,\n",
    "    classes=1,\n",
    "    in_channels=3,     \n",
    "    activation=ACTIVATION,\n",
    "    decoder_attention_type='scse'\n",
    ")\n",
    "# torch.save(model.state_dict(), 'weights/Unet_'+ENCODER+'.pt')"
   ]
  },
  {
   "cell_type": "code",
   "execution_count": 8,
   "id": "3296ffa8",
   "metadata": {
    "execution": {
     "iopub.execute_input": "2024-02-26T13:03:10.628478Z",
     "iopub.status.busy": "2024-02-26T13:03:10.628200Z",
     "iopub.status.idle": "2024-02-26T13:03:10.636971Z",
     "shell.execute_reply": "2024-02-26T13:03:10.636128Z"
    },
    "papermill": {
     "duration": 0.021046,
     "end_time": "2024-02-26T13:03:10.638888",
     "exception": false,
     "start_time": "2024-02-26T13:03:10.617842",
     "status": "completed"
    },
    "tags": []
   },
   "outputs": [],
   "source": [
    "def cosine_anneal_schedule(t):\n",
    "    cos_inner = np.pi * (t % (epochs // snapshots))\n",
    "    cos_inner /= epochs // snapshots\n",
    "    cos_out = np.cos(cos_inner) + 1\n",
    "    return float(lr_0 / 2 * cos_out)\n",
    "cosine_anneal_schedule_list=[cosine_anneal_schedule(x) for x in range(epochs)]\n",
    "# cosine_anneal_schedule_list\n",
    "cosine_anneal_schedule_list=[0.000001]*WARMUP_EPOCHS+cosine_anneal_schedule_list\n",
    "epochs=len(cosine_anneal_schedule_list)\n",
    "def adjust_optim(optimizer, n_iter):\n",
    "    optimizer.param_groups[0]['lr'] = cosine_anneal_schedule_list[n_iter % epochs]\n"
   ]
  },
  {
   "cell_type": "code",
   "execution_count": null,
   "id": "f7e16e72",
   "metadata": {
    "execution": {
     "iopub.execute_input": "2024-02-26T12:51:22.820501Z",
     "iopub.status.busy": "2024-02-26T12:51:22.820181Z",
     "iopub.status.idle": "2024-02-26T12:51:22.827681Z",
     "shell.execute_reply": "2024-02-26T12:51:22.826829Z",
     "shell.execute_reply.started": "2024-02-26T12:51:22.820476Z"
    },
    "papermill": {
     "duration": 0.009132,
     "end_time": "2024-02-26T13:03:10.657382",
     "exception": false,
     "start_time": "2024-02-26T13:03:10.648250",
     "status": "completed"
    },
    "tags": []
   },
   "outputs": [],
   "source": []
  },
  {
   "cell_type": "code",
   "execution_count": 9,
   "id": "5bbd97f3",
   "metadata": {
    "execution": {
     "iopub.execute_input": "2024-02-26T13:03:10.677262Z",
     "iopub.status.busy": "2024-02-26T13:03:10.676994Z",
     "iopub.status.idle": "2024-02-26T13:03:10.688241Z",
     "shell.execute_reply": "2024-02-26T13:03:10.687517Z"
    },
    "papermill": {
     "duration": 0.023421,
     "end_time": "2024-02-26T13:03:10.690094",
     "exception": false,
     "start_time": "2024-02-26T13:03:10.666673",
     "status": "completed"
    },
    "tags": []
   },
   "outputs": [],
   "source": [
    "\n",
    "Ms = meansCH.mean()\n",
    "Ss = stdsCH.mean()\n",
    "\n",
    "class KelpDataset_disk(torch.utils.data.Dataset):\n",
    "    \"\"\"Reads in images, transforms pixel values, and serves a\n",
    "    dictionary containing chip ids, image tensors, and\n",
    "    label masks (where available).\n",
    "    \"\"\"\n",
    "\n",
    "    def __init__(self, x_paths,y_paths, transforms=None, preprocessing=None, mode='train'):\n",
    "        self.x_paths = x_paths\n",
    "        self.y_paths = y_paths\n",
    "        # self.ids = ids\n",
    "        self.transforms = transforms\n",
    "        self.preprocessing = preprocessing\n",
    "        self.mode=mode\n",
    "\n",
    "    def __len__(self):\n",
    "        return len(self.x_paths)\n",
    "\n",
    "    def __getitem__(self, idx):\n",
    "        x_arr=tifffile.imread(self.x_paths[idx]).astype('float32')\n",
    "        t=x_arr.copy()\n",
    "        x_arr=np.clip(x_arr,CLIPMIN,CLIPMAX)\n",
    "        x_arr[t<=-32000]=0\n",
    "        del t\n",
    "\n",
    "        if self.mode=='test':\n",
    "            y_arr=np.zeros((350,350)).astype('uint8')\n",
    "        else:\n",
    "            y_arr=tifffile.imread(self.y_paths[idx])\n",
    "        \n",
    "        y_arr = np.expand_dims(y_arr, -1)\n",
    "        \n",
    "        # print(x_arr.shape,y_arr.shape)\n",
    "        # Apply data augmentations, if provided\n",
    "        if self.transforms:\n",
    "            augmented = self.transforms(image=x_arr, mask=y_arr)\n",
    "            x_arr, y_arr = augmented['image'], augmented['mask']\n",
    "\n",
    "        # # ****GLOBAL****  Min-max normalization\n",
    "        x_arr = x_arr[...,channels]/CLIPMAX\n",
    "        x_arr = (x_arr - meansCH)/stdsCH\n",
    "        \n",
    "        x_arr = np.transpose(x_arr, [2, 0, 1])\n",
    "        y_arr = np.transpose(y_arr, [2, 0, 1])\n",
    "        \n",
    "        if self.preprocessing:\n",
    "            preprocessed = self.preprocessing(image=x_arr, mask=y_arr)\n",
    "            # preprocessed = self.preprocessing(image=x_arr)\n",
    "            x_arr = preprocessed['image']\n",
    "            y_arr = preprocessed['mask']\n",
    "\n",
    "        \n",
    "        return x_arr.astype('float32'), y_arr.astype('uint8')#, not_missing_mask.astype('uint8')"
   ]
  },
  {
   "cell_type": "code",
   "execution_count": null,
   "id": "43f7ce2a",
   "metadata": {
    "execution": {
     "iopub.execute_input": "2024-02-26T13:03:10.758179Z",
     "iopub.status.busy": "2024-02-26T13:03:10.757925Z",
     "iopub.status.idle": "2024-02-26T13:03:10.770281Z",
     "shell.execute_reply": "2024-02-26T13:03:10.769508Z"
    },
    "papermill": {
     "duration": 0.024333,
     "end_time": "2024-02-26T13:03:10.772132",
     "exception": false,
     "start_time": "2024-02-26T13:03:10.747799",
     "status": "completed"
    },
    "tags": []
   },
   "outputs": [],
   "source": []
  },
  {
   "cell_type": "code",
   "execution_count": 12,
   "id": "bf73f26e",
   "metadata": {
    "execution": {
     "iopub.execute_input": "2024-02-26T13:03:10.792609Z",
     "iopub.status.busy": "2024-02-26T13:03:10.792005Z",
     "iopub.status.idle": "2024-02-26T13:03:10.795672Z",
     "shell.execute_reply": "2024-02-26T13:03:10.794880Z"
    },
    "papermill": {
     "duration": 0.015882,
     "end_time": "2024-02-26T13:03:10.797487",
     "exception": false,
     "start_time": "2024-02-26T13:03:10.781605",
     "status": "completed"
    },
    "tags": []
   },
   "outputs": [],
   "source": [
    "# train_ids=np.array([train_path+x for x in os.listdir(train_path) ])"
   ]
  },
  {
   "cell_type": "code",
   "execution_count": 13,
   "id": "f5463f63",
   "metadata": {
    "execution": {
     "iopub.execute_input": "2024-02-26T13:03:10.817550Z",
     "iopub.status.busy": "2024-02-26T13:03:10.817303Z",
     "iopub.status.idle": "2024-02-26T13:03:10.824549Z",
     "shell.execute_reply": "2024-02-26T13:03:10.823796Z"
    },
    "papermill": {
     "duration": 0.019382,
     "end_time": "2024-02-26T13:03:10.826376",
     "exception": false,
     "start_time": "2024-02-26T13:03:10.806994",
     "status": "completed"
    },
    "tags": []
   },
   "outputs": [],
   "source": [
    "# from sklearn.metrics import jaccard_score\n",
    "def get_dice_coef(gt, preds, THRESH=0.5):\n",
    "    #gt shape BxCxHxW\n",
    "    #preds shape BxHxW\n",
    "    dice = np.sum((preds>THRESH)[gt[:,0,...]==1])*2.0 / (np.sum((preds>THRESH)) + np.sum(gt[:,0,...]))\n",
    "    return dice\n",
    "\n",
    "\n",
    "class DiceLoss(nn.Module):\n",
    "    def __init__(self, weight=None, size_average=True):\n",
    "        super(DiceLoss, self).__init__()\n",
    "\n",
    "    def forward(self, inputs, targets, eps=1e-7):\n",
    "        \n",
    "        # #comment out if your model contains a sigmoid or equivalent activation layer\n",
    "        # inputs = F.sigmoid(inputs)       \n",
    "        \n",
    "        #flatten label and prediction tensors\n",
    "        inputs = inputs.view(-1)\n",
    "        targets = targets.view(-1)\n",
    "        \n",
    "        intersection = (inputs * targets).sum()                            \n",
    "        dice = (2.*intersection )/(inputs.sum() + targets.sum() + eps)  \n",
    "        \n",
    "        return 1 - dice\n"
   ]
  },
  {
   "cell_type": "code",
   "execution_count": 14,
   "id": "2b3422ae",
   "metadata": {
    "execution": {
     "iopub.execute_input": "2024-02-26T13:03:10.846641Z",
     "iopub.status.busy": "2024-02-26T13:03:10.846392Z",
     "iopub.status.idle": "2024-02-26T13:03:10.851786Z",
     "shell.execute_reply": "2024-02-26T13:03:10.851020Z"
    },
    "papermill": {
     "duration": 0.017501,
     "end_time": "2024-02-26T13:03:10.853613",
     "exception": false,
     "start_time": "2024-02-26T13:03:10.836112",
     "status": "completed"
    },
    "tags": []
   },
   "outputs": [],
   "source": [
    "training_transformations = albumentations.Compose(\n",
    "    [\n",
    "        # albumentations.Resize(SIZE, SIZE),\n",
    "        albumentations.Resize(SIZE, SIZE, interpolation=2),\n",
    "        albumentations.RandomRotate90(),\n",
    "        albumentations.HorizontalFlip(),\n",
    "        albumentations.VerticalFlip(),\n",
    "        # albumentations.RandomBrightnessContrast(p=0.1),\n",
    "    ]\n",
    ")\n",
    "validation_transformations = albumentations.Compose(\n",
    "    [\n",
    "        # albumentations.Resize(SIZE, SIZE,),\n",
    "        albumentations.Resize(SIZE, SIZE, interpolation=2),\n",
    "    ]\n",
    ")"
   ]
  },
  {
   "cell_type": "code",
   "execution_count": 15,
   "id": "be0a75b2",
   "metadata": {
    "execution": {
     "iopub.execute_input": "2024-02-26T13:03:10.874299Z",
     "iopub.status.busy": "2024-02-26T13:03:10.873674Z",
     "iopub.status.idle": "2024-02-26T13:03:10.877125Z",
     "shell.execute_reply": "2024-02-26T13:03:10.876368Z"
    },
    "papermill": {
     "duration": 0.015785,
     "end_time": "2024-02-26T13:03:10.878967",
     "exception": false,
     "start_time": "2024-02-26T13:03:10.863182",
     "status": "completed"
    },
    "tags": []
   },
   "outputs": [],
   "source": [
    "# np.where(np.array(PROGR_EPOCHS)==24)[0][0]"
   ]
  },
  {
   "cell_type": "code",
   "execution_count": 16,
   "id": "2f2423c9",
   "metadata": {
    "execution": {
     "iopub.execute_input": "2024-02-26T13:03:10.899008Z",
     "iopub.status.busy": "2024-02-26T13:03:10.898741Z",
     "iopub.status.idle": "2024-02-26T13:03:10.903362Z",
     "shell.execute_reply": "2024-02-26T13:03:10.902595Z"
    },
    "papermill": {
     "duration": 0.016706,
     "end_time": "2024-02-26T13:03:10.905191",
     "exception": false,
     "start_time": "2024-02-26T13:03:10.888485",
     "status": "completed"
    },
    "tags": []
   },
   "outputs": [],
   "source": [
    "def adjust_optim(optimizer, n_iter):\n",
    "    optimizer.param_groups[0]['lr'] = cosine_anneal_schedule_list[n_iter % epochs]\n",
    "    optimizer.param_groups[1]['lr'] = cosine_anneal_schedule_list[n_iter % epochs]*10\n",
    "    optimizer.param_groups[2]['lr'] = cosine_anneal_schedule_list[n_iter % epochs]\n",
    "# adjust_optim(optimizer, 10)"
   ]
  },
  {
   "cell_type": "code",
   "execution_count": 17,
   "id": "df118d6f",
   "metadata": {
    "execution": {
     "iopub.execute_input": "2024-02-26T13:03:10.925778Z",
     "iopub.status.busy": "2024-02-26T13:03:10.925271Z",
     "iopub.status.idle": "2024-02-26T13:03:13.211263Z",
     "shell.execute_reply": "2024-02-26T13:03:13.210258Z"
    },
    "papermill": {
     "duration": 2.29867,
     "end_time": "2024-02-26T13:03:13.213651",
     "exception": false,
     "start_time": "2024-02-26T13:03:10.914981",
     "status": "completed"
    },
    "scrolled": true,
    "tags": []
   },
   "outputs": [],
   "source": [
    "\n",
    "name=ENCODER+'_'+basename\n",
    "model.cuda()\n",
    "\n",
    "if RETRAIN==True:\n",
    "\n",
    "    optimizer=optim.AdamW([\n",
    "                    {'params': model.encoder.parameters()},\n",
    "                    {'params': model.decoder.parameters(), 'lr': lr_0*5},\n",
    "                    {'params': model.segmentation_head.parameters()}\n",
    "                ], lr=lr_0, weight_decay=0.01)\n",
    "\n",
    "\n",
    "    train_dataset = KelpDataset_disk(x_paths=train_ids,\n",
    "                                     y_paths=[x.replace('satellite', 'kelp') for x in train_ids],\n",
    "                                 transforms = training_transformations,\n",
    "                                 # preprocessing=get_preprocessing(preprocessing_fn)\n",
    "                                    )\n",
    "\n",
    "    train_loader = DataLoader(train_dataset, batch_size=bs, shuffle=True, num_workers=num_workers)\n",
    "\n",
    "    criterion1 = DiceLoss()\n",
    "\n",
    "\n",
    "    mb = master_bar(range(epochs))\n",
    "    loss_log=[]\n",
    "    for epoch in mb:\n",
    "\n",
    "        avg_train_loss = 0.\n",
    "        model.train()\n",
    "\n",
    "\n",
    "        pb = progress_bar(train_loader)\n",
    "        for ii, (data, target) in enumerate(pb):\n",
    "\n",
    "            data, target = data.cuda(non_blocking=True), target.cuda(non_blocking=True)\n",
    "\n",
    "\n",
    "            alpha = 1\n",
    "            # optimizer.zero_grad()\n",
    "            output = model(data)\n",
    "\n",
    "            loss = criterion1(output,  target.to(dtype=torch.float))\n",
    "\n",
    "            loss.backward()\n",
    "            if (ii + 1) % BA == 0:            \n",
    "                optimizer.step()\n",
    "                optimizer.zero_grad()\n",
    "            # optimizer.step()\n",
    "            if ii % 1000 == 0:\n",
    "                loss_log.append(loss.item())\n",
    "            avg_train_loss += loss.item() / len(train_loader)\n",
    "\n",
    "        print('Epoch: {} - Loss: {:.6f}'.format(epoch + 1, avg_train_loss))\n",
    "\n",
    "\n",
    "        adjust_optim(optimizer, (epoch + 1))\n",
    "\n",
    "        gc.collect()\n",
    "    torch.save(model.state_dict(), weights_path+name+'_last.pt')\n",
    "else:\n",
    "    model.load_state_dict(torch.load(  trained_weights+ENCODER+'_'+basename+'_last.pt') ) "
   ]
  },
  {
   "cell_type": "code",
   "execution_count": null,
   "id": "1e5f931e",
   "metadata": {
    "papermill": {
     "duration": 0.009418,
     "end_time": "2024-02-26T13:03:13.233003",
     "exception": false,
     "start_time": "2024-02-26T13:03:13.223585",
     "status": "completed"
    },
    "tags": []
   },
   "outputs": [],
   "source": [
    "model.eval()\n",
    "print('model eval')"
   ]
  },
  {
   "cell_type": "code",
   "execution_count": 18,
   "id": "e34f6239",
   "metadata": {
    "execution": {
     "iopub.execute_input": "2024-02-26T13:03:13.253311Z",
     "iopub.status.busy": "2024-02-26T13:03:13.253025Z",
     "iopub.status.idle": "2024-02-26T13:03:13.258057Z",
     "shell.execute_reply": "2024-02-26T13:03:13.257193Z"
    },
    "papermill": {
     "duration": 0.017348,
     "end_time": "2024-02-26T13:03:13.259863",
     "exception": false,
     "start_time": "2024-02-26T13:03:13.242515",
     "status": "completed"
    },
    "tags": []
   },
   "outputs": [],
   "source": [
    "test_dataset = KelpDataset_disk(x_paths=full_test_img_paths,\n",
    "                                y_paths=None,\n",
    "                             transforms = validation_transformations,\n",
    "                             # preprocessing=get_preprocessing(preprocessing_fn)\n",
    "                                 mode='test'\n",
    "                                )\n",
    "\n",
    "test_loader = DataLoader(test_dataset, batch_size=bs, shuffle=False, num_workers=num_workers)\n"
   ]
  },
  {
   "cell_type": "code",
   "execution_count": 19,
   "id": "1b6b9db1",
   "metadata": {
    "execution": {
     "iopub.execute_input": "2024-02-26T13:03:13.280074Z",
     "iopub.status.busy": "2024-02-26T13:03:13.279810Z",
     "iopub.status.idle": "2024-02-26T13:08:12.666683Z",
     "shell.execute_reply": "2024-02-26T13:08:12.665792Z"
    },
    "papermill": {
     "duration": 299.399576,
     "end_time": "2024-02-26T13:08:12.669012",
     "exception": false,
     "start_time": "2024-02-26T13:03:13.269436",
     "status": "completed"
    },
    "tags": []
   },
   "outputs": [
    {
     "data": {
      "text/html": [
       "\n",
       "<style>\n",
       "    /* Turns off some styling */\n",
       "    progress {\n",
       "        /* gets rid of default border in Firefox and Opera. */\n",
       "        border: none;\n",
       "        /* Needs to be in here for Safari polyfill so background images work as expected. */\n",
       "        background-size: auto;\n",
       "    }\n",
       "    progress:not([value]), progress:not([value])::-webkit-progress-bar {\n",
       "        background: repeating-linear-gradient(45deg, #7e7e7e, #7e7e7e 10px, #5c5c5c 10px, #5c5c5c 20px);\n",
       "    }\n",
       "    .progress-bar-interrupted, .progress-bar-interrupted::-webkit-progress-bar {\n",
       "        background: #F44336;\n",
       "    }\n",
       "</style>\n"
      ],
      "text/plain": [
       "<IPython.core.display.HTML object>"
      ]
     },
     "metadata": {},
     "output_type": "display_data"
    },
    {
     "data": {
      "text/html": [
       "\n",
       "    <div>\n",
       "      <progress value='713' class='' max='713' style='width:300px; height:20px; vertical-align: middle;'></progress>\n",
       "      100.00% [713/713 04:53&lt;00:00]\n",
       "    </div>\n",
       "    "
      ],
      "text/plain": [
       "<IPython.core.display.HTML object>"
      ]
     },
     "metadata": {},
     "output_type": "display_data"
    }
   ],
   "source": [
    "with torch.no_grad():\n",
    "\n",
    "    test_preds1 =[]\n",
    "    test_preds2 =[]\n",
    "    test_preds3 =[]\n",
    "    test_preds4 =[]\n",
    "\n",
    "\n",
    "    pb = progress_bar(test_loader)\n",
    "    for i, (x_batch, y_batch) in enumerate(pb):\n",
    "\n",
    "        preds1 = model(x_batch.cuda(non_blocking=True)).detach()\n",
    "        preds2 = model(torch.flip(x_batch, dims=[2]).cuda(non_blocking=True)).detach()\n",
    "        preds3 = model(torch.flip(x_batch, dims=[3]).cuda(non_blocking=True)).detach()\n",
    "        preds4 = model(torch.flip(x_batch, dims=[2,3]).cuda(non_blocking=True)).detach()\n",
    "\n",
    "        test_preds1.append(preds1.cpu())\n",
    "        test_preds2.append(preds2.cpu())\n",
    "        test_preds3.append(preds3.cpu())\n",
    "        test_preds4.append(preds4.cpu())\n",
    "    test_preds1=np.vstack(test_preds1)[:,0,...]    \n",
    "    test_preds2=np.vstack(test_preds2)[:,0,...]    \n",
    "    test_preds3=np.vstack(test_preds3)[:,0,...]    \n",
    "    test_preds4=np.vstack(test_preds4)[:,0,...]    \n",
    "\n",
    "    # test_preds=(test_preds1+test_preds2[...,::-1,:]+test_preds3[...,:,::-1])/3\n",
    "    test_preds=(test_preds1+test_preds2[...,::-1,:]+test_preds3[...,:,::-1]+test_preds4[...,::-1,::-1])/4\n",
    "    \n"
   ]
  },
  {
   "cell_type": "code",
   "execution_count": 20,
   "id": "b10478dd",
   "metadata": {
    "execution": {
     "iopub.execute_input": "2024-02-26T13:08:12.691585Z",
     "iopub.status.busy": "2024-02-26T13:08:12.691041Z",
     "iopub.status.idle": "2024-02-26T13:08:58.617588Z",
     "shell.execute_reply": "2024-02-26T13:08:58.616809Z"
    },
    "papermill": {
     "duration": 45.940261,
     "end_time": "2024-02-26T13:08:58.619931",
     "exception": false,
     "start_time": "2024-02-26T13:08:12.679670",
     "status": "completed"
    },
    "tags": []
   },
   "outputs": [],
   "source": [
    "np.savez(test_preds_dir+basename[5:], test_preds.astype('float16'))"
   ]
  },
  {
   "cell_type": "code",
   "execution_count": 21,
   "id": "54db780c",
   "metadata": {
    "execution": {
     "iopub.execute_input": "2024-02-26T13:08:58.641382Z",
     "iopub.status.busy": "2024-02-26T13:08:58.641090Z",
     "iopub.status.idle": "2024-02-26T13:08:58.853011Z",
     "shell.execute_reply": "2024-02-26T13:08:58.852128Z"
    },
    "papermill": {
     "duration": 0.22493,
     "end_time": "2024-02-26T13:08:58.855255",
     "exception": false,
     "start_time": "2024-02-26T13:08:58.630325",
     "status": "completed"
    },
    "tags": []
   },
   "outputs": [
    {
     "data": {
      "image/png": "[encoded data removed]",
      "text/plain": [
       "<Figure size 640x480 with 1 Axes>"
      ]
     },
     "metadata": {},
     "output_type": "display_data"
    }
   ],
   "source": [
    "plt.imshow(test_preds[0]>0.5)\n",
    "plt.show()"
   ]
  },
  {
   "cell_type": "code",
   "execution_count": 4,
   "id": "3f9ea38e",
   "metadata": {
    "execution": {
     "iopub.execute_input": "2024-02-26T13:08:58.877811Z",
     "iopub.status.busy": "2024-02-26T13:08:58.877499Z",
     "iopub.status.idle": "2024-02-26T13:09:11.567361Z",
     "shell.execute_reply": "2024-02-26T13:09:11.566496Z"
    },
    "papermill": {
     "duration": 12.703325,
     "end_time": "2024-02-26T13:09:11.569284",
     "exception": false,
     "start_time": "2024-02-26T13:08:58.865959",
     "status": "completed"
    },
    "tags": []
   },
   "outputs": [],
   "source": [
    "# test_preds = np.array([skimage.transform.resize(x, (350,350)) for x in test_preds])\n",
    "# test_preds.shape"
   ]
  },
  {
   "cell_type": "code",
   "execution_count": 5,
   "id": "55f97f02",
   "metadata": {
    "execution": {
     "iopub.execute_input": "2024-02-26T13:09:11.591966Z",
     "iopub.status.busy": "2024-02-26T13:09:11.591471Z",
     "iopub.status.idle": "2024-02-26T13:09:11.758183Z",
     "shell.execute_reply": "2024-02-26T13:09:11.757332Z"
    },
    "papermill": {
     "duration": 0.180531,
     "end_time": "2024-02-26T13:09:11.760559",
     "exception": false,
     "start_time": "2024-02-26T13:09:11.580028",
     "status": "completed"
    },
    "tags": []
   },
   "outputs": [],
   "source": [
    "# THRESH=0.5\n",
    "# test_preds = np.array([(x>THRESH).astype('uint8') for x in test_preds])"
   ]
  },
  {
   "cell_type": "code",
   "execution_count": 6,
   "id": "72f10625",
   "metadata": {
    "execution": {
     "iopub.execute_input": "2024-02-26T13:09:11.783060Z",
     "iopub.status.busy": "2024-02-26T13:09:11.782484Z",
     "iopub.status.idle": "2024-02-26T13:09:12.963201Z",
     "shell.execute_reply": "2024-02-26T13:09:12.961781Z"
    },
    "papermill": {
     "duration": 1.194013,
     "end_time": "2024-02-26T13:09:12.965216",
     "exception": false,
     "start_time": "2024-02-26T13:09:11.771203",
     "status": "completed"
    },
    "tags": []
   },
   "outputs": [],
   "source": [
    "# [cv2.imwrite(test_predmask_path+test_image_names[i].split('_')[0]+'_kelp.tif', test_preds[i])\n",
    "#  for i in range(len(test_preds))]\n",
    "# print('saved in disk')"
   ]
  },
  {
   "cell_type": "code",
   "execution_count": null,
   "id": "6b6770d0",
   "metadata": {
    "papermill": {
     "duration": 0.04375,
     "end_time": "2024-02-26T13:09:13.038464",
     "exception": false,
     "start_time": "2024-02-26T13:09:12.994714",
     "status": "completed"
    },
    "tags": []
   },
   "outputs": [],
   "source": []
  },
  {
   "cell_type": "code",
   "execution_count": 7,
   "id": "9189bbce",
   "metadata": {
    "execution": {
     "iopub.execute_input": "2024-02-26T13:09:13.128786Z",
     "iopub.status.busy": "2024-02-26T13:09:13.128299Z",
     "iopub.status.idle": "2024-02-26T13:09:14.270031Z",
     "shell.execute_reply": "2024-02-26T13:09:14.268849Z"
    },
    "papermill": {
     "duration": 1.190615,
     "end_time": "2024-02-26T13:09:14.272223",
     "exception": false,
     "start_time": "2024-02-26T13:09:13.081608",
     "status": "completed"
    },
    "tags": []
   },
   "outputs": [],
   "source": [
    "# # Remember to avoid including the inference dir itself\n",
    "# !cd test_kelp && zip -rq subm_v188full3.zip *\n"
   ]
  },
  {
   "cell_type": "code",
   "execution_count": 8,
   "id": "315f29ac",
   "metadata": {
    "execution": {
     "iopub.execute_input": "2024-02-26T13:09:14.294939Z",
     "iopub.status.busy": "2024-02-26T13:09:14.294620Z",
     "iopub.status.idle": "2024-02-26T13:09:15.279356Z",
     "shell.execute_reply": "2024-02-26T13:09:15.278241Z"
    },
    "papermill": {
     "duration": 0.998374,
     "end_time": "2024-02-26T13:09:15.281474",
     "exception": false,
     "start_time": "2024-02-26T13:09:14.283100",
     "status": "completed"
    },
    "tags": []
   },
   "outputs": [],
   "source": [
    "# !du -h subm_v188full3.zip\n"
   ]
  },
  {
   "cell_type": "code",
   "execution_count": 9,
   "id": "fdb747ce",
   "metadata": {
    "execution": {
     "iopub.execute_input": "2024-02-26T13:09:15.304491Z",
     "iopub.status.busy": "2024-02-26T13:09:15.304185Z",
     "iopub.status.idle": "2024-02-26T13:09:16.312966Z",
     "shell.execute_reply": "2024-02-26T13:09:16.311741Z"
    },
    "papermill": {
     "duration": 1.022885,
     "end_time": "2024-02-26T13:09:16.315240",
     "exception": false,
     "start_time": "2024-02-26T13:09:15.292355",
     "status": "completed"
    },
    "tags": []
   },
   "outputs": [],
   "source": [
    "\n",
    "# !rm -r test_kelp\n"
   ]
  },
  {
   "cell_type": "code",
   "execution_count": null,
   "id": "99ff0428",
   "metadata": {
    "papermill": {
     "duration": 0.010522,
     "end_time": "2024-02-26T13:09:16.336553",
     "exception": false,
     "start_time": "2024-02-26T13:09:16.326031",
     "status": "completed"
    },
    "tags": []
   },
   "outputs": [],
   "source": []
  }
 ],
 "metadata": {
  "kaggle": {
   "accelerator": "gpu",
   "dataSources": [
    {
     "datasetId": 4497321,
     "sourceId": 7703751,
     "sourceType": "datasetVersion"
    },
    {
     "datasetId": 4275820,
     "sourceId": 7587464,
     "sourceType": "datasetVersion"
    },
    {
     "sourceId": 157416039,
     "sourceType": "kernelVersion"
    }
   ],
   "dockerImageVersionId": 30648,
   "isGpuEnabled": true,
   "isInternetEnabled": true,
   "language": "python",
   "sourceType": "notebook"
  },
  "kernelspec": {
   "display_name": "Python 3",
   "language": "python",
   "name": "python3"
  },
  "language_info": {
   "codemirror_mode": {
    "name": "ipython",
    "version": 3
   },
   "file_extension": ".py",
   "mimetype": "text/x-python",
   "name": "python",
   "nbconvert_exporter": "python",
   "pygments_lexer": "ipython3",
   "version": "3.6.15"
  },
  "papermill": {
   "default_parameters": {},
   "duration": 407.299613,
   "end_time": "2024-02-26T13:09:18.903522",
   "environment_variables": {},
   "exception": null,
   "input_path": "__notebook__.ipynb",
   "output_path": "__notebook__.ipynb",
   "parameters": {},
   "start_time": "2024-02-26T13:02:31.603909",
   "version": "2.5.0"
  }
 },
 "nbformat": 4,
 "nbformat_minor": 5
}
