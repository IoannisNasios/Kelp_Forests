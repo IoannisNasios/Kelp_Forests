{
 "cells": [
  {
   "cell_type": "code",
   "execution_count": 1,
   "id": "510c7e7e",
   "metadata": {
    "execution": {
     "iopub.execute_input": "2024-02-26T15:54:04.387809Z",
     "iopub.status.busy": "2024-02-26T15:54:04.387481Z",
     "iopub.status.idle": "2024-02-26T15:54:04.391929Z",
     "shell.execute_reply": "2024-02-26T15:54:04.391137Z"
    },
    "executionInfo": {
     "elapsed": 28671,
     "status": "ok",
     "timestamp": 1708408663350,
     "user": {
      "displayName": "Ioannis Nasios",
      "userId": "11761353373054103725"
     },
     "user_tz": -120
    },
    "id": "qaQL9UA8hUGG",
    "outputId": "83315483-f306-48a5-8e10-175f770abc90",
    "papermill": {
     "duration": 0.018653,
     "end_time": "2024-02-26T15:54:04.393849",
     "exception": false,
     "start_time": "2024-02-26T15:54:04.375196",
     "status": "completed"
    },
    "tags": []
   },
   "outputs": [],
   "source": [
    "# !pip install -q segmentation_models_pytorch"
   ]
  },
  {
   "cell_type": "code",
   "execution_count": 1,
   "id": "f616769d",
   "metadata": {
    "execution": {
     "iopub.execute_input": "2024-02-26T15:54:04.418962Z",
     "iopub.status.busy": "2024-02-26T15:54:04.418179Z",
     "iopub.status.idle": "2024-02-26T15:54:05.419426Z",
     "shell.execute_reply": "2024-02-26T15:54:05.418479Z"
    },
    "executionInfo": {
     "elapsed": 33,
     "status": "ok",
     "timestamp": 1708408663351,
     "user": {
      "displayName": "Ioannis Nasios",
      "userId": "11761353373054103725"
     },
     "user_tz": -120
    },
    "id": "sxZ3IwGMhVoZ",
    "outputId": "dcf1d624-9004-4878-dc7a-f0537c73b858",
    "papermill": {
     "duration": 1.017369,
     "end_time": "2024-02-26T15:54:05.421983",
     "exception": false,
     "start_time": "2024-02-26T15:54:04.404614",
     "status": "completed"
    },
    "tags": []
   },
   "outputs": [],
   "source": [
    "# !nvidia-smi\n",
    "# Tesla V100-SXM2-16GB Google Colab pro"
   ]
  },
  {
   "cell_type": "code",
   "execution_count": 2,
   "id": "33c4289f",
   "metadata": {
    "execution": {
     "iopub.execute_input": "2024-02-26T15:54:05.445424Z",
     "iopub.status.busy": "2024-02-26T15:54:05.444552Z",
     "iopub.status.idle": "2024-02-26T15:54:06.527778Z",
     "shell.execute_reply": "2024-02-26T15:54:06.526446Z"
    },
    "executionInfo": {
     "elapsed": 22,
     "status": "ok",
     "timestamp": 1708408663352,
     "user": {
      "displayName": "Ioannis Nasios",
      "userId": "11761353373054103725"
     },
     "user_tz": -120
    },
    "id": "ddEiy_HjgPPi",
    "outputId": "25c51381-aa4e-488b-809e-a3f8ac441f2e",
    "papermill": {
     "duration": 1.097519,
     "end_time": "2024-02-26T15:54:06.530551",
     "exception": false,
     "start_time": "2024-02-26T15:54:05.433032",
     "status": "completed"
    },
    "tags": []
   },
   "outputs": [],
   "source": [
    "# !lsb_release -a\n",
    "# # No LSB modules are available.\n",
    "# # Distributor ID:\tUbuntu\n",
    "# # Description:\tUbuntu 22.04.3 LTS\n",
    "# # Release:\t22.04\n",
    "# # Codename:\tjammy"
   ]
  },
  {
   "cell_type": "code",
   "execution_count": 3,
   "id": "55cb885a",
   "metadata": {
    "execution": {
     "iopub.execute_input": "2024-02-26T15:54:06.555819Z",
     "iopub.status.busy": "2024-02-26T15:54:06.555454Z",
     "iopub.status.idle": "2024-02-26T15:54:07.520301Z",
     "shell.execute_reply": "2024-02-26T15:54:07.519375Z"
    },
    "executionInfo": {
     "elapsed": 16,
     "status": "ok",
     "timestamp": 1708408663352,
     "user": {
      "displayName": "Ioannis Nasios",
      "userId": "11761353373054103725"
     },
     "user_tz": -120
    },
    "id": "ghOo7p8IgPS6",
    "outputId": "085250bb-4912-4cbe-da85-344cf4e95fd1",
    "papermill": {
     "duration": 0.98059,
     "end_time": "2024-02-26T15:54:07.522758",
     "exception": false,
     "start_time": "2024-02-26T15:54:06.542168",
     "status": "completed"
    },
    "tags": []
   },
   "outputs": [],
   "source": [
    "# !python --version\n",
    "# # Python 3.10.12"
   ]
  },
  {
   "cell_type": "code",
   "execution_count": 4,
   "id": "04a613c3",
   "metadata": {
    "execution": {
     "iopub.execute_input": "2024-02-26T15:54:07.545702Z",
     "iopub.status.busy": "2024-02-26T15:54:07.545415Z",
     "iopub.status.idle": "2024-02-26T15:54:19.961703Z",
     "shell.execute_reply": "2024-02-26T15:54:19.960498Z"
    },
    "executionInfo": {
     "elapsed": 4923,
     "status": "ok",
     "timestamp": 1708408668266,
     "user": {
      "displayName": "Ioannis Nasios",
      "userId": "11761353373054103725"
     },
     "user_tz": -120
    },
    "id": "JryCrP_ShVsT",
    "outputId": "d198ed84-2e93-446f-9c1f-d421dc18c297",
    "papermill": {
     "duration": 12.430541,
     "end_time": "2024-02-26T15:54:19.964226",
     "exception": false,
     "start_time": "2024-02-26T15:54:07.533685",
     "status": "completed"
    },
    "tags": []
   },
   "outputs": [],
   "source": [
    "# !pip3 show torch\n",
    "# # Name: torch\n",
    "# # Version: 2.1.0+cu121\n",
    "# # Summary: Tensors and Dynamic neural networks in Python with strong GPU acceleration\n",
    "# # Home-page: https://pytorch.org/\n",
    "# # Author: PyTorch Team\n",
    "# # Author-email: packages@pytorch.org\n",
    "# # License: BSD-3\n",
    "# # Location: /usr/local/lib/python3.10/dist-packages\n",
    "# # Requires: filelock, fsspec, jinja2, networkx, sympy, triton, typing-extensions\n",
    "# # Required-by: fastai, torchaudio, torchdata, torchtext, torchvision"
   ]
  },
  {
   "cell_type": "code",
   "execution_count": 5,
   "id": "646d5006",
   "metadata": {
    "execution": {
     "iopub.execute_input": "2024-02-26T15:54:19.987914Z",
     "iopub.status.busy": "2024-02-26T15:54:19.987569Z",
     "iopub.status.idle": "2024-02-26T15:54:32.205765Z",
     "shell.execute_reply": "2024-02-26T15:54:32.204623Z"
    },
    "executionInfo": {
     "elapsed": 8752,
     "status": "ok",
     "timestamp": 1708408916230,
     "user": {
      "displayName": "Ioannis Nasios",
      "userId": "11761353373054103725"
     },
     "user_tz": -120
    },
    "id": "7ax6pOPencMW",
    "outputId": "9714e951-04bd-46c9-8f25-c02b749cb909",
    "papermill": {
     "duration": 12.233093,
     "end_time": "2024-02-26T15:54:32.208396",
     "exception": false,
     "start_time": "2024-02-26T15:54:19.975303",
     "status": "completed"
    },
    "tags": []
   },
   "outputs": [],
   "source": [
    "# !pip install imagecodecs"
   ]
  },
  {
   "cell_type": "code",
   "execution_count": 7,
   "id": "91685c75",
   "metadata": {
    "execution": {
     "iopub.execute_input": "2024-02-26T15:54:32.231814Z",
     "iopub.status.busy": "2024-02-26T15:54:32.231490Z",
     "iopub.status.idle": "2024-02-26T15:54:38.101485Z",
     "shell.execute_reply": "2024-02-26T15:54:38.100487Z"
    },
    "id": "702ed953-927a-4075-8952-ac8bc31cdefd",
    "papermill": {
     "duration": 5.884454,
     "end_time": "2024-02-26T15:54:38.104072",
     "exception": false,
     "start_time": "2024-02-26T15:54:32.219618",
     "status": "completed"
    },
    "tags": []
   },
   "outputs": [],
   "source": [
    "import os\n",
    "# os.environ[\"CUDA_VISIBLE_DEVICES\"] = \"0\"\n",
    "\n",
    "import cv2\n",
    "import tifffile\n",
    "import numpy as np\n",
    "import pandas as pd\n",
    "import matplotlib.pyplot as plt\n",
    "import gc\n",
    "import warnings\n",
    "warnings.filterwarnings(\"ignore\")\n",
    "\n",
    "import random\n",
    "import torch\n",
    "import torch.nn as nn\n",
    "import albumentations\n",
    "\n",
    "# import segmentation_models_pytorch as smp\n",
    "import skimage\n",
    "\n",
    "\n",
    "from tqdm import tqdm\n",
    "import torch.optim as optim\n",
    "from torch.utils.data import TensorDataset, DataLoader,Dataset\n",
    "from fastprogress import master_bar, progress_bar\n",
    "\n",
    "def create_dir(path):\n",
    "    if os.path.isdir(path)==False:\n",
    "        os.makedirs(path)"
   ]
  },
  {
   "cell_type": "code",
   "execution_count": 6,
   "id": "d918229f",
   "metadata": {
    "execution": {
     "iopub.execute_input": "2024-02-26T15:54:38.132557Z",
     "iopub.status.busy": "2024-02-26T15:54:38.132093Z",
     "iopub.status.idle": "2024-02-26T15:54:38.138052Z",
     "shell.execute_reply": "2024-02-26T15:54:38.137165Z"
    },
    "executionInfo": {
     "elapsed": 13,
     "status": "ok",
     "timestamp": 1708412813349,
     "user": {
      "displayName": "Ioannis Nasios",
      "userId": "11761353373054103725"
     },
     "user_tz": -120
    },
    "id": "2G1WkXignd_c",
    "outputId": "80493efb-78ec-4e3e-d94d-fe4507d40f3f",
    "papermill": {
     "duration": 0.022741,
     "end_time": "2024-02-26T15:54:38.140579",
     "exception": false,
     "start_time": "2024-02-26T15:54:38.117838",
     "status": "completed"
    },
    "tags": []
   },
   "outputs": [],
   "source": [
    "# # CONFIGURE \n",
    "\n",
    "# # Set Data Paths\n",
    "# test_path='test_satellite/'\n",
    "# train_path='train_satellite/'\n",
    "# labels_path='train_kelp/'\n",
    "\n",
    "\n",
    "# # Create directories\n",
    "# # test_predmask_path='test_kelp/'\n",
    "# # create_dir(test_predmask_path)\n",
    "\n",
    "# # set weights directory for new training saving\n",
    "# weights_path='weights/'\n",
    "# create_dir(weights_path)\n",
    "\n",
    "\n",
    "# RETRAIN= False # if true retrain else use trained weights for inference\n",
    "# trained_weights = 'trained_weights/' # meaningful only when RETRAIN=False\n",
    "\n",
    "\n",
    "# # directory for prediction probabilities \n",
    "# test_preds_dir = 'test_preds/'\n",
    "# create_dir(test_preds_dir)\n",
    "\n",
    "from config import test_path, train_path, labels_path, weights_path, RETRAIN, trained_weights, test_preds_dir\n",
    "\n",
    "# DO NOT EDIT BELOW"
   ]
  },
  {
   "cell_type": "code",
   "execution_count": 7,
   "id": "3a97f01a",
   "metadata": {},
   "outputs": [
    {
     "data": {
      "text/plain": [
       "('test_satellite/',\n",
       " 'train_satellite/',\n",
       " 'train_kelp/',\n",
       " 'weights/',\n",
       " False,\n",
       " 'trained_weights/',\n",
       " 'test_preds/')"
      ]
     },
     "execution_count": 7,
     "metadata": {},
     "output_type": "execute_result"
    }
   ],
   "source": [
    "test_path, train_path, labels_path, weights_path, RETRAIN, trained_weights, test_preds_dir"
   ]
  },
  {
   "cell_type": "code",
   "execution_count": 9,
   "id": "10ec1ac1",
   "metadata": {
    "execution": {
     "iopub.execute_input": "2024-02-26T15:54:38.167976Z",
     "iopub.status.busy": "2024-02-26T15:54:38.167344Z",
     "iopub.status.idle": "2024-02-26T15:54:38.175402Z",
     "shell.execute_reply": "2024-02-26T15:54:38.174530Z"
    },
    "id": "d538a9e1-3634-462f-8ed1-4fa9464f07ff",
    "papermill": {
     "duration": 0.022278,
     "end_time": "2024-02-26T15:54:38.177350",
     "exception": false,
     "start_time": "2024-02-26T15:54:38.155072",
     "status": "completed"
    },
    "tags": []
   },
   "outputs": [],
   "source": [
    "basename='segm_GCp_v15full'\n",
    "\n",
    "\n",
    "# training schedule variables\n",
    "epochs=30\n",
    "snapshots = 1\n",
    "lr_0 = 0.00005\n",
    "WARMUP_EPOCHS=0\n",
    "\n",
    "# training input variables\n",
    "SIZE=896 # resize image size\n",
    "channels=[0,1,3] # SWIR, NIR, Green\n",
    "meansCH = np.array( [0.485, 0.456, 0.406] )\n",
    "stdsCH = np.array( [0.229, 0.224, 0.225] )\n",
    "stdsCH *= 0.9\n",
    "CLIPMIN=6000\n",
    "CLIPMAX=24000\n",
    "\n",
    "\n",
    "BA=3 # Batch Accumulation\n",
    "num_workers = 4 # \n",
    "bs = 3 # Batch Size"
   ]
  },
  {
   "cell_type": "code",
   "execution_count": 10,
   "id": "763db869",
   "metadata": {
    "execution": {
     "iopub.execute_input": "2024-02-26T15:54:38.201555Z",
     "iopub.status.busy": "2024-02-26T15:54:38.200733Z",
     "iopub.status.idle": "2024-02-26T15:54:38.672964Z",
     "shell.execute_reply": "2024-02-26T15:54:38.672022Z"
    },
    "id": "60bfeab1-79e6-4fbc-b817-cc2a87f9cac3",
    "papermill": {
     "duration": 0.486943,
     "end_time": "2024-02-26T15:54:38.675164",
     "exception": false,
     "start_time": "2024-02-26T15:54:38.188221",
     "status": "completed"
    },
    "tags": []
   },
   "outputs": [
    {
     "data": {
      "text/plain": [
       "(1426, 5635, 5635, 'FF979226_satellite.tif', 'WG210136_kelp.tif')"
      ]
     },
     "execution_count": 10,
     "metadata": {},
     "output_type": "execute_result"
    }
   ],
   "source": [
    "test_image_names=os.listdir(test_path)\n",
    "train_image_names=os.listdir(train_path)\n",
    "mask_names = os.listdir(labels_path)\n",
    "len(test_image_names),len(train_image_names),len(mask_names),test_image_names[0],mask_names[0]"
   ]
  },
  {
   "cell_type": "code",
   "execution_count": 8,
   "id": "5f5d284a",
   "metadata": {
    "execution": {
     "iopub.execute_input": "2024-02-26T15:54:38.699511Z",
     "iopub.status.busy": "2024-02-26T15:54:38.698686Z",
     "iopub.status.idle": "2024-02-26T15:54:38.732796Z",
     "shell.execute_reply": "2024-02-26T15:54:38.731872Z"
    },
    "executionInfo": {
     "elapsed": 25,
     "status": "ok",
     "timestamp": 1708412813912,
     "user": {
      "displayName": "Ioannis Nasios",
      "userId": "11761353373054103725"
     },
     "user_tz": -120
    },
    "id": "ff4c1221-64ca-40c3-aa2b-b3b08d196a0e",
    "outputId": "aa74de87-dc89-489c-bfa9-cfe3c249ef91",
    "papermill": {
     "duration": 0.04851,
     "end_time": "2024-02-26T15:54:38.734950",
     "exception": false,
     "start_time": "2024-02-26T15:54:38.686440",
     "status": "completed"
    },
    "tags": []
   },
   "outputs": [],
   "source": [
    "full_train_img_paths= np.array([train_path+x for x in train_image_names])\n",
    "full_train_msk_paths= np.array([labels_path+x.split('_')[0]+'_kelp.tif' for x in train_image_names])\n",
    "# full_test_img_paths= np.array([test_path+x for x in test_image_names])\n",
    "# test_image_names=np.load('/kaggle/input/needkelp/kafe_test_image_names.npz')['arr_0']\n",
    "full_test_img_paths=np.array([test_path+x for x in test_image_names])\n",
    "len(full_train_img_paths),len(full_train_msk_paths),len(full_test_img_paths),full_train_img_paths[:2],full_test_img_paths[:2]\n"
   ]
  },
  {
   "cell_type": "code",
   "execution_count": null,
   "id": "b4135f27",
   "metadata": {
    "id": "2d9e7053-6392-46c2-9ecc-8f276fe2b0ba",
    "papermill": {
     "duration": 0.011234,
     "end_time": "2024-02-26T15:54:38.757518",
     "exception": false,
     "start_time": "2024-02-26T15:54:38.746284",
     "status": "completed"
    },
    "tags": []
   },
   "outputs": [],
   "source": [
    "# vids=np.load('/kaggle/input/needkelp/valid_imids_ph2.npz')['arr_0']\n",
    "# tids=np.load('/kaggle/input/needkelp/train_imids_ph2.npz')['arr_0']\n",
    "# len(tids),len(vids)\n",
    "\n",
    "# train_ids= np.array([train_path+x for x in tids])\n",
    "# val_ids= np.array([train_path+x for x in vids])\n",
    "# train_ids.shape, val_ids.shape\n",
    "\n",
    "# train_ids=np.concatenate((train_ids,val_ids))\n",
    "\n",
    "train_ids=np.array([train_path+x for x in train_image_names])\n",
    "train_ids.shape,train_ids[:3]"
   ]
  },
  {
   "cell_type": "code",
   "execution_count": null,
   "id": "7f630ec4",
   "metadata": {},
   "outputs": [],
   "source": []
  },
  {
   "cell_type": "code",
   "execution_count": 12,
   "id": "0478fe69",
   "metadata": {
    "execution": {
     "iopub.execute_input": "2024-02-26T15:54:38.781783Z",
     "iopub.status.busy": "2024-02-26T15:54:38.781021Z",
     "iopub.status.idle": "2024-02-26T15:54:47.134137Z",
     "shell.execute_reply": "2024-02-26T15:54:47.133292Z"
    },
    "id": "BDiUjJMHMDDL",
    "papermill": {
     "duration": 8.367911,
     "end_time": "2024-02-26T15:54:47.136527",
     "exception": false,
     "start_time": "2024-02-26T15:54:38.768616",
     "status": "completed"
    },
    "tags": []
   },
   "outputs": [
    {
     "data": {
      "application/vnd.jupyter.widget-view+json": {
       "model_id": "65938db82f234a6b87230abc371cd43f",
       "version_major": 2,
       "version_minor": 0
      },
      "text/plain": [
       "config.json:   0%|          | 0.00/8.76k [00:00<?, ?B/s]"
      ]
     },
     "metadata": {},
     "output_type": "display_data"
    },
    {
     "data": {
      "application/vnd.jupyter.widget-view+json": {
       "model_id": "079f74c6caf84cc4bfb5a95a2c31caab",
       "version_major": 2,
       "version_minor": 0
      },
      "text/plain": [
       "model.safetensors:   0%|          | 0.00/241M [00:00<?, ?B/s]"
      ]
     },
     "metadata": {},
     "output_type": "display_data"
    }
   ],
   "source": [
    "from transformers import SwinConfig, UperNetConfig, UperNetForSemanticSegmentation\n",
    "ENCODER = 'UPNTcnvxtT'\n",
    "model = UperNetForSemanticSegmentation.from_pretrained(\"openmmlab/upernet-convnext-tiny\")\n",
    "model.decode_head.classifier = torch.nn.Conv2d(512, 1, kernel_size=(1, 1), stride=(1, 1))"
   ]
  },
  {
   "cell_type": "code",
   "execution_count": 13,
   "id": "ccdb5024",
   "metadata": {
    "execution": {
     "iopub.execute_input": "2024-02-26T15:54:47.161611Z",
     "iopub.status.busy": "2024-02-26T15:54:47.160796Z",
     "iopub.status.idle": "2024-02-26T15:54:47.168830Z",
     "shell.execute_reply": "2024-02-26T15:54:47.168012Z"
    },
    "id": "da012884-4532-45ec-aa6d-df9e3bde60fe",
    "papermill": {
     "duration": 0.02217,
     "end_time": "2024-02-26T15:54:47.170738",
     "exception": false,
     "start_time": "2024-02-26T15:54:47.148568",
     "status": "completed"
    },
    "tags": []
   },
   "outputs": [],
   "source": [
    "def cosine_anneal_schedule(t):\n",
    "    cos_inner = np.pi * (t % (epochs // snapshots))\n",
    "    cos_inner /= epochs // snapshots\n",
    "    cos_out = np.cos(cos_inner) + 1\n",
    "    return float(lr_0 / 2 * cos_out)\n",
    "cosine_anneal_schedule_list=[cosine_anneal_schedule(x) for x in range(epochs)]\n",
    "# cosine_anneal_schedule_list\n",
    "# WARMUP_EPOCHS=2\n",
    "# cosine_anneal_schedule_list=[0.000001]*WARMUP_EPOCHS+cosine_anneal_schedule_list\n",
    "# epochs=len(cosine_anneal_schedule_list)\n",
    "def adjust_optim(optimizer, n_iter):\n",
    "    optimizer.param_groups[0]['lr'] = cosine_anneal_schedule_list[n_iter % epochs]\n",
    "\n",
    "# adjust_optim(optimizer,47)"
   ]
  },
  {
   "cell_type": "code",
   "execution_count": 14,
   "id": "3475bc2d",
   "metadata": {
    "execution": {
     "iopub.execute_input": "2024-02-26T15:54:47.194824Z",
     "iopub.status.busy": "2024-02-26T15:54:47.194563Z",
     "iopub.status.idle": "2024-02-26T15:54:47.210122Z",
     "shell.execute_reply": "2024-02-26T15:54:47.209259Z"
    },
    "id": "kbFWPqT5cTcU",
    "papermill": {
     "duration": 0.029759,
     "end_time": "2024-02-26T15:54:47.212005",
     "exception": false,
     "start_time": "2024-02-26T15:54:47.182246",
     "status": "completed"
    },
    "tags": []
   },
   "outputs": [],
   "source": [
    "\n",
    "Ms = meansCH.mean()\n",
    "Ss = stdsCH.mean()\n",
    "\n",
    "RANDOM_ERASE_PROB=0.25\n",
    "MAX_ERASE_DIM=0.1\n",
    "RANDOM_ERASE_MAX_TIMES=5\n",
    "\n",
    "class KelpDataset_disk(torch.utils.data.Dataset):\n",
    "    \"\"\"Reads in images, transforms pixel values, and serves a\n",
    "    dictionary containing chip ids, image tensors, and\n",
    "    label masks (where available).\n",
    "    \"\"\"\n",
    "\n",
    "    def __init__(self, x_paths,y_paths, transforms=None, preprocessing=None, mode='train'):\n",
    "        self.x_paths = x_paths\n",
    "        self.y_paths = y_paths\n",
    "        # self.ids = ids\n",
    "        self.transforms = transforms\n",
    "        self.preprocessing = preprocessing\n",
    "        self.mode=mode\n",
    "\n",
    "    def __len__(self):\n",
    "        return len(self.x_paths)\n",
    "\n",
    "    def __getitem__(self, idx):\n",
    "        # Loads a 3-channel image from a chip-level dataframe\n",
    "        # x_arr = images[idx].astype('float')\n",
    "        # y_arr = masks[idx]\n",
    "        x_arr=tifffile.imread(self.x_paths[idx]).astype('float32')\n",
    "        t=x_arr.copy()\n",
    "        x_arr=np.clip(x_arr,CLIPMIN,CLIPMAX)\n",
    "        x_arr[t<=-32000]=0\n",
    "        # del t\n",
    "\n",
    "        if self.mode=='test':\n",
    "            y_arr=np.zeros((350,350)).astype('uint8')\n",
    "        else:\n",
    "            y_arr=tifffile.imread(self.y_paths[idx])\n",
    "\n",
    "\n",
    "        if self.mode=='train':\n",
    "            if (random.random()<RANDOM_ERASE_PROB):\n",
    "                RANDOM_ERASE_TIMES = np.random.choice(np.arange(1,RANDOM_ERASE_MAX_TIMES+1))\n",
    "                for a in range(RANDOM_ERASE_TIMES):\n",
    "                    ULc=(int(random.random()*x_arr.shape[0]),int(random.random()*x_arr.shape[1]))\n",
    "                    EH = int(min(x_arr.shape[0]-ULc[0], random.random()*MAX_ERASE_DIM*x_arr.shape[0]))\n",
    "                    EW = int(min(x_arr.shape[1]-ULc[1], random.random()*MAX_ERASE_DIM*x_arr.shape[1]))\n",
    "                    x_arr[ULc[0]:ULc[0]+EH, ULc[1]:ULc[1]+EW,...] = CLIPMIN\n",
    "                    x_arr[t<=-32000]=0\n",
    "                    y_arr[ULc[0]:ULc[0]+EH, ULc[1]:ULc[1]+EW] = 0\n",
    "        del t\n",
    "        y_arr = np.expand_dims(y_arr, -1).astype('float32')\n",
    "\n",
    "        # print(x_arr.shape,y_arr.shape)\n",
    "        # Apply data augmentations, if provided\n",
    "        if self.transforms:\n",
    "            augmented = self.transforms(image=x_arr, mask=y_arr)\n",
    "            x_arr, y_arr = augmented['image'], augmented['mask']\n",
    "        # x_arr = np.transpose(x_arr, [2, 0, 1])\n",
    "\n",
    "\n",
    "\n",
    "        x_arr = x_arr[...,channels]/CLIPMAX\n",
    "        x_arr = (x_arr - meansCH)/stdsCH\n",
    "\n",
    "        x_arr = np.transpose(x_arr, [2, 0, 1])\n",
    "        y_arr = np.transpose(y_arr, [2, 0, 1])\n",
    "\n",
    "        if self.preprocessing:\n",
    "            preprocessed = self.preprocessing(image=x_arr, mask=y_arr)\n",
    "            # preprocessed = self.preprocessing(image=x_arr)\n",
    "            x_arr = preprocessed['image']\n",
    "            y_arr = preprocessed['mask']\n",
    "\n",
    "        return x_arr.astype('float32'), y_arr.astype('float32')#.astype('uint8')#, not_missing_mask.astype('uint8')"
   ]
  },
  {
   "cell_type": "code",
   "execution_count": 15,
   "id": "bd1394fb",
   "metadata": {
    "execution": {
     "iopub.execute_input": "2024-02-26T15:54:47.235536Z",
     "iopub.status.busy": "2024-02-26T15:54:47.235266Z",
     "iopub.status.idle": "2024-02-26T15:54:47.240394Z",
     "shell.execute_reply": "2024-02-26T15:54:47.239587Z"
    },
    "id": "smRzTFOWXmXr",
    "papermill": {
     "duration": 0.018859,
     "end_time": "2024-02-26T15:54:47.242192",
     "exception": false,
     "start_time": "2024-02-26T15:54:47.223333",
     "status": "completed"
    },
    "tags": []
   },
   "outputs": [],
   "source": [
    "\n",
    "training_transformations = albumentations.Compose(\n",
    "    [\n",
    "        albumentations.Resize(SIZE, SIZE, interpolation=2),\n",
    "        albumentations.RandomRotate90(),\n",
    "        albumentations.HorizontalFlip(),\n",
    "        albumentations.VerticalFlip(),\n",
    "    ]\n",
    ")\n",
    "validation_transformations = albumentations.Compose(\n",
    "    [\n",
    "        albumentations.Resize(SIZE, SIZE, interpolation=2),\n",
    "    ]\n",
    ")"
   ]
  },
  {
   "cell_type": "code",
   "execution_count": null,
   "id": "a8cb6cfb",
   "metadata": {
    "id": "f2c85fe6-d5a8-40fe-acc4-b0da43a212ee",
    "papermill": {
     "duration": 0.010924,
     "end_time": "2024-02-26T15:54:47.264633",
     "exception": false,
     "start_time": "2024-02-26T15:54:47.253709",
     "status": "completed"
    },
    "tags": []
   },
   "outputs": [],
   "source": []
  },
  {
   "cell_type": "code",
   "execution_count": 16,
   "id": "69810763",
   "metadata": {
    "execution": {
     "iopub.execute_input": "2024-02-26T15:54:47.288258Z",
     "iopub.status.busy": "2024-02-26T15:54:47.288011Z",
     "iopub.status.idle": "2024-02-26T15:54:47.297792Z",
     "shell.execute_reply": "2024-02-26T15:54:47.297057Z"
    },
    "id": "f60a49ca-a52e-4f74-aa5e-3311998cd4a6",
    "papermill": {
     "duration": 0.023941,
     "end_time": "2024-02-26T15:54:47.299759",
     "exception": false,
     "start_time": "2024-02-26T15:54:47.275818",
     "status": "completed"
    },
    "tags": []
   },
   "outputs": [],
   "source": [
    "from sklearn.metrics import jaccard_score\n",
    "def get_dice_coef(gt, preds, THRESH=0.5):\n",
    "    #gt shape BxCxHxW\n",
    "    #preds shape BxHxW\n",
    "    dice = np.sum((preds>THRESH)[gt[:,0,...]==1])*2.0 / (np.sum((preds>THRESH)) + np.sum(gt[:,0,...]))\n",
    "    return dice\n",
    "\n",
    "\n",
    "class DiceLoss(nn.Module):\n",
    "    def __init__(self, weight=None, size_average=True):\n",
    "        super(DiceLoss, self).__init__()\n",
    "\n",
    "    def forward(self, inputs, targets, eps=1e-7):\n",
    "\n",
    "        # #comment out if your model contains a sigmoid or equivalent activation layer\n",
    "        # inputs = F.sigmoid(inputs)\n",
    "\n",
    "        #flatten label and prediction tensors\n",
    "        inputs = inputs.view(-1)\n",
    "        targets = targets.view(-1)\n",
    "\n",
    "        intersection = (inputs * targets).sum()\n",
    "        dice = (2.*intersection )/(inputs.sum() + targets.sum() + eps)\n",
    "\n",
    "        return 1 - dice\n"
   ]
  },
  {
   "cell_type": "code",
   "execution_count": 17,
   "id": "35c3e530",
   "metadata": {
    "execution": {
     "iopub.execute_input": "2024-02-26T15:54:47.323982Z",
     "iopub.status.busy": "2024-02-26T15:54:47.323697Z",
     "iopub.status.idle": "2024-02-26T15:54:47.327624Z",
     "shell.execute_reply": "2024-02-26T15:54:47.326764Z"
    },
    "id": "QaskvDvjbkOm",
    "papermill": {
     "duration": 0.0183,
     "end_time": "2024-02-26T15:54:47.329550",
     "exception": false,
     "start_time": "2024-02-26T15:54:47.311250",
     "status": "completed"
    },
    "tags": []
   },
   "outputs": [],
   "source": [
    "# def adjust_optim(optimizer, n_iter):\n",
    "#     optimizer.param_groups[0]['lr'] = cosine_anneal_schedule_list[n_iter % epochs]\n",
    "#     optimizer.param_groups[1]['lr'] = cosine_anneal_schedule_list[n_iter % epochs]*10\n",
    "#     optimizer.param_groups[2]['lr'] = cosine_anneal_schedule_list[n_iter % epochs]\n",
    "# # adjust_optim(optimizer, 10)"
   ]
  },
  {
   "cell_type": "code",
   "execution_count": 18,
   "id": "6a6b4c5a",
   "metadata": {
    "execution": {
     "iopub.execute_input": "2024-02-26T15:54:47.353373Z",
     "iopub.status.busy": "2024-02-26T15:54:47.353075Z",
     "iopub.status.idle": "2024-02-26T15:54:49.852264Z",
     "shell.execute_reply": "2024-02-26T15:54:49.851388Z"
    },
    "executionInfo": {
     "elapsed": 9992761,
     "status": "ok",
     "timestamp": 1708461991159,
     "user": {
      "displayName": "Ioannis Nasios",
      "userId": "11761353373054103725"
     },
     "user_tz": -120
    },
    "id": "c2d42c3a-b87e-4ddb-903a-5f8a4c825250",
    "outputId": "be0ad4ad-8f48-42b9-b135-aead17a5c29b",
    "papermill": {
     "duration": 2.513496,
     "end_time": "2024-02-26T15:54:49.854473",
     "exception": false,
     "start_time": "2024-02-26T15:54:47.340977",
     "status": "completed"
    },
    "scrolled": true,
    "tags": []
   },
   "outputs": [],
   "source": [
    "name=ENCODER+'_'+basename\n",
    "model.cuda()\n",
    "\n",
    "if RETRAIN==True:\n",
    "    optimizer = optim.AdamW(model.parameters(), lr=lr_0)\n",
    "    # optimizer=optim.AdamW([\n",
    "    #                 {'params': model.encoder.parameters()},\n",
    "    #                 {'params': model.decoder.parameters(), 'lr': lr_0*5},\n",
    "    #                 {'params': model.segmentation_head.parameters()}\n",
    "    #             ], lr=lr_0, weight_decay=0.01)\n",
    "\n",
    "\n",
    "\n",
    "    train_dataset = KelpDataset_disk(x_paths=train_ids,\n",
    "                                     y_paths=[x.replace('satellite', 'kelp') for x in train_ids],\n",
    "                                 transforms = training_transformations,\n",
    "                                    )\n",
    "\n",
    "    train_loader = DataLoader(train_dataset, batch_size=bs, shuffle=True, num_workers=num_workers, drop_last=True)\n",
    "\n",
    "\n",
    "    criterion1 = DiceLoss()\n",
    "\n",
    "    mb = master_bar(range(epochs))\n",
    "    loss_log=[]\n",
    "    for epoch in mb:\n",
    "        avg_train_loss = 0.\n",
    "        model.train()\n",
    "\n",
    "        pb = progress_bar(train_loader)\n",
    "        for ii, (data, target) in enumerate(pb):\n",
    "\n",
    "\n",
    "            data, target = data.cuda(non_blocking=True), target.cuda(non_blocking=True)\n",
    "\n",
    "            output = model(data)\n",
    "            output = output.logits\n",
    "            output = torch.sigmoid(output)\n",
    "            loss = criterion1(output, target.to(dtype=torch.float))#.mean()\n",
    "            loss.backward()\n",
    "            if (ii + 1) % BA == 0:\n",
    "                optimizer.step()\n",
    "                optimizer.zero_grad(set_to_none=True)\n",
    "                # optimizer.zero_grad()\n",
    "            if ii % 1000 == 0:\n",
    "                loss_log.append(loss.item())\n",
    "            avg_train_loss += loss.item() / len(train_loader)\n",
    "\n",
    "        print('Epoch: {} - Loss: {:.6f}'.format(epoch + 1, avg_train_loss))\n",
    "\n",
    "        adjust_optim(optimizer, (epoch + 1))\n",
    "\n",
    "        gc.collect()\n",
    "\n",
    "    torch.save(model.state_dict(), weights_path+name+'_last.pt')\n",
    "else:\n",
    "    model.load_state_dict(torch.load(  trained_weights+ENCODER+'_'+basename+'_last.pt') )       "
   ]
  },
  {
   "cell_type": "code",
   "execution_count": 19,
   "id": "ae85f7c2",
   "metadata": {
    "execution": {
     "iopub.execute_input": "2024-02-26T15:54:49.879140Z",
     "iopub.status.busy": "2024-02-26T15:54:49.878833Z",
     "iopub.status.idle": "2024-02-26T15:54:49.885097Z",
     "shell.execute_reply": "2024-02-26T15:54:49.883937Z"
    },
    "executionInfo": {
     "elapsed": 3,
     "status": "ok",
     "timestamp": 1708461991161,
     "user": {
      "displayName": "Ioannis Nasios",
      "userId": "11761353373054103725"
     },
     "user_tz": -120
    },
    "id": "J8iIV3Gqex8l",
    "papermill": {
     "duration": 0.020647,
     "end_time": "2024-02-26T15:54:49.887120",
     "exception": false,
     "start_time": "2024-02-26T15:54:49.866473",
     "status": "completed"
    },
    "tags": []
   },
   "outputs": [
    {
     "name": "stdout",
     "output_type": "stream",
     "text": [
      "model eval\n"
     ]
    }
   ],
   "source": [
    "model.eval()\n",
    "print('model eval')"
   ]
  },
  {
   "cell_type": "code",
   "execution_count": 20,
   "id": "8de126b2",
   "metadata": {
    "execution": {
     "iopub.execute_input": "2024-02-26T15:54:49.911320Z",
     "iopub.status.busy": "2024-02-26T15:54:49.911042Z",
     "iopub.status.idle": "2024-02-26T15:54:49.916008Z",
     "shell.execute_reply": "2024-02-26T15:54:49.915174Z"
    },
    "executionInfo": {
     "elapsed": 5,
     "status": "ok",
     "timestamp": 1708461992908,
     "user": {
      "displayName": "Ioannis Nasios",
      "userId": "11761353373054103725"
     },
     "user_tz": -120
    },
    "id": "5ab68fb4-65a4-4c68-b9cf-1fa7bbc486ab",
    "papermill": {
     "duration": 0.019081,
     "end_time": "2024-02-26T15:54:49.917902",
     "exception": false,
     "start_time": "2024-02-26T15:54:49.898821",
     "status": "completed"
    },
    "tags": []
   },
   "outputs": [],
   "source": [
    "test_dataset = KelpDataset_disk(x_paths=full_test_img_paths,\n",
    "                                y_paths=None,\n",
    "                             transforms = validation_transformations,\n",
    "                             # preprocessing=get_preprocessing(preprocessing_fn)\n",
    "                                 mode='test'\n",
    "                                )\n",
    "\n",
    "test_loader = DataLoader(test_dataset, batch_size=bs, shuffle=False, num_workers=num_workers)\n"
   ]
  },
  {
   "cell_type": "code",
   "execution_count": 21,
   "id": "a3ef818a",
   "metadata": {
    "execution": {
     "iopub.execute_input": "2024-02-26T15:54:49.941678Z",
     "iopub.status.busy": "2024-02-26T15:54:49.941408Z",
     "iopub.status.idle": "2024-02-26T15:54:49.945984Z",
     "shell.execute_reply": "2024-02-26T15:54:49.945169Z"
    },
    "executionInfo": {
     "elapsed": 557774,
     "status": "ok",
     "timestamp": 1708462550677,
     "user": {
      "displayName": "Ioannis Nasios",
      "userId": "11761353373054103725"
     },
     "user_tz": -120
    },
    "id": "e7325edd-ae2c-46dc-8641-fafbc53debde",
    "outputId": "4727e4f0-9e35-4d3f-a8b3-644b659a89e9",
    "papermill": {
     "duration": 0.018596,
     "end_time": "2024-02-26T15:54:49.947884",
     "exception": false,
     "start_time": "2024-02-26T15:54:49.929288",
     "status": "completed"
    },
    "tags": []
   },
   "outputs": [],
   "source": [
    "with torch.no_grad():\n",
    "\n",
    "    test_preds1 =[]\n",
    "    test_preds2 =[]\n",
    "    test_preds3 =[]\n",
    "    test_preds4 =[]\n",
    "\n",
    "\n",
    "    pb = progress_bar(test_loader)\n",
    "    for i, (x_batch, y_batch) in enumerate(pb):\n",
    "\n",
    "        preds1 = torch.sigmoid(model(x_batch.cuda(non_blocking=True)).logits).detach()\n",
    "        preds2 = torch.sigmoid(model(torch.flip(x_batch, dims=[2]).cuda(non_blocking=True)).logits).detach()\n",
    "        preds3 = torch.sigmoid(model(torch.flip(x_batch, dims=[3]).cuda(non_blocking=True)).logits).detach()\n",
    "        preds4 = torch.sigmoid(model(torch.flip(x_batch, dims=[2,3]).cuda(non_blocking=True)).logits).detach()\n",
    "\n",
    "        test_preds1.append(preds1.cpu())\n",
    "        test_preds2.append(preds2.cpu())\n",
    "        test_preds3.append(preds3.cpu())\n",
    "        test_preds4.append(preds4.cpu())\n",
    "    test_preds1=np.vstack(test_preds1)[:,0,...]\n",
    "    test_preds2=np.vstack(test_preds2)[:,0,...]\n",
    "    test_preds3=np.vstack(test_preds3)[:,0,...]\n",
    "    test_preds4=np.vstack(test_preds4)[:,0,...]\n",
    "\n",
    "    # test_preds=(test_preds1+test_preds2[...,::-1,:]+test_preds3[...,:,::-1])/3\n",
    "    test_preds=(test_preds1+test_preds2[...,::-1,:]+test_preds3[...,:,::-1]+test_preds4[...,::-1,::-1])/4\n",
    "\n",
    "   "
   ]
  },
  {
   "cell_type": "code",
   "execution_count": 9,
   "id": "03d1b54b",
   "metadata": {
    "execution": {
     "iopub.execute_input": "2024-02-26T15:54:49.971868Z",
     "iopub.status.busy": "2024-02-26T15:54:49.971581Z",
     "iopub.status.idle": "2024-02-26T16:09:35.640411Z",
     "shell.execute_reply": "2024-02-26T16:09:35.639234Z"
    },
    "papermill": {
     "duration": 885.683695,
     "end_time": "2024-02-26T16:09:35.642889",
     "exception": false,
     "start_time": "2024-02-26T15:54:49.959194",
     "status": "completed"
    },
    "tags": []
   },
   "outputs": [],
   "source": [
    "# test_preds = np.zeros((len(full_test_img_paths), SIZE,SIZE))\n",
    "# with torch.no_grad():\n",
    "\n",
    "#     counter=0\n",
    "#     pb = progress_bar(test_loader)\n",
    "#     for i, (x_batch, y_batch) in enumerate(pb):\n",
    "\n",
    "#         preds1 = torch.sigmoid(model(x_batch.cuda(non_blocking=True)).logits).detach().cpu().numpy()\n",
    "#         preds2 = torch.sigmoid(model(torch.flip(x_batch, dims=[2]).cuda(non_blocking=True)).logits).detach().cpu().numpy()\n",
    "#         preds3 = torch.sigmoid(model(torch.flip(x_batch, dims=[3]).cuda(non_blocking=True)).logits).detach().cpu().numpy()\n",
    "#         preds4 = torch.sigmoid(model(torch.flip(x_batch, dims=[2,3]).cuda(non_blocking=True)).logits).detach().cpu().numpy()\n",
    "\n",
    "\n",
    "# #     test_preds=(test_preds1+test_preds2[...,::-1,:]+test_preds3[...,:,::-1]+test_preds4[...,::-1,::-1])/4\n",
    "#         test_preds[counter*len(x_batch):(counter+1)*len(x_batch),...]=((preds1+preds2[...,::-1,:]+\n",
    "#                                                         preds3[...,:,::-1]+preds4[...,::-1,::-1])/4)[:,0,...]\n",
    "#         counter+=1\n",
    "\n",
    "\n",
    "   "
   ]
  },
  {
   "cell_type": "code",
   "execution_count": 23,
   "id": "228c6d0e",
   "metadata": {
    "execution": {
     "iopub.execute_input": "2024-02-26T16:09:35.669938Z",
     "iopub.status.busy": "2024-02-26T16:09:35.669151Z",
     "iopub.status.idle": "2024-02-26T16:11:06.310460Z",
     "shell.execute_reply": "2024-02-26T16:11:06.308897Z"
    },
    "id": "f36e4393-1247-4c7e-a069-3f2c8613acc6",
    "papermill": {
     "duration": 90.659909,
     "end_time": "2024-02-26T16:11:06.315045",
     "exception": false,
     "start_time": "2024-02-26T16:09:35.655136",
     "status": "completed"
    },
    "tags": []
   },
   "outputs": [],
   "source": [
    "np.savez(test_preds_dir+basename[5:], test_preds.astype('float16'))"
   ]
  },
  {
   "cell_type": "code",
   "execution_count": 24,
   "id": "ac2bcf81",
   "metadata": {
    "execution": {
     "iopub.execute_input": "2024-02-26T16:11:06.369531Z",
     "iopub.status.busy": "2024-02-26T16:11:06.368947Z",
     "iopub.status.idle": "2024-02-26T16:11:06.374902Z",
     "shell.execute_reply": "2024-02-26T16:11:06.373762Z"
    },
    "id": "53abb764-4b43-4d39-b38f-6ea0a35f1b2c",
    "papermill": {
     "duration": 0.024664,
     "end_time": "2024-02-26T16:11:06.377363",
     "exception": false,
     "start_time": "2024-02-26T16:11:06.352699",
     "status": "completed"
    },
    "tags": []
   },
   "outputs": [],
   "source": [
    "# test_preds.shape"
   ]
  },
  {
   "cell_type": "code",
   "execution_count": 25,
   "id": "2072a7b4",
   "metadata": {
    "execution": {
     "iopub.execute_input": "2024-02-26T16:11:06.406306Z",
     "iopub.status.busy": "2024-02-26T16:11:06.405378Z",
     "iopub.status.idle": "2024-02-26T16:11:06.630607Z",
     "shell.execute_reply": "2024-02-26T16:11:06.629710Z"
    },
    "id": "3dcc154c-5a9b-492c-a1a2-0c9671bb740b",
    "papermill": {
     "duration": 0.239983,
     "end_time": "2024-02-26T16:11:06.632686",
     "exception": false,
     "start_time": "2024-02-26T16:11:06.392703",
     "status": "completed"
    },
    "tags": []
   },
   "outputs": [
    {
     "data": {
      "image/png": "[encoded data removed]",
      "text/plain": [
       "<Figure size 640x480 with 1 Axes>"
      ]
     },
     "metadata": {},
     "output_type": "display_data"
    }
   ],
   "source": [
    "plt.imshow(test_preds[0]>0.5)\n",
    "plt.show()"
   ]
  },
  {
   "cell_type": "code",
   "execution_count": 10,
   "id": "cc8fca5c",
   "metadata": {
    "execution": {
     "iopub.execute_input": "2024-02-26T16:11:06.659052Z",
     "iopub.status.busy": "2024-02-26T16:11:06.658693Z",
     "iopub.status.idle": "2024-02-26T16:11:30.525039Z",
     "shell.execute_reply": "2024-02-26T16:11:30.524084Z"
    },
    "id": "9b59a48b-ab66-41f7-8a01-52b16cd7eea1",
    "papermill": {
     "duration": 23.881712,
     "end_time": "2024-02-26T16:11:30.527035",
     "exception": false,
     "start_time": "2024-02-26T16:11:06.645323",
     "status": "completed"
    },
    "tags": []
   },
   "outputs": [],
   "source": [
    "# test_preds = np.array([skimage.transform.resize(x, (350,350)) for x in test_preds])\n",
    "# test_preds.shape"
   ]
  },
  {
   "cell_type": "code",
   "execution_count": 11,
   "id": "6adbd2bd",
   "metadata": {
    "execution": {
     "iopub.execute_input": "2024-02-26T16:11:30.553266Z",
     "iopub.status.busy": "2024-02-26T16:11:30.552677Z",
     "iopub.status.idle": "2024-02-26T16:11:30.747197Z",
     "shell.execute_reply": "2024-02-26T16:11:30.746225Z"
    },
    "id": "1415a568-a6ef-413a-8480-3d0879792aeb",
    "papermill": {
     "duration": 0.210067,
     "end_time": "2024-02-26T16:11:30.749634",
     "exception": false,
     "start_time": "2024-02-26T16:11:30.539567",
     "status": "completed"
    },
    "tags": []
   },
   "outputs": [],
   "source": [
    "# THRESH=0.5\n",
    "# test_preds = np.array([(x>THRESH).astype('uint8') for x in test_preds])"
   ]
  },
  {
   "cell_type": "code",
   "execution_count": 12,
   "id": "d340abc1",
   "metadata": {
    "execution": {
     "iopub.execute_input": "2024-02-26T16:11:30.776223Z",
     "iopub.status.busy": "2024-02-26T16:11:30.775922Z",
     "iopub.status.idle": "2024-02-26T16:11:31.904347Z",
     "shell.execute_reply": "2024-02-26T16:11:31.903317Z"
    },
    "id": "b1ab9621-023f-4956-a056-b7423e784d7e",
    "papermill": {
     "duration": 1.14431,
     "end_time": "2024-02-26T16:11:31.906601",
     "exception": false,
     "start_time": "2024-02-26T16:11:30.762291",
     "status": "completed"
    },
    "tags": []
   },
   "outputs": [],
   "source": [
    "# [cv2.imwrite(test_predmask_path+test_image_names[i].split('_')[0]+'_kelp.tif', test_preds[i])\n",
    "#  for i in range(len(test_preds))]\n",
    "# print('saved in disk')"
   ]
  },
  {
   "cell_type": "code",
   "execution_count": 13,
   "id": "1eb35042",
   "metadata": {
    "execution": {
     "iopub.execute_input": "2024-02-26T16:11:31.933277Z",
     "iopub.status.busy": "2024-02-26T16:11:31.932965Z",
     "iopub.status.idle": "2024-02-26T16:11:33.076924Z",
     "shell.execute_reply": "2024-02-26T16:11:33.075621Z"
    },
    "id": "ac6182d4-8a7c-4c76-b54a-1af6199d78be",
    "papermill": {
     "duration": 1.159815,
     "end_time": "2024-02-26T16:11:33.079330",
     "exception": false,
     "start_time": "2024-02-26T16:11:31.919515",
     "status": "completed"
    },
    "tags": []
   },
   "outputs": [],
   "source": [
    "# # Remember to avoid including the inference dir itself\n",
    "# !cd test_kelp && zip -rq subm_GC15full.zip *ip *"
   ]
  },
  {
   "cell_type": "code",
   "execution_count": 14,
   "id": "59c59753",
   "metadata": {
    "execution": {
     "iopub.execute_input": "2024-02-26T16:11:33.105574Z",
     "iopub.status.busy": "2024-02-26T16:11:33.105249Z",
     "iopub.status.idle": "2024-02-26T16:11:34.079928Z",
     "shell.execute_reply": "2024-02-26T16:11:34.078819Z"
    },
    "id": "6e1c356e-5ef0-4296-901f-62ddb53bdb76",
    "papermill": {
     "duration": 0.990273,
     "end_time": "2024-02-26T16:11:34.082210",
     "exception": false,
     "start_time": "2024-02-26T16:11:33.091937",
     "status": "completed"
    },
    "tags": []
   },
   "outputs": [],
   "source": [
    "# !du -h subm_GC15full.zip"
   ]
  },
  {
   "cell_type": "code",
   "execution_count": 31,
   "id": "eabf75c9",
   "metadata": {
    "execution": {
     "iopub.execute_input": "2024-02-26T16:11:34.109057Z",
     "iopub.status.busy": "2024-02-26T16:11:34.108710Z",
     "iopub.status.idle": "2024-02-26T16:11:34.113086Z",
     "shell.execute_reply": "2024-02-26T16:11:34.112306Z"
    },
    "id": "yNKYOOhWUfba",
    "papermill": {
     "duration": 0.01982,
     "end_time": "2024-02-26T16:11:34.114897",
     "exception": false,
     "start_time": "2024-02-26T16:11:34.095077",
     "status": "completed"
    },
    "tags": []
   },
   "outputs": [],
   "source": [
    "# !rm -r test_kelp"
   ]
  }
 ],
 "metadata": {
  "accelerator": "GPU",
  "colab": {
   "gpuType": "V100",
   "machine_shape": "hm",
   "provenance": [
    {
     "file_id": "1iAL7xv-Aq-1Gy9trPjhAyBiGvp1OQeGQ",
     "timestamp": 1708242447133
    },
    {
     "file_id": "1B65p7PtOg6GLL7NjIDcFAoaH-gshXZOd",
     "timestamp": 1707811325310
    },
    {
     "file_id": "15AWd_QeErMaSilBczXfgpjzCLIVzwln3",
     "timestamp": 1707379912756
    },
    {
     "file_id": "1F-HJc7rTw6Wdvy1d8x_EUi7Q3tv4ZUP5",
     "timestamp": 1706518159782
    },
    {
     "file_id": "1rS3k3_uTZcmY1njXnr6OzA7HK-p0nSYG",
     "timestamp": 1706098865599
    },
    {
     "file_id": "1Vi4QLZQ7jH5xDy0o_HD-sIuoubPd2smZ",
     "timestamp": 1704886899557
    },
    {
     "file_id": "11mb7lvC6pVd8KCL9iI0PGyORAnerE57N",
     "timestamp": 1704812692626
    },
    {
     "file_id": "1KjgrRjGmt9zHUrbgIjLDSv0LhQTf2lIu",
     "timestamp": 1704811048255
    }
   ]
  },
  "kaggle": {
   "accelerator": "gpu",
   "dataSources": [
    {
     "datasetId": 4497321,
     "sourceId": 7703751,
     "sourceType": "datasetVersion"
    },
    {
     "datasetId": 4275820,
     "sourceId": 7587464,
     "sourceType": "datasetVersion"
    },
    {
     "sourceId": 157416039,
     "sourceType": "kernelVersion"
    }
   ],
   "dockerImageVersionId": 30648,
   "isGpuEnabled": true,
   "isInternetEnabled": true,
   "language": "python",
   "sourceType": "notebook"
  },
  "kernelspec": {
   "display_name": "Python 3",
   "language": "python",
   "name": "python3"
  },
  "language_info": {
   "codemirror_mode": {
    "name": "ipython",
    "version": 3
   },
   "file_extension": ".py",
   "mimetype": "text/x-python",
   "name": "python",
   "nbconvert_exporter": "python",
   "pygments_lexer": "ipython3",
   "version": "3.6.15"
  },
  "papermill": {
   "default_parameters": {},
   "duration": 1055.598591,
   "end_time": "2024-02-26T16:11:37.308011",
   "environment_variables": {},
   "exception": null,
   "input_path": "__notebook__.ipynb",
   "output_path": "__notebook__.ipynb",
   "parameters": {},
   "start_time": "2024-02-26T15:54:01.709420",
   "version": "2.5.0"
  },
  "widgets": {
   "application/vnd.jupyter.widget-state+json": {
    "state": {
     "079f74c6caf84cc4bfb5a95a2c31caab": {
      "model_module": "@jupyter-widgets/controls",
      "model_module_version": "1.5.0",
      "model_name": "HBoxModel",
      "state": {
       "_dom_classes": [],
       "_model_module": "@jupyter-widgets/controls",
       "_model_module_version": "1.5.0",
       "_model_name": "HBoxModel",
       "_view_count": null,
       "_view_module": "@jupyter-widgets/controls",
       "_view_module_version": "1.5.0",
       "_view_name": "HBoxView",
       "box_style": "",
       "children": [
        "IPY_MODEL_d7b6743af61946b5b82178dc765b81c9",
        "IPY_MODEL_4e43d1f023da46968e29c4b0f4901e7d",
        "IPY_MODEL_31f093f8114544efb511b3e95b00377e"
       ],
       "layout": "IPY_MODEL_7a659b4470474e43a39b4a000335dd1a"
      }
     },
     "0f317e3358a545198771967c2e839fbc": {
      "model_module": "@jupyter-widgets/base",
      "model_module_version": "1.2.0",
      "model_name": "LayoutModel",
      "state": {
       "_model_module": "@jupyter-widgets/base",
       "_model_module_version": "1.2.0",
       "_model_name": "LayoutModel",
       "_view_count": null,
       "_view_module": "@jupyter-widgets/base",
       "_view_module_version": "1.2.0",
       "_view_name": "LayoutView",
       "align_content": null,
       "align_items": null,
       "align_self": null,
       "border": null,
       "bottom": null,
       "display": null,
       "flex": null,
       "flex_flow": null,
       "grid_area": null,
       "grid_auto_columns": null,
       "grid_auto_flow": null,
       "grid_auto_rows": null,
       "grid_column": null,
       "grid_gap": null,
       "grid_row": null,
       "grid_template_areas": null,
       "grid_template_columns": null,
       "grid_template_rows": null,
       "height": null,
       "justify_content": null,
       "justify_items": null,
       "left": null,
       "margin": null,
       "max_height": null,
       "max_width": null,
       "min_height": null,
       "min_width": null,
       "object_fit": null,
       "object_position": null,
       "order": null,
       "overflow": null,
       "overflow_x": null,
       "overflow_y": null,
       "padding": null,
       "right": null,
       "top": null,
       "visibility": null,
       "width": null
      }
     },
     "19a172682722431eaa9e4291b67fd60c": {
      "model_module": "@jupyter-widgets/base",
      "model_module_version": "1.2.0",
      "model_name": "LayoutModel",
      "state": {
       "_model_module": "@jupyter-widgets/base",
       "_model_module_version": "1.2.0",
       "_model_name": "LayoutModel",
       "_view_count": null,
       "_view_module": "@jupyter-widgets/base",
       "_view_module_version": "1.2.0",
       "_view_name": "LayoutView",
       "align_content": null,
       "align_items": null,
       "align_self": null,
       "border": null,
       "bottom": null,
       "display": null,
       "flex": null,
       "flex_flow": null,
       "grid_area": null,
       "grid_auto_columns": null,
       "grid_auto_flow": null,
       "grid_auto_rows": null,
       "grid_column": null,
       "grid_gap": null,
       "grid_row": null,
       "grid_template_areas": null,
       "grid_template_columns": null,
       "grid_template_rows": null,
       "height": null,
       "justify_content": null,
       "justify_items": null,
       "left": null,
       "margin": null,
       "max_height": null,
       "max_width": null,
       "min_height": null,
       "min_width": null,
       "object_fit": null,
       "object_position": null,
       "order": null,
       "overflow": null,
       "overflow_x": null,
       "overflow_y": null,
       "padding": null,
       "right": null,
       "top": null,
       "visibility": null,
       "width": null
      }
     },
     "210b597de84f4bf38e54dda8d1a812de": {
      "model_module": "@jupyter-widgets/controls",
      "model_module_version": "1.5.0",
      "model_name": "DescriptionStyleModel",
      "state": {
       "_model_module": "@jupyter-widgets/controls",
       "_model_module_version": "1.5.0",
       "_model_name": "DescriptionStyleModel",
       "_view_count": null,
       "_view_module": "@jupyter-widgets/base",
       "_view_module_version": "1.2.0",
       "_view_name": "StyleView",
       "description_width": ""
      }
     },
     "2ad675bb78a44472a05d9de8bb2fa630": {
      "model_module": "@jupyter-widgets/controls",
      "model_module_version": "1.5.0",
      "model_name": "DescriptionStyleModel",
      "state": {
       "_model_module": "@jupyter-widgets/controls",
       "_model_module_version": "1.5.0",
       "_model_name": "DescriptionStyleModel",
       "_view_count": null,
       "_view_module": "@jupyter-widgets/base",
       "_view_module_version": "1.2.0",
       "_view_name": "StyleView",
       "description_width": ""
      }
     },
     "31f093f8114544efb511b3e95b00377e": {
      "model_module": "@jupyter-widgets/controls",
      "model_module_version": "1.5.0",
      "model_name": "HTMLModel",
      "state": {
       "_dom_classes": [],
       "_model_module": "@jupyter-widgets/controls",
       "_model_module_version": "1.5.0",
       "_model_name": "HTMLModel",
       "_view_count": null,
       "_view_module": "@jupyter-widgets/controls",
       "_view_module_version": "1.5.0",
       "_view_name": "HTMLView",
       "description": "",
       "description_tooltip": null,
       "layout": "IPY_MODEL_6405d786b22643379b1c3e7b47e48558",
       "placeholder": "​",
       "style": "IPY_MODEL_210b597de84f4bf38e54dda8d1a812de",
       "value": " 241M/241M [00:03&lt;00:00, 78.8MB/s]"
      }
     },
     "398fd8d3ef1e41688a85a3a9eb17ac63": {
      "model_module": "@jupyter-widgets/base",
      "model_module_version": "1.2.0",
      "model_name": "LayoutModel",
      "state": {
       "_model_module": "@jupyter-widgets/base",
       "_model_module_version": "1.2.0",
       "_model_name": "LayoutModel",
       "_view_count": null,
       "_view_module": "@jupyter-widgets/base",
       "_view_module_version": "1.2.0",
       "_view_name": "LayoutView",
       "align_content": null,
       "align_items": null,
       "align_self": null,
       "border": null,
       "bottom": null,
       "display": null,
       "flex": null,
       "flex_flow": null,
       "grid_area": null,
       "grid_auto_columns": null,
       "grid_auto_flow": null,
       "grid_auto_rows": null,
       "grid_column": null,
       "grid_gap": null,
       "grid_row": null,
       "grid_template_areas": null,
       "grid_template_columns": null,
       "grid_template_rows": null,
       "height": null,
       "justify_content": null,
       "justify_items": null,
       "left": null,
       "margin": null,
       "max_height": null,
       "max_width": null,
       "min_height": null,
       "min_width": null,
       "object_fit": null,
       "object_position": null,
       "order": null,
       "overflow": null,
       "overflow_x": null,
       "overflow_y": null,
       "padding": null,
       "right": null,
       "top": null,
       "visibility": null,
       "width": null
      }
     },
     "3f18a50aa0d64a4bb1bccec59b320f66": {
      "model_module": "@jupyter-widgets/controls",
      "model_module_version": "1.5.0",
      "model_name": "FloatProgressModel",
      "state": {
       "_dom_classes": [],
       "_model_module": "@jupyter-widgets/controls",
       "_model_module_version": "1.5.0",
       "_model_name": "FloatProgressModel",
       "_view_count": null,
       "_view_module": "@jupyter-widgets/controls",
       "_view_module_version": "1.5.0",
       "_view_name": "ProgressView",
       "bar_style": "success",
       "description": "",
       "description_tooltip": null,
       "layout": "IPY_MODEL_a3a77eaf19b44bd9b819439530a85c96",
       "max": 8755,
       "min": 0,
       "orientation": "horizontal",
       "style": "IPY_MODEL_eec497e1e88c4588a10d5f7fa9e47dff",
       "value": 8755
      }
     },
     "4e43d1f023da46968e29c4b0f4901e7d": {
      "model_module": "@jupyter-widgets/controls",
      "model_module_version": "1.5.0",
      "model_name": "FloatProgressModel",
      "state": {
       "_dom_classes": [],
       "_model_module": "@jupyter-widgets/controls",
       "_model_module_version": "1.5.0",
       "_model_name": "FloatProgressModel",
       "_view_count": null,
       "_view_module": "@jupyter-widgets/controls",
       "_view_module_version": "1.5.0",
       "_view_name": "ProgressView",
       "bar_style": "success",
       "description": "",
       "description_tooltip": null,
       "layout": "IPY_MODEL_b5c4ae90402b4a1fb061990d54fe8d4b",
       "max": 241053050,
       "min": 0,
       "orientation": "horizontal",
       "style": "IPY_MODEL_7084844ff5ac499988f3882672495c8f",
       "value": 241053050
      }
     },
     "516724f8fcac4d5da33d1a5a4eba8d09": {
      "model_module": "@jupyter-widgets/controls",
      "model_module_version": "1.5.0",
      "model_name": "DescriptionStyleModel",
      "state": {
       "_model_module": "@jupyter-widgets/controls",
       "_model_module_version": "1.5.0",
       "_model_name": "DescriptionStyleModel",
       "_view_count": null,
       "_view_module": "@jupyter-widgets/base",
       "_view_module_version": "1.2.0",
       "_view_name": "StyleView",
       "description_width": ""
      }
     },
     "572e021260ba4deead9ee9b49e79e969": {
      "model_module": "@jupyter-widgets/controls",
      "model_module_version": "1.5.0",
      "model_name": "HTMLModel",
      "state": {
       "_dom_classes": [],
       "_model_module": "@jupyter-widgets/controls",
       "_model_module_version": "1.5.0",
       "_model_name": "HTMLModel",
       "_view_count": null,
       "_view_module": "@jupyter-widgets/controls",
       "_view_module_version": "1.5.0",
       "_view_name": "HTMLView",
       "description": "",
       "description_tooltip": null,
       "layout": "IPY_MODEL_f1eedf1a76e749ffb7090d2f676e053a",
       "placeholder": "​",
       "style": "IPY_MODEL_2ad675bb78a44472a05d9de8bb2fa630",
       "value": " 8.76k/8.76k [00:00&lt;00:00, 693kB/s]"
      }
     },
     "6405d786b22643379b1c3e7b47e48558": {
      "model_module": "@jupyter-widgets/base",
      "model_module_version": "1.2.0",
      "model_name": "LayoutModel",
      "state": {
       "_model_module": "@jupyter-widgets/base",
       "_model_module_version": "1.2.0",
       "_model_name": "LayoutModel",
       "_view_count": null,
       "_view_module": "@jupyter-widgets/base",
       "_view_module_version": "1.2.0",
       "_view_name": "LayoutView",
       "align_content": null,
       "align_items": null,
       "align_self": null,
       "border": null,
       "bottom": null,
       "display": null,
       "flex": null,
       "flex_flow": null,
       "grid_area": null,
       "grid_auto_columns": null,
       "grid_auto_flow": null,
       "grid_auto_rows": null,
       "grid_column": null,
       "grid_gap": null,
       "grid_row": null,
       "grid_template_areas": null,
       "grid_template_columns": null,
       "grid_template_rows": null,
       "height": null,
       "justify_content": null,
       "justify_items": null,
       "left": null,
       "margin": null,
       "max_height": null,
       "max_width": null,
       "min_height": null,
       "min_width": null,
       "object_fit": null,
       "object_position": null,
       "order": null,
       "overflow": null,
       "overflow_x": null,
       "overflow_y": null,
       "padding": null,
       "right": null,
       "top": null,
       "visibility": null,
       "width": null
      }
     },
     "65938db82f234a6b87230abc371cd43f": {
      "model_module": "@jupyter-widgets/controls",
      "model_module_version": "1.5.0",
      "model_name": "HBoxModel",
      "state": {
       "_dom_classes": [],
       "_model_module": "@jupyter-widgets/controls",
       "_model_module_version": "1.5.0",
       "_model_name": "HBoxModel",
       "_view_count": null,
       "_view_module": "@jupyter-widgets/controls",
       "_view_module_version": "1.5.0",
       "_view_name": "HBoxView",
       "box_style": "",
       "children": [
        "IPY_MODEL_ce8f56733913483ab14c5fe8f715f0a2",
        "IPY_MODEL_3f18a50aa0d64a4bb1bccec59b320f66",
        "IPY_MODEL_572e021260ba4deead9ee9b49e79e969"
       ],
       "layout": "IPY_MODEL_398fd8d3ef1e41688a85a3a9eb17ac63"
      }
     },
     "7084844ff5ac499988f3882672495c8f": {
      "model_module": "@jupyter-widgets/controls",
      "model_module_version": "1.5.0",
      "model_name": "ProgressStyleModel",
      "state": {
       "_model_module": "@jupyter-widgets/controls",
       "_model_module_version": "1.5.0",
       "_model_name": "ProgressStyleModel",
       "_view_count": null,
       "_view_module": "@jupyter-widgets/base",
       "_view_module_version": "1.2.0",
       "_view_name": "StyleView",
       "bar_color": null,
       "description_width": ""
      }
     },
     "7a659b4470474e43a39b4a000335dd1a": {
      "model_module": "@jupyter-widgets/base",
      "model_module_version": "1.2.0",
      "model_name": "LayoutModel",
      "state": {
       "_model_module": "@jupyter-widgets/base",
       "_model_module_version": "1.2.0",
       "_model_name": "LayoutModel",
       "_view_count": null,
       "_view_module": "@jupyter-widgets/base",
       "_view_module_version": "1.2.0",
       "_view_name": "LayoutView",
       "align_content": null,
       "align_items": null,
       "align_self": null,
       "border": null,
       "bottom": null,
       "display": null,
       "flex": null,
       "flex_flow": null,
       "grid_area": null,
       "grid_auto_columns": null,
       "grid_auto_flow": null,
       "grid_auto_rows": null,
       "grid_column": null,
       "grid_gap": null,
       "grid_row": null,
       "grid_template_areas": null,
       "grid_template_columns": null,
       "grid_template_rows": null,
       "height": null,
       "justify_content": null,
       "justify_items": null,
       "left": null,
       "margin": null,
       "max_height": null,
       "max_width": null,
       "min_height": null,
       "min_width": null,
       "object_fit": null,
       "object_position": null,
       "order": null,
       "overflow": null,
       "overflow_x": null,
       "overflow_y": null,
       "padding": null,
       "right": null,
       "top": null,
       "visibility": null,
       "width": null
      }
     },
     "8b32f12ce11d4cefbb5a035bc66cff9b": {
      "model_module": "@jupyter-widgets/controls",
      "model_module_version": "1.5.0",
      "model_name": "DescriptionStyleModel",
      "state": {
       "_model_module": "@jupyter-widgets/controls",
       "_model_module_version": "1.5.0",
       "_model_name": "DescriptionStyleModel",
       "_view_count": null,
       "_view_module": "@jupyter-widgets/base",
       "_view_module_version": "1.2.0",
       "_view_name": "StyleView",
       "description_width": ""
      }
     },
     "a3a77eaf19b44bd9b819439530a85c96": {
      "model_module": "@jupyter-widgets/base",
      "model_module_version": "1.2.0",
      "model_name": "LayoutModel",
      "state": {
       "_model_module": "@jupyter-widgets/base",
       "_model_module_version": "1.2.0",
       "_model_name": "LayoutModel",
       "_view_count": null,
       "_view_module": "@jupyter-widgets/base",
       "_view_module_version": "1.2.0",
       "_view_name": "LayoutView",
       "align_content": null,
       "align_items": null,
       "align_self": null,
       "border": null,
       "bottom": null,
       "display": null,
       "flex": null,
       "flex_flow": null,
       "grid_area": null,
       "grid_auto_columns": null,
       "grid_auto_flow": null,
       "grid_auto_rows": null,
       "grid_column": null,
       "grid_gap": null,
       "grid_row": null,
       "grid_template_areas": null,
       "grid_template_columns": null,
       "grid_template_rows": null,
       "height": null,
       "justify_content": null,
       "justify_items": null,
       "left": null,
       "margin": null,
       "max_height": null,
       "max_width": null,
       "min_height": null,
       "min_width": null,
       "object_fit": null,
       "object_position": null,
       "order": null,
       "overflow": null,
       "overflow_x": null,
       "overflow_y": null,
       "padding": null,
       "right": null,
       "top": null,
       "visibility": null,
       "width": null
      }
     },
     "b5c4ae90402b4a1fb061990d54fe8d4b": {
      "model_module": "@jupyter-widgets/base",
      "model_module_version": "1.2.0",
      "model_name": "LayoutModel",
      "state": {
       "_model_module": "@jupyter-widgets/base",
       "_model_module_version": "1.2.0",
       "_model_name": "LayoutModel",
       "_view_count": null,
       "_view_module": "@jupyter-widgets/base",
       "_view_module_version": "1.2.0",
       "_view_name": "LayoutView",
       "align_content": null,
       "align_items": null,
       "align_self": null,
       "border": null,
       "bottom": null,
       "display": null,
       "flex": null,
       "flex_flow": null,
       "grid_area": null,
       "grid_auto_columns": null,
       "grid_auto_flow": null,
       "grid_auto_rows": null,
       "grid_column": null,
       "grid_gap": null,
       "grid_row": null,
       "grid_template_areas": null,
       "grid_template_columns": null,
       "grid_template_rows": null,
       "height": null,
       "justify_content": null,
       "justify_items": null,
       "left": null,
       "margin": null,
       "max_height": null,
       "max_width": null,
       "min_height": null,
       "min_width": null,
       "object_fit": null,
       "object_position": null,
       "order": null,
       "overflow": null,
       "overflow_x": null,
       "overflow_y": null,
       "padding": null,
       "right": null,
       "top": null,
       "visibility": null,
       "width": null
      }
     },
     "ce8f56733913483ab14c5fe8f715f0a2": {
      "model_module": "@jupyter-widgets/controls",
      "model_module_version": "1.5.0",
      "model_name": "HTMLModel",
      "state": {
       "_dom_classes": [],
       "_model_module": "@jupyter-widgets/controls",
       "_model_module_version": "1.5.0",
       "_model_name": "HTMLModel",
       "_view_count": null,
       "_view_module": "@jupyter-widgets/controls",
       "_view_module_version": "1.5.0",
       "_view_name": "HTMLView",
       "description": "",
       "description_tooltip": null,
       "layout": "IPY_MODEL_19a172682722431eaa9e4291b67fd60c",
       "placeholder": "​",
       "style": "IPY_MODEL_8b32f12ce11d4cefbb5a035bc66cff9b",
       "value": "config.json: 100%"
      }
     },
     "d7b6743af61946b5b82178dc765b81c9": {
      "model_module": "@jupyter-widgets/controls",
      "model_module_version": "1.5.0",
      "model_name": "HTMLModel",
      "state": {
       "_dom_classes": [],
       "_model_module": "@jupyter-widgets/controls",
       "_model_module_version": "1.5.0",
       "_model_name": "HTMLModel",
       "_view_count": null,
       "_view_module": "@jupyter-widgets/controls",
       "_view_module_version": "1.5.0",
       "_view_name": "HTMLView",
       "description": "",
       "description_tooltip": null,
       "layout": "IPY_MODEL_0f317e3358a545198771967c2e839fbc",
       "placeholder": "​",
       "style": "IPY_MODEL_516724f8fcac4d5da33d1a5a4eba8d09",
       "value": "model.safetensors: 100%"
      }
     },
     "eec497e1e88c4588a10d5f7fa9e47dff": {
      "model_module": "@jupyter-widgets/controls",
      "model_module_version": "1.5.0",
      "model_name": "ProgressStyleModel",
      "state": {
       "_model_module": "@jupyter-widgets/controls",
       "_model_module_version": "1.5.0",
       "_model_name": "ProgressStyleModel",
       "_view_count": null,
       "_view_module": "@jupyter-widgets/base",
       "_view_module_version": "1.2.0",
       "_view_name": "StyleView",
       "bar_color": null,
       "description_width": ""
      }
     },
     "f1eedf1a76e749ffb7090d2f676e053a": {
      "model_module": "@jupyter-widgets/base",
      "model_module_version": "1.2.0",
      "model_name": "LayoutModel",
      "state": {
       "_model_module": "@jupyter-widgets/base",
       "_model_module_version": "1.2.0",
       "_model_name": "LayoutModel",
       "_view_count": null,
       "_view_module": "@jupyter-widgets/base",
       "_view_module_version": "1.2.0",
       "_view_name": "LayoutView",
       "align_content": null,
       "align_items": null,
       "align_self": null,
       "border": null,
       "bottom": null,
       "display": null,
       "flex": null,
       "flex_flow": null,
       "grid_area": null,
       "grid_auto_columns": null,
       "grid_auto_flow": null,
       "grid_auto_rows": null,
       "grid_column": null,
       "grid_gap": null,
       "grid_row": null,
       "grid_template_areas": null,
       "grid_template_columns": null,
       "grid_template_rows": null,
       "height": null,
       "justify_content": null,
       "justify_items": null,
       "left": null,
       "margin": null,
       "max_height": null,
       "max_width": null,
       "min_height": null,
       "min_width": null,
       "object_fit": null,
       "object_position": null,
       "order": null,
       "overflow": null,
       "overflow_x": null,
       "overflow_y": null,
       "padding": null,
       "right": null,
       "top": null,
       "visibility": null,
       "width": null
      }
     }
    },
    "version_major": 2,
    "version_minor": 0
   }
  }
 },
 "nbformat": 4,
 "nbformat_minor": 5
}
