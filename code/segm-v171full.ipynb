{
 "cells": [
  {
   "cell_type": "code",
   "execution_count": 1,
   "id": "a6d1a9a0",
   "metadata": {
    "execution": {
     "iopub.execute_input": "2024-02-26T12:32:36.078007Z",
     "iopub.status.busy": "2024-02-26T12:32:36.077701Z",
     "iopub.status.idle": "2024-02-26T12:32:55.875956Z",
     "shell.execute_reply": "2024-02-26T12:32:55.874890Z"
    },
    "papermill": {
     "duration": 19.810531,
     "end_time": "2024-02-26T12:32:55.878530",
     "exception": false,
     "start_time": "2024-02-26T12:32:36.067999",
     "status": "completed"
    },
    "tags": []
   },
   "outputs": [],
   "source": [
    "# !pip install -q segmentation_models_pytorch"
   ]
  },
  {
   "cell_type": "code",
   "execution_count": 2,
   "id": "bb798fc9",
   "metadata": {
    "execution": {
     "iopub.execute_input": "2024-02-26T12:32:55.896420Z",
     "iopub.status.busy": "2024-02-26T12:32:55.896119Z",
     "iopub.status.idle": "2024-02-26T12:33:07.373063Z",
     "shell.execute_reply": "2024-02-26T12:33:07.372275Z"
    },
    "papermill": {
     "duration": 11.488425,
     "end_time": "2024-02-26T12:33:07.375407",
     "exception": false,
     "start_time": "2024-02-26T12:32:55.886982",
     "status": "completed"
    },
    "tags": []
   },
   "outputs": [],
   "source": [
    "import os\n",
    "# os.environ[\"CUDA_VISIBLE_DEVICES\"] = \"0\"\n",
    "\n",
    "import cv2\n",
    "import tifffile\n",
    "import numpy as np\n",
    "import pandas as pd\n",
    "import matplotlib.pyplot as plt\n",
    "import gc\n",
    "import warnings\n",
    "warnings.filterwarnings(\"ignore\")\n",
    "\n",
    "import random\n",
    "import torch\n",
    "import torch.nn as nn\n",
    "import albumentations\n",
    "\n",
    "import segmentation_models_pytorch as smp\n",
    "import skimage\n",
    "\n",
    "\n",
    "from tqdm import tqdm\n",
    "import torch.optim as optim\n",
    "from torch.utils.data import TensorDataset, DataLoader,Dataset\n",
    "from fastprogress import master_bar, progress_bar\n",
    "\n",
    "def create_dir(path):\n",
    "    if os.path.isdir(path)==False:\n",
    "        os.makedirs(path)"
   ]
  },
  {
   "cell_type": "code",
   "execution_count": 1,
   "id": "6fb52011",
   "metadata": {
    "execution": {
     "iopub.execute_input": "2024-02-26T12:33:07.393155Z",
     "iopub.status.busy": "2024-02-26T12:33:07.392844Z",
     "iopub.status.idle": "2024-02-26T12:33:07.398468Z",
     "shell.execute_reply": "2024-02-26T12:33:07.397625Z"
    },
    "papermill": {
     "duration": 0.016426,
     "end_time": "2024-02-26T12:33:07.400349",
     "exception": false,
     "start_time": "2024-02-26T12:33:07.383923",
     "status": "completed"
    },
    "tags": []
   },
   "outputs": [],
   "source": [
    "# # CONFIGURE \n",
    "\n",
    "# # Set Data Paths\n",
    "# test_path='test_satellite/'\n",
    "# train_path='train_satellite/'\n",
    "# labels_path='train_kelp/'\n",
    "\n",
    "\n",
    "# # Create directories\n",
    "# # test_predmask_path='test_kelp/'\n",
    "# # create_dir(test_predmask_path)\n",
    "\n",
    "# # set weights directory for new training saving\n",
    "# weights_path='weights/'\n",
    "# create_dir(weights_path)\n",
    "\n",
    "\n",
    "# RETRAIN= False # if true retrain else use trained weights for inference\n",
    "# trained_weights = 'trained_weights/' # meaningful only when RETRAIN=False\n",
    "\n",
    "\n",
    "# # directory for prediction probabilities \n",
    "# test_preds_dir = 'test_preds/'\n",
    "# create_dir(test_preds_dir)\n",
    "\n",
    "from config import test_path, train_path, labels_path, weights_path, RETRAIN, trained_weights, test_preds_dir\n",
    "\n",
    "# DO NOT EDIT BELOW"
   ]
  },
  {
   "cell_type": "code",
   "execution_count": 2,
   "id": "53eefb71",
   "metadata": {},
   "outputs": [
    {
     "data": {
      "text/plain": [
       "('test_satellite/',\n",
       " 'train_satellite/',\n",
       " 'train_kelp/',\n",
       " 'weights/',\n",
       " False,\n",
       " 'trained_weights/',\n",
       " 'test_preds/')"
      ]
     },
     "execution_count": 2,
     "metadata": {},
     "output_type": "execute_result"
    }
   ],
   "source": [
    "test_path, train_path, labels_path, weights_path, RETRAIN, trained_weights, test_preds_dir"
   ]
  },
  {
   "cell_type": "code",
   "execution_count": 4,
   "id": "fb7d3f8a",
   "metadata": {
    "execution": {
     "iopub.execute_input": "2024-02-26T12:33:07.418020Z",
     "iopub.status.busy": "2024-02-26T12:33:07.417387Z",
     "iopub.status.idle": "2024-02-26T12:33:07.423337Z",
     "shell.execute_reply": "2024-02-26T12:33:07.422505Z"
    },
    "papermill": {
     "duration": 0.016898,
     "end_time": "2024-02-26T12:33:07.425232",
     "exception": false,
     "start_time": "2024-02-26T12:33:07.408334",
     "status": "completed"
    },
    "tags": []
   },
   "outputs": [],
   "source": [
    "basename='segm_v171full'\n",
    "\n",
    "# training schedule variables\n",
    "epochs=35\n",
    "snapshots = 1\n",
    "lr_0 = 0.00005\n",
    "WARMUP_EPOCHS=2\n",
    "\n",
    "# training input variables\n",
    "SIZE=640 # resize image size\n",
    "channels=[0,1,3] # SWIR, NIR, Green\n",
    "meansCH = np.array( [0.485, 0.456, 0.406] )\n",
    "stdsCH = np.array( [0.229, 0.224, 0.225] )\n",
    "stdsCH *= 0.9\n",
    "CLIPMIN=6000\n",
    "CLIPMAX=24000\n",
    "\n",
    "\n",
    "BA=3 # Batch Accumulation\n",
    "num_workers = 4 # \n",
    "bs = 3 # Batch Size\n",
    "\n"
   ]
  },
  {
   "cell_type": "code",
   "execution_count": 5,
   "id": "6a7da693",
   "metadata": {
    "execution": {
     "iopub.execute_input": "2024-02-26T12:33:07.442022Z",
     "iopub.status.busy": "2024-02-26T12:33:07.441776Z",
     "iopub.status.idle": "2024-02-26T12:33:08.189684Z",
     "shell.execute_reply": "2024-02-26T12:33:08.188769Z"
    },
    "papermill": {
     "duration": 0.758654,
     "end_time": "2024-02-26T12:33:08.191732",
     "exception": false,
     "start_time": "2024-02-26T12:33:07.433078",
     "status": "completed"
    },
    "tags": []
   },
   "outputs": [
    {
     "data": {
      "text/plain": [
       "(1426, 5635, 5635, 'FF979226_satellite.tif', 'WG210136_kelp.tif')"
      ]
     },
     "execution_count": 5,
     "metadata": {},
     "output_type": "execute_result"
    }
   ],
   "source": [
    "test_image_names=os.listdir(test_path)\n",
    "train_image_names=os.listdir(train_path)\n",
    "mask_names = os.listdir(labels_path)\n",
    "len(test_image_names),len(train_image_names),len(mask_names),test_image_names[0],mask_names[0]\n",
    "\n"
   ]
  },
  {
   "cell_type": "code",
   "execution_count": 3,
   "id": "78d0b3c4",
   "metadata": {
    "execution": {
     "iopub.execute_input": "2024-02-26T12:33:08.209439Z",
     "iopub.status.busy": "2024-02-26T12:33:08.209132Z",
     "iopub.status.idle": "2024-02-26T12:33:08.236287Z",
     "shell.execute_reply": "2024-02-26T12:33:08.235401Z"
    },
    "papermill": {
     "duration": 0.037976,
     "end_time": "2024-02-26T12:33:08.238186",
     "exception": false,
     "start_time": "2024-02-26T12:33:08.200210",
     "status": "completed"
    },
    "tags": []
   },
   "outputs": [],
   "source": [
    "full_train_img_paths= np.array([train_path+x for x in train_image_names])\n",
    "full_train_msk_paths= np.array([labels_path+x.split('_')[0]+'_kelp.tif' for x in train_image_names])\n",
    "# full_test_img_paths= np.array([test_path+x for x in test_image_names])\n",
    "# test_image_names=np.load('/kaggle/input/needkelp/kafe_test_image_names.npz')['arr_0']\n",
    "full_test_img_paths=np.array([test_path+x for x in test_image_names])\n",
    "len(full_train_img_paths),len(full_train_msk_paths),len(full_test_img_paths),full_train_img_paths[:2],full_test_img_paths[:2]\n"
   ]
  },
  {
   "cell_type": "code",
   "execution_count": null,
   "id": "3721fea6",
   "metadata": {},
   "outputs": [],
   "source": [
    "# vids=np.load('/kaggle/input/needkelp/valid_imids_ph2.npz')['arr_0']\n",
    "# tids=np.load('/kaggle/input/needkelp/train_imids_ph2.npz')['arr_0']\n",
    "# len(tids),len(vids)\n",
    "\n",
    "# train_ids= np.array([train_path+x for x in tids])\n",
    "# val_ids= np.array([train_path+x for x in vids])\n",
    "# train_ids.shape, val_ids.shape\n",
    "\n",
    "# train_ids=np.concatenate((train_ids,val_ids))\n",
    "\n",
    "train_ids=np.array([train_path+x for x in train_image_names])\n",
    "train_ids.shape,train_ids[:3]"
   ]
  },
  {
   "cell_type": "code",
   "execution_count": 7,
   "id": "261b7ef9",
   "metadata": {
    "execution": {
     "iopub.execute_input": "2024-02-26T12:33:08.257422Z",
     "iopub.status.busy": "2024-02-26T12:33:08.256847Z",
     "iopub.status.idle": "2024-02-26T12:33:10.108975Z",
     "shell.execute_reply": "2024-02-26T12:33:10.108203Z"
    },
    "papermill": {
     "duration": 1.863918,
     "end_time": "2024-02-26T12:33:10.111393",
     "exception": false,
     "start_time": "2024-02-26T12:33:08.247475",
     "status": "completed"
    },
    "tags": []
   },
   "outputs": [
    {
     "name": "stderr",
     "output_type": "stream",
     "text": [
      "Downloading: \"https://github.com/qubvel/segmentation_models.pytorch/releases/download/v0.0.2/mit_b2.pth\" to /root/.cache/torch/hub/checkpoints/mit_b2.pth\n",
      "100%|██████████| 94.3M/94.3M [00:00<00:00, 303MB/s]\n"
     ]
    }
   ],
   "source": [
    "ENCODER = 'mit_b2'\n",
    "ENCODER_WEIGHTS = 'imagenet'\n",
    "\n",
    "# preprocessing_fn = smp.encoders.get_preprocessing_fn(ENCODER, ENCODER_WEIGHTS)\n",
    "##\n",
    "## define the model\n",
    "ACTIVATION = 'sigmoid'# None\n",
    "\n",
    "model = smp.Unet(\n",
    "    encoder_name=ENCODER,\n",
    "    encoder_weights=ENCODER_WEIGHTS,\n",
    "    classes=1,\n",
    "    in_channels=3,     \n",
    "    activation=ACTIVATION,\n",
    "    decoder_attention_type='scse'\n",
    ")\n",
    "# torch.save(model.state_dict(), 'weights/Unet_'+ENCODER+'.pt')"
   ]
  },
  {
   "cell_type": "code",
   "execution_count": 8,
   "id": "9792df17",
   "metadata": {
    "execution": {
     "iopub.execute_input": "2024-02-26T12:33:10.130756Z",
     "iopub.status.busy": "2024-02-26T12:33:10.130411Z",
     "iopub.status.idle": "2024-02-26T12:33:10.139371Z",
     "shell.execute_reply": "2024-02-26T12:33:10.138535Z"
    },
    "papermill": {
     "duration": 0.020751,
     "end_time": "2024-02-26T12:33:10.141360",
     "exception": false,
     "start_time": "2024-02-26T12:33:10.120609",
     "status": "completed"
    },
    "tags": []
   },
   "outputs": [],
   "source": [
    "def cosine_anneal_schedule(t):\n",
    "    cos_inner = np.pi * (t % (epochs // snapshots))\n",
    "    cos_inner /= epochs // snapshots\n",
    "    cos_out = np.cos(cos_inner) + 1\n",
    "    return float(lr_0 / 2 * cos_out)\n",
    "cosine_anneal_schedule_list=[cosine_anneal_schedule(x) for x in range(epochs)]\n",
    "# cosine_anneal_schedule_list\n",
    "cosine_anneal_schedule_list=[0.000001]*WARMUP_EPOCHS+cosine_anneal_schedule_list\n",
    "epochs=len(cosine_anneal_schedule_list)\n",
    "def adjust_optim(optimizer, n_iter):\n",
    "#     if n_iter == 1000:\n",
    "#         optimizer.param_groups[0]['betas'] = (0.3, optimizer.param_groups[0]['betas'][1])\n",
    "#     if n_iter > 1000:\n",
    "#         optimizer.param_groups[0]['lr'] *= 0.9999\n",
    "    optimizer.param_groups[0]['lr'] = cosine_anneal_schedule_list[n_iter % epochs]\n",
    "\n",
    "# adjust_optim(optimizer,47)"
   ]
  },
  {
   "cell_type": "code",
   "execution_count": 9,
   "id": "fd8e7e2e",
   "metadata": {
    "execution": {
     "iopub.execute_input": "2024-02-26T12:33:10.160136Z",
     "iopub.status.busy": "2024-02-26T12:33:10.159890Z",
     "iopub.status.idle": "2024-02-26T12:33:10.163556Z",
     "shell.execute_reply": "2024-02-26T12:33:10.162744Z"
    },
    "papermill": {
     "duration": 0.015274,
     "end_time": "2024-02-26T12:33:10.165465",
     "exception": false,
     "start_time": "2024-02-26T12:33:10.150191",
     "status": "completed"
    },
    "tags": []
   },
   "outputs": [],
   "source": [
    "# save_epochs=[epochs,epochs-int(epochs/snapshots)]"
   ]
  },
  {
   "cell_type": "code",
   "execution_count": 10,
   "id": "e7db1ccd",
   "metadata": {
    "execution": {
     "iopub.execute_input": "2024-02-26T12:33:10.184568Z",
     "iopub.status.busy": "2024-02-26T12:33:10.184300Z",
     "iopub.status.idle": "2024-02-26T12:33:10.195648Z",
     "shell.execute_reply": "2024-02-26T12:33:10.194781Z"
    },
    "papermill": {
     "duration": 0.023388,
     "end_time": "2024-02-26T12:33:10.197559",
     "exception": false,
     "start_time": "2024-02-26T12:33:10.174171",
     "status": "completed"
    },
    "tags": []
   },
   "outputs": [],
   "source": [
    "\n",
    "Ms = meansCH.mean()\n",
    "Ss = stdsCH.mean()\n",
    "\n",
    "class KelpDataset_disk(torch.utils.data.Dataset):\n",
    "    \"\"\"Reads in images, transforms pixel values, and serves a\n",
    "    dictionary containing chip ids, image tensors, and\n",
    "    label masks (where available).\n",
    "    \"\"\"\n",
    "\n",
    "    def __init__(self, x_paths,y_paths, transforms=None, preprocessing=None, mode='train'):\n",
    "        self.x_paths = x_paths\n",
    "        self.y_paths = y_paths\n",
    "        # self.ids = ids\n",
    "        self.transforms = transforms\n",
    "        self.preprocessing = preprocessing\n",
    "        self.mode=mode\n",
    "\n",
    "    def __len__(self):\n",
    "        return len(self.x_paths)\n",
    "\n",
    "    def __getitem__(self, idx):\n",
    "        # Loads a 3-channel image from a chip-level dataframe\n",
    "        # x_arr = images[idx].astype('float')\n",
    "        # y_arr = masks[idx]\n",
    "        x_arr=tifffile.imread(self.x_paths[idx]).astype('float32')\n",
    "        t=x_arr.copy()\n",
    "        x_arr=np.clip(x_arr,CLIPMIN,CLIPMAX)\n",
    "        x_arr[t<=-32000]=0\n",
    "        del t\n",
    "\n",
    "        if self.mode=='test':\n",
    "            y_arr=np.zeros((350,350)).astype('uint8')\n",
    "        else:\n",
    "            y_arr=tifffile.imread(self.y_paths[idx])\n",
    "        \n",
    "        y_arr = np.expand_dims(y_arr, -1).astype('float32')\n",
    "        \n",
    "        # print(x_arr.shape,y_arr.shape)\n",
    "        # Apply data augmentations, if provided\n",
    "        if self.transforms:\n",
    "            augmented = self.transforms(image=x_arr, mask=y_arr)\n",
    "            x_arr, y_arr = augmented['image'], augmented['mask']\n",
    "        # x_arr = np.transpose(x_arr, [2, 0, 1])\n",
    "        \n",
    "\n",
    "\n",
    "        # # ****GLOBAL****  Min-max normalization\n",
    "        x_arr = x_arr[...,channels]/CLIPMAX\n",
    "        x_arr = (x_arr - meansCH)/stdsCH\n",
    "        \n",
    "        x_arr = np.transpose(x_arr, [2, 0, 1])\n",
    "        y_arr = np.transpose(y_arr, [2, 0, 1])\n",
    "        \n",
    "        if self.preprocessing:\n",
    "            preprocessed = self.preprocessing(image=x_arr, mask=y_arr)\n",
    "            # preprocessed = self.preprocessing(image=x_arr)\n",
    "            x_arr = preprocessed['image']\n",
    "            y_arr = preprocessed['mask']\n",
    "\n",
    "        \n",
    "        return x_arr.astype('float32'), y_arr.astype('float32')#.astype('uint8')#, not_missing_mask.astype('uint8')"
   ]
  },
  {
   "cell_type": "code",
   "execution_count": null,
   "id": "abda38a9",
   "metadata": {
    "execution": {
     "iopub.execute_input": "2024-02-26T12:33:10.258820Z",
     "iopub.status.busy": "2024-02-26T12:33:10.258564Z",
     "iopub.status.idle": "2024-02-26T12:33:10.271098Z",
     "shell.execute_reply": "2024-02-26T12:33:10.270286Z"
    },
    "papermill": {
     "duration": 0.024483,
     "end_time": "2024-02-26T12:33:10.272914",
     "exception": false,
     "start_time": "2024-02-26T12:33:10.248431",
     "status": "completed"
    },
    "tags": []
   },
   "outputs": [],
   "source": []
  },
  {
   "cell_type": "code",
   "execution_count": 13,
   "id": "ee359cbf",
   "metadata": {
    "execution": {
     "iopub.execute_input": "2024-02-26T12:33:10.292391Z",
     "iopub.status.busy": "2024-02-26T12:33:10.292113Z",
     "iopub.status.idle": "2024-02-26T12:33:10.295742Z",
     "shell.execute_reply": "2024-02-26T12:33:10.295013Z"
    },
    "papermill": {
     "duration": 0.015429,
     "end_time": "2024-02-26T12:33:10.297596",
     "exception": false,
     "start_time": "2024-02-26T12:33:10.282167",
     "status": "completed"
    },
    "tags": []
   },
   "outputs": [],
   "source": [
    "# train_ids=np.array([train_path+x for x in os.listdir(train_path) ])"
   ]
  },
  {
   "cell_type": "code",
   "execution_count": 14,
   "id": "c212c72b",
   "metadata": {
    "execution": {
     "iopub.execute_input": "2024-02-26T12:33:10.316615Z",
     "iopub.status.busy": "2024-02-26T12:33:10.316342Z",
     "iopub.status.idle": "2024-02-26T12:33:10.323649Z",
     "shell.execute_reply": "2024-02-26T12:33:10.322844Z"
    },
    "papermill": {
     "duration": 0.018803,
     "end_time": "2024-02-26T12:33:10.325426",
     "exception": false,
     "start_time": "2024-02-26T12:33:10.306623",
     "status": "completed"
    },
    "tags": []
   },
   "outputs": [],
   "source": [
    "from sklearn.metrics import jaccard_score\n",
    "def get_dice_coef(gt, preds, THRESH=0.5):\n",
    "    #gt shape BxCxHxW\n",
    "    #preds shape BxHxW\n",
    "    dice = np.sum((preds>THRESH)[gt[:,0,...]==1])*2.0 / (np.sum((preds>THRESH)) + np.sum(gt[:,0,...]))\n",
    "    return dice\n",
    "\n",
    "\n",
    "class DiceLoss(nn.Module):\n",
    "    def __init__(self, weight=None, size_average=True):\n",
    "        super(DiceLoss, self).__init__()\n",
    "\n",
    "    def forward(self, inputs, targets, eps=1e-7):\n",
    "        \n",
    "        # #comment out if your model contains a sigmoid or equivalent activation layer\n",
    "        # inputs = F.sigmoid(inputs)       \n",
    "        \n",
    "        #flatten label and prediction tensors\n",
    "        inputs = inputs.view(-1)\n",
    "        targets = targets.view(-1)\n",
    "        \n",
    "        intersection = (inputs * targets).sum()                            \n",
    "        dice = (2.*intersection )/(inputs.sum() + targets.sum() + eps)  \n",
    "        \n",
    "        return 1 - dice\n"
   ]
  },
  {
   "cell_type": "code",
   "execution_count": 15,
   "id": "e65f460d",
   "metadata": {
    "execution": {
     "iopub.execute_input": "2024-02-26T12:33:10.344382Z",
     "iopub.status.busy": "2024-02-26T12:33:10.344144Z",
     "iopub.status.idle": "2024-02-26T12:33:10.349463Z",
     "shell.execute_reply": "2024-02-26T12:33:10.348670Z"
    },
    "papermill": {
     "duration": 0.016888,
     "end_time": "2024-02-26T12:33:10.351365",
     "exception": false,
     "start_time": "2024-02-26T12:33:10.334477",
     "status": "completed"
    },
    "tags": []
   },
   "outputs": [],
   "source": [
    "\n",
    "training_transformations = albumentations.Compose(\n",
    "    [\n",
    "        # albumentations.Resize(SIZE, SIZE),\n",
    "        albumentations.Resize(SIZE, SIZE, interpolation=2),\n",
    "        albumentations.RandomRotate90(),\n",
    "        albumentations.HorizontalFlip(),\n",
    "        albumentations.VerticalFlip(),\n",
    "        # albumentations.RandomBrightnessContrast(p=0.1),\n",
    "    ]\n",
    ")\n",
    "validation_transformations = albumentations.Compose(\n",
    "    [\n",
    "        # albumentations.Resize(SIZE, SIZE,),\n",
    "        albumentations.Resize(SIZE, SIZE, interpolation=2),\n",
    "    ]\n",
    ")"
   ]
  },
  {
   "cell_type": "code",
   "execution_count": 16,
   "id": "a92f0ebf",
   "metadata": {
    "execution": {
     "iopub.execute_input": "2024-02-26T12:33:10.370429Z",
     "iopub.status.busy": "2024-02-26T12:33:10.370190Z",
     "iopub.status.idle": "2024-02-26T12:33:10.375097Z",
     "shell.execute_reply": "2024-02-26T12:33:10.374264Z"
    },
    "papermill": {
     "duration": 0.016706,
     "end_time": "2024-02-26T12:33:10.377012",
     "exception": false,
     "start_time": "2024-02-26T12:33:10.360306",
     "status": "completed"
    },
    "tags": []
   },
   "outputs": [],
   "source": [
    "def adjust_optim(optimizer, n_iter):\n",
    "    optimizer.param_groups[0]['lr'] = cosine_anneal_schedule_list[n_iter % epochs]\n",
    "    optimizer.param_groups[1]['lr'] = cosine_anneal_schedule_list[n_iter % epochs]*10\n",
    "    optimizer.param_groups[2]['lr'] = cosine_anneal_schedule_list[n_iter % epochs]\n",
    "# adjust_optim(optimizer, 10)"
   ]
  },
  {
   "cell_type": "code",
   "execution_count": 17,
   "id": "bd49cc58",
   "metadata": {
    "execution": {
     "iopub.execute_input": "2024-02-26T12:33:10.396305Z",
     "iopub.status.busy": "2024-02-26T12:33:10.396018Z",
     "iopub.status.idle": "2024-02-26T12:33:11.940017Z",
     "shell.execute_reply": "2024-02-26T12:33:11.938901Z"
    },
    "papermill": {
     "duration": 1.556403,
     "end_time": "2024-02-26T12:33:11.942551",
     "exception": false,
     "start_time": "2024-02-26T12:33:10.386148",
     "status": "completed"
    },
    "scrolled": true,
    "tags": []
   },
   "outputs": [],
   "source": [
    "\n",
    "name=ENCODER+'_'+basename\n",
    "model.cuda()\n",
    "\n",
    "if RETRAIN==True:\n",
    "    # optimizer = optim.AdamW(model.parameters(), lr=lr_0)\n",
    "    optimizer=optim.AdamW([\n",
    "                    {'params': model.encoder.parameters()},\n",
    "                    {'params': model.decoder.parameters(), 'lr': lr_0*5},\n",
    "                    {'params': model.segmentation_head.parameters()}\n",
    "                ], lr=lr_0, weight_decay=0.01)\n",
    "\n",
    "\n",
    "    train_dataset = KelpDataset_disk(x_paths=train_ids,\n",
    "                                     y_paths=[x.replace('satellite', 'kelp') for x in train_ids],\n",
    "                                 transforms = training_transformations,\n",
    "                                 # preprocessing=get_preprocessing(preprocessing_fn)\n",
    "                                    )\n",
    "\n",
    "    train_loader = DataLoader(train_dataset, batch_size=bs, shuffle=True, num_workers=num_workers)\n",
    "\n",
    "\n",
    "    criterion1 = DiceLoss()\n",
    "\n",
    "\n",
    "    mb = master_bar(range(epochs))\n",
    "    loss_log=[]\n",
    "    for epoch in mb:\n",
    "\n",
    "        avg_train_loss = 0.\n",
    "        model.train()\n",
    "\n",
    "        pb = progress_bar(train_loader)\n",
    "        for ii, (data, target) in enumerate(pb):\n",
    "\n",
    "            data, target = data.cuda(non_blocking=True), target.cuda(non_blocking=True)\n",
    "\n",
    "\n",
    "            alpha = 1\n",
    "            # optimizer.zero_grad()\n",
    "            output = model(data)\n",
    "\n",
    "            loss = criterion1(output,  target.to(dtype=torch.float))\n",
    "\n",
    "            loss.backward()\n",
    "            if (ii + 1) % BA == 0:            \n",
    "                optimizer.step()\n",
    "                # optimizer.zero_grad()\n",
    "                optimizer.zero_grad(set_to_none=True)  \n",
    "            # optimizer.step()\n",
    "            if ii % 1000 == 0:\n",
    "                loss_log.append(loss.item())\n",
    "            avg_train_loss += loss.item() / len(train_loader)\n",
    "\n",
    "        print('Epoch: {} - Loss: {:.6f}'.format(epoch + 1, avg_train_loss))\n",
    "\n",
    "\n",
    "\n",
    "        adjust_optim(optimizer, (epoch + 1))\n",
    "\n",
    "        gc.collect()\n",
    "    torch.save(model.state_dict(), weights_path+name+'_last.pt')\n",
    "else:\n",
    "    model.load_state_dict(torch.load(  trained_weights+ENCODER+'_'+basename+'_last.pt') )   "
   ]
  },
  {
   "cell_type": "code",
   "execution_count": 18,
   "id": "10aced41",
   "metadata": {
    "execution": {
     "iopub.execute_input": "2024-02-26T12:33:11.966658Z",
     "iopub.status.busy": "2024-02-26T12:33:11.966287Z",
     "iopub.status.idle": "2024-02-26T12:33:11.974757Z",
     "shell.execute_reply": "2024-02-26T12:33:11.973754Z"
    },
    "papermill": {
     "duration": 0.023192,
     "end_time": "2024-02-26T12:33:11.977819",
     "exception": false,
     "start_time": "2024-02-26T12:33:11.954627",
     "status": "completed"
    },
    "tags": []
   },
   "outputs": [
    {
     "name": "stdout",
     "output_type": "stream",
     "text": [
      "model eval\n"
     ]
    }
   ],
   "source": [
    "model.eval()\n",
    "print('model eval')"
   ]
  },
  {
   "cell_type": "code",
   "execution_count": 19,
   "id": "a4c218b7",
   "metadata": {
    "execution": {
     "iopub.execute_input": "2024-02-26T12:33:12.001839Z",
     "iopub.status.busy": "2024-02-26T12:33:12.001520Z",
     "iopub.status.idle": "2024-02-26T12:33:12.007154Z",
     "shell.execute_reply": "2024-02-26T12:33:12.006132Z"
    },
    "papermill": {
     "duration": 0.019854,
     "end_time": "2024-02-26T12:33:12.009560",
     "exception": false,
     "start_time": "2024-02-26T12:33:11.989706",
     "status": "completed"
    },
    "tags": []
   },
   "outputs": [],
   "source": [
    "test_dataset = KelpDataset_disk(x_paths=full_test_img_paths,\n",
    "                                y_paths=None,\n",
    "                             transforms = validation_transformations,\n",
    "                             # preprocessing=get_preprocessing(preprocessing_fn)\n",
    "                                 mode='test'\n",
    "                                )\n",
    "\n",
    "test_loader = DataLoader(test_dataset, batch_size=bs, shuffle=False, num_workers=num_workers)\n"
   ]
  },
  {
   "cell_type": "code",
   "execution_count": 20,
   "id": "b8ad8dbc",
   "metadata": {
    "execution": {
     "iopub.execute_input": "2024-02-26T12:33:12.031957Z",
     "iopub.status.busy": "2024-02-26T12:33:12.031655Z",
     "iopub.status.idle": "2024-02-26T12:36:32.252133Z",
     "shell.execute_reply": "2024-02-26T12:36:32.251166Z"
    },
    "papermill": {
     "duration": 200.234535,
     "end_time": "2024-02-26T12:36:32.254724",
     "exception": false,
     "start_time": "2024-02-26T12:33:12.020189",
     "status": "completed"
    },
    "tags": []
   },
   "outputs": [
    {
     "data": {
      "text/html": [
       "\n",
       "<style>\n",
       "    /* Turns off some styling */\n",
       "    progress {\n",
       "        /* gets rid of default border in Firefox and Opera. */\n",
       "        border: none;\n",
       "        /* Needs to be in here for Safari polyfill so background images work as expected. */\n",
       "        background-size: auto;\n",
       "    }\n",
       "    progress:not([value]), progress:not([value])::-webkit-progress-bar {\n",
       "        background: repeating-linear-gradient(45deg, #7e7e7e, #7e7e7e 10px, #5c5c5c 10px, #5c5c5c 20px);\n",
       "    }\n",
       "    .progress-bar-interrupted, .progress-bar-interrupted::-webkit-progress-bar {\n",
       "        background: #F44336;\n",
       "    }\n",
       "</style>\n"
      ],
      "text/plain": [
       "<IPython.core.display.HTML object>"
      ]
     },
     "metadata": {},
     "output_type": "display_data"
    },
    {
     "data": {
      "text/html": [
       "\n",
       "    <div>\n",
       "      <progress value='476' class='' max='476' style='width:300px; height:20px; vertical-align: middle;'></progress>\n",
       "      100.00% [476/476 03:14&lt;00:00]\n",
       "    </div>\n",
       "    "
      ],
      "text/plain": [
       "<IPython.core.display.HTML object>"
      ]
     },
     "metadata": {},
     "output_type": "display_data"
    }
   ],
   "source": [
    "with torch.no_grad():\n",
    "\n",
    "    test_preds1 =[]\n",
    "    test_preds2 =[]\n",
    "    test_preds3 =[]\n",
    "    test_preds4 =[]\n",
    "\n",
    "\n",
    "    pb = progress_bar(test_loader)\n",
    "    for i, (x_batch, y_batch) in enumerate(pb):\n",
    "\n",
    "        preds1 = model(x_batch.cuda(non_blocking=True)).detach()\n",
    "        preds2 = model(torch.flip(x_batch, dims=[2]).cuda(non_blocking=True)).detach()\n",
    "        preds3 = model(torch.flip(x_batch, dims=[3]).cuda(non_blocking=True)).detach()\n",
    "        preds4 = model(torch.flip(x_batch, dims=[2,3]).cuda(non_blocking=True)).detach()\n",
    "\n",
    "        test_preds1.append(preds1.cpu())\n",
    "        test_preds2.append(preds2.cpu())\n",
    "        test_preds3.append(preds3.cpu())\n",
    "        test_preds4.append(preds4.cpu())\n",
    "    test_preds1=np.vstack(test_preds1)[:,0,...]    \n",
    "    test_preds2=np.vstack(test_preds2)[:,0,...]    \n",
    "    test_preds3=np.vstack(test_preds3)[:,0,...]    \n",
    "    test_preds4=np.vstack(test_preds4)[:,0,...]    \n",
    "\n",
    "    # test_preds=(test_preds1+test_preds2[...,::-1,:]+test_preds3[...,:,::-1])/3\n",
    "    test_preds=(test_preds1+test_preds2[...,::-1,:]+test_preds3[...,:,::-1]+test_preds4[...,::-1,::-1])/4\n",
    "    \n"
   ]
  },
  {
   "cell_type": "code",
   "execution_count": 21,
   "id": "02b32029",
   "metadata": {
    "execution": {
     "iopub.execute_input": "2024-02-26T12:36:32.275722Z",
     "iopub.status.busy": "2024-02-26T12:36:32.275325Z",
     "iopub.status.idle": "2024-02-26T12:37:18.943972Z",
     "shell.execute_reply": "2024-02-26T12:37:18.942843Z"
    },
    "papermill": {
     "duration": 46.682616,
     "end_time": "2024-02-26T12:37:18.947352",
     "exception": false,
     "start_time": "2024-02-26T12:36:32.264736",
     "status": "completed"
    },
    "tags": []
   },
   "outputs": [],
   "source": [
    "np.savez(test_preds_dir+basename[5:], test_preds.astype('float16'))"
   ]
  },
  {
   "cell_type": "code",
   "execution_count": 22,
   "id": "19a8179d",
   "metadata": {
    "execution": {
     "iopub.execute_input": "2024-02-26T12:37:19.021654Z",
     "iopub.status.busy": "2024-02-26T12:37:19.021266Z",
     "iopub.status.idle": "2024-02-26T12:37:19.263602Z",
     "shell.execute_reply": "2024-02-26T12:37:19.262383Z"
    },
    "papermill": {
     "duration": 0.286764,
     "end_time": "2024-02-26T12:37:19.265932",
     "exception": false,
     "start_time": "2024-02-26T12:37:18.979168",
     "status": "completed"
    },
    "tags": []
   },
   "outputs": [
    {
     "data": {
      "image/png": "[encoded data removed]",
      "text/plain": [
       "<Figure size 640x480 with 1 Axes>"
      ]
     },
     "metadata": {},
     "output_type": "display_data"
    }
   ],
   "source": [
    "plt.imshow(test_preds[0]>0.5)\n",
    "plt.show()"
   ]
  },
  {
   "cell_type": "code",
   "execution_count": 4,
   "id": "018fdd90",
   "metadata": {
    "execution": {
     "iopub.execute_input": "2024-02-26T12:37:19.303857Z",
     "iopub.status.busy": "2024-02-26T12:37:19.302955Z",
     "iopub.status.idle": "2024-02-26T12:37:31.799829Z",
     "shell.execute_reply": "2024-02-26T12:37:31.798885Z"
    },
    "papermill": {
     "duration": 12.510617,
     "end_time": "2024-02-26T12:37:31.801959",
     "exception": false,
     "start_time": "2024-02-26T12:37:19.291342",
     "status": "completed"
    },
    "tags": []
   },
   "outputs": [],
   "source": [
    "# test_preds = np.array([skimage.transform.resize(x, (350,350)) for x in test_preds])\n",
    "# test_preds.shape"
   ]
  },
  {
   "cell_type": "code",
   "execution_count": 5,
   "id": "a09a97a0",
   "metadata": {
    "execution": {
     "iopub.execute_input": "2024-02-26T12:37:31.823845Z",
     "iopub.status.busy": "2024-02-26T12:37:31.823089Z",
     "iopub.status.idle": "2024-02-26T12:37:31.965157Z",
     "shell.execute_reply": "2024-02-26T12:37:31.964317Z"
    },
    "papermill": {
     "duration": 0.155476,
     "end_time": "2024-02-26T12:37:31.967422",
     "exception": false,
     "start_time": "2024-02-26T12:37:31.811946",
     "status": "completed"
    },
    "tags": []
   },
   "outputs": [],
   "source": [
    "# THRESH=0.5\n",
    "# test_preds = np.array([(x>THRESH).astype('uint8') for x in test_preds])"
   ]
  },
  {
   "cell_type": "code",
   "execution_count": 6,
   "id": "ad2fefc8",
   "metadata": {
    "execution": {
     "iopub.execute_input": "2024-02-26T12:37:31.988764Z",
     "iopub.status.busy": "2024-02-26T12:37:31.988421Z",
     "iopub.status.idle": "2024-02-26T12:37:33.151329Z",
     "shell.execute_reply": "2024-02-26T12:37:33.150302Z"
    },
    "papermill": {
     "duration": 1.175793,
     "end_time": "2024-02-26T12:37:33.153401",
     "exception": false,
     "start_time": "2024-02-26T12:37:31.977608",
     "status": "completed"
    },
    "tags": []
   },
   "outputs": [],
   "source": [
    "# [cv2.imwrite(test_predmask_path+test_image_names[i].split('_')[0]+'_kelp.tif', test_preds[i])\n",
    "#  for i in range(len(test_preds))]\n",
    "# print('saved in disk')"
   ]
  },
  {
   "cell_type": "code",
   "execution_count": null,
   "id": "612ab23e",
   "metadata": {
    "papermill": {
     "duration": 0.009747,
     "end_time": "2024-02-26T12:37:33.173351",
     "exception": false,
     "start_time": "2024-02-26T12:37:33.163604",
     "status": "completed"
    },
    "tags": []
   },
   "outputs": [],
   "source": []
  },
  {
   "cell_type": "code",
   "execution_count": 7,
   "id": "584222b6",
   "metadata": {
    "execution": {
     "iopub.execute_input": "2024-02-26T12:37:33.194446Z",
     "iopub.status.busy": "2024-02-26T12:37:33.194151Z",
     "iopub.status.idle": "2024-02-26T12:37:34.530471Z",
     "shell.execute_reply": "2024-02-26T12:37:34.529222Z"
    },
    "papermill": {
     "duration": 1.349736,
     "end_time": "2024-02-26T12:37:34.532881",
     "exception": false,
     "start_time": "2024-02-26T12:37:33.183145",
     "status": "completed"
    },
    "tags": []
   },
   "outputs": [],
   "source": [
    "# # Remember to avoid including the inference dir itself\n",
    "# !cd test_kelp && zip -rq subm_v171full.zip *\n"
   ]
  },
  {
   "cell_type": "code",
   "execution_count": 9,
   "id": "24486217",
   "metadata": {
    "execution": {
     "iopub.execute_input": "2024-02-26T12:37:34.554410Z",
     "iopub.status.busy": "2024-02-26T12:37:34.554099Z",
     "iopub.status.idle": "2024-02-26T12:37:35.719246Z",
     "shell.execute_reply": "2024-02-26T12:37:35.718051Z"
    },
    "papermill": {
     "duration": 1.178437,
     "end_time": "2024-02-26T12:37:35.721601",
     "exception": false,
     "start_time": "2024-02-26T12:37:34.543164",
     "status": "completed"
    },
    "tags": []
   },
   "outputs": [],
   "source": [
    "# !du -h subm_v171full.zip\n"
   ]
  },
  {
   "cell_type": "code",
   "execution_count": null,
   "id": "514fa14e",
   "metadata": {},
   "outputs": [],
   "source": []
  }
 ],
 "metadata": {
  "kaggle": {
   "accelerator": "gpu",
   "dataSources": [
    {
     "datasetId": 4497321,
     "sourceId": 7703751,
     "sourceType": "datasetVersion"
    },
    {
     "datasetId": 4275820,
     "sourceId": 7587464,
     "sourceType": "datasetVersion"
    },
    {
     "sourceId": 157416039,
     "sourceType": "kernelVersion"
    }
   ],
   "dockerImageVersionId": 30648,
   "isGpuEnabled": true,
   "isInternetEnabled": true,
   "language": "python",
   "sourceType": "notebook"
  },
  "kernelspec": {
   "display_name": "Python 3",
   "language": "python",
   "name": "python3"
  },
  "language_info": {
   "codemirror_mode": {
    "name": "ipython",
    "version": 3
   },
   "file_extension": ".py",
   "mimetype": "text/x-python",
   "name": "python",
   "nbconvert_exporter": "python",
   "pygments_lexer": "ipython3",
   "version": "3.6.15"
  },
  "papermill": {
   "default_parameters": {},
   "duration": 306.244834,
   "end_time": "2024-02-26T12:37:39.600617",
   "environment_variables": {},
   "exception": null,
   "input_path": "__notebook__.ipynb",
   "output_path": "__notebook__.ipynb",
   "parameters": {},
   "start_time": "2024-02-26T12:32:33.355783",
   "version": "2.5.0"
  }
 },
 "nbformat": 4,
 "nbformat_minor": 5
}
