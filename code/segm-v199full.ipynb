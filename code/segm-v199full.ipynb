{
 "cells": [
  {
   "cell_type": "code",
   "execution_count": 1,
   "id": "995b6ae5",
   "metadata": {
    "execution": {
     "iopub.execute_input": "2024-02-26T14:29:35.468152Z",
     "iopub.status.busy": "2024-02-26T14:29:35.467745Z",
     "iopub.status.idle": "2024-02-26T14:29:55.402720Z",
     "shell.execute_reply": "2024-02-26T14:29:55.401267Z"
    },
    "papermill": {
     "duration": 19.947754,
     "end_time": "2024-02-26T14:29:55.405606",
     "exception": false,
     "start_time": "2024-02-26T14:29:35.457852",
     "status": "completed"
    },
    "tags": []
   },
   "outputs": [],
   "source": [
    "# !pip install -q segmentation_models_pytorch"
   ]
  },
  {
   "cell_type": "code",
   "execution_count": 2,
   "id": "3413d5cc",
   "metadata": {
    "execution": {
     "iopub.execute_input": "2024-02-26T14:29:55.426753Z",
     "iopub.status.busy": "2024-02-26T14:29:55.426060Z",
     "iopub.status.idle": "2024-02-26T14:30:07.861775Z",
     "shell.execute_reply": "2024-02-26T14:30:07.860982Z"
    },
    "papermill": {
     "duration": 12.448388,
     "end_time": "2024-02-26T14:30:07.864072",
     "exception": false,
     "start_time": "2024-02-26T14:29:55.415684",
     "status": "completed"
    },
    "tags": []
   },
   "outputs": [],
   "source": [
    "import os\n",
    "# os.environ[\"CUDA_VISIBLE_DEVICES\"] = \"0\"\n",
    "\n",
    "import cv2\n",
    "import tifffile\n",
    "import numpy as np\n",
    "import pandas as pd\n",
    "import matplotlib.pyplot as plt\n",
    "import gc\n",
    "import warnings\n",
    "warnings.filterwarnings(\"ignore\")\n",
    "\n",
    "import random\n",
    "import torch\n",
    "import torch.nn as nn\n",
    "import albumentations\n",
    "\n",
    "import segmentation_models_pytorch as smp\n",
    "import skimage\n",
    "\n",
    "\n",
    "from tqdm import tqdm\n",
    "import torch.optim as optim\n",
    "from torch.utils.data import TensorDataset, DataLoader,Dataset\n",
    "from fastprogress import master_bar, progress_bar\n",
    "\n",
    "def create_dir(path):\n",
    "    if os.path.isdir(path)==False:\n",
    "        os.makedirs(path)"
   ]
  },
  {
   "cell_type": "code",
   "execution_count": 1,
   "id": "2556f19a",
   "metadata": {
    "execution": {
     "iopub.execute_input": "2024-02-26T14:30:07.881493Z",
     "iopub.status.busy": "2024-02-26T14:30:07.881207Z",
     "iopub.status.idle": "2024-02-26T14:30:07.886695Z",
     "shell.execute_reply": "2024-02-26T14:30:07.885860Z"
    },
    "papermill": {
     "duration": 0.016263,
     "end_time": "2024-02-26T14:30:07.888559",
     "exception": false,
     "start_time": "2024-02-26T14:30:07.872296",
     "status": "completed"
    },
    "tags": []
   },
   "outputs": [],
   "source": [
    "# # CONFIGURE \n",
    "\n",
    "# # Set Data Paths\n",
    "# test_path='test_satellite/'\n",
    "# train_path='train_satellite/'\n",
    "# labels_path='train_kelp/'\n",
    "\n",
    "\n",
    "# # Create directories\n",
    "# # test_predmask_path='test_kelp/'\n",
    "# # create_dir(test_predmask_path)\n",
    "\n",
    "# # set weights directory for new training saving\n",
    "# weights_path='weights/'\n",
    "# create_dir(weights_path)\n",
    "\n",
    "\n",
    "# RETRAIN= False # if true retrain else use trained weights for inference\n",
    "# trained_weights = 'trained_weights/' # meaningful only when RETRAIN=False\n",
    "\n",
    "\n",
    "# # directory for prediction probabilities \n",
    "# test_preds_dir = 'test_preds/'\n",
    "# create_dir(test_preds_dir)\n",
    "\n",
    "from config import test_path, train_path, labels_path, weights_path, RETRAIN, trained_weights, test_preds_dir\n",
    "\n",
    "# DO NOT EDIT BELOW"
   ]
  },
  {
   "cell_type": "code",
   "execution_count": 2,
   "id": "ecf5b0b6",
   "metadata": {},
   "outputs": [
    {
     "data": {
      "text/plain": [
       "('test_satellite/',\n",
       " 'train_satellite/',\n",
       " 'train_kelp/',\n",
       " 'weights/',\n",
       " False,\n",
       " 'trained_weights/',\n",
       " 'test_preds/')"
      ]
     },
     "execution_count": 2,
     "metadata": {},
     "output_type": "execute_result"
    }
   ],
   "source": [
    "test_path, train_path, labels_path, weights_path, RETRAIN, trained_weights, test_preds_dir"
   ]
  },
  {
   "cell_type": "code",
   "execution_count": 4,
   "id": "2e4cb655",
   "metadata": {
    "execution": {
     "iopub.execute_input": "2024-02-26T14:30:07.907168Z",
     "iopub.status.busy": "2024-02-26T14:30:07.906909Z",
     "iopub.status.idle": "2024-02-26T14:30:07.913161Z",
     "shell.execute_reply": "2024-02-26T14:30:07.912115Z"
    },
    "papermill": {
     "duration": 0.018061,
     "end_time": "2024-02-26T14:30:07.915287",
     "exception": false,
     "start_time": "2024-02-26T14:30:07.897226",
     "status": "completed"
    },
    "tags": []
   },
   "outputs": [],
   "source": [
    "basename='segm_v199full'\n",
    "\n",
    "\n",
    "# training schedule variables\n",
    "epochs=30\n",
    "snapshots = 1\n",
    "lr_0 = 0.00005\n",
    "WARMUP_EPOCHS=2\n",
    "\n",
    "# training input variables\n",
    "SIZE=512 # resize image size\n",
    "channels=[0,1,3] # SWIR, NIR, Green\n",
    "meansCH = np.array( [0.485, 0.456, 0.406] )\n",
    "stdsCH = np.array( [0.229, 0.224, 0.225] )\n",
    "stdsCH *= 0.9\n",
    "CLIPMIN=6000\n",
    "CLIPMAX=24000\n",
    "\n",
    "\n",
    "BA=3 # Batch Accumulation\n",
    "num_workers = 4 # \n",
    "bs = 2 # Batch Size"
   ]
  },
  {
   "cell_type": "code",
   "execution_count": 5,
   "id": "e5edf3e6",
   "metadata": {
    "execution": {
     "iopub.execute_input": "2024-02-26T14:30:07.932265Z",
     "iopub.status.busy": "2024-02-26T14:30:07.931679Z",
     "iopub.status.idle": "2024-02-26T14:30:08.558250Z",
     "shell.execute_reply": "2024-02-26T14:30:08.557278Z"
    },
    "papermill": {
     "duration": 0.637207,
     "end_time": "2024-02-26T14:30:08.560345",
     "exception": false,
     "start_time": "2024-02-26T14:30:07.923138",
     "status": "completed"
    },
    "tags": []
   },
   "outputs": [
    {
     "data": {
      "text/plain": [
       "(1426, 5635, 5635, 'FF979226_satellite.tif', 'WG210136_kelp.tif')"
      ]
     },
     "execution_count": 5,
     "metadata": {},
     "output_type": "execute_result"
    }
   ],
   "source": [
    "test_image_names=os.listdir(test_path)\n",
    "train_image_names=os.listdir(train_path)\n",
    "mask_names = os.listdir(labels_path)\n",
    "len(test_image_names),len(train_image_names),len(mask_names),test_image_names[0],mask_names[0]"
   ]
  },
  {
   "cell_type": "code",
   "execution_count": 3,
   "id": "1c8b4952",
   "metadata": {
    "execution": {
     "iopub.execute_input": "2024-02-26T14:30:08.578218Z",
     "iopub.status.busy": "2024-02-26T14:30:08.577908Z",
     "iopub.status.idle": "2024-02-26T14:30:08.617628Z",
     "shell.execute_reply": "2024-02-26T14:30:08.616802Z"
    },
    "papermill": {
     "duration": 0.050966,
     "end_time": "2024-02-26T14:30:08.619565",
     "exception": false,
     "start_time": "2024-02-26T14:30:08.568599",
     "status": "completed"
    },
    "tags": []
   },
   "outputs": [],
   "source": [
    "full_train_img_paths= np.array([train_path+x for x in train_image_names])\n",
    "full_train_msk_paths= np.array([labels_path+x.split('_')[0]+'_kelp.tif' for x in train_image_names])\n",
    "# full_test_img_paths= np.array([test_path+x for x in test_image_names])\n",
    "# test_image_names=np.load('/kaggle/input/needkelp/kafe_test_image_names.npz')['arr_0']\n",
    "full_test_img_paths=np.array([test_path+x for x in test_image_names])\n",
    "len(full_train_img_paths),len(full_train_msk_paths),len(full_test_img_paths),full_train_img_paths[:2],full_test_img_paths[:2]\n"
   ]
  },
  {
   "cell_type": "code",
   "execution_count": null,
   "id": "66bbf4f8",
   "metadata": {},
   "outputs": [],
   "source": [
    "# vids=np.load('/kaggle/input/needkelp/valid_imids_ph2.npz')['arr_0']\n",
    "# tids=np.load('/kaggle/input/needkelp/train_imids_ph2.npz')['arr_0']\n",
    "# len(tids),len(vids)\n",
    "\n",
    "# train_ids= np.array([train_path+x for x in tids])\n",
    "# val_ids= np.array([train_path+x for x in vids])\n",
    "# train_ids.shape, val_ids.shape\n",
    "\n",
    "# train_ids=np.concatenate((train_ids,val_ids))\n",
    "\n",
    "train_ids=np.array([train_path+x for x in train_image_names])\n",
    "train_ids.shape,train_ids[:3]"
   ]
  },
  {
   "cell_type": "code",
   "execution_count": null,
   "id": "48114a88",
   "metadata": {},
   "outputs": [],
   "source": []
  },
  {
   "cell_type": "code",
   "execution_count": 7,
   "id": "9a0ee5d4",
   "metadata": {
    "execution": {
     "iopub.execute_input": "2024-02-26T14:30:08.638636Z",
     "iopub.status.busy": "2024-02-26T14:30:08.638354Z",
     "iopub.status.idle": "2024-02-26T14:30:15.805794Z",
     "shell.execute_reply": "2024-02-26T14:30:15.804623Z"
    },
    "papermill": {
     "duration": 7.179241,
     "end_time": "2024-02-26T14:30:15.808161",
     "exception": false,
     "start_time": "2024-02-26T14:30:08.628920",
     "status": "completed"
    },
    "tags": []
   },
   "outputs": [
    {
     "name": "stderr",
     "output_type": "stream",
     "text": [
      "Downloading: \"https://github.com/qubvel/segmentation_models.pytorch/releases/download/v0.0.2/mit_b4.pth\" to /root/.cache/torch/hub/checkpoints/mit_b4.pth\n",
      "100%|██████████| 234M/234M [00:03<00:00, 65.1MB/s]\n"
     ]
    }
   ],
   "source": [
    "ENCODER = 'mit_b4'\n",
    "ENCODER_WEIGHTS = 'imagenet'\n",
    "\n",
    "# preprocessing_fn = smp.encoders.get_preprocessing_fn(ENCODER, ENCODER_WEIGHTS)\n",
    "##\n",
    "## define the model\n",
    "ACTIVATION = 'sigmoid'# None\n",
    "\n",
    "model = smp.Unet(\n",
    "    encoder_name=ENCODER,\n",
    "    encoder_weights=ENCODER_WEIGHTS,\n",
    "    classes=1,\n",
    "    in_channels=3,     \n",
    "    activation=ACTIVATION,\n",
    "    decoder_attention_type='scse'\n",
    ")\n",
    "# torch.save(model.state_dict(), 'weights/Unet_'+ENCODER+'.pt')"
   ]
  },
  {
   "cell_type": "code",
   "execution_count": 8,
   "id": "907da03e",
   "metadata": {
    "execution": {
     "iopub.execute_input": "2024-02-26T14:30:15.832597Z",
     "iopub.status.busy": "2024-02-26T14:30:15.831761Z",
     "iopub.status.idle": "2024-02-26T14:30:15.840734Z",
     "shell.execute_reply": "2024-02-26T14:30:15.839870Z"
    },
    "papermill": {
     "duration": 0.022917,
     "end_time": "2024-02-26T14:30:15.842644",
     "exception": false,
     "start_time": "2024-02-26T14:30:15.819727",
     "status": "completed"
    },
    "tags": []
   },
   "outputs": [],
   "source": [
    "def cosine_anneal_schedule(t):\n",
    "    cos_inner = np.pi * (t % (epochs // snapshots))\n",
    "    cos_inner /= epochs // snapshots\n",
    "    cos_out = np.cos(cos_inner) + 1\n",
    "    return float(lr_0 / 2 * cos_out)\n",
    "cosine_anneal_schedule_list=[cosine_anneal_schedule(x) for x in range(epochs)]\n",
    "# cosine_anneal_schedule_list\n",
    "cosine_anneal_schedule_list=[0.000001]*WARMUP_EPOCHS+cosine_anneal_schedule_list\n",
    "epochs=len(cosine_anneal_schedule_list)\n",
    "def adjust_optim(optimizer, n_iter):\n",
    "    optimizer.param_groups[0]['lr'] = cosine_anneal_schedule_list[n_iter % epochs]\n",
    "\n"
   ]
  },
  {
   "cell_type": "code",
   "execution_count": 9,
   "id": "c937b2c6",
   "metadata": {
    "execution": {
     "iopub.execute_input": "2024-02-26T14:30:15.866213Z",
     "iopub.status.busy": "2024-02-26T14:30:15.865929Z",
     "iopub.status.idle": "2024-02-26T14:30:15.877791Z",
     "shell.execute_reply": "2024-02-26T14:30:15.876952Z"
    },
    "papermill": {
     "duration": 0.025914,
     "end_time": "2024-02-26T14:30:15.879648",
     "exception": false,
     "start_time": "2024-02-26T14:30:15.853734",
     "status": "completed"
    },
    "tags": []
   },
   "outputs": [],
   "source": [
    "\n",
    "Ms = meansCH.mean()\n",
    "Ss = stdsCH.mean()\n",
    "\n",
    "class KelpDataset_disk(torch.utils.data.Dataset):\n",
    "    \"\"\"Reads in images, transforms pixel values, and serves a\n",
    "    dictionary containing chip ids, image tensors, and\n",
    "    label masks (where available).\n",
    "    \"\"\"\n",
    "\n",
    "    def __init__(self, x_paths,y_paths, transforms=None, preprocessing=None, mode='train'):\n",
    "        self.x_paths = x_paths\n",
    "        self.y_paths = y_paths\n",
    "        # self.ids = ids\n",
    "        self.transforms = transforms\n",
    "        self.preprocessing = preprocessing\n",
    "        self.mode=mode\n",
    "\n",
    "    def __len__(self):\n",
    "        return len(self.x_paths)\n",
    "\n",
    "    def __getitem__(self, idx):\n",
    "        # Loads a 3-channel image from a chip-level dataframe\n",
    "        x_arr=tifffile.imread(self.x_paths[idx]).astype('float32')\n",
    "        t=x_arr.copy()\n",
    "        x_arr=np.clip(x_arr,CLIPMIN,CLIPMAX)\n",
    "        x_arr[t<=-32000]=0\n",
    "        del t\n",
    "\n",
    "        if self.mode=='test':\n",
    "            y_arr=np.zeros((350,350)).astype('uint8')\n",
    "        else:\n",
    "            y_arr=tifffile.imread(self.y_paths[idx])\n",
    "        \n",
    "        y_arr = np.expand_dims(y_arr, -1)\n",
    "        \n",
    "        # print(x_arr.shape,y_arr.shape)\n",
    "        # Apply data augmentations, if provided\n",
    "        if self.transforms:\n",
    "            augmented = self.transforms(image=x_arr, mask=y_arr)\n",
    "            x_arr, y_arr = augmented['image'], augmented['mask']\n",
    "        # x_arr = np.transpose(x_arr, [2, 0, 1])\n",
    "        \n",
    "\n",
    "\n",
    "        # # ****GLOBAL****  Min-max normalization\n",
    "        x_arr = x_arr[...,channels]/CLIPMAX\n",
    "        x_arr = (x_arr - meansCH)/stdsCH\n",
    "        \n",
    "        x_arr = np.transpose(x_arr, [2, 0, 1])\n",
    "        y_arr = np.transpose(y_arr, [2, 0, 1])\n",
    "        \n",
    "        if self.preprocessing:\n",
    "            preprocessed = self.preprocessing(image=x_arr, mask=y_arr)\n",
    "            x_arr = preprocessed['image']\n",
    "            y_arr = preprocessed['mask']\n",
    "\n",
    "        return x_arr.astype('float32'), y_arr.astype('uint8')#, not_missing_mask.astype('uint8')"
   ]
  },
  {
   "cell_type": "code",
   "execution_count": 4,
   "id": "31220509",
   "metadata": {
    "execution": {
     "iopub.execute_input": "2024-02-26T14:30:15.955182Z",
     "iopub.status.busy": "2024-02-26T14:30:15.954901Z",
     "iopub.status.idle": "2024-02-26T14:30:15.968073Z",
     "shell.execute_reply": "2024-02-26T14:30:15.967230Z"
    },
    "papermill": {
     "duration": 0.02717,
     "end_time": "2024-02-26T14:30:15.969878",
     "exception": false,
     "start_time": "2024-02-26T14:30:15.942708",
     "status": "completed"
    },
    "tags": []
   },
   "outputs": [],
   "source": []
  },
  {
   "cell_type": "code",
   "execution_count": 12,
   "id": "4064e27b",
   "metadata": {
    "execution": {
     "iopub.execute_input": "2024-02-26T14:30:15.993937Z",
     "iopub.status.busy": "2024-02-26T14:30:15.993653Z",
     "iopub.status.idle": "2024-02-26T14:30:15.997164Z",
     "shell.execute_reply": "2024-02-26T14:30:15.996415Z"
    },
    "papermill": {
     "duration": 0.017536,
     "end_time": "2024-02-26T14:30:15.999055",
     "exception": false,
     "start_time": "2024-02-26T14:30:15.981519",
     "status": "completed"
    },
    "tags": []
   },
   "outputs": [],
   "source": [
    "# train_ids=np.array([train_path+x for x in os.listdir(train_path) ])"
   ]
  },
  {
   "cell_type": "code",
   "execution_count": 13,
   "id": "6e3ecdfd",
   "metadata": {
    "execution": {
     "iopub.execute_input": "2024-02-26T14:30:16.023706Z",
     "iopub.status.busy": "2024-02-26T14:30:16.023415Z",
     "iopub.status.idle": "2024-02-26T14:30:16.031984Z",
     "shell.execute_reply": "2024-02-26T14:30:16.031306Z"
    },
    "papermill": {
     "duration": 0.023406,
     "end_time": "2024-02-26T14:30:16.033965",
     "exception": false,
     "start_time": "2024-02-26T14:30:16.010559",
     "status": "completed"
    },
    "tags": []
   },
   "outputs": [],
   "source": [
    "from sklearn.metrics import jaccard_score\n",
    "def get_dice_coef(gt, preds, THRESH=0.5):\n",
    "    #gt shape BxCxHxW\n",
    "    #preds shape BxHxW\n",
    "    dice = np.sum((preds>THRESH)[gt[:,0,...]==1])*2.0 / (np.sum((preds>THRESH)) + np.sum(gt[:,0,...]))\n",
    "    return dice\n",
    "\n",
    "\n",
    "class DiceLoss(nn.Module):\n",
    "    def __init__(self, weight=None, size_average=True):\n",
    "        super(DiceLoss, self).__init__()\n",
    "\n",
    "    def forward(self, inputs, targets, eps=1e-7):\n",
    "        \n",
    "        # #comment out if your model contains a sigmoid or equivalent activation layer\n",
    "        # inputs = F.sigmoid(inputs)       \n",
    "        \n",
    "        #flatten label and prediction tensors\n",
    "        inputs = inputs.view(-1)\n",
    "        targets = targets.view(-1)\n",
    "        \n",
    "        intersection = (inputs * targets).sum()                            \n",
    "        dice = (2.*intersection )/(inputs.sum() + targets.sum() + eps)  \n",
    "        \n",
    "        return 1 - dice\n",
    "\n"
   ]
  },
  {
   "cell_type": "code",
   "execution_count": null,
   "id": "6681c04d",
   "metadata": {
    "papermill": {
     "duration": 0.011289,
     "end_time": "2024-02-26T14:30:16.056616",
     "exception": false,
     "start_time": "2024-02-26T14:30:16.045327",
     "status": "completed"
    },
    "tags": []
   },
   "outputs": [],
   "source": []
  },
  {
   "cell_type": "code",
   "execution_count": 14,
   "id": "7c923591",
   "metadata": {
    "execution": {
     "iopub.execute_input": "2024-02-26T14:30:16.080225Z",
     "iopub.status.busy": "2024-02-26T14:30:16.079969Z",
     "iopub.status.idle": "2024-02-26T14:30:16.085381Z",
     "shell.execute_reply": "2024-02-26T14:30:16.084558Z"
    },
    "papermill": {
     "duration": 0.019269,
     "end_time": "2024-02-26T14:30:16.087231",
     "exception": false,
     "start_time": "2024-02-26T14:30:16.067962",
     "status": "completed"
    },
    "tags": []
   },
   "outputs": [],
   "source": [
    "\n",
    "training_transformations = albumentations.Compose(\n",
    "    [\n",
    "        # albumentations.Resize(SIZE, SIZE),\n",
    "        albumentations.Resize(SIZE, SIZE, interpolation=2),\n",
    "        albumentations.RandomRotate90(),\n",
    "        albumentations.HorizontalFlip(),\n",
    "        albumentations.VerticalFlip(),\n",
    "        # albumentations.RandomBrightnessContrast(p=0.1),\n",
    "    ]\n",
    ")\n",
    "validation_transformations = albumentations.Compose(\n",
    "    [\n",
    "        # albumentations.Resize(SIZE, SIZE,),\n",
    "        albumentations.Resize(SIZE, SIZE, interpolation=2),\n",
    "    ]\n",
    ")"
   ]
  },
  {
   "cell_type": "code",
   "execution_count": 15,
   "id": "f66261cf",
   "metadata": {
    "execution": {
     "iopub.execute_input": "2024-02-26T14:30:16.111409Z",
     "iopub.status.busy": "2024-02-26T14:30:16.111156Z",
     "iopub.status.idle": "2024-02-26T14:30:16.115877Z",
     "shell.execute_reply": "2024-02-26T14:30:16.115056Z"
    },
    "papermill": {
     "duration": 0.018878,
     "end_time": "2024-02-26T14:30:16.117688",
     "exception": false,
     "start_time": "2024-02-26T14:30:16.098810",
     "status": "completed"
    },
    "tags": []
   },
   "outputs": [],
   "source": [
    "def adjust_optim(optimizer, n_iter):\n",
    "    optimizer.param_groups[0]['lr'] = cosine_anneal_schedule_list[n_iter % epochs]\n",
    "    optimizer.param_groups[1]['lr'] = cosine_anneal_schedule_list[n_iter % epochs]*10\n",
    "    optimizer.param_groups[2]['lr'] = cosine_anneal_schedule_list[n_iter % epochs]\n",
    "# adjust_optim(optimizer, 10)"
   ]
  },
  {
   "cell_type": "code",
   "execution_count": 16,
   "id": "f2c5a36e",
   "metadata": {
    "execution": {
     "iopub.execute_input": "2024-02-26T14:30:16.141656Z",
     "iopub.status.busy": "2024-02-26T14:30:16.141398Z",
     "iopub.status.idle": "2024-02-26T14:30:19.329825Z",
     "shell.execute_reply": "2024-02-26T14:30:19.329024Z"
    },
    "papermill": {
     "duration": 3.203169,
     "end_time": "2024-02-26T14:30:19.332216",
     "exception": false,
     "start_time": "2024-02-26T14:30:16.129047",
     "status": "completed"
    },
    "scrolled": true,
    "tags": []
   },
   "outputs": [],
   "source": [
    "\n",
    "name=ENCODER+'_'+basename\n",
    "model.cuda()\n",
    "\n",
    "if RETRAIN==True:\n",
    "    optimizer=optim.AdamW([\n",
    "                    {'params': model.encoder.parameters()},\n",
    "                    {'params': model.decoder.parameters(), 'lr': lr_0*5},\n",
    "                    {'params': model.segmentation_head.parameters()}\n",
    "                ], lr=lr_0, weight_decay=0.01)\n",
    "\n",
    "    train_dataset = KelpDataset_disk(x_paths=train_ids,\n",
    "                                     y_paths=[x.replace('satellite', 'kelp') for x in train_ids],\n",
    "                                 transforms = training_transformations,\n",
    "                                 # preprocessing=get_preprocessing(preprocessing_fn)\n",
    "                                    )\n",
    "\n",
    "    train_loader = DataLoader(train_dataset, batch_size=bs, shuffle=True, num_workers=num_workers)\n",
    "\n",
    "    criterion1 = DiceLoss()\n",
    "\n",
    "\n",
    "    mb = master_bar(range(epochs))\n",
    "    loss_log=[]\n",
    "    for epoch in mb:\n",
    "\n",
    "        avg_train_loss = 0.\n",
    "        model.train()\n",
    "\n",
    "\n",
    "        pb = progress_bar(train_loader)\n",
    "        for ii, (data, target) in enumerate(pb):\n",
    "\n",
    "            data, target = data.cuda(non_blocking=True), target.cuda(non_blocking=True)\n",
    "\n",
    "            output = model(data)\n",
    "            loss = criterion1(output,  target.to(dtype=torch.float))\n",
    "            loss.backward()\n",
    "            if (ii + 1) % BA == 0:            \n",
    "                optimizer.step()\n",
    "                optimizer.zero_grad()\n",
    "            # optimizer.step()\n",
    "            if ii % 1000 == 0:\n",
    "                loss_log.append(loss.item())\n",
    "            avg_train_loss += loss.item() / len(train_loader)\n",
    "\n",
    "        print('Epoch: {} - Loss: {:.6f}'.format(epoch + 1, avg_train_loss))\n",
    "\n",
    "\n",
    "        adjust_optim(optimizer, (epoch + 1))\n",
    "\n",
    "        gc.collect()\n",
    "    torch.save(model.state_dict(), weights_path+name+'_last.pt')\n",
    "else:\n",
    "    model.load_state_dict(torch.load(  trained_weights+ENCODER+'_'+basename+'_last.pt') ) "
   ]
  },
  {
   "cell_type": "code",
   "execution_count": 17,
   "id": "9d78de57",
   "metadata": {
    "execution": {
     "iopub.execute_input": "2024-02-26T14:30:19.356963Z",
     "iopub.status.busy": "2024-02-26T14:30:19.356653Z",
     "iopub.status.idle": "2024-02-26T14:30:19.367048Z",
     "shell.execute_reply": "2024-02-26T14:30:19.366190Z"
    },
    "papermill": {
     "duration": 0.024707,
     "end_time": "2024-02-26T14:30:19.368981",
     "exception": false,
     "start_time": "2024-02-26T14:30:19.344274",
     "status": "completed"
    },
    "tags": []
   },
   "outputs": [
    {
     "name": "stdout",
     "output_type": "stream",
     "text": [
      "model eval\n"
     ]
    }
   ],
   "source": [
    "model.eval()\n",
    "print('model eval')"
   ]
  },
  {
   "cell_type": "code",
   "execution_count": 18,
   "id": "5758cd87",
   "metadata": {
    "execution": {
     "iopub.execute_input": "2024-02-26T14:30:19.394271Z",
     "iopub.status.busy": "2024-02-26T14:30:19.392744Z",
     "iopub.status.idle": "2024-02-26T14:30:19.398442Z",
     "shell.execute_reply": "2024-02-26T14:30:19.397614Z"
    },
    "papermill": {
     "duration": 0.019783,
     "end_time": "2024-02-26T14:30:19.400410",
     "exception": false,
     "start_time": "2024-02-26T14:30:19.380627",
     "status": "completed"
    },
    "tags": []
   },
   "outputs": [],
   "source": [
    "test_dataset = KelpDataset_disk(x_paths=full_test_img_paths,\n",
    "                                y_paths=None,\n",
    "                             transforms = validation_transformations,\n",
    "                             # preprocessing=get_preprocessing(preprocessing_fn)\n",
    "                                 mode='test'\n",
    "                                )\n",
    "\n",
    "test_loader = DataLoader(test_dataset, batch_size=bs, shuffle=False, num_workers=num_workers)\n"
   ]
  },
  {
   "cell_type": "code",
   "execution_count": 19,
   "id": "995561ad",
   "metadata": {
    "execution": {
     "iopub.execute_input": "2024-02-26T14:30:19.424868Z",
     "iopub.status.busy": "2024-02-26T14:30:19.423897Z",
     "iopub.status.idle": "2024-02-26T14:34:23.771594Z",
     "shell.execute_reply": "2024-02-26T14:34:23.770598Z"
    },
    "papermill": {
     "duration": 244.362175,
     "end_time": "2024-02-26T14:34:23.773914",
     "exception": false,
     "start_time": "2024-02-26T14:30:19.411739",
     "status": "completed"
    },
    "tags": []
   },
   "outputs": [
    {
     "data": {
      "text/html": [
       "\n",
       "<style>\n",
       "    /* Turns off some styling */\n",
       "    progress {\n",
       "        /* gets rid of default border in Firefox and Opera. */\n",
       "        border: none;\n",
       "        /* Needs to be in here for Safari polyfill so background images work as expected. */\n",
       "        background-size: auto;\n",
       "    }\n",
       "    progress:not([value]), progress:not([value])::-webkit-progress-bar {\n",
       "        background: repeating-linear-gradient(45deg, #7e7e7e, #7e7e7e 10px, #5c5c5c 10px, #5c5c5c 20px);\n",
       "    }\n",
       "    .progress-bar-interrupted, .progress-bar-interrupted::-webkit-progress-bar {\n",
       "        background: #F44336;\n",
       "    }\n",
       "</style>\n"
      ],
      "text/plain": [
       "<IPython.core.display.HTML object>"
      ]
     },
     "metadata": {},
     "output_type": "display_data"
    },
    {
     "data": {
      "text/html": [
       "\n",
       "    <div>\n",
       "      <progress value='713' class='' max='713' style='width:300px; height:20px; vertical-align: middle;'></progress>\n",
       "      100.00% [713/713 04:01&lt;00:00]\n",
       "    </div>\n",
       "    "
      ],
      "text/plain": [
       "<IPython.core.display.HTML object>"
      ]
     },
     "metadata": {},
     "output_type": "display_data"
    }
   ],
   "source": [
    "with torch.no_grad():\n",
    "\n",
    "    test_preds1 =[]\n",
    "    test_preds2 =[]\n",
    "    test_preds3 =[]\n",
    "    test_preds4 =[]\n",
    "\n",
    "\n",
    "    pb = progress_bar(test_loader)\n",
    "    for i, (x_batch, y_batch) in enumerate(pb):\n",
    "\n",
    "        preds1 = model(x_batch.cuda(non_blocking=True)).detach()\n",
    "        preds2 = model(torch.flip(x_batch, dims=[2]).cuda(non_blocking=True)).detach()\n",
    "        preds3 = model(torch.flip(x_batch, dims=[3]).cuda(non_blocking=True)).detach()\n",
    "        preds4 = model(torch.flip(x_batch, dims=[2,3]).cuda(non_blocking=True)).detach()\n",
    "\n",
    "        test_preds1.append(preds1.cpu())\n",
    "        test_preds2.append(preds2.cpu())\n",
    "        test_preds3.append(preds3.cpu())\n",
    "        test_preds4.append(preds4.cpu())\n",
    "    test_preds1=np.vstack(test_preds1)[:,0,...]    \n",
    "    test_preds2=np.vstack(test_preds2)[:,0,...]    \n",
    "    test_preds3=np.vstack(test_preds3)[:,0,...]    \n",
    "    test_preds4=np.vstack(test_preds4)[:,0,...]    \n",
    "\n",
    "    # test_preds=(test_preds1+test_preds2[...,::-1,:]+test_preds3[...,:,::-1])/3\n",
    "    test_preds=(test_preds1+test_preds2[...,::-1,:]+test_preds3[...,:,::-1]+test_preds4[...,::-1,::-1])/4\n",
    "    "
   ]
  },
  {
   "cell_type": "code",
   "execution_count": 20,
   "id": "e2cb8c5e",
   "metadata": {
    "execution": {
     "iopub.execute_input": "2024-02-26T14:34:23.799357Z",
     "iopub.status.busy": "2024-02-26T14:34:23.799052Z",
     "iopub.status.idle": "2024-02-26T14:34:53.189222Z",
     "shell.execute_reply": "2024-02-26T14:34:53.188394Z"
    },
    "papermill": {
     "duration": 29.405193,
     "end_time": "2024-02-26T14:34:53.191406",
     "exception": false,
     "start_time": "2024-02-26T14:34:23.786213",
     "status": "completed"
    },
    "tags": []
   },
   "outputs": [],
   "source": [
    "np.savez(test_preds_dir+basename[5:], test_preds.astype('float16'))"
   ]
  },
  {
   "cell_type": "code",
   "execution_count": 21,
   "id": "268c59df",
   "metadata": {
    "execution": {
     "iopub.execute_input": "2024-02-26T14:34:53.217141Z",
     "iopub.status.busy": "2024-02-26T14:34:53.216595Z",
     "iopub.status.idle": "2024-02-26T14:34:53.412455Z",
     "shell.execute_reply": "2024-02-26T14:34:53.411538Z"
    },
    "papermill": {
     "duration": 0.210711,
     "end_time": "2024-02-26T14:34:53.414375",
     "exception": false,
     "start_time": "2024-02-26T14:34:53.203664",
     "status": "completed"
    },
    "tags": []
   },
   "outputs": [
    {
     "data": {
      "image/png": "[encoded data removed]",
      "text/plain": [
       "<Figure size 640x480 with 1 Axes>"
      ]
     },
     "metadata": {},
     "output_type": "display_data"
    }
   ],
   "source": [
    "plt.imshow(test_preds[0]>0.5)\n",
    "plt.show()"
   ]
  },
  {
   "cell_type": "code",
   "execution_count": 5,
   "id": "963e4a5a",
   "metadata": {
    "execution": {
     "iopub.execute_input": "2024-02-26T14:34:53.440032Z",
     "iopub.status.busy": "2024-02-26T14:34:53.439448Z",
     "iopub.status.idle": "2024-02-26T14:35:03.076513Z",
     "shell.execute_reply": "2024-02-26T14:35:03.075478Z"
    },
    "papermill": {
     "duration": 9.651954,
     "end_time": "2024-02-26T14:35:03.078551",
     "exception": false,
     "start_time": "2024-02-26T14:34:53.426597",
     "status": "completed"
    },
    "tags": []
   },
   "outputs": [],
   "source": [
    "# test_preds = np.array([skimage.transform.resize(x, (350,350)) for x in test_preds])\n",
    "# test_preds.shape"
   ]
  },
  {
   "cell_type": "code",
   "execution_count": 6,
   "id": "d10aed8d",
   "metadata": {
    "execution": {
     "iopub.execute_input": "2024-02-26T14:35:03.105933Z",
     "iopub.status.busy": "2024-02-26T14:35:03.105164Z",
     "iopub.status.idle": "2024-02-26T14:35:03.232279Z",
     "shell.execute_reply": "2024-02-26T14:35:03.231499Z"
    },
    "papermill": {
     "duration": 0.142983,
     "end_time": "2024-02-26T14:35:03.234534",
     "exception": false,
     "start_time": "2024-02-26T14:35:03.091551",
     "status": "completed"
    },
    "tags": []
   },
   "outputs": [],
   "source": [
    "# THRESH=0.5\n",
    "# test_preds = np.array([(x>THRESH).astype('uint8') for x in test_preds])"
   ]
  },
  {
   "cell_type": "code",
   "execution_count": 7,
   "id": "38447b71",
   "metadata": {
    "execution": {
     "iopub.execute_input": "2024-02-26T14:35:03.260522Z",
     "iopub.status.busy": "2024-02-26T14:35:03.260259Z",
     "iopub.status.idle": "2024-02-26T14:35:04.391676Z",
     "shell.execute_reply": "2024-02-26T14:35:04.390692Z"
    },
    "papermill": {
     "duration": 1.146614,
     "end_time": "2024-02-26T14:35:04.393767",
     "exception": false,
     "start_time": "2024-02-26T14:35:03.247153",
     "status": "completed"
    },
    "tags": []
   },
   "outputs": [],
   "source": [
    "# [cv2.imwrite(test_predmask_path+test_image_names[i].split('_')[0]+'_kelp.tif', test_preds[i])\n",
    "#  for i in range(len(test_preds))]\n",
    "# print('saved in disk')"
   ]
  },
  {
   "cell_type": "code",
   "execution_count": null,
   "id": "e661ff06",
   "metadata": {
    "papermill": {
     "duration": 0.012043,
     "end_time": "2024-02-26T14:35:04.418397",
     "exception": false,
     "start_time": "2024-02-26T14:35:04.406354",
     "status": "completed"
    },
    "tags": []
   },
   "outputs": [],
   "source": []
  },
  {
   "cell_type": "code",
   "execution_count": 8,
   "id": "ba77805c",
   "metadata": {
    "execution": {
     "iopub.execute_input": "2024-02-26T14:35:04.443825Z",
     "iopub.status.busy": "2024-02-26T14:35:04.443552Z",
     "iopub.status.idle": "2024-02-26T14:35:05.678669Z",
     "shell.execute_reply": "2024-02-26T14:35:05.677541Z"
    },
    "papermill": {
     "duration": 1.250494,
     "end_time": "2024-02-26T14:35:05.681007",
     "exception": false,
     "start_time": "2024-02-26T14:35:04.430513",
     "status": "completed"
    },
    "tags": []
   },
   "outputs": [],
   "source": [
    "# # Remember to avoid including the inference dir itself\n",
    "# !cd test_kelp && zip -rq subm_v199full.zip *"
   ]
  },
  {
   "cell_type": "code",
   "execution_count": 9,
   "id": "3c20547f",
   "metadata": {
    "execution": {
     "iopub.execute_input": "2024-02-26T14:35:05.707120Z",
     "iopub.status.busy": "2024-02-26T14:35:05.706810Z",
     "iopub.status.idle": "2024-02-26T14:35:06.825559Z",
     "shell.execute_reply": "2024-02-26T14:35:06.824521Z"
    },
    "papermill": {
     "duration": 1.134276,
     "end_time": "2024-02-26T14:35:06.827850",
     "exception": false,
     "start_time": "2024-02-26T14:35:05.693574",
     "status": "completed"
    },
    "tags": []
   },
   "outputs": [],
   "source": [
    "# !du -h subm_v199full.zip"
   ]
  },
  {
   "cell_type": "code",
   "execution_count": 27,
   "id": "a2c32d85",
   "metadata": {
    "execution": {
     "iopub.execute_input": "2024-02-26T14:35:06.854757Z",
     "iopub.status.busy": "2024-02-26T14:35:06.854414Z",
     "iopub.status.idle": "2024-02-26T14:35:06.858700Z",
     "shell.execute_reply": "2024-02-26T14:35:06.857808Z"
    },
    "papermill": {
     "duration": 0.020468,
     "end_time": "2024-02-26T14:35:06.861228",
     "exception": false,
     "start_time": "2024-02-26T14:35:06.840760",
     "status": "completed"
    },
    "tags": []
   },
   "outputs": [],
   "source": [
    "# !rm -r test_kelp"
   ]
  }
 ],
 "metadata": {
  "kaggle": {
   "accelerator": "gpu",
   "dataSources": [
    {
     "datasetId": 4497321,
     "sourceId": 7703751,
     "sourceType": "datasetVersion"
    },
    {
     "datasetId": 4275820,
     "sourceId": 7587464,
     "sourceType": "datasetVersion"
    },
    {
     "sourceId": 157416039,
     "sourceType": "kernelVersion"
    }
   ],
   "dockerImageVersionId": 30648,
   "isGpuEnabled": true,
   "isInternetEnabled": true,
   "language": "python",
   "sourceType": "notebook"
  },
  "kernelspec": {
   "display_name": "Python 3",
   "language": "python",
   "name": "python3"
  },
  "language_info": {
   "codemirror_mode": {
    "name": "ipython",
    "version": 3
   },
   "file_extension": ".py",
   "mimetype": "text/x-python",
   "name": "python",
   "nbconvert_exporter": "python",
   "pygments_lexer": "ipython3",
   "version": "3.6.15"
  },
  "papermill": {
   "default_parameters": {},
   "duration": 337.323627,
   "end_time": "2024-02-26T14:35:10.027921",
   "environment_variables": {},
   "exception": null,
   "input_path": "__notebook__.ipynb",
   "output_path": "__notebook__.ipynb",
   "parameters": {},
   "start_time": "2024-02-26T14:29:32.704294",
   "version": "2.5.0"
  }
 },
 "nbformat": 4,
 "nbformat_minor": 5
}
