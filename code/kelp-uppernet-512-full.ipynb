{
 "cells": [
  {
   "cell_type": "code",
   "execution_count": 1,
   "id": "2f40f014",
   "metadata": {
    "execution": {
     "iopub.execute_input": "2024-02-26T09:59:52.998262Z",
     "iopub.status.busy": "2024-02-26T09:59:52.997581Z",
     "iopub.status.idle": "2024-02-26T09:59:53.002464Z",
     "shell.execute_reply": "2024-02-26T09:59:53.001634Z"
    },
    "papermill": {
     "duration": 0.01793,
     "end_time": "2024-02-26T09:59:53.004373",
     "exception": false,
     "start_time": "2024-02-26T09:59:52.986443",
     "status": "completed"
    },
    "tags": []
   },
   "outputs": [],
   "source": [
    "# !pip install -q segmentation_models_pytorch\n"
   ]
  },
  {
   "cell_type": "code",
   "execution_count": 3,
   "id": "cd0488ac",
   "metadata": {
    "_cell_guid": "b1076dfc-b9ad-4769-8c92-a6c4dae69d19",
    "_uuid": "8f2839f25d086af736a60e9eeb907d3b93b6e0e5",
    "execution": {
     "iopub.execute_input": "2024-02-26T09:59:53.023606Z",
     "iopub.status.busy": "2024-02-26T09:59:53.023344Z",
     "iopub.status.idle": "2024-02-26T09:59:59.291985Z",
     "shell.execute_reply": "2024-02-26T09:59:59.290932Z"
    },
    "papermill": {
     "duration": 6.280982,
     "end_time": "2024-02-26T09:59:59.294470",
     "exception": false,
     "start_time": "2024-02-26T09:59:53.013488",
     "status": "completed"
    },
    "tags": []
   },
   "outputs": [],
   "source": [
    "import os\n",
    "# os.environ[\"CUDA_VISIBLE_DEVICES\"] = \"1\"\n",
    "\n",
    "import cv2\n",
    "import tifffile\n",
    "import numpy as np\n",
    "import pandas as pd\n",
    "import matplotlib.pyplot as plt\n",
    "import gc\n",
    "import warnings\n",
    "warnings.filterwarnings(\"ignore\")\n",
    "\n",
    "import random\n",
    "import torch\n",
    "import torch.nn as nn\n",
    "import albumentations\n",
    "\n",
    "# import segmentation_models_pytorch as smp\n",
    "import skimage\n",
    "\n",
    "from tqdm import tqdm\n",
    "import torch.optim as optim\n",
    "from torch.utils.data import TensorDataset, DataLoader,Dataset\n",
    "from fastprogress import master_bar, progress_bar\n",
    "\n",
    "def create_dir(path):\n",
    "    if os.path.isdir(path)==False:\n",
    "        os.makedirs(path)\n"
   ]
  },
  {
   "cell_type": "code",
   "execution_count": 4,
   "id": "fc9e6250",
   "metadata": {
    "execution": {
     "iopub.execute_input": "2024-02-26T09:59:59.314373Z",
     "iopub.status.busy": "2024-02-26T09:59:59.313945Z",
     "iopub.status.idle": "2024-02-26T09:59:59.319320Z",
     "shell.execute_reply": "2024-02-26T09:59:59.318464Z"
    },
    "papermill": {
     "duration": 0.017453,
     "end_time": "2024-02-26T09:59:59.321215",
     "exception": false,
     "start_time": "2024-02-26T09:59:59.303762",
     "status": "completed"
    },
    "tags": []
   },
   "outputs": [],
   "source": [
    "# # CONFIGURE \n",
    "\n",
    "# # Set Data Paths\n",
    "# test_path='test_satellite/'\n",
    "# train_path='train_satellite/'\n",
    "# labels_path='train_kelp/'\n",
    "\n",
    "\n",
    "# # Create directories\n",
    "# # test_predmask_path='test_kelp/'\n",
    "# # create_dir(test_predmask_path)\n",
    "\n",
    "# # set weights directory for new training saving\n",
    "# weights_path='weights/'\n",
    "# create_dir(weights_path)\n",
    "\n",
    "\n",
    "# RETRAIN= False # if true retrain else use trained weights for inference\n",
    "# trained_weights = 'trained_weights/' # meaningful only when RETRAIN=False\n",
    "\n",
    "\n",
    "# # directory for prediction probabilities \n",
    "# test_preds_dir = 'test_preds/'\n",
    "# create_dir(test_preds_dir)\n",
    "\n",
    "from config import test_path, train_path, labels_path, weights_path, RETRAIN, trained_weights, test_preds_dir\n",
    "# DO NOT EDIT BELOW"
   ]
  },
  {
   "cell_type": "code",
   "execution_count": 5,
   "id": "0f1c76ec",
   "metadata": {},
   "outputs": [
    {
     "data": {
      "text/plain": [
       "('test_satellite/',\n",
       " 'train_satellite/',\n",
       " 'train_kelp/',\n",
       " 'weights/',\n",
       " False,\n",
       " 'trained_weights/',\n",
       " 'test_preds/')"
      ]
     },
     "execution_count": 5,
     "metadata": {},
     "output_type": "execute_result"
    }
   ],
   "source": [
    "test_path, train_path, labels_path, weights_path, RETRAIN, trained_weights, test_preds_dir"
   ]
  },
  {
   "cell_type": "code",
   "execution_count": 7,
   "id": "950c44eb",
   "metadata": {
    "execution": {
     "iopub.execute_input": "2024-02-26T09:59:59.340288Z",
     "iopub.status.busy": "2024-02-26T09:59:59.340004Z",
     "iopub.status.idle": "2024-02-26T09:59:59.345889Z",
     "shell.execute_reply": "2024-02-26T09:59:59.345090Z"
    },
    "papermill": {
     "duration": 0.017468,
     "end_time": "2024-02-26T09:59:59.347672",
     "exception": false,
     "start_time": "2024-02-26T09:59:59.330204",
     "status": "completed"
    },
    "tags": []
   },
   "outputs": [],
   "source": [
    "#Training parameters used\n",
    "basename='kelp_UpperNet_512_full'\n",
    "\n",
    "# training schedule variables\n",
    "epochs=20\n",
    "snapshots = 1\n",
    "lr_0 = 0.0001\n",
    "WARMUP_EPOCHS=2\n",
    "\n",
    "# training input variables\n",
    "SIZE=512 # resize image size\n",
    "channels=[0,1,3] # SWIR, NIR, Green\n",
    "meansCH = np.array( [0.485, 0.456, 0.406] )\n",
    "stdsCH = np.array( [0.229, 0.224, 0.225] )\n",
    "stdsCH *= 0.9\n",
    "CLIPMIN=6000\n",
    "CLIPMAX=24000\n",
    "\n",
    "\n",
    "BA=3 # Batch Accumulation\n",
    "num_workers = 4 # \n",
    "bs = 4 # Batch Size\n"
   ]
  },
  {
   "cell_type": "code",
   "execution_count": 5,
   "id": "cadc2936",
   "metadata": {
    "execution": {
     "iopub.execute_input": "2024-02-26T09:59:59.366627Z",
     "iopub.status.busy": "2024-02-26T09:59:59.366347Z",
     "iopub.status.idle": "2024-02-26T09:59:59.677206Z",
     "shell.execute_reply": "2024-02-26T09:59:59.676231Z"
    },
    "papermill": {
     "duration": 0.322745,
     "end_time": "2024-02-26T09:59:59.679312",
     "exception": false,
     "start_time": "2024-02-26T09:59:59.356567",
     "status": "completed"
    },
    "tags": []
   },
   "outputs": [
    {
     "data": {
      "text/plain": [
       "(1426, 5635, 5635, 'FF979226_satellite.tif', 'WG210136_kelp.tif')"
      ]
     },
     "execution_count": 5,
     "metadata": {},
     "output_type": "execute_result"
    }
   ],
   "source": [
    "test_image_names=os.listdir(test_path)\n",
    "train_image_names=os.listdir(train_path)\n",
    "mask_names = os.listdir(labels_path)\n",
    "len(test_image_names),len(train_image_names),len(mask_names),test_image_names[0],mask_names[0]"
   ]
  },
  {
   "cell_type": "code",
   "execution_count": 8,
   "id": "78729b03",
   "metadata": {
    "execution": {
     "iopub.execute_input": "2024-02-26T09:59:59.699422Z",
     "iopub.status.busy": "2024-02-26T09:59:59.699128Z",
     "iopub.status.idle": "2024-02-26T09:59:59.724287Z",
     "shell.execute_reply": "2024-02-26T09:59:59.723450Z"
    },
    "papermill": {
     "duration": 0.037423,
     "end_time": "2024-02-26T09:59:59.726266",
     "exception": false,
     "start_time": "2024-02-26T09:59:59.688843",
     "status": "completed"
    },
    "tags": []
   },
   "outputs": [],
   "source": [
    "full_train_img_paths= np.array([train_path+x for x in train_image_names])\n",
    "full_train_msk_paths= np.array([labels_path+x.split('_')[0]+'_kelp.tif' for x in train_image_names])\n",
    "# full_test_img_paths= np.array([test_path+x for x in test_image_names])\n",
    "# test_image_names=np.load('/kaggle/input/needkelp/kafe_test_image_names.npz')['arr_0']\n",
    "full_test_img_paths=np.array([test_path+x for x in test_image_names])\n",
    "len(full_train_img_paths),len(full_train_msk_paths),len(full_test_img_paths),full_train_img_paths[:2],full_test_img_paths[:2]\n"
   ]
  },
  {
   "cell_type": "code",
   "execution_count": null,
   "id": "9132f094",
   "metadata": {
    "execution": {
     "iopub.execute_input": "2024-02-26T09:59:59.746106Z",
     "iopub.status.busy": "2024-02-26T09:59:59.745785Z",
     "iopub.status.idle": "2024-02-26T09:59:59.762480Z",
     "shell.execute_reply": "2024-02-26T09:59:59.761674Z"
    },
    "papermill": {
     "duration": 0.028686,
     "end_time": "2024-02-26T09:59:59.764334",
     "exception": false,
     "start_time": "2024-02-26T09:59:59.735648",
     "status": "completed"
    },
    "tags": []
   },
   "outputs": [],
   "source": []
  },
  {
   "cell_type": "code",
   "execution_count": 9,
   "id": "15f908fe",
   "metadata": {
    "execution": {
     "iopub.execute_input": "2024-02-26T09:59:59.784584Z",
     "iopub.status.busy": "2024-02-26T09:59:59.784310Z",
     "iopub.status.idle": "2024-02-26T09:59:59.797782Z",
     "shell.execute_reply": "2024-02-26T09:59:59.796906Z"
    },
    "papermill": {
     "duration": 0.025716,
     "end_time": "2024-02-26T09:59:59.799822",
     "exception": false,
     "start_time": "2024-02-26T09:59:59.774106",
     "status": "completed"
    },
    "tags": []
   },
   "outputs": [],
   "source": [
    "# vids=np.load('/kaggle/input/needkelp/valid_imids_ph2.npz')['arr_0']\n",
    "# tids=np.load('/kaggle/input/needkelp/train_imids_ph2.npz')['arr_0']\n",
    "# len(tids),len(vids)\n",
    "\n",
    "# train_ids= np.array([train_path+x for x in tids])\n",
    "# val_ids= np.array([train_path+x for x in vids])\n",
    "# train_ids.shape, val_ids.shape\n",
    "\n",
    "# train_ids=np.concatenate((train_ids,val_ids))\n",
    "\n",
    "train_ids=np.array([train_path+x for x in train_image_names])\n",
    "train_ids.shape,train_ids[:3]"
   ]
  },
  {
   "cell_type": "code",
   "execution_count": 9,
   "id": "2b0c8549",
   "metadata": {
    "execution": {
     "iopub.execute_input": "2024-02-26T09:59:59.820168Z",
     "iopub.status.busy": "2024-02-26T09:59:59.819871Z",
     "iopub.status.idle": "2024-02-26T10:00:04.579932Z",
     "shell.execute_reply": "2024-02-26T10:00:04.579038Z"
    },
    "papermill": {
     "duration": 4.77335,
     "end_time": "2024-02-26T10:00:04.582612",
     "exception": false,
     "start_time": "2024-02-26T09:59:59.809262",
     "status": "completed"
    },
    "tags": []
   },
   "outputs": [
    {
     "data": {
      "application/vnd.jupyter.widget-view+json": {
       "model_id": "80e84f26bbd04dbda2a63b6f55b3d527",
       "version_major": 2,
       "version_minor": 0
      },
      "text/plain": [
       "config.json:   0%|          | 0.00/8.76k [00:00<?, ?B/s]"
      ]
     },
     "metadata": {},
     "output_type": "display_data"
    },
    {
     "data": {
      "application/vnd.jupyter.widget-view+json": {
       "model_id": "17ec0571c37443b18f97f0ed40c7ad75",
       "version_major": 2,
       "version_minor": 0
      },
      "text/plain": [
       "model.safetensors:   0%|          | 0.00/241M [00:00<?, ?B/s]"
      ]
     },
     "metadata": {},
     "output_type": "display_data"
    }
   ],
   "source": [
    "from transformers import SwinConfig, UperNetConfig, UperNetForSemanticSegmentation\n",
    "model = UperNetForSemanticSegmentation.from_pretrained(\"openmmlab/upernet-convnext-tiny\")\n",
    "model.decode_head.classifier = torch.nn.Conv2d(512, 1, kernel_size=(1, 1), stride=(1, 1))"
   ]
  },
  {
   "cell_type": "code",
   "execution_count": 12,
   "id": "926a5491",
   "metadata": {
    "execution": {
     "iopub.execute_input": "2024-02-26T10:00:04.668335Z",
     "iopub.status.busy": "2024-02-26T10:00:04.668047Z",
     "iopub.status.idle": "2024-02-26T10:00:04.674472Z",
     "shell.execute_reply": "2024-02-26T10:00:04.673433Z"
    },
    "papermill": {
     "duration": 0.021145,
     "end_time": "2024-02-26T10:00:04.676845",
     "exception": false,
     "start_time": "2024-02-26T10:00:04.655700",
     "status": "completed"
    },
    "tags": []
   },
   "outputs": [],
   "source": [
    "\n",
    "def cosine_anneal_schedule(t):\n",
    "    cos_inner = np.pi * (t % (epochs // snapshots))\n",
    "    cos_inner /= epochs // snapshots\n",
    "    cos_out = np.cos(cos_inner) + 1\n",
    "    return float(lr_0 / 2 * cos_out)\n",
    "cosine_anneal_schedule_list=[cosine_anneal_schedule(x) for x in range(epochs)]\n",
    "\n",
    "cosine_anneal_schedule_list=[0.000001]*WARMUP_EPOCHS+cosine_anneal_schedule_list\n",
    "epochs=len(cosine_anneal_schedule_list)\n",
    "def adjust_optim(optimizer, n_iter):\n",
    "    optimizer.param_groups[0]['lr'] = cosine_anneal_schedule_list[n_iter % epochs]\n",
    "\n"
   ]
  },
  {
   "cell_type": "code",
   "execution_count": 13,
   "id": "db62bd6b",
   "metadata": {
    "execution": {
     "iopub.execute_input": "2024-02-26T10:00:04.701251Z",
     "iopub.status.busy": "2024-02-26T10:00:04.700977Z",
     "iopub.status.idle": "2024-02-26T10:00:04.713501Z",
     "shell.execute_reply": "2024-02-26T10:00:04.712613Z"
    },
    "papermill": {
     "duration": 0.025579,
     "end_time": "2024-02-26T10:00:04.715461",
     "exception": false,
     "start_time": "2024-02-26T10:00:04.689882",
     "status": "completed"
    },
    "tags": []
   },
   "outputs": [],
   "source": [
    "\n",
    "Ms = meansCH.mean()\n",
    "Ss = stdsCH.mean()\n",
    "\n",
    "class KelpDataset_disk(torch.utils.data.Dataset):\n",
    "    \"\"\"Reads in images, transforms pixel values, and serves a\n",
    "    dictionary containing chip ids, image tensors, and\n",
    "    label masks (where available).\n",
    "    \"\"\"\n",
    "\n",
    "    def __init__(self, x_paths,y_paths, transforms=None, preprocessing=None, mode='train'):\n",
    "        self.x_paths = x_paths\n",
    "        self.y_paths = y_paths\n",
    "        # self.ids = ids\n",
    "        self.transforms = transforms\n",
    "        self.preprocessing = preprocessing\n",
    "        self.mode=mode\n",
    "\n",
    "    def __len__(self):\n",
    "        return len(self.x_paths)\n",
    "\n",
    "    def __getitem__(self, idx):\n",
    "        x_arr=tifffile.imread(self.x_paths[idx]).astype('float32')\n",
    "        t=x_arr.copy()\n",
    "        x_arr=np.clip(x_arr,CLIPMIN,CLIPMAX)\n",
    "        x_arr[t<=-32000]=0\n",
    "        del t\n",
    "\n",
    "        if self.mode=='test':\n",
    "            y_arr=np.zeros((350,350)).astype('uint8')\n",
    "        else:\n",
    "            y_arr=tifffile.imread(self.y_paths[idx])\n",
    "        \n",
    "        y_arr = np.expand_dims(y_arr, -1)\n",
    "        \n",
    "        if self.transforms:\n",
    "            augmented = self.transforms(image=x_arr, mask=y_arr)\n",
    "            x_arr, y_arr = augmented['image'], augmented['mask']\n",
    "        # x_arr = np.transpose(x_arr, [2, 0, 1])\n",
    "        \n",
    "        x_arr = x_arr[...,channels]/CLIPMAX\n",
    "\n",
    "        x_arr = (x_arr - meansCH)/stdsCH\n",
    "        \n",
    "        x_arr = np.transpose(x_arr, [2, 0, 1])\n",
    "        y_arr = np.transpose(y_arr, [2, 0, 1])\n",
    "        \n",
    "        if self.preprocessing:\n",
    "            preprocessed = self.preprocessing(image=x_arr, mask=y_arr)\n",
    "            # preprocessed = self.preprocessing(image=x_arr)\n",
    "            x_arr = preprocessed['image']\n",
    "            y_arr = preprocessed['mask']\n",
    "\n",
    "        return x_arr.astype('float32'), y_arr.astype('uint8')"
   ]
  },
  {
   "cell_type": "code",
   "execution_count": 14,
   "id": "17b5b7c9",
   "metadata": {
    "execution": {
     "iopub.execute_input": "2024-02-26T10:00:04.736178Z",
     "iopub.status.busy": "2024-02-26T10:00:04.735905Z",
     "iopub.status.idle": "2024-02-26T10:00:04.741016Z",
     "shell.execute_reply": "2024-02-26T10:00:04.740205Z"
    },
    "papermill": {
     "duration": 0.017819,
     "end_time": "2024-02-26T10:00:04.743017",
     "exception": false,
     "start_time": "2024-02-26T10:00:04.725198",
     "status": "completed"
    },
    "tags": []
   },
   "outputs": [],
   "source": [
    "\n",
    "training_transformations = albumentations.Compose(\n",
    "    [\n",
    "        albumentations.Resize(SIZE, SIZE),\n",
    "        albumentations.RandomRotate90(),\n",
    "        albumentations.HorizontalFlip(),\n",
    "        albumentations.VerticalFlip(),\n",
    "    ]\n",
    ")\n",
    "validation_transformations = albumentations.Compose(\n",
    "    [\n",
    "        albumentations.Resize(SIZE, SIZE,),\n",
    "    ]\n",
    ")"
   ]
  },
  {
   "cell_type": "code",
   "execution_count": 15,
   "id": "8d9e1750",
   "metadata": {
    "execution": {
     "iopub.execute_input": "2024-02-26T10:00:04.763742Z",
     "iopub.status.busy": "2024-02-26T10:00:04.763413Z",
     "iopub.status.idle": "2024-02-26T10:00:04.773085Z",
     "shell.execute_reply": "2024-02-26T10:00:04.772274Z"
    },
    "papermill": {
     "duration": 0.022245,
     "end_time": "2024-02-26T10:00:04.775030",
     "exception": false,
     "start_time": "2024-02-26T10:00:04.752785",
     "status": "completed"
    },
    "tags": []
   },
   "outputs": [],
   "source": [
    "# from sklearn.metrics import jaccard_score\n",
    "def get_dice_coef(gt, preds, THRESH=0.5):\n",
    "    dice = np.sum((preds>THRESH)[gt[:,0,...]==1])*2.0 / (np.sum((preds>THRESH)) + np.sum(gt[:,0,...]))\n",
    "    return dice\n",
    "\n",
    "\n",
    "class DiceLoss(nn.Module):\n",
    "    def __init__(self, weight=None, size_average=True):\n",
    "        super(DiceLoss, self).__init__()\n",
    "\n",
    "    def forward(self, inputs, targets, eps=1e-7):\n",
    "        \n",
    "        # #comment out if your model contains a sigmoid or equivalent activation layer\n",
    "        # inputs = F.sigmoid(inputs)       \n",
    "        \n",
    "        #flatten label and prediction tensors\n",
    "        inputs = inputs.view(-1)\n",
    "        targets = targets.view(-1)\n",
    "        \n",
    "        intersection = (inputs * targets).sum()                            \n",
    "        dice = (2.*intersection )/(inputs.sum() + targets.sum() + eps)  \n",
    "        \n",
    "        return 1 - dice\n",
    "\n",
    "\n"
   ]
  },
  {
   "cell_type": "code",
   "execution_count": null,
   "id": "e3448d3c",
   "metadata": {
    "papermill": {
     "duration": 0.009704,
     "end_time": "2024-02-26T10:00:04.794396",
     "exception": false,
     "start_time": "2024-02-26T10:00:04.784692",
     "status": "completed"
    },
    "tags": []
   },
   "outputs": [],
   "source": []
  },
  {
   "cell_type": "code",
   "execution_count": 10,
   "id": "419da5ee",
   "metadata": {
    "execution": {
     "iopub.execute_input": "2024-02-26T10:00:04.815275Z",
     "iopub.status.busy": "2024-02-26T10:00:04.814956Z",
     "iopub.status.idle": "2024-02-26T14:46:50.972043Z",
     "shell.execute_reply": "2024-02-26T14:46:50.970904Z"
    },
    "papermill": {
     "duration": 17206.170516,
     "end_time": "2024-02-26T14:46:50.974641",
     "exception": false,
     "start_time": "2024-02-26T10:00:04.804125",
     "status": "completed"
    },
    "tags": []
   },
   "outputs": [],
   "source": [
    "\n",
    "name=basename\n",
    "model.cuda()\n",
    "\n",
    "if RETRAIN==True:\n",
    "\n",
    "    optimizer = optim.AdamW(model.parameters(), lr=lr_0)\n",
    "\n",
    "\n",
    "\n",
    "\n",
    "    train_dataset = KelpDataset_disk(x_paths=train_ids,\n",
    "                                     y_paths=[x.replace('_satellite', '_kelp') for x in train_ids],\n",
    "                                 transforms = training_transformations,\n",
    "                                    )\n",
    "\n",
    "    train_loader = DataLoader(train_dataset, batch_size=bs, shuffle=True, num_workers=num_workers)\n",
    "\n",
    "\n",
    "\n",
    "    criterion1 = DiceLoss()\n",
    "\n",
    "    device = \"cuda\"\n",
    "    best_score=0.\n",
    "\n",
    "    mb = master_bar(range(epochs))\n",
    "    loss_log=[]\n",
    "    for epoch in mb:\n",
    "        avg_train_loss = 0.\n",
    "        model.train()    \n",
    "\n",
    "        pb = progress_bar(train_loader)\n",
    "        for ii, (data, target) in enumerate(pb):\n",
    "\n",
    "            data, target = data.cuda(non_blocking=True), target.cuda(non_blocking=True)\n",
    "\n",
    "           # optimizer.zero_grad()\n",
    "            output = model(data)\n",
    "            output=output.logits\n",
    "            output=torch.sigmoid(output)\n",
    "\n",
    "            # loss = criterion1(output, target.long())\n",
    "            loss = criterion1(output, target.to(dtype=torch.float)).mean()\n",
    "\n",
    "\n",
    "            loss.backward()\n",
    "            if (ii + 1) % BA == 0:            \n",
    "                optimizer.step()\n",
    "                optimizer.zero_grad()\n",
    "            # optimizer.step()\n",
    "            if ii % 1000 == 0:\n",
    "                loss_log.append(loss.item())\n",
    "            avg_train_loss += loss.item() / len(train_loader)\n",
    "\n",
    "        print('Epoch: {} - Loss: {:.6f}'.format(epoch + 1, avg_train_loss))\n",
    "\n",
    "        adjust_optim(optimizer, (epoch + 1))\n",
    "\n",
    "        gc.collect()\n",
    "\n",
    "    torch.save(model.state_dict(), weights_path+name+'_last.pt')\n",
    "else:\n",
    "    model.load_state_dict(torch.load(  trained_weights+basename+'_last.pt') )\n",
    "    "
   ]
  },
  {
   "cell_type": "code",
   "execution_count": 17,
   "id": "e30c4143",
   "metadata": {
    "execution": {
     "iopub.execute_input": "2024-02-26T14:46:51.013731Z",
     "iopub.status.busy": "2024-02-26T14:46:51.013073Z",
     "iopub.status.idle": "2024-02-26T14:46:51.019966Z",
     "shell.execute_reply": "2024-02-26T14:46:51.018949Z"
    },
    "papermill": {
     "duration": 0.028368,
     "end_time": "2024-02-26T14:46:51.021900",
     "exception": false,
     "start_time": "2024-02-26T14:46:50.993532",
     "status": "completed"
    },
    "tags": []
   },
   "outputs": [
    {
     "name": "stdout",
     "output_type": "stream",
     "text": [
      "model eval\n"
     ]
    }
   ],
   "source": [
    "model.eval()\n",
    "print('model eval')"
   ]
  },
  {
   "cell_type": "code",
   "execution_count": 18,
   "id": "8b2eac77",
   "metadata": {
    "execution": {
     "iopub.execute_input": "2024-02-26T14:46:51.060412Z",
     "iopub.status.busy": "2024-02-26T14:46:51.059522Z",
     "iopub.status.idle": "2024-02-26T14:46:51.064598Z",
     "shell.execute_reply": "2024-02-26T14:46:51.063676Z"
    },
    "papermill": {
     "duration": 0.026774,
     "end_time": "2024-02-26T14:46:51.066883",
     "exception": false,
     "start_time": "2024-02-26T14:46:51.040109",
     "status": "completed"
    },
    "tags": []
   },
   "outputs": [],
   "source": [
    "def sigmoid(x):\n",
    "    return 1 / (1 + np.exp(-x))\n"
   ]
  },
  {
   "cell_type": "code",
   "execution_count": 19,
   "id": "80f14647",
   "metadata": {
    "execution": {
     "iopub.execute_input": "2024-02-26T14:46:51.111613Z",
     "iopub.status.busy": "2024-02-26T14:46:51.110742Z",
     "iopub.status.idle": "2024-02-26T14:46:51.386259Z",
     "shell.execute_reply": "2024-02-26T14:46:51.385358Z"
    },
    "papermill": {
     "duration": 0.29787,
     "end_time": "2024-02-26T14:46:51.388539",
     "exception": false,
     "start_time": "2024-02-26T14:46:51.090669",
     "status": "completed"
    },
    "tags": []
   },
   "outputs": [
    {
     "data": {
      "text/plain": [
       "0"
      ]
     },
     "execution_count": 19,
     "metadata": {},
     "output_type": "execute_result"
    }
   ],
   "source": [
    "gc.collect()"
   ]
  },
  {
   "cell_type": "code",
   "execution_count": null,
   "id": "f659066d",
   "metadata": {
    "papermill": {
     "duration": 0.018438,
     "end_time": "2024-02-26T14:46:51.429612",
     "exception": false,
     "start_time": "2024-02-26T14:46:51.411174",
     "status": "completed"
    },
    "tags": []
   },
   "outputs": [],
   "source": []
  },
  {
   "cell_type": "code",
   "execution_count": 20,
   "id": "9559f644",
   "metadata": {
    "execution": {
     "iopub.execute_input": "2024-02-26T14:46:51.475293Z",
     "iopub.status.busy": "2024-02-26T14:46:51.474917Z",
     "iopub.status.idle": "2024-02-26T14:46:51.480124Z",
     "shell.execute_reply": "2024-02-26T14:46:51.479230Z"
    },
    "papermill": {
     "duration": 0.028917,
     "end_time": "2024-02-26T14:46:51.482039",
     "exception": false,
     "start_time": "2024-02-26T14:46:51.453122",
     "status": "completed"
    },
    "tags": []
   },
   "outputs": [],
   "source": [
    "test_dataset = KelpDataset_disk(x_paths=full_test_img_paths,\n",
    "                                y_paths=None,\n",
    "                             transforms = validation_transformations,\n",
    "                             # preprocessing=get_preprocessing(preprocessing_fn)\n",
    "                                 mode='test'\n",
    "                                )\n",
    "\n",
    "test_loader = DataLoader(test_dataset, batch_size=bs, shuffle=False, num_workers=num_workers)\n"
   ]
  },
  {
   "cell_type": "code",
   "execution_count": 21,
   "id": "25e2eedb",
   "metadata": {
    "execution": {
     "iopub.execute_input": "2024-02-26T14:46:51.520711Z",
     "iopub.status.busy": "2024-02-26T14:46:51.519889Z",
     "iopub.status.idle": "2024-02-26T14:51:41.511622Z",
     "shell.execute_reply": "2024-02-26T14:51:41.510608Z"
    },
    "papermill": {
     "duration": 290.013975,
     "end_time": "2024-02-26T14:51:41.514273",
     "exception": false,
     "start_time": "2024-02-26T14:46:51.500298",
     "status": "completed"
    },
    "tags": []
   },
   "outputs": [
    {
     "data": {
      "text/html": [
       "\n",
       "<style>\n",
       "    /* Turns off some styling */\n",
       "    progress {\n",
       "        /* gets rid of default border in Firefox and Opera. */\n",
       "        border: none;\n",
       "        /* Needs to be in here for Safari polyfill so background images work as expected. */\n",
       "        background-size: auto;\n",
       "    }\n",
       "    progress:not([value]), progress:not([value])::-webkit-progress-bar {\n",
       "        background: repeating-linear-gradient(45deg, #7e7e7e, #7e7e7e 10px, #5c5c5c 10px, #5c5c5c 20px);\n",
       "    }\n",
       "    .progress-bar-interrupted, .progress-bar-interrupted::-webkit-progress-bar {\n",
       "        background: #F44336;\n",
       "    }\n",
       "</style>\n"
      ],
      "text/plain": [
       "<IPython.core.display.HTML object>"
      ]
     },
     "metadata": {},
     "output_type": "display_data"
    },
    {
     "data": {
      "text/html": [
       "\n",
       "    <div>\n",
       "      <progress value='357' class='' max='357' style='width:300px; height:20px; vertical-align: middle;'></progress>\n",
       "      100.00% [357/357 04:49&lt;00:00]\n",
       "    </div>\n",
       "    "
      ],
      "text/plain": [
       "<IPython.core.display.HTML object>"
      ]
     },
     "metadata": {},
     "output_type": "display_data"
    }
   ],
   "source": [
    "test_preds = np.zeros((len(full_test_img_paths), SIZE,SIZE))\n",
    "with torch.no_grad():\n",
    "\n",
    "    test_preds1 =[]\n",
    "    test_preds2 =[]\n",
    "    test_preds3 =[]\n",
    "    test_preds4 =[]\n",
    "\n",
    "    counter=0\n",
    "    pb = progress_bar(test_loader)\n",
    "    for i, (x_batch, y_batch) in enumerate(pb):\n",
    "\n",
    "        preds1 = model(x_batch.cuda(non_blocking=True)).logits.detach().cpu().numpy()\n",
    "        preds2 = model(torch.flip(x_batch, dims=[2]).cuda(non_blocking=True)).logits.detach().cpu().numpy()\n",
    "        preds3 = model(torch.flip(x_batch, dims=[3]).cuda(non_blocking=True)).logits.detach().cpu().numpy()\n",
    "        preds4 = model(torch.flip(x_batch, dims=[2,3]).cuda(non_blocking=True)).logits.detach().cpu().numpy()\n",
    "\n",
    "\n",
    "        test_preds[counter*len(x_batch):(counter+1)*len(x_batch),...]=((preds1+preds2[...,::-1,:]+\n",
    "                                                        preds3[...,:,::-1]+preds4[...,::-1,::-1])/4)[:,0,...]\n",
    "        counter+=1\n",
    "        \n"
   ]
  },
  {
   "cell_type": "code",
   "execution_count": 22,
   "id": "3e14c871",
   "metadata": {
    "execution": {
     "iopub.execute_input": "2024-02-26T14:51:41.553833Z",
     "iopub.status.busy": "2024-02-26T14:51:41.553453Z",
     "iopub.status.idle": "2024-02-26T14:51:44.774153Z",
     "shell.execute_reply": "2024-02-26T14:51:44.773298Z"
    },
    "papermill": {
     "duration": 3.243029,
     "end_time": "2024-02-26T14:51:44.776495",
     "exception": false,
     "start_time": "2024-02-26T14:51:41.533466",
     "status": "completed"
    },
    "tags": []
   },
   "outputs": [],
   "source": [
    "test_preds=sigmoid(test_preds)"
   ]
  },
  {
   "cell_type": "code",
   "execution_count": 23,
   "id": "646a3288",
   "metadata": {
    "execution": {
     "iopub.execute_input": "2024-02-26T14:51:44.815778Z",
     "iopub.status.busy": "2024-02-26T14:51:44.815428Z",
     "iopub.status.idle": "2024-02-26T14:52:14.400497Z",
     "shell.execute_reply": "2024-02-26T14:52:14.399501Z"
    },
    "papermill": {
     "duration": 29.607358,
     "end_time": "2024-02-26T14:52:14.402886",
     "exception": false,
     "start_time": "2024-02-26T14:51:44.795528",
     "status": "completed"
    },
    "tags": []
   },
   "outputs": [],
   "source": [
    "np.savez(test_preds_dir+'testprobs_kk_'+basename, test_preds.astype('float16'))\n"
   ]
  },
  {
   "cell_type": "code",
   "execution_count": 24,
   "id": "557f4fb3",
   "metadata": {
    "execution": {
     "iopub.execute_input": "2024-02-26T14:52:14.443506Z",
     "iopub.status.busy": "2024-02-26T14:52:14.442532Z",
     "iopub.status.idle": "2024-02-26T14:52:14.707154Z",
     "shell.execute_reply": "2024-02-26T14:52:14.706179Z"
    },
    "papermill": {
     "duration": 0.285993,
     "end_time": "2024-02-26T14:52:14.709120",
     "exception": false,
     "start_time": "2024-02-26T14:52:14.423127",
     "status": "completed"
    },
    "tags": []
   },
   "outputs": [
    {
     "data": {
      "image/png": "[encoded data removed]",
      "text/plain": [
       "<Figure size 640x480 with 1 Axes>"
      ]
     },
     "metadata": {},
     "output_type": "display_data"
    }
   ],
   "source": [
    "plt.imshow(test_preds[1]>0.5)\n",
    "plt.show()"
   ]
  },
  {
   "cell_type": "code",
   "execution_count": 11,
   "id": "ae4e7f45",
   "metadata": {
    "execution": {
     "iopub.execute_input": "2024-02-26T14:52:14.748556Z",
     "iopub.status.busy": "2024-02-26T14:52:14.748202Z",
     "iopub.status.idle": "2024-02-26T14:52:26.982525Z",
     "shell.execute_reply": "2024-02-26T14:52:26.981627Z"
    },
    "papermill": {
     "duration": 12.256286,
     "end_time": "2024-02-26T14:52:26.984499",
     "exception": false,
     "start_time": "2024-02-26T14:52:14.728213",
     "status": "completed"
    },
    "tags": []
   },
   "outputs": [],
   "source": [
    "# test_preds = np.array([skimage.transform.resize(x, (350,350)) for x in test_preds])\n",
    "# test_preds.shape"
   ]
  },
  {
   "cell_type": "code",
   "execution_count": 12,
   "id": "5980d9c7",
   "metadata": {
    "execution": {
     "iopub.execute_input": "2024-02-26T14:52:27.023769Z",
     "iopub.status.busy": "2024-02-26T14:52:27.023441Z",
     "iopub.status.idle": "2024-02-26T14:52:27.315830Z",
     "shell.execute_reply": "2024-02-26T14:52:27.315031Z"
    },
    "papermill": {
     "duration": 0.314304,
     "end_time": "2024-02-26T14:52:27.318122",
     "exception": false,
     "start_time": "2024-02-26T14:52:27.003818",
     "status": "completed"
    },
    "tags": []
   },
   "outputs": [],
   "source": [
    "# THRESH=0.5\n",
    "# test_preds = np.array([(x>THRESH).astype('uint8') for x in test_preds])"
   ]
  },
  {
   "cell_type": "code",
   "execution_count": null,
   "id": "95bd3cd8",
   "metadata": {
    "papermill": {
     "duration": 0.018913,
     "end_time": "2024-02-26T14:52:27.356512",
     "exception": false,
     "start_time": "2024-02-26T14:52:27.337599",
     "status": "completed"
    },
    "tags": []
   },
   "outputs": [],
   "source": []
  },
  {
   "cell_type": "code",
   "execution_count": 13,
   "id": "39e40503",
   "metadata": {
    "execution": {
     "iopub.execute_input": "2024-02-26T14:52:27.396575Z",
     "iopub.status.busy": "2024-02-26T14:52:27.395742Z",
     "iopub.status.idle": "2024-02-26T14:52:28.512383Z",
     "shell.execute_reply": "2024-02-26T14:52:28.511386Z"
    },
    "papermill": {
     "duration": 1.138976,
     "end_time": "2024-02-26T14:52:28.514447",
     "exception": false,
     "start_time": "2024-02-26T14:52:27.375471",
     "status": "completed"
    },
    "tags": []
   },
   "outputs": [],
   "source": [
    "# [cv2.imwrite(test_predmask_path+test_image_names[i].split('_')[0]+'_kelp.tif', test_preds[i])\n",
    "#  for i in range(len(test_preds))]\n",
    "# print('saved in disk')"
   ]
  },
  {
   "cell_type": "code",
   "execution_count": 14,
   "id": "5ffac4b1",
   "metadata": {
    "execution": {
     "iopub.execute_input": "2024-02-26T14:52:28.553847Z",
     "iopub.status.busy": "2024-02-26T14:52:28.553519Z",
     "iopub.status.idle": "2024-02-26T14:52:29.670862Z",
     "shell.execute_reply": "2024-02-26T14:52:29.669492Z"
    },
    "papermill": {
     "duration": 1.139839,
     "end_time": "2024-02-26T14:52:29.673505",
     "exception": false,
     "start_time": "2024-02-26T14:52:28.533666",
     "status": "completed"
    },
    "tags": []
   },
   "outputs": [],
   "source": [
    "# !cd test_kelp && zip -rq subm.zip *"
   ]
  },
  {
   "cell_type": "code",
   "execution_count": 15,
   "id": "21970cef",
   "metadata": {
    "execution": {
     "iopub.execute_input": "2024-02-26T14:52:29.758712Z",
     "iopub.status.busy": "2024-02-26T14:52:29.758173Z",
     "iopub.status.idle": "2024-02-26T14:52:30.714873Z",
     "shell.execute_reply": "2024-02-26T14:52:30.713819Z"
    },
    "papermill": {
     "duration": 0.978842,
     "end_time": "2024-02-26T14:52:30.717253",
     "exception": false,
     "start_time": "2024-02-26T14:52:29.738411",
     "status": "completed"
    },
    "tags": []
   },
   "outputs": [],
   "source": [
    "# !du -h subm.zip"
   ]
  },
  {
   "cell_type": "code",
   "execution_count": null,
   "id": "f33342e4",
   "metadata": {
    "papermill": {
     "duration": 0.019119,
     "end_time": "2024-02-26T14:52:30.755910",
     "exception": false,
     "start_time": "2024-02-26T14:52:30.736791",
     "status": "completed"
    },
    "tags": []
   },
   "outputs": [],
   "source": []
  },
  {
   "cell_type": "code",
   "execution_count": null,
   "id": "19d99b9e",
   "metadata": {
    "papermill": {
     "duration": 0.019049,
     "end_time": "2024-02-26T14:52:30.794194",
     "exception": false,
     "start_time": "2024-02-26T14:52:30.775145",
     "status": "completed"
    },
    "tags": []
   },
   "outputs": [],
   "source": []
  }
 ],
 "metadata": {
  "kaggle": {
   "accelerator": "gpu",
   "dataSources": [
    {
     "datasetId": 4275820,
     "sourceId": 7587464,
     "sourceType": "datasetVersion"
    },
    {
     "datasetId": 4497321,
     "sourceId": 7703751,
     "sourceType": "datasetVersion"
    },
    {
     "sourceId": 157416039,
     "sourceType": "kernelVersion"
    }
   ],
   "dockerImageVersionId": 30627,
   "isGpuEnabled": true,
   "isInternetEnabled": true,
   "language": "python",
   "sourceType": "notebook"
  },
  "kernelspec": {
   "display_name": "Python 3",
   "language": "python",
   "name": "python3"
  },
  "language_info": {
   "codemirror_mode": {
    "name": "ipython",
    "version": 3
   },
   "file_extension": ".py",
   "mimetype": "text/x-python",
   "name": "python",
   "nbconvert_exporter": "python",
   "pygments_lexer": "ipython3",
   "version": "3.6.15"
  },
  "papermill": {
   "default_parameters": {},
   "duration": 17564.276871,
   "end_time": "2024-02-26T14:52:33.881866",
   "environment_variables": {},
   "exception": null,
   "input_path": "__notebook__.ipynb",
   "output_path": "__notebook__.ipynb",
   "parameters": {},
   "start_time": "2024-02-26T09:59:49.604995",
   "version": "2.4.0"
  },
  "widgets": {
   "application/vnd.jupyter.widget-state+json": {
    "state": {
     "025cddca711a4aa3bf35f7df68eef6b8": {
      "model_module": "@jupyter-widgets/controls",
      "model_module_version": "1.5.0",
      "model_name": "HTMLModel",
      "state": {
       "_dom_classes": [],
       "_model_module": "@jupyter-widgets/controls",
       "_model_module_version": "1.5.0",
       "_model_name": "HTMLModel",
       "_view_count": null,
       "_view_module": "@jupyter-widgets/controls",
       "_view_module_version": "1.5.0",
       "_view_name": "HTMLView",
       "description": "",
       "description_tooltip": null,
       "layout": "IPY_MODEL_ad7ecd4117c34f0d821703a9ffd96851",
       "placeholder": "​",
       "style": "IPY_MODEL_93cc65aa36a6447c9906605cabce4dc0",
       "value": "config.json: 100%"
      }
     },
     "058be6099484436abcbb6d61971b4066": {
      "model_module": "@jupyter-widgets/controls",
      "model_module_version": "1.5.0",
      "model_name": "ProgressStyleModel",
      "state": {
       "_model_module": "@jupyter-widgets/controls",
       "_model_module_version": "1.5.0",
       "_model_name": "ProgressStyleModel",
       "_view_count": null,
       "_view_module": "@jupyter-widgets/base",
       "_view_module_version": "1.2.0",
       "_view_name": "StyleView",
       "bar_color": null,
       "description_width": ""
      }
     },
     "0c3a38dcf1f64121b7bbf0392ca69146": {
      "model_module": "@jupyter-widgets/base",
      "model_module_version": "1.2.0",
      "model_name": "LayoutModel",
      "state": {
       "_model_module": "@jupyter-widgets/base",
       "_model_module_version": "1.2.0",
       "_model_name": "LayoutModel",
       "_view_count": null,
       "_view_module": "@jupyter-widgets/base",
       "_view_module_version": "1.2.0",
       "_view_name": "LayoutView",
       "align_content": null,
       "align_items": null,
       "align_self": null,
       "border": null,
       "bottom": null,
       "display": null,
       "flex": null,
       "flex_flow": null,
       "grid_area": null,
       "grid_auto_columns": null,
       "grid_auto_flow": null,
       "grid_auto_rows": null,
       "grid_column": null,
       "grid_gap": null,
       "grid_row": null,
       "grid_template_areas": null,
       "grid_template_columns": null,
       "grid_template_rows": null,
       "height": null,
       "justify_content": null,
       "justify_items": null,
       "left": null,
       "margin": null,
       "max_height": null,
       "max_width": null,
       "min_height": null,
       "min_width": null,
       "object_fit": null,
       "object_position": null,
       "order": null,
       "overflow": null,
       "overflow_x": null,
       "overflow_y": null,
       "padding": null,
       "right": null,
       "top": null,
       "visibility": null,
       "width": null
      }
     },
     "17ec0571c37443b18f97f0ed40c7ad75": {
      "model_module": "@jupyter-widgets/controls",
      "model_module_version": "1.5.0",
      "model_name": "HBoxModel",
      "state": {
       "_dom_classes": [],
       "_model_module": "@jupyter-widgets/controls",
       "_model_module_version": "1.5.0",
       "_model_name": "HBoxModel",
       "_view_count": null,
       "_view_module": "@jupyter-widgets/controls",
       "_view_module_version": "1.5.0",
       "_view_name": "HBoxView",
       "box_style": "",
       "children": [
        "IPY_MODEL_5caa304f12544c0080389e1100265276",
        "IPY_MODEL_3b8c8011067947509502204f6e65f941",
        "IPY_MODEL_863f9d46593640058f842d15bdc8208e"
       ],
       "layout": "IPY_MODEL_0c3a38dcf1f64121b7bbf0392ca69146"
      }
     },
     "2356014b6805409c86c4071be8fe397d": {
      "model_module": "@jupyter-widgets/controls",
      "model_module_version": "1.5.0",
      "model_name": "DescriptionStyleModel",
      "state": {
       "_model_module": "@jupyter-widgets/controls",
       "_model_module_version": "1.5.0",
       "_model_name": "DescriptionStyleModel",
       "_view_count": null,
       "_view_module": "@jupyter-widgets/base",
       "_view_module_version": "1.2.0",
       "_view_name": "StyleView",
       "description_width": ""
      }
     },
     "39159edba33a465f9fd150ce4c60ae7d": {
      "model_module": "@jupyter-widgets/base",
      "model_module_version": "1.2.0",
      "model_name": "LayoutModel",
      "state": {
       "_model_module": "@jupyter-widgets/base",
       "_model_module_version": "1.2.0",
       "_model_name": "LayoutModel",
       "_view_count": null,
       "_view_module": "@jupyter-widgets/base",
       "_view_module_version": "1.2.0",
       "_view_name": "LayoutView",
       "align_content": null,
       "align_items": null,
       "align_self": null,
       "border": null,
       "bottom": null,
       "display": null,
       "flex": null,
       "flex_flow": null,
       "grid_area": null,
       "grid_auto_columns": null,
       "grid_auto_flow": null,
       "grid_auto_rows": null,
       "grid_column": null,
       "grid_gap": null,
       "grid_row": null,
       "grid_template_areas": null,
       "grid_template_columns": null,
       "grid_template_rows": null,
       "height": null,
       "justify_content": null,
       "justify_items": null,
       "left": null,
       "margin": null,
       "max_height": null,
       "max_width": null,
       "min_height": null,
       "min_width": null,
       "object_fit": null,
       "object_position": null,
       "order": null,
       "overflow": null,
       "overflow_x": null,
       "overflow_y": null,
       "padding": null,
       "right": null,
       "top": null,
       "visibility": null,
       "width": null
      }
     },
     "3b4f957533e24122a9a0ed1b2e4c20fd": {
      "model_module": "@jupyter-widgets/base",
      "model_module_version": "1.2.0",
      "model_name": "LayoutModel",
      "state": {
       "_model_module": "@jupyter-widgets/base",
       "_model_module_version": "1.2.0",
       "_model_name": "LayoutModel",
       "_view_count": null,
       "_view_module": "@jupyter-widgets/base",
       "_view_module_version": "1.2.0",
       "_view_name": "LayoutView",
       "align_content": null,
       "align_items": null,
       "align_self": null,
       "border": null,
       "bottom": null,
       "display": null,
       "flex": null,
       "flex_flow": null,
       "grid_area": null,
       "grid_auto_columns": null,
       "grid_auto_flow": null,
       "grid_auto_rows": null,
       "grid_column": null,
       "grid_gap": null,
       "grid_row": null,
       "grid_template_areas": null,
       "grid_template_columns": null,
       "grid_template_rows": null,
       "height": null,
       "justify_content": null,
       "justify_items": null,
       "left": null,
       "margin": null,
       "max_height": null,
       "max_width": null,
       "min_height": null,
       "min_width": null,
       "object_fit": null,
       "object_position": null,
       "order": null,
       "overflow": null,
       "overflow_x": null,
       "overflow_y": null,
       "padding": null,
       "right": null,
       "top": null,
       "visibility": null,
       "width": null
      }
     },
     "3b8c8011067947509502204f6e65f941": {
      "model_module": "@jupyter-widgets/controls",
      "model_module_version": "1.5.0",
      "model_name": "FloatProgressModel",
      "state": {
       "_dom_classes": [],
       "_model_module": "@jupyter-widgets/controls",
       "_model_module_version": "1.5.0",
       "_model_name": "FloatProgressModel",
       "_view_count": null,
       "_view_module": "@jupyter-widgets/controls",
       "_view_module_version": "1.5.0",
       "_view_name": "ProgressView",
       "bar_style": "success",
       "description": "",
       "description_tooltip": null,
       "layout": "IPY_MODEL_9b8bfcba754b411dbc66705021452f8f",
       "max": 241053050,
       "min": 0,
       "orientation": "horizontal",
       "style": "IPY_MODEL_058be6099484436abcbb6d61971b4066",
       "value": 241053050
      }
     },
     "4a2f4ed874314063ac205df83eeb5ddc": {
      "model_module": "@jupyter-widgets/controls",
      "model_module_version": "1.5.0",
      "model_name": "DescriptionStyleModel",
      "state": {
       "_model_module": "@jupyter-widgets/controls",
       "_model_module_version": "1.5.0",
       "_model_name": "DescriptionStyleModel",
       "_view_count": null,
       "_view_module": "@jupyter-widgets/base",
       "_view_module_version": "1.2.0",
       "_view_name": "StyleView",
       "description_width": ""
      }
     },
     "5caa304f12544c0080389e1100265276": {
      "model_module": "@jupyter-widgets/controls",
      "model_module_version": "1.5.0",
      "model_name": "HTMLModel",
      "state": {
       "_dom_classes": [],
       "_model_module": "@jupyter-widgets/controls",
       "_model_module_version": "1.5.0",
       "_model_name": "HTMLModel",
       "_view_count": null,
       "_view_module": "@jupyter-widgets/controls",
       "_view_module_version": "1.5.0",
       "_view_name": "HTMLView",
       "description": "",
       "description_tooltip": null,
       "layout": "IPY_MODEL_fccdc5af838f4561a3628c43d4973028",
       "placeholder": "​",
       "style": "IPY_MODEL_70615e89b3d84b9c95ab1188805bb966",
       "value": "model.safetensors: 100%"
      }
     },
     "6cdc92f7f38c4e379c197652afb7c333": {
      "model_module": "@jupyter-widgets/base",
      "model_module_version": "1.2.0",
      "model_name": "LayoutModel",
      "state": {
       "_model_module": "@jupyter-widgets/base",
       "_model_module_version": "1.2.0",
       "_model_name": "LayoutModel",
       "_view_count": null,
       "_view_module": "@jupyter-widgets/base",
       "_view_module_version": "1.2.0",
       "_view_name": "LayoutView",
       "align_content": null,
       "align_items": null,
       "align_self": null,
       "border": null,
       "bottom": null,
       "display": null,
       "flex": null,
       "flex_flow": null,
       "grid_area": null,
       "grid_auto_columns": null,
       "grid_auto_flow": null,
       "grid_auto_rows": null,
       "grid_column": null,
       "grid_gap": null,
       "grid_row": null,
       "grid_template_areas": null,
       "grid_template_columns": null,
       "grid_template_rows": null,
       "height": null,
       "justify_content": null,
       "justify_items": null,
       "left": null,
       "margin": null,
       "max_height": null,
       "max_width": null,
       "min_height": null,
       "min_width": null,
       "object_fit": null,
       "object_position": null,
       "order": null,
       "overflow": null,
       "overflow_x": null,
       "overflow_y": null,
       "padding": null,
       "right": null,
       "top": null,
       "visibility": null,
       "width": null
      }
     },
     "70615e89b3d84b9c95ab1188805bb966": {
      "model_module": "@jupyter-widgets/controls",
      "model_module_version": "1.5.0",
      "model_name": "DescriptionStyleModel",
      "state": {
       "_model_module": "@jupyter-widgets/controls",
       "_model_module_version": "1.5.0",
       "_model_name": "DescriptionStyleModel",
       "_view_count": null,
       "_view_module": "@jupyter-widgets/base",
       "_view_module_version": "1.2.0",
       "_view_name": "StyleView",
       "description_width": ""
      }
     },
     "7351154c822d418db4937722c263bf5a": {
      "model_module": "@jupyter-widgets/controls",
      "model_module_version": "1.5.0",
      "model_name": "HTMLModel",
      "state": {
       "_dom_classes": [],
       "_model_module": "@jupyter-widgets/controls",
       "_model_module_version": "1.5.0",
       "_model_name": "HTMLModel",
       "_view_count": null,
       "_view_module": "@jupyter-widgets/controls",
       "_view_module_version": "1.5.0",
       "_view_name": "HTMLView",
       "description": "",
       "description_tooltip": null,
       "layout": "IPY_MODEL_cd2bc2010be04ab38a30dc16fea391a6",
       "placeholder": "​",
       "style": "IPY_MODEL_2356014b6805409c86c4071be8fe397d",
       "value": " 8.76k/8.76k [00:00&lt;00:00, 685kB/s]"
      }
     },
     "80e84f26bbd04dbda2a63b6f55b3d527": {
      "model_module": "@jupyter-widgets/controls",
      "model_module_version": "1.5.0",
      "model_name": "HBoxModel",
      "state": {
       "_dom_classes": [],
       "_model_module": "@jupyter-widgets/controls",
       "_model_module_version": "1.5.0",
       "_model_name": "HBoxModel",
       "_view_count": null,
       "_view_module": "@jupyter-widgets/controls",
       "_view_module_version": "1.5.0",
       "_view_name": "HBoxView",
       "box_style": "",
       "children": [
        "IPY_MODEL_025cddca711a4aa3bf35f7df68eef6b8",
        "IPY_MODEL_fd135a795ade4d468b9b8835000029d7",
        "IPY_MODEL_7351154c822d418db4937722c263bf5a"
       ],
       "layout": "IPY_MODEL_3b4f957533e24122a9a0ed1b2e4c20fd"
      }
     },
     "863f9d46593640058f842d15bdc8208e": {
      "model_module": "@jupyter-widgets/controls",
      "model_module_version": "1.5.0",
      "model_name": "HTMLModel",
      "state": {
       "_dom_classes": [],
       "_model_module": "@jupyter-widgets/controls",
       "_model_module_version": "1.5.0",
       "_model_name": "HTMLModel",
       "_view_count": null,
       "_view_module": "@jupyter-widgets/controls",
       "_view_module_version": "1.5.0",
       "_view_name": "HTMLView",
       "description": "",
       "description_tooltip": null,
       "layout": "IPY_MODEL_6cdc92f7f38c4e379c197652afb7c333",
       "placeholder": "​",
       "style": "IPY_MODEL_4a2f4ed874314063ac205df83eeb5ddc",
       "value": " 241M/241M [00:00&lt;00:00, 310MB/s]"
      }
     },
     "93cc65aa36a6447c9906605cabce4dc0": {
      "model_module": "@jupyter-widgets/controls",
      "model_module_version": "1.5.0",
      "model_name": "DescriptionStyleModel",
      "state": {
       "_model_module": "@jupyter-widgets/controls",
       "_model_module_version": "1.5.0",
       "_model_name": "DescriptionStyleModel",
       "_view_count": null,
       "_view_module": "@jupyter-widgets/base",
       "_view_module_version": "1.2.0",
       "_view_name": "StyleView",
       "description_width": ""
      }
     },
     "9b8bfcba754b411dbc66705021452f8f": {
      "model_module": "@jupyter-widgets/base",
      "model_module_version": "1.2.0",
      "model_name": "LayoutModel",
      "state": {
       "_model_module": "@jupyter-widgets/base",
       "_model_module_version": "1.2.0",
       "_model_name": "LayoutModel",
       "_view_count": null,
       "_view_module": "@jupyter-widgets/base",
       "_view_module_version": "1.2.0",
       "_view_name": "LayoutView",
       "align_content": null,
       "align_items": null,
       "align_self": null,
       "border": null,
       "bottom": null,
       "display": null,
       "flex": null,
       "flex_flow": null,
       "grid_area": null,
       "grid_auto_columns": null,
       "grid_auto_flow": null,
       "grid_auto_rows": null,
       "grid_column": null,
       "grid_gap": null,
       "grid_row": null,
       "grid_template_areas": null,
       "grid_template_columns": null,
       "grid_template_rows": null,
       "height": null,
       "justify_content": null,
       "justify_items": null,
       "left": null,
       "margin": null,
       "max_height": null,
       "max_width": null,
       "min_height": null,
       "min_width": null,
       "object_fit": null,
       "object_position": null,
       "order": null,
       "overflow": null,
       "overflow_x": null,
       "overflow_y": null,
       "padding": null,
       "right": null,
       "top": null,
       "visibility": null,
       "width": null
      }
     },
     "ad7ecd4117c34f0d821703a9ffd96851": {
      "model_module": "@jupyter-widgets/base",
      "model_module_version": "1.2.0",
      "model_name": "LayoutModel",
      "state": {
       "_model_module": "@jupyter-widgets/base",
       "_model_module_version": "1.2.0",
       "_model_name": "LayoutModel",
       "_view_count": null,
       "_view_module": "@jupyter-widgets/base",
       "_view_module_version": "1.2.0",
       "_view_name": "LayoutView",
       "align_content": null,
       "align_items": null,
       "align_self": null,
       "border": null,
       "bottom": null,
       "display": null,
       "flex": null,
       "flex_flow": null,
       "grid_area": null,
       "grid_auto_columns": null,
       "grid_auto_flow": null,
       "grid_auto_rows": null,
       "grid_column": null,
       "grid_gap": null,
       "grid_row": null,
       "grid_template_areas": null,
       "grid_template_columns": null,
       "grid_template_rows": null,
       "height": null,
       "justify_content": null,
       "justify_items": null,
       "left": null,
       "margin": null,
       "max_height": null,
       "max_width": null,
       "min_height": null,
       "min_width": null,
       "object_fit": null,
       "object_position": null,
       "order": null,
       "overflow": null,
       "overflow_x": null,
       "overflow_y": null,
       "padding": null,
       "right": null,
       "top": null,
       "visibility": null,
       "width": null
      }
     },
     "b4e5dcdb45264dc395c81cc7a6dd43dc": {
      "model_module": "@jupyter-widgets/controls",
      "model_module_version": "1.5.0",
      "model_name": "ProgressStyleModel",
      "state": {
       "_model_module": "@jupyter-widgets/controls",
       "_model_module_version": "1.5.0",
       "_model_name": "ProgressStyleModel",
       "_view_count": null,
       "_view_module": "@jupyter-widgets/base",
       "_view_module_version": "1.2.0",
       "_view_name": "StyleView",
       "bar_color": null,
       "description_width": ""
      }
     },
     "cd2bc2010be04ab38a30dc16fea391a6": {
      "model_module": "@jupyter-widgets/base",
      "model_module_version": "1.2.0",
      "model_name": "LayoutModel",
      "state": {
       "_model_module": "@jupyter-widgets/base",
       "_model_module_version": "1.2.0",
       "_model_name": "LayoutModel",
       "_view_count": null,
       "_view_module": "@jupyter-widgets/base",
       "_view_module_version": "1.2.0",
       "_view_name": "LayoutView",
       "align_content": null,
       "align_items": null,
       "align_self": null,
       "border": null,
       "bottom": null,
       "display": null,
       "flex": null,
       "flex_flow": null,
       "grid_area": null,
       "grid_auto_columns": null,
       "grid_auto_flow": null,
       "grid_auto_rows": null,
       "grid_column": null,
       "grid_gap": null,
       "grid_row": null,
       "grid_template_areas": null,
       "grid_template_columns": null,
       "grid_template_rows": null,
       "height": null,
       "justify_content": null,
       "justify_items": null,
       "left": null,
       "margin": null,
       "max_height": null,
       "max_width": null,
       "min_height": null,
       "min_width": null,
       "object_fit": null,
       "object_position": null,
       "order": null,
       "overflow": null,
       "overflow_x": null,
       "overflow_y": null,
       "padding": null,
       "right": null,
       "top": null,
       "visibility": null,
       "width": null
      }
     },
     "fccdc5af838f4561a3628c43d4973028": {
      "model_module": "@jupyter-widgets/base",
      "model_module_version": "1.2.0",
      "model_name": "LayoutModel",
      "state": {
       "_model_module": "@jupyter-widgets/base",
       "_model_module_version": "1.2.0",
       "_model_name": "LayoutModel",
       "_view_count": null,
       "_view_module": "@jupyter-widgets/base",
       "_view_module_version": "1.2.0",
       "_view_name": "LayoutView",
       "align_content": null,
       "align_items": null,
       "align_self": null,
       "border": null,
       "bottom": null,
       "display": null,
       "flex": null,
       "flex_flow": null,
       "grid_area": null,
       "grid_auto_columns": null,
       "grid_auto_flow": null,
       "grid_auto_rows": null,
       "grid_column": null,
       "grid_gap": null,
       "grid_row": null,
       "grid_template_areas": null,
       "grid_template_columns": null,
       "grid_template_rows": null,
       "height": null,
       "justify_content": null,
       "justify_items": null,
       "left": null,
       "margin": null,
       "max_height": null,
       "max_width": null,
       "min_height": null,
       "min_width": null,
       "object_fit": null,
       "object_position": null,
       "order": null,
       "overflow": null,
       "overflow_x": null,
       "overflow_y": null,
       "padding": null,
       "right": null,
       "top": null,
       "visibility": null,
       "width": null
      }
     },
     "fd135a795ade4d468b9b8835000029d7": {
      "model_module": "@jupyter-widgets/controls",
      "model_module_version": "1.5.0",
      "model_name": "FloatProgressModel",
      "state": {
       "_dom_classes": [],
       "_model_module": "@jupyter-widgets/controls",
       "_model_module_version": "1.5.0",
       "_model_name": "FloatProgressModel",
       "_view_count": null,
       "_view_module": "@jupyter-widgets/controls",
       "_view_module_version": "1.5.0",
       "_view_name": "ProgressView",
       "bar_style": "success",
       "description": "",
       "description_tooltip": null,
       "layout": "IPY_MODEL_39159edba33a465f9fd150ce4c60ae7d",
       "max": 8755,
       "min": 0,
       "orientation": "horizontal",
       "style": "IPY_MODEL_b4e5dcdb45264dc395c81cc7a6dd43dc",
       "value": 8755
      }
     }
    },
    "version_major": 2,
    "version_minor": 0
   }
  }
 },
 "nbformat": 4,
 "nbformat_minor": 5
}
