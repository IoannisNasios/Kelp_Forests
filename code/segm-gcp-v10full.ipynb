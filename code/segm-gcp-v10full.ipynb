{
 "cells": [
  {
   "cell_type": "code",
   "execution_count": 1,
   "id": "22b209c9",
   "metadata": {
    "execution": {
     "iopub.execute_input": "2024-02-26T15:01:54.991239Z",
     "iopub.status.busy": "2024-02-26T15:01:54.990512Z",
     "iopub.status.idle": "2024-02-26T15:02:14.659272Z",
     "shell.execute_reply": "2024-02-26T15:02:14.658020Z"
    },
    "executionInfo": {
     "elapsed": 34092,
     "status": "ok",
     "timestamp": 1707466409516,
     "user": {
      "displayName": "Ioannis Nasios",
      "userId": "11761353373054103725"
     },
     "user_tz": -120
    },
    "id": "qaQL9UA8hUGG",
    "outputId": "f51548c2-43c6-4533-95f3-c9e829092b50",
    "papermill": {
     "duration": 19.684197,
     "end_time": "2024-02-26T15:02:14.661711",
     "exception": false,
     "start_time": "2024-02-26T15:01:54.977514",
     "status": "completed"
    },
    "tags": []
   },
   "outputs": [],
   "source": [
    "# !pip install -q segmentation_models_pytorch"
   ]
  },
  {
   "cell_type": "code",
   "execution_count": 2,
   "id": "7a309fb8",
   "metadata": {
    "execution": {
     "iopub.execute_input": "2024-02-26T15:02:14.687191Z",
     "iopub.status.busy": "2024-02-26T15:02:14.686871Z",
     "iopub.status.idle": "2024-02-26T15:02:15.690951Z",
     "shell.execute_reply": "2024-02-26T15:02:15.689854Z"
    },
    "executionInfo": {
     "elapsed": 20,
     "status": "ok",
     "timestamp": 1707466409517,
     "user": {
      "displayName": "Ioannis Nasios",
      "userId": "11761353373054103725"
     },
     "user_tz": -120
    },
    "id": "sxZ3IwGMhVoZ",
    "outputId": "a4e1d396-4c45-4296-f6f0-470c0ae21169",
    "papermill": {
     "duration": 1.019286,
     "end_time": "2024-02-26T15:02:15.693210",
     "exception": false,
     "start_time": "2024-02-26T15:02:14.673924",
     "status": "completed"
    },
    "tags": []
   },
   "outputs": [],
   "source": [
    "# !nvidia-smi\n"
   ]
  },
  {
   "cell_type": "code",
   "execution_count": 3,
   "id": "afeeb92d",
   "metadata": {
    "execution": {
     "iopub.execute_input": "2024-02-26T15:02:15.718741Z",
     "iopub.status.busy": "2024-02-26T15:02:15.718365Z",
     "iopub.status.idle": "2024-02-26T15:02:15.722992Z",
     "shell.execute_reply": "2024-02-26T15:02:15.722140Z"
    },
    "executionInfo": {
     "elapsed": 9731,
     "status": "ok",
     "timestamp": 1707466674202,
     "user": {
      "displayName": "Ioannis Nasios",
      "userId": "11761353373054103725"
     },
     "user_tz": -120
    },
    "id": "7ax6pOPencMW",
    "outputId": "1ad88d42-53e7-49b2-9dee-3d00e34cbba5",
    "papermill": {
     "duration": 0.019501,
     "end_time": "2024-02-26T15:02:15.724859",
     "exception": false,
     "start_time": "2024-02-26T15:02:15.705358",
     "status": "completed"
    },
    "tags": []
   },
   "outputs": [],
   "source": [
    "# !pip install imagecodecs"
   ]
  },
  {
   "cell_type": "code",
   "execution_count": 4,
   "id": "4ebc325d",
   "metadata": {
    "execution": {
     "iopub.execute_input": "2024-02-26T15:02:15.750993Z",
     "iopub.status.busy": "2024-02-26T15:02:15.750229Z",
     "iopub.status.idle": "2024-02-26T15:02:27.063301Z",
     "shell.execute_reply": "2024-02-26T15:02:27.062517Z"
    },
    "executionInfo": {
     "elapsed": 8824,
     "status": "ok",
     "timestamp": 1707466691675,
     "user": {
      "displayName": "Ioannis Nasios",
      "userId": "11761353373054103725"
     },
     "user_tz": -120
    },
    "id": "702ed953-927a-4075-8952-ac8bc31cdefd",
    "papermill": {
     "duration": 11.328837,
     "end_time": "2024-02-26T15:02:27.065623",
     "exception": false,
     "start_time": "2024-02-26T15:02:15.736786",
     "status": "completed"
    },
    "tags": []
   },
   "outputs": [],
   "source": [
    "import os\n",
    "# os.environ[\"CUDA_VISIBLE_DEVICES\"] = \"0\"\n",
    "\n",
    "import cv2\n",
    "import tifffile\n",
    "import numpy as np\n",
    "import pandas as pd\n",
    "import matplotlib.pyplot as plt\n",
    "import gc\n",
    "import warnings\n",
    "warnings.filterwarnings(\"ignore\")\n",
    "\n",
    "import random\n",
    "import torch\n",
    "import torch.nn as nn\n",
    "import albumentations\n",
    "\n",
    "import segmentation_models_pytorch as smp\n",
    "import skimage\n",
    "\n",
    "\n",
    "from tqdm import tqdm\n",
    "import torch.optim as optim\n",
    "from torch.utils.data import TensorDataset, DataLoader,Dataset\n",
    "from fastprogress import master_bar, progress_bar\n",
    "\n",
    "def create_dir(path):\n",
    "    if os.path.isdir(path)==False:\n",
    "        os.makedirs(path)"
   ]
  },
  {
   "cell_type": "code",
   "execution_count": 3,
   "id": "c24a6a2e",
   "metadata": {
    "execution": {
     "iopub.execute_input": "2024-02-26T15:02:27.090599Z",
     "iopub.status.busy": "2024-02-26T15:02:27.090321Z",
     "iopub.status.idle": "2024-02-26T15:02:27.095566Z",
     "shell.execute_reply": "2024-02-26T15:02:27.094856Z"
    },
    "executionInfo": {
     "elapsed": 3541,
     "status": "ok",
     "timestamp": 1707466695209,
     "user": {
      "displayName": "Ioannis Nasios",
      "userId": "11761353373054103725"
     },
     "user_tz": -120
    },
    "id": "2G1WkXignd_c",
    "outputId": "7e2dfc45-be78-4498-8c84-02a08b96ad47",
    "papermill": {
     "duration": 0.019862,
     "end_time": "2024-02-26T15:02:27.097444",
     "exception": false,
     "start_time": "2024-02-26T15:02:27.077582",
     "status": "completed"
    },
    "tags": []
   },
   "outputs": [],
   "source": [
    "# # CONFIGURE \n",
    "\n",
    "# # Set Data Paths\n",
    "# test_path='test_satellite/'\n",
    "# train_path='train_satellite/'\n",
    "# labels_path='train_kelp/'\n",
    "\n",
    "\n",
    "# # Create directories\n",
    "# # test_predmask_path='test_kelp/'\n",
    "# # create_dir(test_predmask_path)\n",
    "\n",
    "# # set weights directory for new training saving\n",
    "# weights_path='weights/'\n",
    "# create_dir(weights_path)\n",
    "\n",
    "\n",
    "# RETRAIN= False # if true retrain else use trained weights for inference\n",
    "# trained_weights = 'trained_weights/' # meaningful only when RETRAIN=False\n",
    "\n",
    "\n",
    "# # directory for prediction probabilities \n",
    "# test_preds_dir = 'test_preds/'\n",
    "# create_dir(test_preds_dir)\n",
    "\n",
    "from config import test_path, train_path, labels_path, weights_path, RETRAIN, trained_weights, test_preds_dir\n",
    "\n",
    "# DO NOT EDIT BELOW"
   ]
  },
  {
   "cell_type": "code",
   "execution_count": 4,
   "id": "37a9358e",
   "metadata": {},
   "outputs": [
    {
     "data": {
      "text/plain": [
       "('test_satellite/',\n",
       " 'train_satellite/',\n",
       " 'train_kelp/',\n",
       " 'weights/',\n",
       " False,\n",
       " 'trained_weights/',\n",
       " 'test_preds/')"
      ]
     },
     "execution_count": 4,
     "metadata": {},
     "output_type": "execute_result"
    }
   ],
   "source": [
    "test_path, train_path, labels_path, weights_path, RETRAIN, trained_weights, test_preds_dir"
   ]
  },
  {
   "cell_type": "code",
   "execution_count": 6,
   "id": "db310832",
   "metadata": {
    "execution": {
     "iopub.execute_input": "2024-02-26T15:02:27.123241Z",
     "iopub.status.busy": "2024-02-26T15:02:27.122748Z",
     "iopub.status.idle": "2024-02-26T15:02:27.128711Z",
     "shell.execute_reply": "2024-02-26T15:02:27.127876Z"
    },
    "executionInfo": {
     "elapsed": 41,
     "status": "ok",
     "timestamp": 1707466695212,
     "user": {
      "displayName": "Ioannis Nasios",
      "userId": "11761353373054103725"
     },
     "user_tz": -120
    },
    "id": "d538a9e1-3634-462f-8ed1-4fa9464f07ff",
    "papermill": {
     "duration": 0.020108,
     "end_time": "2024-02-26T15:02:27.130507",
     "exception": false,
     "start_time": "2024-02-26T15:02:27.110399",
     "status": "completed"
    },
    "tags": []
   },
   "outputs": [],
   "source": [
    "basename='segm_GCp_v10full'\n",
    "\n",
    "# training schedule variables\n",
    "epochs=35\n",
    "snapshots = 1\n",
    "lr_0 = 0.00005\n",
    "WARMUP_EPOCHS=2\n",
    "\n",
    "# training input variables\n",
    "SIZE=1024 # resize image size\n",
    "channels=[0,1,3] # SWIR, NIR, Green\n",
    "meansCH = np.array( [0.485, 0.456, 0.406] )\n",
    "stdsCH = np.array( [0.229, 0.224, 0.225] )\n",
    "stdsCH *= 0.9\n",
    "CLIPMIN=6000\n",
    "CLIPMAX=24000\n",
    "\n",
    "\n",
    "BA=3 # Batch Accumulation\n",
    "num_workers = 4 # \n",
    "bs = 3 # Batch Size"
   ]
  },
  {
   "cell_type": "code",
   "execution_count": 7,
   "id": "13d2734a",
   "metadata": {
    "execution": {
     "iopub.execute_input": "2024-02-26T15:02:27.154849Z",
     "iopub.status.busy": "2024-02-26T15:02:27.154583Z",
     "iopub.status.idle": "2024-02-26T15:02:28.095787Z",
     "shell.execute_reply": "2024-02-26T15:02:28.094891Z"
    },
    "executionInfo": {
     "elapsed": 40,
     "status": "ok",
     "timestamp": 1707466695212,
     "user": {
      "displayName": "Ioannis Nasios",
      "userId": "11761353373054103725"
     },
     "user_tz": -120
    },
    "id": "60bfeab1-79e6-4fbc-b817-cc2a87f9cac3",
    "papermill": {
     "duration": 0.955753,
     "end_time": "2024-02-26T15:02:28.097916",
     "exception": false,
     "start_time": "2024-02-26T15:02:27.142163",
     "status": "completed"
    },
    "tags": []
   },
   "outputs": [
    {
     "data": {
      "text/plain": [
       "(1426, 5635, 5635, 'FF979226_satellite.tif', 'WG210136_kelp.tif')"
      ]
     },
     "execution_count": 7,
     "metadata": {},
     "output_type": "execute_result"
    }
   ],
   "source": [
    "test_image_names=os.listdir(test_path)\n",
    "train_image_names=os.listdir(train_path)\n",
    "mask_names = os.listdir(labels_path)\n",
    "len(test_image_names),len(train_image_names),len(mask_names),test_image_names[0],mask_names[0]"
   ]
  },
  {
   "cell_type": "code",
   "execution_count": 5,
   "id": "b0e0b73c",
   "metadata": {
    "execution": {
     "iopub.execute_input": "2024-02-26T15:02:28.124467Z",
     "iopub.status.busy": "2024-02-26T15:02:28.124180Z",
     "iopub.status.idle": "2024-02-26T15:02:28.149521Z",
     "shell.execute_reply": "2024-02-26T15:02:28.148695Z"
    },
    "executionInfo": {
     "elapsed": 39,
     "status": "ok",
     "timestamp": 1707466695212,
     "user": {
      "displayName": "Ioannis Nasios",
      "userId": "11761353373054103725"
     },
     "user_tz": -120
    },
    "id": "ff4c1221-64ca-40c3-aa2b-b3b08d196a0e",
    "outputId": "20bc5296-5768-4c76-a78c-12c1f6b62b7c",
    "papermill": {
     "duration": 0.040698,
     "end_time": "2024-02-26T15:02:28.151441",
     "exception": false,
     "start_time": "2024-02-26T15:02:28.110743",
     "status": "completed"
    },
    "tags": []
   },
   "outputs": [],
   "source": [
    "full_train_img_paths= np.array([train_path+x for x in train_image_names])\n",
    "full_train_msk_paths= np.array([labels_path+x.split('_')[0]+'_kelp.tif' for x in train_image_names])\n",
    "# full_test_img_paths= np.array([test_path+x for x in test_image_names])\n",
    "# test_image_names=np.load('/kaggle/input/needkelp/kafe_test_image_names.npz')['arr_0']\n",
    "full_test_img_paths=np.array([test_path+x for x in test_image_names])\n",
    "len(full_train_img_paths),len(full_train_msk_paths),len(full_test_img_paths),full_train_img_paths[:2],full_test_img_paths[:2]\n"
   ]
  },
  {
   "cell_type": "code",
   "execution_count": null,
   "id": "48534da8",
   "metadata": {},
   "outputs": [],
   "source": [
    "# vids=np.load('/kaggle/input/needkelp/valid_imids_ph2.npz')['arr_0']\n",
    "# tids=np.load('/kaggle/input/needkelp/train_imids_ph2.npz')['arr_0']\n",
    "# len(tids),len(vids)\n",
    "\n",
    "# train_ids= np.array([train_path+x for x in tids])\n",
    "# val_ids= np.array([train_path+x for x in vids])\n",
    "# train_ids.shape, val_ids.shape\n",
    "\n",
    "# train_ids=np.concatenate((train_ids,val_ids))\n",
    "\n",
    "train_ids=np.array([train_path+x for x in train_image_names])\n",
    "train_ids.shape,train_ids[:3]"
   ]
  },
  {
   "cell_type": "code",
   "execution_count": 9,
   "id": "6f3fc2d2",
   "metadata": {
    "execution": {
     "iopub.execute_input": "2024-02-26T15:02:28.176460Z",
     "iopub.status.busy": "2024-02-26T15:02:28.176168Z",
     "iopub.status.idle": "2024-02-26T15:02:29.531847Z",
     "shell.execute_reply": "2024-02-26T15:02:29.531077Z"
    },
    "executionInfo": {
     "elapsed": 1918,
     "status": "ok",
     "timestamp": 1707466698419,
     "user": {
      "displayName": "Ioannis Nasios",
      "userId": "11761353373054103725"
     },
     "user_tz": -120
    },
    "id": "9894f172-d65d-4122-998b-6596b43b90e3",
    "outputId": "c76da237-fc65-430d-d557-20f2e07de009",
    "papermill": {
     "duration": 1.370666,
     "end_time": "2024-02-26T15:02:29.533978",
     "exception": false,
     "start_time": "2024-02-26T15:02:28.163312",
     "status": "completed"
    },
    "tags": []
   },
   "outputs": [
    {
     "name": "stderr",
     "output_type": "stream",
     "text": [
      "Downloading: \"https://github.com/qubvel/segmentation_models.pytorch/releases/download/v0.0.2/mit_b1.pth\" to /root/.cache/torch/hub/checkpoints/mit_b1.pth\n",
      "100%|██████████| 52.2M/52.2M [00:00<00:00, 248MB/s]\n"
     ]
    }
   ],
   "source": [
    "ENCODER = 'mit_b1'\n",
    "\n",
    "ENCODER_WEIGHTS = 'imagenet'\n",
    "## define the model\n",
    "ACTIVATION = 'sigmoid'# None\n",
    "\n",
    "model = smp.Unet(\n",
    "    encoder_name=ENCODER,\n",
    "    encoder_weights=ENCODER_WEIGHTS,\n",
    "    classes=1,\n",
    "    in_channels=3,\n",
    "    activation=ACTIVATION,\n",
    "    decoder_attention_type='scse'\n",
    ")\n",
    "# torch.save(model.state_dict(), 'Unet_'+ENCODER+'.pt')"
   ]
  },
  {
   "cell_type": "code",
   "execution_count": 10,
   "id": "f995e586",
   "metadata": {
    "execution": {
     "iopub.execute_input": "2024-02-26T15:02:29.560642Z",
     "iopub.status.busy": "2024-02-26T15:02:29.560129Z",
     "iopub.status.idle": "2024-02-26T15:02:29.568474Z",
     "shell.execute_reply": "2024-02-26T15:02:29.567671Z"
    },
    "executionInfo": {
     "elapsed": 6,
     "status": "ok",
     "timestamp": 1707466698419,
     "user": {
      "displayName": "Ioannis Nasios",
      "userId": "11761353373054103725"
     },
     "user_tz": -120
    },
    "id": "da012884-4532-45ec-aa6d-df9e3bde60fe",
    "papermill": {
     "duration": 0.023645,
     "end_time": "2024-02-26T15:02:29.570341",
     "exception": false,
     "start_time": "2024-02-26T15:02:29.546696",
     "status": "completed"
    },
    "tags": []
   },
   "outputs": [],
   "source": [
    "def cosine_anneal_schedule(t):\n",
    "    cos_inner = np.pi * (t % (epochs // snapshots))\n",
    "    cos_inner /= epochs // snapshots\n",
    "    cos_out = np.cos(cos_inner) + 1\n",
    "    return float(lr_0 / 2 * cos_out)\n",
    "cosine_anneal_schedule_list=[cosine_anneal_schedule(x) for x in range(epochs)]\n",
    "# cosine_anneal_schedule_list\n",
    "cosine_anneal_schedule_list=[0.000001]*WARMUP_EPOCHS+cosine_anneal_schedule_list\n",
    "epochs=len(cosine_anneal_schedule_list)\n",
    "def adjust_optim(optimizer, n_iter):\n",
    "    optimizer.param_groups[0]['lr'] = cosine_anneal_schedule_list[n_iter % epochs]\n",
    "\n",
    "# adjust_optim(optimizer,47)"
   ]
  },
  {
   "cell_type": "code",
   "execution_count": 11,
   "id": "f242dda6",
   "metadata": {
    "execution": {
     "iopub.execute_input": "2024-02-26T15:02:29.596351Z",
     "iopub.status.busy": "2024-02-26T15:02:29.596080Z",
     "iopub.status.idle": "2024-02-26T15:02:29.608078Z",
     "shell.execute_reply": "2024-02-26T15:02:29.607074Z"
    },
    "executionInfo": {
     "elapsed": 11,
     "status": "ok",
     "timestamp": 1707466698979,
     "user": {
      "displayName": "Ioannis Nasios",
      "userId": "11761353373054103725"
     },
     "user_tz": -120
    },
    "id": "kbFWPqT5cTcU",
    "papermill": {
     "duration": 0.02745,
     "end_time": "2024-02-26T15:02:29.610160",
     "exception": false,
     "start_time": "2024-02-26T15:02:29.582710",
     "status": "completed"
    },
    "tags": []
   },
   "outputs": [],
   "source": [
    "\n",
    "Ms = meansCH.mean()\n",
    "Ss = stdsCH.mean()\n",
    "class KelpDataset_disk(torch.utils.data.Dataset):\n",
    "    \"\"\"Reads in images, transforms pixel values, and serves a\n",
    "    dictionary containing chip ids, image tensors, and\n",
    "    label masks (where available).\n",
    "    \"\"\"\n",
    "\n",
    "    def __init__(self, x_paths,y_paths, transforms=None, preprocessing=None, mode='train'):\n",
    "        self.x_paths = x_paths\n",
    "        self.y_paths = y_paths\n",
    "        # self.ids = ids\n",
    "        self.transforms = transforms\n",
    "        self.preprocessing = preprocessing\n",
    "        self.mode=mode\n",
    "\n",
    "    def __len__(self):\n",
    "        return len(self.x_paths)\n",
    "\n",
    "    def __getitem__(self, idx):\n",
    "        # Loads a 3-channel image from a chip-level dataframe\n",
    "        # x_arr = images[idx].astype('float')\n",
    "        # y_arr = masks[idx]\n",
    "        x_arr=tifffile.imread(self.x_paths[idx]).astype('float32')\n",
    "        t=x_arr.copy()\n",
    "        x_arr=np.clip(x_arr,CLIPMIN,CLIPMAX)\n",
    "        x_arr[t<=-32000]=0\n",
    "        del t\n",
    "\n",
    "        if self.mode=='test':\n",
    "            y_arr=np.zeros((350,350)).astype('uint8')\n",
    "        else:\n",
    "            y_arr=tifffile.imread(self.y_paths[idx])\n",
    "\n",
    "        y_arr = np.expand_dims(y_arr, -1).astype('float32')\n",
    "\n",
    "        # print(x_arr.shape,y_arr.shape)\n",
    "        # Apply data augmentations, if provided\n",
    "        if self.transforms:\n",
    "            augmented = self.transforms(image=x_arr, mask=y_arr)\n",
    "            x_arr, y_arr = augmented['image'], augmented['mask']\n",
    "\n",
    "        x_arr = x_arr[...,channels]/CLIPMAX\n",
    "\n",
    "        x_arr = (x_arr - meansCH)/stdsCH\n",
    "\n",
    "        x_arr = np.transpose(x_arr, [2, 0, 1])\n",
    "        y_arr = np.transpose(y_arr, [2, 0, 1])\n",
    "\n",
    "        if self.preprocessing:\n",
    "            preprocessed = self.preprocessing(image=x_arr, mask=y_arr)\n",
    "            # preprocessed = self.preprocessing(image=x_arr)\n",
    "            x_arr = preprocessed['image']\n",
    "            y_arr = preprocessed['mask']\n",
    "\n",
    "\n",
    "        return x_arr.astype('float32'), y_arr.astype('float32')#.astype('uint8')#, not_missing_mask.astype('uint8')"
   ]
  },
  {
   "cell_type": "code",
   "execution_count": 12,
   "id": "68f73c45",
   "metadata": {
    "execution": {
     "iopub.execute_input": "2024-02-26T15:02:29.636141Z",
     "iopub.status.busy": "2024-02-26T15:02:29.635898Z",
     "iopub.status.idle": "2024-02-26T15:02:29.641278Z",
     "shell.execute_reply": "2024-02-26T15:02:29.640388Z"
    },
    "executionInfo": {
     "elapsed": 21,
     "status": "ok",
     "timestamp": 1707466714208,
     "user": {
      "displayName": "Ioannis Nasios",
      "userId": "11761353373054103725"
     },
     "user_tz": -120
    },
    "id": "smRzTFOWXmXr",
    "papermill": {
     "duration": 0.020399,
     "end_time": "2024-02-26T15:02:29.643127",
     "exception": false,
     "start_time": "2024-02-26T15:02:29.622728",
     "status": "completed"
    },
    "tags": []
   },
   "outputs": [],
   "source": [
    "training_transformations = albumentations.Compose(\n",
    "    [\n",
    "        albumentations.Resize(SIZE, SIZE, interpolation=2),\n",
    "        albumentations.RandomRotate90(),\n",
    "        albumentations.HorizontalFlip(),\n",
    "        albumentations.VerticalFlip(),\n",
    "    ]\n",
    ")\n",
    "validation_transformations = albumentations.Compose(\n",
    "    [\n",
    "        albumentations.Resize(SIZE, SIZE, interpolation=2),\n",
    "    ]\n",
    ")"
   ]
  },
  {
   "cell_type": "code",
   "execution_count": null,
   "id": "f1df797c",
   "metadata": {
    "executionInfo": {
     "elapsed": 18,
     "status": "ok",
     "timestamp": 1707466714209,
     "user": {
      "displayName": "Ioannis Nasios",
      "userId": "11761353373054103725"
     },
     "user_tz": -120
    },
    "id": "f2c85fe6-d5a8-40fe-acc4-b0da43a212ee",
    "papermill": {
     "duration": 0.012256,
     "end_time": "2024-02-26T15:02:29.667777",
     "exception": false,
     "start_time": "2024-02-26T15:02:29.655521",
     "status": "completed"
    },
    "tags": []
   },
   "outputs": [],
   "source": []
  },
  {
   "cell_type": "code",
   "execution_count": 13,
   "id": "22551073",
   "metadata": {
    "execution": {
     "iopub.execute_input": "2024-02-26T15:02:29.693690Z",
     "iopub.status.busy": "2024-02-26T15:02:29.693396Z",
     "iopub.status.idle": "2024-02-26T15:02:29.701422Z",
     "shell.execute_reply": "2024-02-26T15:02:29.700578Z"
    },
    "executionInfo": {
     "elapsed": 17,
     "status": "ok",
     "timestamp": 1707466714209,
     "user": {
      "displayName": "Ioannis Nasios",
      "userId": "11761353373054103725"
     },
     "user_tz": -120
    },
    "id": "f60a49ca-a52e-4f74-aa5e-3311998cd4a6",
    "papermill": {
     "duration": 0.023023,
     "end_time": "2024-02-26T15:02:29.703274",
     "exception": false,
     "start_time": "2024-02-26T15:02:29.680251",
     "status": "completed"
    },
    "tags": []
   },
   "outputs": [],
   "source": [
    "# from sklearn.metrics import jaccard_score\n",
    "def get_dice_coef(gt, preds, THRESH=0.5):\n",
    "    #gt shape BxCxHxW\n",
    "    #preds shape BxHxW\n",
    "    dice = np.sum((preds>THRESH)[gt[:,0,...]==1])*2.0 / (np.sum((preds>THRESH)) + np.sum(gt[:,0,...]))\n",
    "    return dice\n",
    "\n",
    "\n",
    "class DiceLoss(nn.Module):\n",
    "    def __init__(self, weight=None, size_average=True):\n",
    "        super(DiceLoss, self).__init__()\n",
    "\n",
    "    def forward(self, inputs, targets, eps=1e-7):\n",
    "\n",
    "        # #comment out if your model contains a sigmoid or equivalent activation layer\n",
    "        # inputs = F.sigmoid(inputs)\n",
    "\n",
    "        #flatten label and prediction tensors\n",
    "        inputs = inputs.view(-1)\n",
    "        targets = targets.view(-1)\n",
    "\n",
    "        intersection = (inputs * targets).sum()\n",
    "        dice = (2.*intersection )/(inputs.sum() + targets.sum() + eps)\n",
    "\n",
    "        return 1 - dice\n"
   ]
  },
  {
   "cell_type": "code",
   "execution_count": 14,
   "id": "b9de368c",
   "metadata": {
    "execution": {
     "iopub.execute_input": "2024-02-26T15:02:29.729106Z",
     "iopub.status.busy": "2024-02-26T15:02:29.728864Z",
     "iopub.status.idle": "2024-02-26T15:02:29.733499Z",
     "shell.execute_reply": "2024-02-26T15:02:29.732698Z"
    },
    "executionInfo": {
     "elapsed": 17,
     "status": "ok",
     "timestamp": 1707466714210,
     "user": {
      "displayName": "Ioannis Nasios",
      "userId": "11761353373054103725"
     },
     "user_tz": -120
    },
    "id": "QaskvDvjbkOm",
    "papermill": {
     "duration": 0.019811,
     "end_time": "2024-02-26T15:02:29.735388",
     "exception": false,
     "start_time": "2024-02-26T15:02:29.715577",
     "status": "completed"
    },
    "tags": []
   },
   "outputs": [],
   "source": [
    "def adjust_optim(optimizer, n_iter):\n",
    "    optimizer.param_groups[0]['lr'] = cosine_anneal_schedule_list[n_iter % epochs]\n",
    "    optimizer.param_groups[1]['lr'] = cosine_anneal_schedule_list[n_iter % epochs]*10\n",
    "    optimizer.param_groups[2]['lr'] = cosine_anneal_schedule_list[n_iter % epochs]\n",
    "# adjust_optim(optimizer, 10)"
   ]
  },
  {
   "cell_type": "code",
   "execution_count": null,
   "id": "b42ec849",
   "metadata": {
    "executionInfo": {
     "elapsed": 15,
     "status": "ok",
     "timestamp": 1707466714210,
     "user": {
      "displayName": "Ioannis Nasios",
      "userId": "11761353373054103725"
     },
     "user_tz": -120
    },
    "id": "fedcf625-3090-4785-8285-5a6472f4a40f",
    "papermill": {
     "duration": 0.012192,
     "end_time": "2024-02-26T15:02:29.759852",
     "exception": false,
     "start_time": "2024-02-26T15:02:29.747660",
     "status": "completed"
    },
    "tags": []
   },
   "outputs": [],
   "source": []
  },
  {
   "cell_type": "code",
   "execution_count": 15,
   "id": "465ccff9",
   "metadata": {
    "execution": {
     "iopub.execute_input": "2024-02-26T15:02:29.785254Z",
     "iopub.status.busy": "2024-02-26T15:02:29.784991Z",
     "iopub.status.idle": "2024-02-26T15:02:30.780442Z",
     "shell.execute_reply": "2024-02-26T15:02:30.779671Z"
    },
    "executionInfo": {
     "elapsed": 20101698,
     "status": "ok",
     "timestamp": 1707497700008,
     "user": {
      "displayName": "Ioannis Nasios",
      "userId": "11761353373054103725"
     },
     "user_tz": -120
    },
    "id": "c2d42c3a-b87e-4ddb-903a-5f8a4c825250",
    "outputId": "abf0efd0-2fcc-4de8-9e0a-35c558dc9c1e",
    "papermill": {
     "duration": 1.01079,
     "end_time": "2024-02-26T15:02:30.782779",
     "exception": false,
     "start_time": "2024-02-26T15:02:29.771989",
     "status": "completed"
    },
    "scrolled": true,
    "tags": []
   },
   "outputs": [],
   "source": [
    "name=ENCODER+'_'+basename\n",
    "model.cuda()\n",
    "\n",
    "if RETRAIN==True:\n",
    "    optimizer=optim.AdamW([\n",
    "                    {'params': model.encoder.parameters()},\n",
    "                    {'params': model.decoder.parameters(), 'lr': lr_0*5},\n",
    "                    {'params': model.segmentation_head.parameters()}\n",
    "                ], lr=lr_0, weight_decay=0.01)\n",
    "\n",
    "    train_dataset = KelpDataset_disk(x_paths=train_ids,\n",
    "                                     y_paths=[x.replace('satellite', 'kelp') for x in train_ids],\n",
    "                                 transforms = training_transformations,\n",
    "                                    )\n",
    "\n",
    "    train_loader = DataLoader(train_dataset, batch_size=bs, shuffle=True, num_workers=num_workers)\n",
    "\n",
    "    criterion1 = DiceLoss()\n",
    "\n",
    "    mb = master_bar(range(epochs))\n",
    "    loss_log=[]\n",
    "    for epoch in mb:\n",
    "        avg_train_loss = 0.\n",
    "        model.train()\n",
    "\n",
    "        pb = progress_bar(train_loader)\n",
    "        for ii, (data, target) in enumerate(pb):\n",
    "\n",
    "\n",
    "            data, target = data.cuda(non_blocking=True), target.cuda(non_blocking=True)\n",
    "\n",
    "            output = model(data)\n",
    "            loss = criterion1(output, target.to(dtype=torch.float))#.mean()\n",
    "            loss.backward()\n",
    "            if (ii + 1) % BA == 0:\n",
    "                optimizer.step()\n",
    "                optimizer.zero_grad(set_to_none=True)\n",
    "                # optimizer.zero_grad()\n",
    "            if ii % 1000 == 0:\n",
    "                loss_log.append(loss.item())\n",
    "            avg_train_loss += loss.item() / len(train_loader)\n",
    "\n",
    "        print('Epoch: {} - Loss: {:.6f}'.format(epoch + 1, avg_train_loss))\n",
    "\n",
    "        adjust_optim(optimizer, (epoch + 1))\n",
    "\n",
    "        gc.collect()\n",
    "\n",
    "    torch.save(model.state_dict(), weights_path+name+'_last.pt')\n",
    "else:\n",
    "    model.load_state_dict(torch.load(  trained_weights+ENCODER+'_'+basename+'_last.pt') )   "
   ]
  },
  {
   "cell_type": "code",
   "execution_count": 16,
   "id": "de52f4fa",
   "metadata": {
    "execution": {
     "iopub.execute_input": "2024-02-26T15:02:30.809250Z",
     "iopub.status.busy": "2024-02-26T15:02:30.808948Z",
     "iopub.status.idle": "2024-02-26T15:02:30.815135Z",
     "shell.execute_reply": "2024-02-26T15:02:30.814357Z"
    },
    "papermill": {
     "duration": 0.021818,
     "end_time": "2024-02-26T15:02:30.817431",
     "exception": false,
     "start_time": "2024-02-26T15:02:30.795613",
     "status": "completed"
    },
    "tags": []
   },
   "outputs": [
    {
     "name": "stdout",
     "output_type": "stream",
     "text": [
      "model eval\n"
     ]
    }
   ],
   "source": [
    "model.eval()\n",
    "print('model eval')"
   ]
  },
  {
   "cell_type": "code",
   "execution_count": null,
   "id": "a9a869f6",
   "metadata": {
    "executionInfo": {
     "elapsed": 17,
     "status": "ok",
     "timestamp": 1707497704216,
     "user": {
      "displayName": "Ioannis Nasios",
      "userId": "11761353373054103725"
     },
     "user_tz": -120
    },
    "id": "BTPBc-jKh6En",
    "papermill": {
     "duration": 0.012251,
     "end_time": "2024-02-26T15:02:30.841974",
     "exception": false,
     "start_time": "2024-02-26T15:02:30.829723",
     "status": "completed"
    },
    "tags": []
   },
   "outputs": [],
   "source": []
  },
  {
   "cell_type": "code",
   "execution_count": 17,
   "id": "1c2f718d",
   "metadata": {
    "execution": {
     "iopub.execute_input": "2024-02-26T15:02:30.867697Z",
     "iopub.status.busy": "2024-02-26T15:02:30.867418Z",
     "iopub.status.idle": "2024-02-26T15:02:30.872140Z",
     "shell.execute_reply": "2024-02-26T15:02:30.871337Z"
    },
    "executionInfo": {
     "elapsed": 17,
     "status": "ok",
     "timestamp": 1707497704217,
     "user": {
      "displayName": "Ioannis Nasios",
      "userId": "11761353373054103725"
     },
     "user_tz": -120
    },
    "id": "5ab68fb4-65a4-4c68-b9cf-1fa7bbc486ab",
    "papermill": {
     "duration": 0.019717,
     "end_time": "2024-02-26T15:02:30.873986",
     "exception": false,
     "start_time": "2024-02-26T15:02:30.854269",
     "status": "completed"
    },
    "tags": []
   },
   "outputs": [],
   "source": [
    "test_dataset = KelpDataset_disk(x_paths=full_test_img_paths,\n",
    "                                y_paths=None,\n",
    "                             transforms = validation_transformations,\n",
    "                             # preprocessing=get_preprocessing(preprocessing_fn)\n",
    "                                 mode='test'\n",
    "                                )\n",
    "\n",
    "test_loader = DataLoader(test_dataset, batch_size=bs, shuffle=False, num_workers=num_workers)\n"
   ]
  },
  {
   "cell_type": "code",
   "execution_count": 18,
   "id": "fd94d0b9",
   "metadata": {
    "execution": {
     "iopub.execute_input": "2024-02-26T15:02:30.899693Z",
     "iopub.status.busy": "2024-02-26T15:02:30.899420Z",
     "iopub.status.idle": "2024-02-26T15:09:31.122921Z",
     "shell.execute_reply": "2024-02-26T15:09:31.121964Z"
    },
    "executionInfo": {
     "elapsed": 254760,
     "status": "ok",
     "timestamp": 1707497958962,
     "user": {
      "displayName": "Ioannis Nasios",
      "userId": "11761353373054103725"
     },
     "user_tz": -120
    },
    "id": "e7325edd-ae2c-46dc-8641-fafbc53debde",
    "outputId": "16460879-8b21-4949-e780-d641498f1069",
    "papermill": {
     "duration": 420.239015,
     "end_time": "2024-02-26T15:09:31.125252",
     "exception": false,
     "start_time": "2024-02-26T15:02:30.886237",
     "status": "completed"
    },
    "tags": []
   },
   "outputs": [
    {
     "data": {
      "text/html": [
       "\n",
       "<style>\n",
       "    /* Turns off some styling */\n",
       "    progress {\n",
       "        /* gets rid of default border in Firefox and Opera. */\n",
       "        border: none;\n",
       "        /* Needs to be in here for Safari polyfill so background images work as expected. */\n",
       "        background-size: auto;\n",
       "    }\n",
       "    progress:not([value]), progress:not([value])::-webkit-progress-bar {\n",
       "        background: repeating-linear-gradient(45deg, #7e7e7e, #7e7e7e 10px, #5c5c5c 10px, #5c5c5c 20px);\n",
       "    }\n",
       "    .progress-bar-interrupted, .progress-bar-interrupted::-webkit-progress-bar {\n",
       "        background: #F44336;\n",
       "    }\n",
       "</style>\n"
      ],
      "text/plain": [
       "<IPython.core.display.HTML object>"
      ]
     },
     "metadata": {},
     "output_type": "display_data"
    },
    {
     "data": {
      "text/html": [
       "\n",
       "    <div>\n",
       "      <progress value='476' class='' max='476' style='width:300px; height:20px; vertical-align: middle;'></progress>\n",
       "      100.00% [476/476 07:00&lt;00:00]\n",
       "    </div>\n",
       "    "
      ],
      "text/plain": [
       "<IPython.core.display.HTML object>"
      ]
     },
     "metadata": {},
     "output_type": "display_data"
    }
   ],
   "source": [
    "test_preds = np.zeros((len(full_test_img_paths), SIZE,SIZE))\n",
    "with torch.no_grad():\n",
    "\n",
    "    test_preds1 =[]\n",
    "    test_preds2 =[]\n",
    "    test_preds3 =[]\n",
    "    test_preds4 =[]\n",
    "\n",
    "    counter=0\n",
    "    pb = progress_bar(test_loader)\n",
    "    for i, (x_batch, y_batch) in enumerate(pb):\n",
    "\n",
    "        preds1 = model(x_batch.cuda(non_blocking=True)).detach().cpu().numpy()\n",
    "        preds2 = model(torch.flip(x_batch, dims=[2]).cuda(non_blocking=True)).detach().cpu().numpy()\n",
    "        preds3 = model(torch.flip(x_batch, dims=[3]).cuda(non_blocking=True)).detach().cpu().numpy()\n",
    "        preds4 = model(torch.flip(x_batch, dims=[2,3]).cuda(non_blocking=True)).detach().cpu().numpy()\n",
    "\n",
    "        test_preds[counter*len(x_batch):(counter+1)*len(x_batch),...]=((preds1+preds2[...,::-1,:]+\n",
    "                                                        preds3[...,:,::-1]+preds4[...,::-1,::-1])/4)[:,0,...]\n",
    "        counter+=1\n"
   ]
  },
  {
   "cell_type": "code",
   "execution_count": 19,
   "id": "f001c3de",
   "metadata": {
    "execution": {
     "iopub.execute_input": "2024-02-26T15:09:31.153713Z",
     "iopub.status.busy": "2024-02-26T15:09:31.153367Z",
     "iopub.status.idle": "2024-02-26T15:11:33.302303Z",
     "shell.execute_reply": "2024-02-26T15:11:33.301300Z"
    },
    "executionInfo": {
     "elapsed": 126412,
     "status": "ok",
     "timestamp": 1707498085357,
     "user": {
      "displayName": "Ioannis Nasios",
      "userId": "11761353373054103725"
     },
     "user_tz": -120
    },
    "id": "f36e4393-1247-4c7e-a069-3f2c8613acc6",
    "papermill": {
     "duration": 122.166175,
     "end_time": "2024-02-26T15:11:33.304896",
     "exception": false,
     "start_time": "2024-02-26T15:09:31.138721",
     "status": "completed"
    },
    "tags": []
   },
   "outputs": [],
   "source": [
    "np.savez(test_preds_dir+basename[5:], test_preds.astype('float16'))"
   ]
  },
  {
   "cell_type": "code",
   "execution_count": 20,
   "id": "3fff081c",
   "metadata": {
    "execution": {
     "iopub.execute_input": "2024-02-26T15:11:42.209495Z",
     "iopub.status.busy": "2024-02-26T15:11:42.208596Z",
     "iopub.status.idle": "2024-02-26T15:11:42.440269Z",
     "shell.execute_reply": "2024-02-26T15:11:42.439415Z"
    },
    "executionInfo": {
     "elapsed": 29,
     "status": "ok",
     "timestamp": 1707498085359,
     "user": {
      "displayName": "Ioannis Nasios",
      "userId": "11761353373054103725"
     },
     "user_tz": -120
    },
    "id": "3dcc154c-5a9b-492c-a1a2-0c9671bb740b",
    "outputId": "52f0cad1-54d0-4eec-9f58-28a3ce2379ba",
    "papermill": {
     "duration": 0.248742,
     "end_time": "2024-02-26T15:11:42.442258",
     "exception": false,
     "start_time": "2024-02-26T15:11:42.193516",
     "status": "completed"
    },
    "tags": []
   },
   "outputs": [
    {
     "data": {
      "image/png": "[encoded data removed]",
      "text/plain": [
       "<Figure size 640x480 with 1 Axes>"
      ]
     },
     "metadata": {},
     "output_type": "display_data"
    }
   ],
   "source": [
    "plt.imshow(test_preds[0]>0.5)\n",
    "plt.show()"
   ]
  },
  {
   "cell_type": "code",
   "execution_count": 6,
   "id": "4493e157",
   "metadata": {
    "execution": {
     "iopub.execute_input": "2024-02-26T15:11:42.470056Z",
     "iopub.status.busy": "2024-02-26T15:11:42.469743Z",
     "iopub.status.idle": "2024-02-26T15:12:19.251375Z",
     "shell.execute_reply": "2024-02-26T15:12:19.250407Z"
    },
    "executionInfo": {
     "elapsed": 35654,
     "status": "ok",
     "timestamp": 1707498120992,
     "user": {
      "displayName": "Ioannis Nasios",
      "userId": "11761353373054103725"
     },
     "user_tz": -120
    },
    "id": "9b59a48b-ab66-41f7-8a01-52b16cd7eea1",
    "outputId": "51c1fa64-385e-4673-c12b-2a17c7b967ae",
    "papermill": {
     "duration": 36.811155,
     "end_time": "2024-02-26T15:12:19.266652",
     "exception": false,
     "start_time": "2024-02-26T15:11:42.455497",
     "status": "completed"
    },
    "tags": []
   },
   "outputs": [],
   "source": [
    "# test_preds = np.array([skimage.transform.resize(x, (350,350)) for x in test_preds])\n",
    "# test_preds.shape"
   ]
  },
  {
   "cell_type": "code",
   "execution_count": 7,
   "id": "862b3cd3",
   "metadata": {
    "execution": {
     "iopub.execute_input": "2024-02-26T15:12:19.295512Z",
     "iopub.status.busy": "2024-02-26T15:12:19.295012Z",
     "iopub.status.idle": "2024-02-26T15:12:19.586097Z",
     "shell.execute_reply": "2024-02-26T15:12:19.585294Z"
    },
    "executionInfo": {
     "elapsed": 713,
     "status": "ok",
     "timestamp": 1707498121684,
     "user": {
      "displayName": "Ioannis Nasios",
      "userId": "11761353373054103725"
     },
     "user_tz": -120
    },
    "id": "1415a568-a6ef-413a-8480-3d0879792aeb",
    "papermill": {
     "duration": 0.307466,
     "end_time": "2024-02-26T15:12:19.588378",
     "exception": false,
     "start_time": "2024-02-26T15:12:19.280912",
     "status": "completed"
    },
    "tags": []
   },
   "outputs": [],
   "source": [
    "# THRESH=0.5\n",
    "# test_preds = np.array([(x>THRESH).astype('uint8') for x in test_preds])"
   ]
  },
  {
   "cell_type": "code",
   "execution_count": 8,
   "id": "3af08161",
   "metadata": {
    "execution": {
     "iopub.execute_input": "2024-02-26T15:12:19.616524Z",
     "iopub.status.busy": "2024-02-26T15:12:19.616217Z",
     "iopub.status.idle": "2024-02-26T15:12:19.620291Z",
     "shell.execute_reply": "2024-02-26T15:12:19.619519Z"
    },
    "executionInfo": {
     "elapsed": 31,
     "status": "ok",
     "timestamp": 1707498171427,
     "user": {
      "displayName": "Ioannis Nasios",
      "userId": "11761353373054103725"
     },
     "user_tz": -120
    },
    "id": "paTpA4zKewOK",
    "papermill": {
     "duration": 0.020208,
     "end_time": "2024-02-26T15:12:19.622167",
     "exception": false,
     "start_time": "2024-02-26T15:12:19.601959",
     "status": "completed"
    },
    "tags": []
   },
   "outputs": [],
   "source": [
    "# create_dir(test_predmask_path)"
   ]
  },
  {
   "cell_type": "code",
   "execution_count": 9,
   "id": "6da7b893",
   "metadata": {
    "execution": {
     "iopub.execute_input": "2024-02-26T15:12:19.650226Z",
     "iopub.status.busy": "2024-02-26T15:12:19.649957Z",
     "iopub.status.idle": "2024-02-26T15:12:20.849450Z",
     "shell.execute_reply": "2024-02-26T15:12:20.848174Z"
    },
    "executionInfo": {
     "elapsed": 1740,
     "status": "ok",
     "timestamp": 1707498173139,
     "user": {
      "displayName": "Ioannis Nasios",
      "userId": "11761353373054103725"
     },
     "user_tz": -120
    },
    "id": "b1ab9621-023f-4956-a056-b7423e784d7e",
    "outputId": "7f06fac0-c66f-4277-b57f-af51ac582fc1",
    "papermill": {
     "duration": 1.215875,
     "end_time": "2024-02-26T15:12:20.851541",
     "exception": false,
     "start_time": "2024-02-26T15:12:19.635666",
     "status": "completed"
    },
    "tags": []
   },
   "outputs": [],
   "source": [
    "# [cv2.imwrite(test_predmask_path+test_image_names[i].split('_')[0]+'_kelp.tif', test_preds[i])\n",
    "#  for i in range(len(test_preds))]\n",
    "# print('saved in disk')"
   ]
  },
  {
   "cell_type": "code",
   "execution_count": 25,
   "id": "08e282d4",
   "metadata": {
    "execution": {
     "iopub.execute_input": "2024-02-26T15:12:20.879741Z",
     "iopub.status.busy": "2024-02-26T15:12:20.879423Z",
     "iopub.status.idle": "2024-02-26T15:12:20.883300Z",
     "shell.execute_reply": "2024-02-26T15:12:20.882450Z"
    },
    "executionInfo": {
     "elapsed": 42,
     "status": "ok",
     "timestamp": 1707498173140,
     "user": {
      "displayName": "Ioannis Nasios",
      "userId": "11761353373054103725"
     },
     "user_tz": -120
    },
    "id": "bede3422-efa1-415a-9b51-8387a2423ec5",
    "papermill": {
     "duration": 0.019859,
     "end_time": "2024-02-26T15:12:20.885156",
     "exception": false,
     "start_time": "2024-02-26T15:12:20.865297",
     "status": "completed"
    },
    "tags": []
   },
   "outputs": [],
   "source": [
    "# !mkdir test_"
   ]
  },
  {
   "cell_type": "code",
   "execution_count": 10,
   "id": "1bbf785f",
   "metadata": {
    "execution": {
     "iopub.execute_input": "2024-02-26T15:12:20.912574Z",
     "iopub.status.busy": "2024-02-26T15:12:20.912306Z",
     "iopub.status.idle": "2024-02-26T15:12:22.035235Z",
     "shell.execute_reply": "2024-02-26T15:12:22.033910Z"
    },
    "executionInfo": {
     "elapsed": 39,
     "status": "ok",
     "timestamp": 1707498173141,
     "user": {
      "displayName": "Ioannis Nasios",
      "userId": "11761353373054103725"
     },
     "user_tz": -120
    },
    "id": "ac6182d4-8a7c-4c76-b54a-1af6199d78be",
    "papermill": {
     "duration": 1.139463,
     "end_time": "2024-02-26T15:12:22.037773",
     "exception": false,
     "start_time": "2024-02-26T15:12:20.898310",
     "status": "completed"
    },
    "tags": []
   },
   "outputs": [],
   "source": [
    "# # Remember to avoid including the inference dir itself\n",
    "# !cd test_kelp && zip -rq subm_GC10full.zip *"
   ]
  },
  {
   "cell_type": "code",
   "execution_count": 11,
   "id": "616a72b8",
   "metadata": {
    "execution": {
     "iopub.execute_input": "2024-02-26T15:12:22.066514Z",
     "iopub.status.busy": "2024-02-26T15:12:22.065890Z",
     "iopub.status.idle": "2024-02-26T15:12:23.036135Z",
     "shell.execute_reply": "2024-02-26T15:12:23.034951Z"
    },
    "executionInfo": {
     "elapsed": 38,
     "status": "ok",
     "timestamp": 1707498173142,
     "user": {
      "displayName": "Ioannis Nasios",
      "userId": "11761353373054103725"
     },
     "user_tz": -120
    },
    "id": "6e1c356e-5ef0-4296-901f-62ddb53bdb76",
    "outputId": "c5aa6dd9-317e-4c9e-eeb5-cdce3c4d22a3",
    "papermill": {
     "duration": 0.986943,
     "end_time": "2024-02-26T15:12:23.038329",
     "exception": false,
     "start_time": "2024-02-26T15:12:22.051386",
     "status": "completed"
    },
    "tags": []
   },
   "outputs": [],
   "source": [
    "# !du -h subm_GC10full.zip"
   ]
  },
  {
   "cell_type": "code",
   "execution_count": null,
   "id": "fb1c3caf",
   "metadata": {
    "executionInfo": {
     "elapsed": 21,
     "status": "ok",
     "timestamp": 1707498173144,
     "user": {
      "displayName": "Ioannis Nasios",
      "userId": "11761353373054103725"
     },
     "user_tz": -120
    },
    "id": "b_lYsMJvksdp",
    "papermill": {
     "duration": 0.013357,
     "end_time": "2024-02-26T15:12:23.065356",
     "exception": false,
     "start_time": "2024-02-26T15:12:23.051999",
     "status": "completed"
    },
    "tags": []
   },
   "outputs": [],
   "source": []
  },
  {
   "cell_type": "code",
   "execution_count": 28,
   "id": "8f507649",
   "metadata": {
    "execution": {
     "iopub.execute_input": "2024-02-26T15:12:23.093948Z",
     "iopub.status.busy": "2024-02-26T15:12:23.093585Z",
     "iopub.status.idle": "2024-02-26T15:12:23.097949Z",
     "shell.execute_reply": "2024-02-26T15:12:23.097076Z"
    },
    "executionInfo": {
     "elapsed": 556,
     "status": "ok",
     "timestamp": 1707498173681,
     "user": {
      "displayName": "Ioannis Nasios",
      "userId": "11761353373054103725"
     },
     "user_tz": -120
    },
    "id": "965a42c6-e77f-4e02-935c-d73f3874b78a",
    "papermill": {
     "duration": 0.021052,
     "end_time": "2024-02-26T15:12:23.099777",
     "exception": false,
     "start_time": "2024-02-26T15:12:23.078725",
     "status": "completed"
    },
    "tags": []
   },
   "outputs": [],
   "source": [
    "# !rm -r test_kelp"
   ]
  },
  {
   "cell_type": "code",
   "execution_count": null,
   "id": "f80aede7",
   "metadata": {
    "id": "7-9K4ccgkzBl",
    "papermill": {
     "duration": 0.013135,
     "end_time": "2024-02-26T15:12:23.126112",
     "exception": false,
     "start_time": "2024-02-26T15:12:23.112977",
     "status": "completed"
    },
    "tags": []
   },
   "outputs": [],
   "source": []
  }
 ],
 "metadata": {
  "accelerator": "GPU",
  "colab": {
   "gpuType": "V100",
   "machine_shape": "hm",
   "provenance": [
    {
     "file_id": "15AWd_QeErMaSilBczXfgpjzCLIVzwln3",
     "timestamp": 1707379912756
    },
    {
     "file_id": "1F-HJc7rTw6Wdvy1d8x_EUi7Q3tv4ZUP5",
     "timestamp": 1706518159782
    },
    {
     "file_id": "1rS3k3_uTZcmY1njXnr6OzA7HK-p0nSYG",
     "timestamp": 1706098865599
    },
    {
     "file_id": "1Vi4QLZQ7jH5xDy0o_HD-sIuoubPd2smZ",
     "timestamp": 1704886899557
    },
    {
     "file_id": "11mb7lvC6pVd8KCL9iI0PGyORAnerE57N",
     "timestamp": 1704812692626
    },
    {
     "file_id": "1KjgrRjGmt9zHUrbgIjLDSv0LhQTf2lIu",
     "timestamp": 1704811048255
    }
   ]
  },
  "kaggle": {
   "accelerator": "gpu",
   "dataSources": [
    {
     "datasetId": 4497321,
     "sourceId": 7703751,
     "sourceType": "datasetVersion"
    },
    {
     "datasetId": 4275820,
     "sourceId": 7587464,
     "sourceType": "datasetVersion"
    },
    {
     "sourceId": 157416039,
     "sourceType": "kernelVersion"
    }
   ],
   "dockerImageVersionId": 30648,
   "isGpuEnabled": true,
   "isInternetEnabled": true,
   "language": "python",
   "sourceType": "notebook"
  },
  "kernelspec": {
   "display_name": "Python 3",
   "language": "python",
   "name": "python3"
  },
  "language_info": {
   "codemirror_mode": {
    "name": "ipython",
    "version": 3
   },
   "file_extension": ".py",
   "mimetype": "text/x-python",
   "name": "python",
   "nbconvert_exporter": "python",
   "pygments_lexer": "ipython3",
   "version": "3.6.15"
  },
  "papermill": {
   "default_parameters": {},
   "duration": 633.385736,
   "end_time": "2024-02-26T15:12:25.702299",
   "environment_variables": {},
   "exception": null,
   "input_path": "__notebook__.ipynb",
   "output_path": "__notebook__.ipynb",
   "parameters": {},
   "start_time": "2024-02-26T15:01:52.316563",
   "version": "2.5.0"
  }
 },
 "nbformat": 4,
 "nbformat_minor": 5
}
