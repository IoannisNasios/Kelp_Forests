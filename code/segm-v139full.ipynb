{
 "cells": [
  {
   "cell_type": "code",
   "execution_count": 1,
   "id": "457a94c2",
   "metadata": {
    "execution": {
     "iopub.execute_input": "2024-02-26T12:52:56.432745Z",
     "iopub.status.busy": "2024-02-26T12:52:56.432374Z",
     "iopub.status.idle": "2024-02-26T12:53:16.043910Z",
     "shell.execute_reply": "2024-02-26T12:53:16.042703Z"
    },
    "papermill": {
     "duration": 19.624352,
     "end_time": "2024-02-26T12:53:16.046419",
     "exception": false,
     "start_time": "2024-02-26T12:52:56.422067",
     "status": "completed"
    },
    "tags": []
   },
   "outputs": [],
   "source": [
    "# !pip install -q segmentation_models_pytorch"
   ]
  },
  {
   "cell_type": "code",
   "execution_count": 2,
   "id": "0e547673",
   "metadata": {
    "execution": {
     "iopub.execute_input": "2024-02-26T12:53:16.065875Z",
     "iopub.status.busy": "2024-02-26T12:53:16.065074Z",
     "iopub.status.idle": "2024-02-26T12:53:27.243496Z",
     "shell.execute_reply": "2024-02-26T12:53:27.242525Z"
    },
    "papermill": {
     "duration": 11.191685,
     "end_time": "2024-02-26T12:53:27.246907",
     "exception": false,
     "start_time": "2024-02-26T12:53:16.055222",
     "status": "completed"
    },
    "tags": []
   },
   "outputs": [],
   "source": [
    "import os\n",
    "# os.environ[\"CUDA_VISIBLE_DEVICES\"] = \"0\"\n",
    "\n",
    "import cv2\n",
    "import tifffile\n",
    "import numpy as np\n",
    "import pandas as pd\n",
    "import matplotlib.pyplot as plt\n",
    "import gc\n",
    "import warnings\n",
    "warnings.filterwarnings(\"ignore\")\n",
    "\n",
    "import random\n",
    "import torch\n",
    "import torch.nn as nn\n",
    "import albumentations\n",
    "\n",
    "import segmentation_models_pytorch as smp\n",
    "import skimage\n",
    "\n",
    "\n",
    "from tqdm import tqdm\n",
    "import torch.optim as optim\n",
    "from torch.utils.data import TensorDataset, DataLoader,Dataset\n",
    "from fastprogress import master_bar, progress_bar\n",
    "\n",
    "def create_dir(path):\n",
    "    if os.path.isdir(path)==False:\n",
    "        os.makedirs(path)\n"
   ]
  },
  {
   "cell_type": "code",
   "execution_count": 1,
   "id": "29d5a116",
   "metadata": {
    "execution": {
     "iopub.execute_input": "2024-02-26T12:53:27.265020Z",
     "iopub.status.busy": "2024-02-26T12:53:27.264718Z",
     "iopub.status.idle": "2024-02-26T12:53:27.270153Z",
     "shell.execute_reply": "2024-02-26T12:53:27.269416Z"
    },
    "papermill": {
     "duration": 0.016377,
     "end_time": "2024-02-26T12:53:27.272044",
     "exception": false,
     "start_time": "2024-02-26T12:53:27.255667",
     "status": "completed"
    },
    "tags": []
   },
   "outputs": [],
   "source": [
    "# # CONFIGURE \n",
    "\n",
    "# # Set Data Paths\n",
    "# test_path='test_satellite/'\n",
    "# train_path='train_satellite/'\n",
    "# labels_path='train_kelp/'\n",
    "\n",
    "\n",
    "# # Create directories\n",
    "# # test_predmask_path='test_kelp/'\n",
    "# # create_dir(test_predmask_path)\n",
    "\n",
    "# # set weights directory for new training saving\n",
    "# weights_path='weights/'\n",
    "# create_dir(weights_path)\n",
    "\n",
    "\n",
    "# RETRAIN= False # if true retrain else use trained weights for inference\n",
    "# trained_weights = 'trained_weights/' # meaningful only when RETRAIN=False\n",
    "\n",
    "\n",
    "# # directory for prediction probabilities \n",
    "# test_preds_dir = 'test_preds/'\n",
    "# create_dir(test_preds_dir)\n",
    "\n",
    "from config import test_path, train_path, labels_path, weights_path, RETRAIN, trained_weights, test_preds_dir\n",
    "\n",
    "# DO NOT EDIT BELOW"
   ]
  },
  {
   "cell_type": "code",
   "execution_count": 2,
   "id": "a83585a2",
   "metadata": {},
   "outputs": [
    {
     "data": {
      "text/plain": [
       "('test_satellite/',\n",
       " 'train_satellite/',\n",
       " 'train_kelp/',\n",
       " 'weights/',\n",
       " False,\n",
       " 'trained_weights/',\n",
       " 'test_preds/')"
      ]
     },
     "execution_count": 2,
     "metadata": {},
     "output_type": "execute_result"
    }
   ],
   "source": [
    "test_path, train_path, labels_path, weights_path, RETRAIN, trained_weights, test_preds_dir"
   ]
  },
  {
   "cell_type": "code",
   "execution_count": 4,
   "id": "c8b543d8",
   "metadata": {
    "execution": {
     "iopub.execute_input": "2024-02-26T12:53:27.289222Z",
     "iopub.status.busy": "2024-02-26T12:53:27.288914Z",
     "iopub.status.idle": "2024-02-26T12:53:27.294567Z",
     "shell.execute_reply": "2024-02-26T12:53:27.293729Z"
    },
    "papermill": {
     "duration": 0.016242,
     "end_time": "2024-02-26T12:53:27.296375",
     "exception": false,
     "start_time": "2024-02-26T12:53:27.280133",
     "status": "completed"
    },
    "tags": []
   },
   "outputs": [],
   "source": [
    "basename='segm_v139full'\n",
    "\n",
    "# training schedule variables\n",
    "epochs=30\n",
    "snapshots = 1\n",
    "lr_0 = 0.00005\n",
    "WARMUP_EPOCHS=2\n",
    "\n",
    "# training input variables\n",
    "SIZE=768 # resize image size\n",
    "channels=[0,1,3] # SWIR, NIR, Green\n",
    "meansCH = np.array( [0.485, 0.456, 0.406] )\n",
    "stdsCH = np.array( [0.229, 0.224, 0.225] )\n",
    "stdsCH *= 0.9\n",
    "CLIPMIN=6000\n",
    "CLIPMAX=24000\n",
    "\n",
    "\n",
    "BA=3 # Batch Accumulation\n",
    "num_workers = 4 # \n",
    "bs = 2 # Batch Size"
   ]
  },
  {
   "cell_type": "code",
   "execution_count": 5,
   "id": "500071b5",
   "metadata": {
    "execution": {
     "iopub.execute_input": "2024-02-26T12:53:27.313929Z",
     "iopub.status.busy": "2024-02-26T12:53:27.313663Z",
     "iopub.status.idle": "2024-02-26T12:53:27.852178Z",
     "shell.execute_reply": "2024-02-26T12:53:27.851241Z"
    },
    "papermill": {
     "duration": 0.549411,
     "end_time": "2024-02-26T12:53:27.854170",
     "exception": false,
     "start_time": "2024-02-26T12:53:27.304759",
     "status": "completed"
    },
    "tags": []
   },
   "outputs": [
    {
     "data": {
      "text/plain": [
       "(1426, 5635, 5635, 'FF979226_satellite.tif', 'WG210136_kelp.tif')"
      ]
     },
     "execution_count": 5,
     "metadata": {},
     "output_type": "execute_result"
    }
   ],
   "source": [
    "test_image_names=os.listdir(test_path)\n",
    "train_image_names=os.listdir(train_path)\n",
    "mask_names = os.listdir(labels_path)\n",
    "len(test_image_names),len(train_image_names),len(mask_names),test_image_names[0],mask_names[0]"
   ]
  },
  {
   "cell_type": "code",
   "execution_count": null,
   "id": "f252a062",
   "metadata": {
    "papermill": {
     "duration": 0.008442,
     "end_time": "2024-02-26T12:53:27.871319",
     "exception": false,
     "start_time": "2024-02-26T12:53:27.862877",
     "status": "completed"
    },
    "tags": []
   },
   "outputs": [],
   "source": []
  },
  {
   "cell_type": "code",
   "execution_count": 3,
   "id": "7e6f7f8b",
   "metadata": {
    "execution": {
     "iopub.execute_input": "2024-02-26T12:53:27.890978Z",
     "iopub.status.busy": "2024-02-26T12:53:27.890637Z",
     "iopub.status.idle": "2024-02-26T12:53:27.918167Z",
     "shell.execute_reply": "2024-02-26T12:53:27.917257Z"
    },
    "papermill": {
     "duration": 0.039092,
     "end_time": "2024-02-26T12:53:27.920046",
     "exception": false,
     "start_time": "2024-02-26T12:53:27.880954",
     "status": "completed"
    },
    "tags": []
   },
   "outputs": [],
   "source": [
    "full_train_img_paths= np.array([train_path+x for x in train_image_names])\n",
    "full_train_msk_paths= np.array([labels_path+x.split('_')[0]+'_kelp.tif' for x in train_image_names])\n",
    "# full_test_img_paths= np.array([test_path+x for x in test_image_names])\n",
    "# test_image_names=np.load('/kaggle/input/needkelp/kafe_test_image_names.npz')['arr_0']\n",
    "full_test_img_paths=np.array([test_path+x for x in test_image_names])\n",
    "len(full_train_img_paths),len(full_train_msk_paths),len(full_test_img_paths),full_train_img_paths[:2],full_test_img_paths[:2]\n"
   ]
  },
  {
   "cell_type": "code",
   "execution_count": null,
   "id": "7a59dc65",
   "metadata": {},
   "outputs": [],
   "source": [
    "# vids=np.load('/kaggle/input/needkelp/valid_imids_ph2.npz')['arr_0']\n",
    "# tids=np.load('/kaggle/input/needkelp/train_imids_ph2.npz')['arr_0']\n",
    "# len(tids),len(vids)\n",
    "\n",
    "# train_ids= np.array([train_path+x for x in tids])\n",
    "# val_ids= np.array([train_path+x for x in vids])\n",
    "# train_ids.shape, val_ids.shape\n",
    "\n",
    "# train_ids=np.concatenate((train_ids,val_ids))\n",
    "\n",
    "train_ids=np.array([train_path+x for x in train_image_names])\n",
    "train_ids.shape,train_ids[:3]"
   ]
  },
  {
   "cell_type": "code",
   "execution_count": null,
   "id": "28b5c7d6",
   "metadata": {},
   "outputs": [],
   "source": []
  },
  {
   "cell_type": "code",
   "execution_count": 7,
   "id": "90b2e9ad",
   "metadata": {
    "execution": {
     "iopub.execute_input": "2024-02-26T12:53:27.938179Z",
     "iopub.status.busy": "2024-02-26T12:53:27.937888Z",
     "iopub.status.idle": "2024-02-26T12:53:31.929455Z",
     "shell.execute_reply": "2024-02-26T12:53:31.928488Z"
    },
    "papermill": {
     "duration": 4.003001,
     "end_time": "2024-02-26T12:53:31.931567",
     "exception": false,
     "start_time": "2024-02-26T12:53:27.928566",
     "status": "completed"
    },
    "tags": []
   },
   "outputs": [
    {
     "name": "stderr",
     "output_type": "stream",
     "text": [
      "Downloading: \"https://github.com/qubvel/segmentation_models.pytorch/releases/download/v0.0.2/mit_b1.pth\" to /root/.cache/torch/hub/checkpoints/mit_b1.pth\n",
      "100%|██████████| 52.2M/52.2M [00:02<00:00, 21.0MB/s]\n"
     ]
    }
   ],
   "source": [
    "ENCODER = 'mit_b1'\n",
    "ENCODER_WEIGHTS = 'imagenet'\n",
    "\n",
    "# preprocessing_fn =.encoders.get_preprocessing_fn(ENCODER, ENCODER_WEIGHTS)\n",
    "ACTIVATION = 'sigmoid'# None\n",
    "\n",
    "model = smp.Unet(\n",
    "    encoder_name=ENCODER,\n",
    "    encoder_weights=ENCODER_WEIGHTS,\n",
    "    classes=1,\n",
    "    in_channels=3,     \n",
    "    activation=ACTIVATION,\n",
    "    decoder_attention_type='scse'\n",
    ")\n",
    "# torch.save(model.state_dict(), 'weights/Unet_'+ENCODER+'.pt')"
   ]
  },
  {
   "cell_type": "code",
   "execution_count": 8,
   "id": "e10a6baf",
   "metadata": {
    "execution": {
     "iopub.execute_input": "2024-02-26T12:53:31.952487Z",
     "iopub.status.busy": "2024-02-26T12:53:31.952159Z",
     "iopub.status.idle": "2024-02-26T12:53:31.960762Z",
     "shell.execute_reply": "2024-02-26T12:53:31.959915Z"
    },
    "papermill": {
     "duration": 0.021079,
     "end_time": "2024-02-26T12:53:31.962605",
     "exception": false,
     "start_time": "2024-02-26T12:53:31.941526",
     "status": "completed"
    },
    "tags": []
   },
   "outputs": [],
   "source": [
    "\n",
    "def cosine_anneal_schedule(t):\n",
    "    cos_inner = np.pi * (t % (epochs // snapshots))\n",
    "    cos_inner /= epochs // snapshots\n",
    "    cos_out = np.cos(cos_inner) + 1\n",
    "    return float(lr_0 / 2 * cos_out)\n",
    "cosine_anneal_schedule_list=[cosine_anneal_schedule(x) for x in range(epochs)]\n",
    "# cosine_anneal_schedule_list\n",
    "# WARMUP_EPOCHS=2\n",
    "cosine_anneal_schedule_list=[0.000001]*WARMUP_EPOCHS+cosine_anneal_schedule_list\n",
    "epochs=len(cosine_anneal_schedule_list)\n",
    "def adjust_optim(optimizer, n_iter):\n",
    "    optimizer.param_groups[0]['lr'] = cosine_anneal_schedule_list[n_iter % epochs]\n",
    "\n"
   ]
  },
  {
   "cell_type": "code",
   "execution_count": null,
   "id": "0a7b26d1",
   "metadata": {
    "papermill": {
     "duration": 0.009774,
     "end_time": "2024-02-26T12:53:31.982234",
     "exception": false,
     "start_time": "2024-02-26T12:53:31.972460",
     "status": "completed"
    },
    "tags": []
   },
   "outputs": [],
   "source": []
  },
  {
   "cell_type": "code",
   "execution_count": 9,
   "id": "121c98c2",
   "metadata": {
    "execution": {
     "iopub.execute_input": "2024-02-26T12:53:32.003826Z",
     "iopub.status.busy": "2024-02-26T12:53:32.003474Z",
     "iopub.status.idle": "2024-02-26T12:53:32.015379Z",
     "shell.execute_reply": "2024-02-26T12:53:32.014532Z"
    },
    "papermill": {
     "duration": 0.025043,
     "end_time": "2024-02-26T12:53:32.017290",
     "exception": false,
     "start_time": "2024-02-26T12:53:31.992247",
     "status": "completed"
    },
    "tags": []
   },
   "outputs": [],
   "source": [
    "\n",
    "Ms = meansCH.mean()\n",
    "Ss = stdsCH.mean()\n",
    "\n",
    "class KelpDataset_disk(torch.utils.data.Dataset):\n",
    "    \"\"\"Reads in images, transforms pixel values, and serves a\n",
    "    dictionary containing chip ids, image tensors, and\n",
    "    label masks (where available).\n",
    "    \"\"\"\n",
    "\n",
    "    def __init__(self, x_paths,y_paths, transforms=None, preprocessing=None, mode='train'):\n",
    "        self.x_paths = x_paths\n",
    "        self.y_paths = y_paths\n",
    "        # self.ids = ids\n",
    "        self.transforms = transforms\n",
    "        self.preprocessing = preprocessing\n",
    "        self.mode=mode\n",
    "\n",
    "    def __len__(self):\n",
    "        return len(self.x_paths)\n",
    "\n",
    "    def __getitem__(self, idx):\n",
    "        # Loads a 3-channel image from a chip-level dataframe\n",
    "        # x_arr = images[idx].astype('float')\n",
    "        # y_arr = masks[idx]\n",
    "        x_arr=tifffile.imread(self.x_paths[idx]).astype('float32')\n",
    "        t=x_arr.copy()\n",
    "        x_arr=np.clip(x_arr,CLIPMIN,CLIPMAX)\n",
    "        x_arr[t<=-32000]=0\n",
    "        del t\n",
    "\n",
    "        if self.mode=='test':\n",
    "            y_arr=np.zeros((350,350)).astype('uint8')\n",
    "        else:\n",
    "            y_arr=tifffile.imread(self.y_paths[idx])\n",
    "        \n",
    "        y_arr = np.expand_dims(y_arr, -1)\n",
    "        \n",
    "        # print(x_arr.shape,y_arr.shape)\n",
    "        # Apply data augmentations, if provided\n",
    "        if self.transforms:\n",
    "            augmented = self.transforms(image=x_arr, mask=y_arr)\n",
    "            x_arr, y_arr = augmented['image'], augmented['mask']\n",
    "        # x_arr = np.transpose(x_arr, [2, 0, 1])\n",
    "        \n",
    "\n",
    "\n",
    "        # # ****GLOBAL****  Min-max normalization\n",
    "        x_arr = x_arr[...,channels]/CLIPMAX\n",
    "        x_arr = (x_arr - meansCH)/stdsCH\n",
    "        \n",
    "        x_arr = np.transpose(x_arr, [2, 0, 1])\n",
    "        y_arr = np.transpose(y_arr, [2, 0, 1])\n",
    "        \n",
    "        if self.preprocessing:\n",
    "            preprocessed = self.preprocessing(image=x_arr, mask=y_arr)\n",
    "            x_arr = preprocessed['image']\n",
    "            y_arr = preprocessed['mask']\n",
    "\n",
    "        return x_arr.astype('float32'), y_arr.astype('uint8')#, not_missing_mask.astype('uint8')"
   ]
  },
  {
   "cell_type": "code",
   "execution_count": 4,
   "id": "4afd2fc1",
   "metadata": {
    "execution": {
     "iopub.execute_input": "2024-02-26T12:53:32.085837Z",
     "iopub.status.busy": "2024-02-26T12:53:32.085571Z",
     "iopub.status.idle": "2024-02-26T12:53:32.098593Z",
     "shell.execute_reply": "2024-02-26T12:53:32.097772Z"
    },
    "papermill": {
     "duration": 0.025574,
     "end_time": "2024-02-26T12:53:32.100431",
     "exception": false,
     "start_time": "2024-02-26T12:53:32.074857",
     "status": "completed"
    },
    "tags": []
   },
   "outputs": [],
   "source": []
  },
  {
   "cell_type": "code",
   "execution_count": 12,
   "id": "0106a2f5",
   "metadata": {
    "execution": {
     "iopub.execute_input": "2024-02-26T12:53:32.122507Z",
     "iopub.status.busy": "2024-02-26T12:53:32.122247Z",
     "iopub.status.idle": "2024-02-26T12:53:32.129611Z",
     "shell.execute_reply": "2024-02-26T12:53:32.128808Z"
    },
    "papermill": {
     "duration": 0.021108,
     "end_time": "2024-02-26T12:53:32.131499",
     "exception": false,
     "start_time": "2024-02-26T12:53:32.110391",
     "status": "completed"
    },
    "tags": []
   },
   "outputs": [],
   "source": [
    "# from sklearn.metrics import jaccard_score\n",
    "def get_dice_coef(gt, preds, THRESH=0.5):\n",
    "    #gt shape BxCxHxW\n",
    "    #preds shape BxHxW\n",
    "    dice = np.sum((preds>THRESH)[gt[:,0,...]==1])*2.0 / (np.sum((preds>THRESH)) + np.sum(gt[:,0,...]))\n",
    "    return dice\n",
    "\n",
    "\n",
    "class DiceLoss(nn.Module):\n",
    "    def __init__(self, weight=None, size_average=True):\n",
    "        super(DiceLoss, self).__init__()\n",
    "\n",
    "    def forward(self, inputs, targets, eps=1e-7):\n",
    "        \n",
    "        # #comment out if your model contains a sigmoid or equivalent activation layer\n",
    "        # inputs = F.sigmoid(inputs)       \n",
    "        \n",
    "        #flatten label and prediction tensors\n",
    "        inputs = inputs.view(-1)\n",
    "        targets = targets.view(-1)\n",
    "        \n",
    "        intersection = (inputs * targets).sum()                            \n",
    "        dice = (2.*intersection )/(inputs.sum() + targets.sum() + eps)  \n",
    "        \n",
    "        return 1 - dice\n"
   ]
  },
  {
   "cell_type": "code",
   "execution_count": 13,
   "id": "3c3104a3",
   "metadata": {
    "execution": {
     "iopub.execute_input": "2024-02-26T12:53:32.152290Z",
     "iopub.status.busy": "2024-02-26T12:53:32.151991Z",
     "iopub.status.idle": "2024-02-26T12:53:32.156992Z",
     "shell.execute_reply": "2024-02-26T12:53:32.156234Z"
    },
    "papermill": {
     "duration": 0.017433,
     "end_time": "2024-02-26T12:53:32.158780",
     "exception": false,
     "start_time": "2024-02-26T12:53:32.141347",
     "status": "completed"
    },
    "tags": []
   },
   "outputs": [],
   "source": [
    "\n",
    "training_transformations = albumentations.Compose(\n",
    "    [\n",
    "        albumentations.Resize(SIZE, SIZE),\n",
    "        albumentations.RandomRotate90(),\n",
    "        albumentations.HorizontalFlip(),\n",
    "        albumentations.VerticalFlip(),\n",
    "    ]\n",
    ")\n",
    "validation_transformations = albumentations.Compose(\n",
    "    [\n",
    "        albumentations.Resize(SIZE, SIZE,),\n",
    "    ]\n",
    ")"
   ]
  },
  {
   "cell_type": "code",
   "execution_count": 14,
   "id": "4e855db1",
   "metadata": {
    "execution": {
     "iopub.execute_input": "2024-02-26T12:53:32.180652Z",
     "iopub.status.busy": "2024-02-26T12:53:32.180315Z",
     "iopub.status.idle": "2024-02-26T12:53:32.184608Z",
     "shell.execute_reply": "2024-02-26T12:53:32.183706Z"
    },
    "papermill": {
     "duration": 0.017678,
     "end_time": "2024-02-26T12:53:32.186527",
     "exception": false,
     "start_time": "2024-02-26T12:53:32.168849",
     "status": "completed"
    },
    "tags": []
   },
   "outputs": [],
   "source": [
    "# np.where(np.array(PROGR_EPOCHS)==24)[0][0]"
   ]
  },
  {
   "cell_type": "code",
   "execution_count": 15,
   "id": "50465704",
   "metadata": {
    "execution": {
     "iopub.execute_input": "2024-02-26T12:53:32.208395Z",
     "iopub.status.busy": "2024-02-26T12:53:32.208029Z",
     "iopub.status.idle": "2024-02-26T12:53:32.214174Z",
     "shell.execute_reply": "2024-02-26T12:53:32.213254Z"
    },
    "papermill": {
     "duration": 0.019428,
     "end_time": "2024-02-26T12:53:32.216159",
     "exception": false,
     "start_time": "2024-02-26T12:53:32.196731",
     "status": "completed"
    },
    "tags": []
   },
   "outputs": [],
   "source": [
    "def adjust_optim(optimizer, n_iter):\n",
    "    optimizer.param_groups[0]['lr'] = cosine_anneal_schedule_list[n_iter % epochs]\n",
    "    optimizer.param_groups[1]['lr'] = cosine_anneal_schedule_list[n_iter % epochs]*10\n",
    "    optimizer.param_groups[2]['lr'] = cosine_anneal_schedule_list[n_iter % epochs]\n",
    "# adjust_optim(optimizer, 10)"
   ]
  },
  {
   "cell_type": "code",
   "execution_count": 16,
   "id": "1f177c0f",
   "metadata": {
    "execution": {
     "iopub.execute_input": "2024-02-26T12:53:32.237437Z",
     "iopub.status.busy": "2024-02-26T12:53:32.237141Z",
     "iopub.status.idle": "2024-02-26T12:53:33.484835Z",
     "shell.execute_reply": "2024-02-26T12:53:33.483945Z"
    },
    "papermill": {
     "duration": 1.260814,
     "end_time": "2024-02-26T12:53:33.487188",
     "exception": false,
     "start_time": "2024-02-26T12:53:32.226374",
     "status": "completed"
    },
    "scrolled": true,
    "tags": []
   },
   "outputs": [],
   "source": [
    "\n",
    "name=ENCODER+'_'+basename\n",
    "model.cuda()\n",
    "\n",
    "if RETRAIN==True:\n",
    "\n",
    "    # optimizer = optim.AdamW(model.parameters(), lr=lr_0)\n",
    "    optimizer=optim.AdamW([\n",
    "                    {'params': model.encoder.parameters()},\n",
    "                    {'params': model.decoder.parameters(), 'lr': lr_0*5},\n",
    "                    {'params': model.segmentation_head.parameters()}\n",
    "                ], lr=lr_0)\n",
    "\n",
    "\n",
    "    train_dataset = KelpDataset_disk(x_paths=train_ids,\n",
    "                                     y_paths=[x.replace('satellite', 'kelp') for x in train_ids],\n",
    "                                 transforms = training_transformations,\n",
    "                                 # preprocessing=get_preprocessing(preprocessing_fn)\n",
    "                                    )\n",
    "    train_loader = DataLoader(train_dataset, batch_size=bs, shuffle=True, num_workers=num_workers)\n",
    "\n",
    "\n",
    "    criterion1 = DiceLoss()\n",
    "\n",
    "    best_score=0.\n",
    "\n",
    "    mb = master_bar(range(epochs))\n",
    "    loss_log=[]\n",
    "    for epoch in mb:\n",
    "\n",
    "        avg_train_loss = 0.\n",
    "        model.train()\n",
    "\n",
    "\n",
    "\n",
    "        pb = progress_bar(train_loader)\n",
    "        for ii, (data, target) in enumerate(pb):\n",
    "\n",
    "            data, target = data.cuda(non_blocking=True), target.cuda(non_blocking=True)\n",
    "\n",
    "\n",
    "            alpha = 1\n",
    "            # optimizer.zero_grad()\n",
    "            output = model(data)\n",
    "\n",
    "            loss = criterion1(output,  target.to(dtype=torch.float))\n",
    "\n",
    "            loss.backward()\n",
    "            if (ii + 1) % BA == 0:            \n",
    "                optimizer.step()\n",
    "                optimizer.zero_grad()\n",
    "            # optimizer.step()\n",
    "            if ii % 1000 == 0:\n",
    "                loss_log.append(loss.item())\n",
    "            avg_train_loss += loss.item() / len(train_loader)\n",
    "\n",
    "        print('Epoch: {} - Loss: {:.6f}'.format(epoch + 1, avg_train_loss))\n",
    "\n",
    "\n",
    "        model.eval()\n",
    "\n",
    "        adjust_optim(optimizer, (epoch + 1))\n",
    "\n",
    "        gc.collect()\n",
    "\n",
    "    torch.save(model.state_dict(), weights_path+name+'_last.pt')\n",
    "else:\n",
    "    model.load_state_dict(torch.load(  trained_weights+ENCODER+'_'+basename+'_last.pt') )    "
   ]
  },
  {
   "cell_type": "code",
   "execution_count": 17,
   "id": "c18a1a02",
   "metadata": {
    "execution": {
     "iopub.execute_input": "2024-02-26T12:53:33.509542Z",
     "iopub.status.busy": "2024-02-26T12:53:33.508878Z",
     "iopub.status.idle": "2024-02-26T12:53:33.514434Z",
     "shell.execute_reply": "2024-02-26T12:53:33.513618Z"
    },
    "papermill": {
     "duration": 0.018488,
     "end_time": "2024-02-26T12:53:33.516367",
     "exception": false,
     "start_time": "2024-02-26T12:53:33.497879",
     "status": "completed"
    },
    "tags": []
   },
   "outputs": [
    {
     "data": {
      "text/plain": [
       "768"
      ]
     },
     "execution_count": 17,
     "metadata": {},
     "output_type": "execute_result"
    }
   ],
   "source": [
    "SIZE"
   ]
  },
  {
   "cell_type": "code",
   "execution_count": 18,
   "id": "c7a09f01",
   "metadata": {
    "execution": {
     "iopub.execute_input": "2024-02-26T12:53:33.537938Z",
     "iopub.status.busy": "2024-02-26T12:53:33.537287Z",
     "iopub.status.idle": "2024-02-26T12:53:33.543777Z",
     "shell.execute_reply": "2024-02-26T12:53:33.542966Z"
    },
    "papermill": {
     "duration": 0.019409,
     "end_time": "2024-02-26T12:53:33.545813",
     "exception": false,
     "start_time": "2024-02-26T12:53:33.526404",
     "status": "completed"
    },
    "tags": []
   },
   "outputs": [
    {
     "name": "stdout",
     "output_type": "stream",
     "text": [
      "model eval\n"
     ]
    }
   ],
   "source": [
    "model.eval()\n",
    "print('model eval')"
   ]
  },
  {
   "cell_type": "code",
   "execution_count": 19,
   "id": "d57e469b",
   "metadata": {
    "execution": {
     "iopub.execute_input": "2024-02-26T12:53:33.567589Z",
     "iopub.status.busy": "2024-02-26T12:53:33.566876Z",
     "iopub.status.idle": "2024-02-26T12:53:33.572111Z",
     "shell.execute_reply": "2024-02-26T12:53:33.571298Z"
    },
    "papermill": {
     "duration": 0.017913,
     "end_time": "2024-02-26T12:53:33.574022",
     "exception": false,
     "start_time": "2024-02-26T12:53:33.556109",
     "status": "completed"
    },
    "tags": []
   },
   "outputs": [],
   "source": [
    "test_dataset = KelpDataset_disk(x_paths=full_test_img_paths,\n",
    "                                y_paths=None,\n",
    "                             transforms = validation_transformations,\n",
    "                             # preprocessing=get_preprocessing(preprocessing_fn)\n",
    "                                 mode='test'\n",
    "                                )\n",
    "\n",
    "test_loader = DataLoader(test_dataset, batch_size=bs, shuffle=False, num_workers=num_workers)\n"
   ]
  },
  {
   "cell_type": "code",
   "execution_count": 20,
   "id": "ff87b18c",
   "metadata": {
    "execution": {
     "iopub.execute_input": "2024-02-26T12:53:33.595067Z",
     "iopub.status.busy": "2024-02-26T12:53:33.594811Z",
     "iopub.status.idle": "2024-02-26T12:57:10.781264Z",
     "shell.execute_reply": "2024-02-26T12:57:10.780146Z"
    },
    "papermill": {
     "duration": 217.199655,
     "end_time": "2024-02-26T12:57:10.783585",
     "exception": false,
     "start_time": "2024-02-26T12:53:33.583930",
     "status": "completed"
    },
    "tags": []
   },
   "outputs": [
    {
     "data": {
      "text/html": [
       "\n",
       "<style>\n",
       "    /* Turns off some styling */\n",
       "    progress {\n",
       "        /* gets rid of default border in Firefox and Opera. */\n",
       "        border: none;\n",
       "        /* Needs to be in here for Safari polyfill so background images work as expected. */\n",
       "        background-size: auto;\n",
       "    }\n",
       "    progress:not([value]), progress:not([value])::-webkit-progress-bar {\n",
       "        background: repeating-linear-gradient(45deg, #7e7e7e, #7e7e7e 10px, #5c5c5c 10px, #5c5c5c 20px);\n",
       "    }\n",
       "    .progress-bar-interrupted, .progress-bar-interrupted::-webkit-progress-bar {\n",
       "        background: #F44336;\n",
       "    }\n",
       "</style>\n"
      ],
      "text/plain": [
       "<IPython.core.display.HTML object>"
      ]
     },
     "metadata": {},
     "output_type": "display_data"
    },
    {
     "data": {
      "text/html": [
       "\n",
       "    <div>\n",
       "      <progress value='713' class='' max='713' style='width:300px; height:20px; vertical-align: middle;'></progress>\n",
       "      100.00% [713/713 03:25&lt;00:00]\n",
       "    </div>\n",
       "    "
      ],
      "text/plain": [
       "<IPython.core.display.HTML object>"
      ]
     },
     "metadata": {},
     "output_type": "display_data"
    }
   ],
   "source": [
    "with torch.no_grad():\n",
    "\n",
    "    test_preds1 =[]\n",
    "    test_preds2 =[]\n",
    "    test_preds3 =[]\n",
    "    test_preds4 =[]\n",
    "\n",
    "\n",
    "    pb = progress_bar(test_loader)\n",
    "    for i, (x_batch, y_batch) in enumerate(pb):\n",
    "\n",
    "        preds1 = model(x_batch.cuda(non_blocking=True)).detach()\n",
    "        preds2 = model(torch.flip(x_batch, dims=[2]).cuda(non_blocking=True)).detach()\n",
    "        preds3 = model(torch.flip(x_batch, dims=[3]).cuda(non_blocking=True)).detach()\n",
    "        preds4 = model(torch.flip(x_batch, dims=[2,3]).cuda(non_blocking=True)).detach()\n",
    "\n",
    "        test_preds1.append(preds1.cpu())\n",
    "        test_preds2.append(preds2.cpu())\n",
    "        test_preds3.append(preds3.cpu())\n",
    "        test_preds4.append(preds4.cpu())\n",
    "    test_preds1=np.vstack(test_preds1)[:,0,...]    \n",
    "    test_preds2=np.vstack(test_preds2)[:,0,...]    \n",
    "    test_preds3=np.vstack(test_preds3)[:,0,...]    \n",
    "    test_preds4=np.vstack(test_preds4)[:,0,...]    \n",
    "\n",
    "    # test_preds=(test_preds1+test_preds2[...,::-1,:]+test_preds3[...,:,::-1])/3\n",
    "    test_preds=(test_preds1+test_preds2[...,::-1,:]+test_preds3[...,:,::-1]+test_preds4[...,::-1,::-1])/4\n",
    "       "
   ]
  },
  {
   "cell_type": "code",
   "execution_count": 21,
   "id": "9b0abebc",
   "metadata": {
    "execution": {
     "iopub.execute_input": "2024-02-26T12:57:10.809450Z",
     "iopub.status.busy": "2024-02-26T12:57:10.809100Z",
     "iopub.status.idle": "2024-02-26T12:58:16.479343Z",
     "shell.execute_reply": "2024-02-26T12:58:16.478297Z"
    },
    "papermill": {
     "duration": 65.684222,
     "end_time": "2024-02-26T12:58:16.481775",
     "exception": false,
     "start_time": "2024-02-26T12:57:10.797553",
     "status": "completed"
    },
    "tags": []
   },
   "outputs": [],
   "source": [
    "np.savez(test_preds_dir+basename[5:], test_preds.astype('float16'))"
   ]
  },
  {
   "cell_type": "code",
   "execution_count": 22,
   "id": "e47d9cc1",
   "metadata": {
    "execution": {
     "iopub.execute_input": "2024-02-26T12:58:16.558193Z",
     "iopub.status.busy": "2024-02-26T12:58:16.557131Z",
     "iopub.status.idle": "2024-02-26T12:58:16.824484Z",
     "shell.execute_reply": "2024-02-26T12:58:16.823331Z"
    },
    "papermill": {
     "duration": 0.314447,
     "end_time": "2024-02-26T12:58:16.826604",
     "exception": false,
     "start_time": "2024-02-26T12:58:16.512157",
     "status": "completed"
    },
    "tags": []
   },
   "outputs": [
    {
     "data": {
      "image/png": "[encoded data removed]",
      "text/plain": [
       "<Figure size 640x480 with 1 Axes>"
      ]
     },
     "metadata": {},
     "output_type": "display_data"
    }
   ],
   "source": [
    "plt.imshow(test_preds[0]>0.5)\n",
    "plt.show()"
   ]
  },
  {
   "cell_type": "code",
   "execution_count": 5,
   "id": "d9d7556e",
   "metadata": {
    "execution": {
     "iopub.execute_input": "2024-02-26T12:58:16.854479Z",
     "iopub.status.busy": "2024-02-26T12:58:16.853543Z",
     "iopub.status.idle": "2024-02-26T12:58:33.352232Z",
     "shell.execute_reply": "2024-02-26T12:58:33.351340Z"
    },
    "papermill": {
     "duration": 16.516512,
     "end_time": "2024-02-26T12:58:33.354362",
     "exception": false,
     "start_time": "2024-02-26T12:58:16.837850",
     "status": "completed"
    },
    "tags": []
   },
   "outputs": [],
   "source": [
    "# test_preds = np.array([skimage.transform.resize(x, (350,350)) for x in test_preds])\n",
    "# test_preds.shape"
   ]
  },
  {
   "cell_type": "code",
   "execution_count": 6,
   "id": "ecd5f24f",
   "metadata": {
    "execution": {
     "iopub.execute_input": "2024-02-26T12:58:33.377802Z",
     "iopub.status.busy": "2024-02-26T12:58:33.377269Z",
     "iopub.status.idle": "2024-02-26T12:58:33.614488Z",
     "shell.execute_reply": "2024-02-26T12:58:33.613546Z"
    },
    "papermill": {
     "duration": 0.251852,
     "end_time": "2024-02-26T12:58:33.617218",
     "exception": false,
     "start_time": "2024-02-26T12:58:33.365366",
     "status": "completed"
    },
    "tags": []
   },
   "outputs": [],
   "source": [
    "# THRESH=0.5\n",
    "# test_preds = np.array([(x>THRESH).astype('uint8') for x in test_preds])"
   ]
  },
  {
   "cell_type": "code",
   "execution_count": 7,
   "id": "6b31a382",
   "metadata": {
    "execution": {
     "iopub.execute_input": "2024-02-26T12:58:33.641380Z",
     "iopub.status.busy": "2024-02-26T12:58:33.641013Z",
     "iopub.status.idle": "2024-02-26T12:58:34.822375Z",
     "shell.execute_reply": "2024-02-26T12:58:34.821188Z"
    },
    "papermill": {
     "duration": 1.195945,
     "end_time": "2024-02-26T12:58:34.824608",
     "exception": false,
     "start_time": "2024-02-26T12:58:33.628663",
     "status": "completed"
    },
    "tags": []
   },
   "outputs": [],
   "source": [
    "# [cv2.imwrite(test_predmask_path+test_image_names[i].split('_')[0]+'_kelp.tif', test_preds[i])\n",
    "#  for i in range(len(test_preds))]\n",
    "# print('saved in disk')"
   ]
  },
  {
   "cell_type": "code",
   "execution_count": 8,
   "id": "ed7bad48",
   "metadata": {
    "execution": {
     "iopub.execute_input": "2024-02-26T12:58:34.848739Z",
     "iopub.status.busy": "2024-02-26T12:58:34.848394Z",
     "iopub.status.idle": "2024-02-26T12:58:36.074806Z",
     "shell.execute_reply": "2024-02-26T12:58:36.073706Z"
    },
    "papermill": {
     "duration": 1.241136,
     "end_time": "2024-02-26T12:58:36.077240",
     "exception": false,
     "start_time": "2024-02-26T12:58:34.836104",
     "status": "completed"
    },
    "tags": []
   },
   "outputs": [],
   "source": [
    "# # Remember to avoid including the inference dir itself\n",
    "# !cd test_kelp && zip -rq subm_v139full.zip *\n",
    "# # !cd test_kelp && zip -rq ../submissions/subm_v139fullALT.zip *"
   ]
  },
  {
   "cell_type": "code",
   "execution_count": 9,
   "id": "3f2855a1",
   "metadata": {
    "execution": {
     "iopub.execute_input": "2024-02-26T12:58:36.101660Z",
     "iopub.status.busy": "2024-02-26T12:58:36.101279Z",
     "iopub.status.idle": "2024-02-26T12:58:37.153925Z",
     "shell.execute_reply": "2024-02-26T12:58:37.152962Z"
    },
    "papermill": {
     "duration": 1.067393,
     "end_time": "2024-02-26T12:58:37.156054",
     "exception": false,
     "start_time": "2024-02-26T12:58:36.088661",
     "status": "completed"
    },
    "tags": []
   },
   "outputs": [],
   "source": [
    "# !du -h test_kelp/subm_v139full.zip\n",
    "# # !du -h ./submissions/subm_v139fullALT.zip"
   ]
  },
  {
   "cell_type": "code",
   "execution_count": null,
   "id": "78cc623d",
   "metadata": {},
   "outputs": [],
   "source": []
  }
 ],
 "metadata": {
  "kaggle": {
   "accelerator": "gpu",
   "dataSources": [
    {
     "datasetId": 4275820,
     "sourceId": 7587464,
     "sourceType": "datasetVersion"
    },
    {
     "datasetId": 4497321,
     "sourceId": 7703751,
     "sourceType": "datasetVersion"
    },
    {
     "sourceId": 157416039,
     "sourceType": "kernelVersion"
    }
   ],
   "dockerImageVersionId": 30648,
   "isGpuEnabled": true,
   "isInternetEnabled": true,
   "language": "python",
   "sourceType": "notebook"
  },
  "kernelspec": {
   "display_name": "Python 3",
   "language": "python",
   "name": "python3"
  },
  "language_info": {
   "codemirror_mode": {
    "name": "ipython",
    "version": 3
   },
   "file_extension": ".py",
   "mimetype": "text/x-python",
   "name": "python",
   "nbconvert_exporter": "python",
   "pygments_lexer": "ipython3",
   "version": "3.6.15"
  },
  "papermill": {
   "default_parameters": {},
   "duration": 346.282261,
   "end_time": "2024-02-26T12:58:39.980274",
   "environment_variables": {},
   "exception": null,
   "input_path": "__notebook__.ipynb",
   "output_path": "__notebook__.ipynb",
   "parameters": {},
   "start_time": "2024-02-26T12:52:53.698013",
   "version": "2.5.0"
  }
 },
 "nbformat": 4,
 "nbformat_minor": 5
}
