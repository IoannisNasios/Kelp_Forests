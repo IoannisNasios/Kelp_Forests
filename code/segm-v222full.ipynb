{
 "cells": [
  {
   "cell_type": "code",
   "execution_count": 1,
   "id": "c0c957b5",
   "metadata": {
    "execution": {
     "iopub.execute_input": "2024-02-26T13:30:30.414231Z",
     "iopub.status.busy": "2024-02-26T13:30:30.413436Z",
     "iopub.status.idle": "2024-02-26T13:30:50.282817Z",
     "shell.execute_reply": "2024-02-26T13:30:50.281666Z"
    },
    "papermill": {
     "duration": 19.882331,
     "end_time": "2024-02-26T13:30:50.285278",
     "exception": false,
     "start_time": "2024-02-26T13:30:30.402947",
     "status": "completed"
    },
    "tags": []
   },
   "outputs": [],
   "source": [
    "# !pip install -q segmentation_models_pytorch"
   ]
  },
  {
   "cell_type": "code",
   "execution_count": 2,
   "id": "e6131e27",
   "metadata": {
    "execution": {
     "iopub.execute_input": "2024-02-26T13:30:50.303491Z",
     "iopub.status.busy": "2024-02-26T13:30:50.303196Z",
     "iopub.status.idle": "2024-02-26T13:31:02.154017Z",
     "shell.execute_reply": "2024-02-26T13:31:02.153206Z"
    },
    "papermill": {
     "duration": 11.86251,
     "end_time": "2024-02-26T13:31:02.156470",
     "exception": false,
     "start_time": "2024-02-26T13:30:50.293960",
     "status": "completed"
    },
    "tags": []
   },
   "outputs": [],
   "source": [
    "import os\n",
    "# os.environ[\"CUDA_VISIBLE_DEVICES\"] = \"0\"\n",
    "\n",
    "import cv2\n",
    "import tifffile\n",
    "import numpy as np\n",
    "import pandas as pd\n",
    "import matplotlib.pyplot as plt\n",
    "import gc\n",
    "import warnings\n",
    "warnings.filterwarnings(\"ignore\")\n",
    "\n",
    "import random\n",
    "import torch\n",
    "import torch.nn as nn\n",
    "import albumentations\n",
    "\n",
    "import segmentation_models_pytorch as smp\n",
    "import skimage\n",
    "\n",
    "\n",
    "from tqdm import tqdm\n",
    "import torch.optim as optim\n",
    "from torch.utils.data import TensorDataset, DataLoader,Dataset\n",
    "from fastprogress import master_bar, progress_bar\n",
    "\n",
    "def create_dir(path):\n",
    "    if os.path.isdir(path)==False:\n",
    "        os.makedirs(path)"
   ]
  },
  {
   "cell_type": "code",
   "execution_count": 1,
   "id": "df1257d7",
   "metadata": {
    "execution": {
     "iopub.execute_input": "2024-02-26T13:31:02.176129Z",
     "iopub.status.busy": "2024-02-26T13:31:02.175826Z",
     "iopub.status.idle": "2024-02-26T13:31:02.181477Z",
     "shell.execute_reply": "2024-02-26T13:31:02.180670Z"
    },
    "papermill": {
     "duration": 0.01712,
     "end_time": "2024-02-26T13:31:02.183693",
     "exception": false,
     "start_time": "2024-02-26T13:31:02.166573",
     "status": "completed"
    },
    "tags": []
   },
   "outputs": [],
   "source": [
    "# # CONFIGURE \n",
    "\n",
    "# # Set Data Paths\n",
    "# test_path='test_satellite/'\n",
    "# train_path='train_satellite/'\n",
    "# labels_path='train_kelp/'\n",
    "\n",
    "\n",
    "# # Create directories\n",
    "# # test_predmask_path='test_kelp/'\n",
    "# # create_dir(test_predmask_path)\n",
    "\n",
    "# # set weights directory for new training saving\n",
    "# weights_path='weights/'\n",
    "# create_dir(weights_path)\n",
    "\n",
    "\n",
    "# RETRAIN= False # if true retrain else use trained weights for inference\n",
    "# trained_weights = 'trained_weights/' # meaningful only when RETRAIN=False\n",
    "\n",
    "\n",
    "# # directory for prediction probabilities \n",
    "# test_preds_dir = 'test_preds/'\n",
    "# create_dir(test_preds_dir)\n",
    "\n",
    "from config import test_path, train_path, labels_path, weights_path, RETRAIN, trained_weights, test_preds_dir\n",
    "\n",
    "# DO NOT EDIT BELOW"
   ]
  },
  {
   "cell_type": "code",
   "execution_count": 2,
   "id": "28f9259a",
   "metadata": {},
   "outputs": [
    {
     "data": {
      "text/plain": [
       "('test_satellite/',\n",
       " 'train_satellite/',\n",
       " 'train_kelp/',\n",
       " 'weights/',\n",
       " False,\n",
       " 'trained_weights/',\n",
       " 'test_preds/')"
      ]
     },
     "execution_count": 2,
     "metadata": {},
     "output_type": "execute_result"
    }
   ],
   "source": [
    "test_path, train_path, labels_path, weights_path, RETRAIN, trained_weights, test_preds_dir"
   ]
  },
  {
   "cell_type": "code",
   "execution_count": 4,
   "id": "67bebe6f",
   "metadata": {
    "execution": {
     "iopub.execute_input": "2024-02-26T13:31:02.201558Z",
     "iopub.status.busy": "2024-02-26T13:31:02.201261Z",
     "iopub.status.idle": "2024-02-26T13:31:02.207540Z",
     "shell.execute_reply": "2024-02-26T13:31:02.206554Z"
    },
    "papermill": {
     "duration": 0.017537,
     "end_time": "2024-02-26T13:31:02.209623",
     "exception": false,
     "start_time": "2024-02-26T13:31:02.192086",
     "status": "completed"
    },
    "tags": []
   },
   "outputs": [],
   "source": [
    "basename='segm_v222full'\n",
    "\n",
    "\n",
    "# training schedule variables\n",
    "epochs=32\n",
    "snapshots = 1\n",
    "lr_0 = 0.00005\n",
    "WARMUP_EPOCHS=0\n",
    "\n",
    "# training input variables\n",
    "SIZE=512 # resize image size\n",
    "channels=[0,1,3] # SWIR, NIR, Green\n",
    "meansCH = np.array( [0.485, 0.456, 0.406] )\n",
    "stdsCH = np.array( [0.229, 0.224, 0.225] )\n",
    "stdsCH *= 0.9\n",
    "CLIPMIN=6000\n",
    "CLIPMAX=24000\n",
    "\n",
    "\n",
    "BA=3 # Batch Accumulation\n",
    "num_workers = 4 # \n",
    "bs = 4 # Batch Size"
   ]
  },
  {
   "cell_type": "code",
   "execution_count": 5,
   "id": "3ee0f5ec",
   "metadata": {
    "execution": {
     "iopub.execute_input": "2024-02-26T13:31:02.229243Z",
     "iopub.status.busy": "2024-02-26T13:31:02.228462Z",
     "iopub.status.idle": "2024-02-26T13:31:02.951255Z",
     "shell.execute_reply": "2024-02-26T13:31:02.950309Z"
    },
    "papermill": {
     "duration": 0.734883,
     "end_time": "2024-02-26T13:31:02.953280",
     "exception": false,
     "start_time": "2024-02-26T13:31:02.218397",
     "status": "completed"
    },
    "tags": []
   },
   "outputs": [
    {
     "data": {
      "text/plain": [
       "(1426, 5635, 5635, 'FF979226_satellite.tif', 'WG210136_kelp.tif')"
      ]
     },
     "execution_count": 5,
     "metadata": {},
     "output_type": "execute_result"
    }
   ],
   "source": [
    "test_image_names=os.listdir(test_path)\n",
    "train_image_names=os.listdir(train_path)\n",
    "mask_names = os.listdir(labels_path)\n",
    "len(test_image_names),len(train_image_names),len(mask_names),test_image_names[0],mask_names[0]"
   ]
  },
  {
   "cell_type": "code",
   "execution_count": 3,
   "id": "4fb9a127",
   "metadata": {
    "execution": {
     "iopub.execute_input": "2024-02-26T13:31:02.971700Z",
     "iopub.status.busy": "2024-02-26T13:31:02.971182Z",
     "iopub.status.idle": "2024-02-26T13:31:02.997771Z",
     "shell.execute_reply": "2024-02-26T13:31:02.996875Z"
    },
    "papermill": {
     "duration": 0.037828,
     "end_time": "2024-02-26T13:31:02.999749",
     "exception": false,
     "start_time": "2024-02-26T13:31:02.961921",
     "status": "completed"
    },
    "tags": []
   },
   "outputs": [],
   "source": [
    "full_train_img_paths= np.array([train_path+x for x in train_image_names])\n",
    "full_train_msk_paths= np.array([labels_path+x.split('_')[0]+'_kelp.tif' for x in train_image_names])\n",
    "# full_test_img_paths= np.array([test_path+x for x in test_image_names])\n",
    "# test_image_names=np.load('/kaggle/input/needkelp/kafe_test_image_names.npz')['arr_0']\n",
    "full_test_img_paths=np.array([test_path+x for x in test_image_names])\n",
    "len(full_train_img_paths),len(full_train_msk_paths),len(full_test_img_paths),full_train_img_paths[:2],full_test_img_paths[:2]\n"
   ]
  },
  {
   "cell_type": "code",
   "execution_count": null,
   "id": "de6725d1",
   "metadata": {},
   "outputs": [],
   "source": [
    "# vids=np.load('/kaggle/input/needkelp/valid_imids_ph2.npz')['arr_0']\n",
    "# tids=np.load('/kaggle/input/needkelp/train_imids_ph2.npz')['arr_0']\n",
    "# len(tids),len(vids)\n",
    "\n",
    "# train_ids= np.array([train_path+x for x in tids])\n",
    "# val_ids= np.array([train_path+x for x in vids])\n",
    "# train_ids.shape, val_ids.shape\n",
    "\n",
    "# train_ids=np.concatenate((train_ids,val_ids))\n",
    "\n",
    "train_ids=np.array([train_path+x for x in train_image_names])\n",
    "train_ids.shape,train_ids[:3]"
   ]
  },
  {
   "cell_type": "code",
   "execution_count": null,
   "id": "ec063de7",
   "metadata": {},
   "outputs": [],
   "source": []
  },
  {
   "cell_type": "code",
   "execution_count": 7,
   "id": "ef9f25d5",
   "metadata": {
    "execution": {
     "iopub.execute_input": "2024-02-26T13:31:03.019645Z",
     "iopub.status.busy": "2024-02-26T13:31:03.018990Z",
     "iopub.status.idle": "2024-02-26T13:31:06.230695Z",
     "shell.execute_reply": "2024-02-26T13:31:06.229587Z"
    },
    "papermill": {
     "duration": 3.22394,
     "end_time": "2024-02-26T13:31:06.233231",
     "exception": false,
     "start_time": "2024-02-26T13:31:03.009291",
     "status": "completed"
    },
    "tags": []
   },
   "outputs": [
    {
     "data": {
      "application/vnd.jupyter.widget-view+json": {
       "model_id": "f07bcff83e38470ba4b1bdbf1ddfbd01",
       "version_major": 2,
       "version_minor": 0
      },
      "text/plain": [
       "config.json:   0%|          | 0.00/8.76k [00:00<?, ?B/s]"
      ]
     },
     "metadata": {},
     "output_type": "display_data"
    },
    {
     "data": {
      "application/vnd.jupyter.widget-view+json": {
       "model_id": "075c9048a5d840b3a267bc02826aa24a",
       "version_major": 2,
       "version_minor": 0
      },
      "text/plain": [
       "model.safetensors:   0%|          | 0.00/241M [00:00<?, ?B/s]"
      ]
     },
     "metadata": {},
     "output_type": "display_data"
    }
   ],
   "source": [
    "from transformers import SwinConfig, UperNetConfig, UperNetForSemanticSegmentation\n",
    "ENCODER = 'UPNTcnvxtT'\n",
    "model = UperNetForSemanticSegmentation.from_pretrained(\"openmmlab/upernet-convnext-tiny\")\n",
    "model.decode_head.classifier = torch.nn.Conv2d(512, 1, kernel_size=(1, 1), stride=(1, 1))"
   ]
  },
  {
   "cell_type": "code",
   "execution_count": null,
   "id": "1f8b324f",
   "metadata": {
    "papermill": {
     "duration": 0.008511,
     "end_time": "2024-02-26T13:31:06.250845",
     "exception": false,
     "start_time": "2024-02-26T13:31:06.242334",
     "status": "completed"
    },
    "tags": []
   },
   "outputs": [],
   "source": []
  },
  {
   "cell_type": "code",
   "execution_count": 8,
   "id": "6a9bb65a",
   "metadata": {
    "execution": {
     "iopub.execute_input": "2024-02-26T13:31:06.270772Z",
     "iopub.status.busy": "2024-02-26T13:31:06.269625Z",
     "iopub.status.idle": "2024-02-26T13:31:06.274297Z",
     "shell.execute_reply": "2024-02-26T13:31:06.273219Z"
    },
    "papermill": {
     "duration": 0.017033,
     "end_time": "2024-02-26T13:31:06.276535",
     "exception": false,
     "start_time": "2024-02-26T13:31:06.259502",
     "status": "completed"
    },
    "tags": []
   },
   "outputs": [],
   "source": [
    "# import transformers,safetensors\n",
    "# transformers.__version__,safetensors.__version__\n",
    "# ('4.29.2', '0.3.0')"
   ]
  },
  {
   "cell_type": "code",
   "execution_count": 9,
   "id": "00153aad",
   "metadata": {
    "execution": {
     "iopub.execute_input": "2024-02-26T13:31:06.296389Z",
     "iopub.status.busy": "2024-02-26T13:31:06.296058Z",
     "iopub.status.idle": "2024-02-26T13:31:06.304830Z",
     "shell.execute_reply": "2024-02-26T13:31:06.303896Z"
    },
    "papermill": {
     "duration": 0.021193,
     "end_time": "2024-02-26T13:31:06.306781",
     "exception": false,
     "start_time": "2024-02-26T13:31:06.285588",
     "status": "completed"
    },
    "tags": []
   },
   "outputs": [],
   "source": [
    "def cosine_anneal_schedule(t):\n",
    "    cos_inner = np.pi * (t % (epochs // snapshots))\n",
    "    cos_inner /= epochs // snapshots\n",
    "    cos_out = np.cos(cos_inner) + 1\n",
    "    return float(lr_0 / 2 * cos_out)\n",
    "cosine_anneal_schedule_list=[cosine_anneal_schedule(x) for x in range(epochs)]\n",
    "# cosine_anneal_schedule_list\n",
    "# WARMUP_EPOCHS=5\n",
    "# cosine_anneal_schedule_list=[0.000001]*WARMUP_EPOCHS+cosine_anneal_schedule_list\n",
    "# lr_0 = cosine_anneal_schedule_list[0]\n",
    "# epochs=len(cosine_anneal_schedule_list)\n",
    "def adjust_optim(optimizer, n_iter):\n",
    "    optimizer.param_groups[0]['lr'] = cosine_anneal_schedule_list[n_iter % epochs]\n",
    "\n"
   ]
  },
  {
   "cell_type": "code",
   "execution_count": 10,
   "id": "29bf2454",
   "metadata": {
    "execution": {
     "iopub.execute_input": "2024-02-26T13:31:06.326291Z",
     "iopub.status.busy": "2024-02-26T13:31:06.325934Z",
     "iopub.status.idle": "2024-02-26T13:31:06.343509Z",
     "shell.execute_reply": "2024-02-26T13:31:06.342601Z"
    },
    "papermill": {
     "duration": 0.029904,
     "end_time": "2024-02-26T13:31:06.345684",
     "exception": false,
     "start_time": "2024-02-26T13:31:06.315780",
     "status": "completed"
    },
    "tags": []
   },
   "outputs": [],
   "source": [
    "\n",
    "Ms = meansCH.mean()\n",
    "Ss = stdsCH.mean()\n",
    "\n",
    "\n",
    "RANDOM_ERASE_PROB=0.25\n",
    "MAX_ERASE_DIM=0.1\n",
    "RANDOM_ERASE_MAX_TIMES=5\n",
    "\n",
    "class KelpDataset_disk(torch.utils.data.Dataset):\n",
    "    \"\"\"Reads in images, transforms pixel values, and serves a\n",
    "    dictionary containing chip ids, image tensors, and\n",
    "    label masks (where available).\n",
    "    \"\"\"\n",
    "\n",
    "    def __init__(self, x_paths,y_paths, transforms=None, preprocessing=None, mode='train'):\n",
    "        self.x_paths = x_paths\n",
    "        self.y_paths = y_paths\n",
    "        # self.ids = ids\n",
    "        self.transforms = transforms\n",
    "        self.preprocessing = preprocessing\n",
    "        self.mode=mode\n",
    "\n",
    "    def __len__(self):\n",
    "        return len(self.x_paths)\n",
    "\n",
    "    def __getitem__(self, idx):\n",
    "        # Loads a 3-channel image from a chip-level dataframe\n",
    "        # x_arr = images[idx].astype('float')\n",
    "        # y_arr = masks[idx]\n",
    "        x_arr=tifffile.imread(self.x_paths[idx]).astype('float32')\n",
    "        t=x_arr.copy()\n",
    "        x_arr=np.clip(x_arr,CLIPMIN,CLIPMAX)\n",
    "        x_arr[t<=-32000]=0\n",
    "        # del t\n",
    "\n",
    "        if self.mode=='test':\n",
    "            y_arr=np.zeros((350,350)).astype('uint8')\n",
    "        else:\n",
    "            y_arr=tifffile.imread(self.y_paths[idx])\n",
    "\n",
    "        \n",
    "        if self.mode=='train':\n",
    "            if (random.random()<RANDOM_ERASE_PROB):\n",
    "                RANDOM_ERASE_TIMES = np.random.choice(np.arange(1,RANDOM_ERASE_MAX_TIMES+1))\n",
    "                for a in range(RANDOM_ERASE_TIMES):\n",
    "                    ULc=(int(random.random()*x_arr.shape[0]),int(random.random()*x_arr.shape[1]))\n",
    "                    EH = int(min(x_arr.shape[0]-ULc[0], random.random()*MAX_ERASE_DIM*x_arr.shape[0]))\n",
    "                    EW = int(min(x_arr.shape[1]-ULc[1], random.random()*MAX_ERASE_DIM*x_arr.shape[1]))\n",
    "                    x_arr[ULc[0]:ULc[0]+EH, ULc[1]:ULc[1]+EW,...] = CLIPMIN\n",
    "                    x_arr[t<=-32000]=0                \n",
    "                    y_arr[ULc[0]:ULc[0]+EH, ULc[1]:ULc[1]+EW] = 0\n",
    "        del t\n",
    "        y_arr = np.expand_dims(y_arr, -1).astype('float32')\n",
    "        \n",
    "        # print(x_arr.shape,y_arr.shape)\n",
    "        # Apply data augmentations, if provided\n",
    "        if self.transforms:\n",
    "            augmented = self.transforms(image=x_arr, mask=y_arr)\n",
    "            x_arr, y_arr = augmented['image'], augmented['mask']\n",
    "        # x_arr = np.transpose(x_arr, [2, 0, 1])\n",
    "        \n",
    "        # # ****GLOBAL****  Min-max normalization\n",
    "        \n",
    "        x_arr = x_arr[...,channels]/CLIPMAX\n",
    "        x_arr = (x_arr - meansCH)/stdsCH\n",
    "        \n",
    "        x_arr = np.transpose(x_arr, [2, 0, 1])\n",
    "        y_arr = np.transpose(y_arr, [2, 0, 1])\n",
    "        \n",
    "        if self.preprocessing:\n",
    "            preprocessed = self.preprocessing(image=x_arr, mask=y_arr)\n",
    "            # preprocessed = self.preprocessing(image=x_arr)\n",
    "            x_arr = preprocessed['image']\n",
    "            y_arr = preprocessed['mask']\n",
    "\n",
    "        return x_arr.astype('float32'), y_arr.astype('float32')#.astype('uint8')#, not_missing_mask.astype('uint8')"
   ]
  },
  {
   "cell_type": "code",
   "execution_count": 4,
   "id": "bc0ea7cf",
   "metadata": {
    "execution": {
     "iopub.execute_input": "2024-02-26T13:31:06.413035Z",
     "iopub.status.busy": "2024-02-26T13:31:06.412754Z",
     "iopub.status.idle": "2024-02-26T13:31:06.426017Z",
     "shell.execute_reply": "2024-02-26T13:31:06.425195Z"
    },
    "papermill": {
     "duration": 0.025285,
     "end_time": "2024-02-26T13:31:06.427895",
     "exception": false,
     "start_time": "2024-02-26T13:31:06.402610",
     "status": "completed"
    },
    "tags": []
   },
   "outputs": [],
   "source": []
  },
  {
   "cell_type": "code",
   "execution_count": 13,
   "id": "1fa01898",
   "metadata": {
    "execution": {
     "iopub.execute_input": "2024-02-26T13:31:06.446642Z",
     "iopub.status.busy": "2024-02-26T13:31:06.446370Z",
     "iopub.status.idle": "2024-02-26T13:31:06.450105Z",
     "shell.execute_reply": "2024-02-26T13:31:06.449329Z"
    },
    "papermill": {
     "duration": 0.015283,
     "end_time": "2024-02-26T13:31:06.452112",
     "exception": false,
     "start_time": "2024-02-26T13:31:06.436829",
     "status": "completed"
    },
    "tags": []
   },
   "outputs": [],
   "source": [
    "# train_ids=np.array([train_path+x for x in os.listdir(train_path) ])"
   ]
  },
  {
   "cell_type": "code",
   "execution_count": 14,
   "id": "89d0a355",
   "metadata": {
    "execution": {
     "iopub.execute_input": "2024-02-26T13:31:06.471811Z",
     "iopub.status.busy": "2024-02-26T13:31:06.470902Z",
     "iopub.status.idle": "2024-02-26T13:31:06.478768Z",
     "shell.execute_reply": "2024-02-26T13:31:06.477930Z"
    },
    "papermill": {
     "duration": 0.019626,
     "end_time": "2024-02-26T13:31:06.480708",
     "exception": false,
     "start_time": "2024-02-26T13:31:06.461082",
     "status": "completed"
    },
    "tags": []
   },
   "outputs": [],
   "source": [
    "from sklearn.metrics import jaccard_score\n",
    "def get_dice_coef(gt, preds, THRESH=0.5):\n",
    "    #gt shape BxCxHxW\n",
    "    #preds shape BxHxW\n",
    "    dice = np.sum((preds>THRESH)[gt[:,0,...]==1])*2.0 / (np.sum((preds>THRESH)) + np.sum(gt[:,0,...]))\n",
    "    return dice\n",
    "\n",
    "\n",
    "class DiceLoss(nn.Module):\n",
    "    def __init__(self, weight=None, size_average=True):\n",
    "        super(DiceLoss, self).__init__()\n",
    "\n",
    "    def forward(self, inputs, targets, eps=1e-7):\n",
    "        \n",
    "        # #comment out if your model contains a sigmoid or equivalent activation layer\n",
    "        # inputs = F.sigmoid(inputs)       \n",
    "        \n",
    "        #flatten label and prediction tensors\n",
    "        inputs = inputs.view(-1)\n",
    "        targets = targets.view(-1)\n",
    "        \n",
    "        intersection = (inputs * targets).sum()                            \n",
    "        dice = (2.*intersection )/(inputs.sum() + targets.sum() + eps)  \n",
    "        \n",
    "        return 1 - dice\n",
    "\n"
   ]
  },
  {
   "cell_type": "code",
   "execution_count": 15,
   "id": "bbdc7b31",
   "metadata": {
    "execution": {
     "iopub.execute_input": "2024-02-26T13:31:06.500351Z",
     "iopub.status.busy": "2024-02-26T13:31:06.499626Z",
     "iopub.status.idle": "2024-02-26T13:31:06.503353Z",
     "shell.execute_reply": "2024-02-26T13:31:06.502533Z"
    },
    "papermill": {
     "duration": 0.01553,
     "end_time": "2024-02-26T13:31:06.505305",
     "exception": false,
     "start_time": "2024-02-26T13:31:06.489775",
     "status": "completed"
    },
    "tags": []
   },
   "outputs": [],
   "source": [
    "# import segmentation_models_pytorch as smp\n",
    "# from segmentation_models_pytorch.losses import TverskyLoss, LovaszLoss"
   ]
  },
  {
   "cell_type": "code",
   "execution_count": 16,
   "id": "866d1efc",
   "metadata": {
    "execution": {
     "iopub.execute_input": "2024-02-26T13:31:06.523992Z",
     "iopub.status.busy": "2024-02-26T13:31:06.523748Z",
     "iopub.status.idle": "2024-02-26T13:31:06.529051Z",
     "shell.execute_reply": "2024-02-26T13:31:06.528202Z"
    },
    "papermill": {
     "duration": 0.017328,
     "end_time": "2024-02-26T13:31:06.531415",
     "exception": false,
     "start_time": "2024-02-26T13:31:06.514087",
     "status": "completed"
    },
    "tags": []
   },
   "outputs": [],
   "source": [
    "\n",
    "training_transformations = albumentations.Compose(\n",
    "    [\n",
    "        albumentations.Resize(SIZE, SIZE, interpolation=2),\n",
    "        albumentations.RandomRotate90(),\n",
    "        # albumentations.RandomRotate90(p=1),\n",
    "        albumentations.HorizontalFlip(),\n",
    "        albumentations.VerticalFlip(),\n",
    "    ]\n",
    ")\n",
    "validation_transformations = albumentations.Compose(\n",
    "    [\n",
    "        albumentations.Resize(SIZE, SIZE, interpolation=2),\n",
    "    ]\n",
    ")"
   ]
  },
  {
   "cell_type": "code",
   "execution_count": 17,
   "id": "91daf150",
   "metadata": {
    "execution": {
     "iopub.execute_input": "2024-02-26T13:31:06.551297Z",
     "iopub.status.busy": "2024-02-26T13:31:06.551038Z",
     "iopub.status.idle": "2024-02-26T13:31:09.132832Z",
     "shell.execute_reply": "2024-02-26T13:31:09.131833Z"
    },
    "papermill": {
     "duration": 2.593826,
     "end_time": "2024-02-26T13:31:09.135220",
     "exception": false,
     "start_time": "2024-02-26T13:31:06.541394",
     "status": "completed"
    },
    "scrolled": true,
    "tags": []
   },
   "outputs": [],
   "source": [
    "\n",
    "name=ENCODER+'_'+basename\n",
    "model.cuda()\n",
    "\n",
    "if RETRAIN==True:\n",
    "\n",
    "    optimizer = optim.AdamW(model.parameters(), lr=lr_0)\n",
    "    # optimizer=optim.AdamW([\n",
    "    #                 {'params': model.encoder.parameters()},\n",
    "    #                 {'params': model.decoder.parameters(), 'lr': lr_0*5},\n",
    "    #                 {'params': model.segmentation_head.parameters()}\n",
    "    #             ], lr=lr_0)\n",
    "\n",
    "\n",
    "    train_dataset = KelpDataset_disk(x_paths=train_ids,\n",
    "                                     y_paths=[x.replace('satellite', 'kelp') for x in train_ids],\n",
    "                                 transforms = training_transformations,\n",
    "                                    )\n",
    "\n",
    "    train_loader = DataLoader(train_dataset, batch_size=bs, shuffle=True, num_workers=num_workers, drop_last=True)\n",
    "\n",
    "    criterion1 = DiceLoss()\n",
    "\n",
    "\n",
    "    mb = master_bar(range(epochs))\n",
    "    loss_log=[]\n",
    "    for epoch in mb:\n",
    "\n",
    "        avg_train_loss = 0.\n",
    "        model.train()\n",
    "\n",
    "\n",
    "        pb = progress_bar(train_loader)\n",
    "        for ii, (data, target) in enumerate(pb):\n",
    "\n",
    "            data, target = data.cuda(non_blocking=True), target.cuda(non_blocking=True)\n",
    "\n",
    "\n",
    "            alpha = 1\n",
    "            # optimizer.zero_grad()\n",
    "            output = model(data)\n",
    "            output=output.logits\n",
    "            output=torch.sigmoid(output)\n",
    "\n",
    "            loss = criterion1(output,  target.to(dtype=torch.float))\n",
    "\n",
    "            loss.backward()\n",
    "            if (ii + 1) % BA == 0:            \n",
    "                optimizer.step()\n",
    "                # optimizer.zero_grad()\n",
    "                optimizer.zero_grad(set_to_none=True)  \n",
    "\n",
    "            # optimizer.step()\n",
    "            if ii % 1000 == 0:\n",
    "                loss_log.append(loss.item())\n",
    "            avg_train_loss += loss.item() / len(train_loader)\n",
    "\n",
    "        print('Epoch: {} - Loss: {:.6f}'.format(epoch + 1, avg_train_loss))\n",
    "\n",
    "\n",
    "        adjust_optim(optimizer, (epoch + 1))\n",
    "\n",
    "        gc.collect()\n",
    "    torch.save(model.state_dict(), weights_path+name+'_last.pt')\n",
    "else:\n",
    "    model.load_state_dict(torch.load(  trained_weights+ENCODER+'_'+basename+'_last.pt') )     "
   ]
  },
  {
   "cell_type": "code",
   "execution_count": null,
   "id": "5ada01ae",
   "metadata": {},
   "outputs": [],
   "source": [
    "model.eval()\n",
    "print('model eval')"
   ]
  },
  {
   "cell_type": "code",
   "execution_count": 18,
   "id": "c8e83e1a",
   "metadata": {
    "execution": {
     "iopub.execute_input": "2024-02-26T13:31:09.154970Z",
     "iopub.status.busy": "2024-02-26T13:31:09.154621Z",
     "iopub.status.idle": "2024-02-26T13:31:09.159610Z",
     "shell.execute_reply": "2024-02-26T13:31:09.158815Z"
    },
    "papermill": {
     "duration": 0.016902,
     "end_time": "2024-02-26T13:31:09.161499",
     "exception": false,
     "start_time": "2024-02-26T13:31:09.144597",
     "status": "completed"
    },
    "tags": []
   },
   "outputs": [],
   "source": [
    "test_dataset = KelpDataset_disk(x_paths=full_test_img_paths,\n",
    "                                y_paths=None,\n",
    "                             transforms = validation_transformations,\n",
    "                             # preprocessing=get_preprocessing(preprocessing_fn)\n",
    "                                 mode='test'\n",
    "                                )\n",
    "\n",
    "test_loader = DataLoader(test_dataset, batch_size=bs, shuffle=False, num_workers=num_workers)\n"
   ]
  },
  {
   "cell_type": "code",
   "execution_count": 5,
   "id": "080167ca",
   "metadata": {
    "execution": {
     "iopub.execute_input": "2024-02-26T13:31:09.180701Z",
     "iopub.status.busy": "2024-02-26T13:31:09.180395Z",
     "iopub.status.idle": "2024-02-26T13:36:06.096126Z",
     "shell.execute_reply": "2024-02-26T13:36:06.095042Z"
    },
    "papermill": {
     "duration": 296.927979,
     "end_time": "2024-02-26T13:36:06.098374",
     "exception": false,
     "start_time": "2024-02-26T13:31:09.170395",
     "status": "completed"
    },
    "tags": []
   },
   "outputs": [],
   "source": [
    "with torch.no_grad():\n",
    "\n",
    "    test_preds1 =[]\n",
    "    test_preds2 =[]\n",
    "    test_preds3 =[]\n",
    "    test_preds4 =[]\n",
    "\n",
    "\n",
    "    pb = progress_bar(test_loader)\n",
    "    for i, (x_batch, y_batch) in enumerate(pb):\n",
    "\n",
    "        preds1 = torch.sigmoid(model(x_batch.cuda(non_blocking=True)).logits).detach()\n",
    "        preds2 = torch.sigmoid(model(torch.flip(x_batch, dims=[2]).cuda(non_blocking=True)).logits).detach()\n",
    "        preds3 = torch.sigmoid(model(torch.flip(x_batch, dims=[3]).cuda(non_blocking=True)).logits).detach()\n",
    "        preds4 = torch.sigmoid(model(torch.flip(x_batch, dims=[2,3]).cuda(non_blocking=True)).logits).detach()\n",
    "\n",
    "        test_preds1.append(preds1.cpu())\n",
    "        test_preds2.append(preds2.cpu())\n",
    "        test_preds3.append(preds3.cpu())\n",
    "        test_preds4.append(preds4.cpu())\n",
    "    test_preds1=np.vstack(test_preds1)[:,0,...]    \n",
    "    test_preds2=np.vstack(test_preds2)[:,0,...]    \n",
    "    test_preds3=np.vstack(test_preds3)[:,0,...]    \n",
    "    test_preds4=np.vstack(test_preds4)[:,0,...]    \n",
    "\n",
    "    # test_preds=(test_preds1+test_preds2[...,::-1,:]+test_preds3[...,:,::-1])/3\n",
    "    test_preds=(test_preds1+test_preds2[...,::-1,:]+test_preds3[...,:,::-1]+test_preds4[...,::-1,::-1])/4\n",
    "        "
   ]
  },
  {
   "cell_type": "code",
   "execution_count": 20,
   "id": "f755fe68",
   "metadata": {
    "execution": {
     "iopub.execute_input": "2024-02-26T13:36:06.119259Z",
     "iopub.status.busy": "2024-02-26T13:36:06.118926Z",
     "iopub.status.idle": "2024-02-26T13:36:35.759662Z",
     "shell.execute_reply": "2024-02-26T13:36:35.758694Z"
    },
    "papermill": {
     "duration": 29.65383,
     "end_time": "2024-02-26T13:36:35.762186",
     "exception": false,
     "start_time": "2024-02-26T13:36:06.108356",
     "status": "completed"
    },
    "tags": []
   },
   "outputs": [],
   "source": [
    "np.savez(test_preds_dir+basename[5:], test_preds.astype('float16'))"
   ]
  },
  {
   "cell_type": "code",
   "execution_count": null,
   "id": "11081f60",
   "metadata": {
    "papermill": {
     "duration": 0.009936,
     "end_time": "2024-02-26T13:36:35.782488",
     "exception": false,
     "start_time": "2024-02-26T13:36:35.772552",
     "status": "completed"
    },
    "tags": []
   },
   "outputs": [],
   "source": []
  },
  {
   "cell_type": "code",
   "execution_count": 21,
   "id": "945550fa",
   "metadata": {
    "execution": {
     "iopub.execute_input": "2024-02-26T13:36:35.803053Z",
     "iopub.status.busy": "2024-02-26T13:36:35.802756Z",
     "iopub.status.idle": "2024-02-26T13:36:35.993419Z",
     "shell.execute_reply": "2024-02-26T13:36:35.992476Z"
    },
    "papermill": {
     "duration": 0.203652,
     "end_time": "2024-02-26T13:36:35.995595",
     "exception": false,
     "start_time": "2024-02-26T13:36:35.791943",
     "status": "completed"
    },
    "tags": []
   },
   "outputs": [
    {
     "data": {
      "image/png": "[encoded data removed]",
      "text/plain": [
       "<Figure size 640x480 with 1 Axes>"
      ]
     },
     "metadata": {},
     "output_type": "display_data"
    }
   ],
   "source": [
    "plt.imshow(test_preds[0]>0.5)\n",
    "plt.show()"
   ]
  },
  {
   "cell_type": "code",
   "execution_count": 6,
   "id": "0643354a",
   "metadata": {
    "execution": {
     "iopub.execute_input": "2024-02-26T13:36:36.017007Z",
     "iopub.status.busy": "2024-02-26T13:36:36.016613Z",
     "iopub.status.idle": "2024-02-26T13:36:45.360969Z",
     "shell.execute_reply": "2024-02-26T13:36:45.359917Z"
    },
    "papermill": {
     "duration": 9.357586,
     "end_time": "2024-02-26T13:36:45.363072",
     "exception": false,
     "start_time": "2024-02-26T13:36:36.005486",
     "status": "completed"
    },
    "tags": []
   },
   "outputs": [],
   "source": [
    "# test_preds = np.array([skimage.transform.resize(x, (350,350)) for x in test_preds])\n",
    "# test_preds.shape"
   ]
  },
  {
   "cell_type": "code",
   "execution_count": 7,
   "id": "9feb45f9",
   "metadata": {
    "execution": {
     "iopub.execute_input": "2024-02-26T13:36:45.384837Z",
     "iopub.status.busy": "2024-02-26T13:36:45.383597Z",
     "iopub.status.idle": "2024-02-26T13:36:45.508681Z",
     "shell.execute_reply": "2024-02-26T13:36:45.507687Z"
    },
    "papermill": {
     "duration": 0.138044,
     "end_time": "2024-02-26T13:36:45.511105",
     "exception": false,
     "start_time": "2024-02-26T13:36:45.373061",
     "status": "completed"
    },
    "tags": []
   },
   "outputs": [],
   "source": [
    "# THRESH=0.5\n",
    "# test_preds = np.array([(x>THRESH).astype('uint8') for x in test_preds])"
   ]
  },
  {
   "cell_type": "code",
   "execution_count": 8,
   "id": "6d0611f2",
   "metadata": {
    "execution": {
     "iopub.execute_input": "2024-02-26T13:36:45.532847Z",
     "iopub.status.busy": "2024-02-26T13:36:45.532169Z",
     "iopub.status.idle": "2024-02-26T13:36:46.667161Z",
     "shell.execute_reply": "2024-02-26T13:36:46.666245Z"
    },
    "papermill": {
     "duration": 1.148145,
     "end_time": "2024-02-26T13:36:46.669340",
     "exception": false,
     "start_time": "2024-02-26T13:36:45.521195",
     "status": "completed"
    },
    "tags": []
   },
   "outputs": [],
   "source": [
    "# [cv2.imwrite(test_predmask_path+test_image_names[i].split('_')[0]+'_kelp.tif', test_preds[i])\n",
    "#  for i in range(len(test_preds))]\n",
    "# print('saved in disk')"
   ]
  },
  {
   "cell_type": "code",
   "execution_count": null,
   "id": "1770de3d",
   "metadata": {
    "papermill": {
     "duration": 0.009562,
     "end_time": "2024-02-26T13:36:46.688787",
     "exception": false,
     "start_time": "2024-02-26T13:36:46.679225",
     "status": "completed"
    },
    "tags": []
   },
   "outputs": [],
   "source": []
  },
  {
   "cell_type": "code",
   "execution_count": 9,
   "id": "094bb71f",
   "metadata": {
    "execution": {
     "iopub.execute_input": "2024-02-26T13:36:46.709374Z",
     "iopub.status.busy": "2024-02-26T13:36:46.709070Z",
     "iopub.status.idle": "2024-02-26T13:36:47.966253Z",
     "shell.execute_reply": "2024-02-26T13:36:47.965099Z"
    },
    "papermill": {
     "duration": 1.269878,
     "end_time": "2024-02-26T13:36:47.968484",
     "exception": false,
     "start_time": "2024-02-26T13:36:46.698606",
     "status": "completed"
    },
    "tags": []
   },
   "outputs": [],
   "source": [
    "# # Remember to avoid including the inference dir itself\n",
    "# !cd test_kelp && zip -rq subm_v222full.zip *"
   ]
  },
  {
   "cell_type": "code",
   "execution_count": 10,
   "id": "8c309ea5",
   "metadata": {
    "execution": {
     "iopub.execute_input": "2024-02-26T13:36:47.989786Z",
     "iopub.status.busy": "2024-02-26T13:36:47.989455Z",
     "iopub.status.idle": "2024-02-26T13:36:49.091200Z",
     "shell.execute_reply": "2024-02-26T13:36:49.089740Z"
    },
    "papermill": {
     "duration": 1.115167,
     "end_time": "2024-02-26T13:36:49.093626",
     "exception": false,
     "start_time": "2024-02-26T13:36:47.978459",
     "status": "completed"
    },
    "tags": []
   },
   "outputs": [],
   "source": [
    "# !du -h subm_v222full.zip"
   ]
  },
  {
   "cell_type": "code",
   "execution_count": null,
   "id": "aca9a642",
   "metadata": {},
   "outputs": [],
   "source": []
  }
 ],
 "metadata": {
  "kaggle": {
   "accelerator": "gpu",
   "dataSources": [
    {
     "datasetId": 4497321,
     "sourceId": 7703751,
     "sourceType": "datasetVersion"
    },
    {
     "datasetId": 4275820,
     "sourceId": 7587464,
     "sourceType": "datasetVersion"
    },
    {
     "sourceId": 157416039,
     "sourceType": "kernelVersion"
    }
   ],
   "dockerImageVersionId": 30648,
   "isGpuEnabled": true,
   "isInternetEnabled": true,
   "language": "python",
   "sourceType": "notebook"
  },
  "kernelspec": {
   "display_name": "Python 3",
   "language": "python",
   "name": "python3"
  },
  "language_info": {
   "codemirror_mode": {
    "name": "ipython",
    "version": 3
   },
   "file_extension": ".py",
   "mimetype": "text/x-python",
   "name": "python",
   "nbconvert_exporter": "python",
   "pygments_lexer": "ipython3",
   "version": "3.6.15"
  },
  "papermill": {
   "default_parameters": {},
   "duration": 385.347622,
   "end_time": "2024-02-26T13:36:52.965764",
   "environment_variables": {},
   "exception": null,
   "input_path": "__notebook__.ipynb",
   "output_path": "__notebook__.ipynb",
   "parameters": {},
   "start_time": "2024-02-26T13:30:27.618142",
   "version": "2.5.0"
  },
  "widgets": {
   "application/vnd.jupyter.widget-state+json": {
    "state": {
     "075c9048a5d840b3a267bc02826aa24a": {
      "model_module": "@jupyter-widgets/controls",
      "model_module_version": "1.5.0",
      "model_name": "HBoxModel",
      "state": {
       "_dom_classes": [],
       "_model_module": "@jupyter-widgets/controls",
       "_model_module_version": "1.5.0",
       "_model_name": "HBoxModel",
       "_view_count": null,
       "_view_module": "@jupyter-widgets/controls",
       "_view_module_version": "1.5.0",
       "_view_name": "HBoxView",
       "box_style": "",
       "children": [
        "IPY_MODEL_f4099c3159334d40a0edecbe874693b6",
        "IPY_MODEL_8a8c1a85c428498fbdc3d45be51febbb",
        "IPY_MODEL_4c6e3fac40dd43fca5e688048d8a810d"
       ],
       "layout": "IPY_MODEL_9a57786e5e7745fdac40eb3dfa97cde4"
      }
     },
     "12fc7c12531f4283aca09e2b5dfcf04a": {
      "model_module": "@jupyter-widgets/controls",
      "model_module_version": "1.5.0",
      "model_name": "DescriptionStyleModel",
      "state": {
       "_model_module": "@jupyter-widgets/controls",
       "_model_module_version": "1.5.0",
       "_model_name": "DescriptionStyleModel",
       "_view_count": null,
       "_view_module": "@jupyter-widgets/base",
       "_view_module_version": "1.2.0",
       "_view_name": "StyleView",
       "description_width": ""
      }
     },
     "335f7ec3f61e4450946836c9a2977edd": {
      "model_module": "@jupyter-widgets/controls",
      "model_module_version": "1.5.0",
      "model_name": "HTMLModel",
      "state": {
       "_dom_classes": [],
       "_model_module": "@jupyter-widgets/controls",
       "_model_module_version": "1.5.0",
       "_model_name": "HTMLModel",
       "_view_count": null,
       "_view_module": "@jupyter-widgets/controls",
       "_view_module_version": "1.5.0",
       "_view_name": "HTMLView",
       "description": "",
       "description_tooltip": null,
       "layout": "IPY_MODEL_a354c6cbf932485c9bce0bb1020a060d",
       "placeholder": "​",
       "style": "IPY_MODEL_6caea132df124f69bd76e88cb81d3eb2",
       "value": "config.json: 100%"
      }
     },
     "48780a6879284ef3b4cc098dc9b8a6c6": {
      "model_module": "@jupyter-widgets/controls",
      "model_module_version": "1.5.0",
      "model_name": "DescriptionStyleModel",
      "state": {
       "_model_module": "@jupyter-widgets/controls",
       "_model_module_version": "1.5.0",
       "_model_name": "DescriptionStyleModel",
       "_view_count": null,
       "_view_module": "@jupyter-widgets/base",
       "_view_module_version": "1.2.0",
       "_view_name": "StyleView",
       "description_width": ""
      }
     },
     "4c6e3fac40dd43fca5e688048d8a810d": {
      "model_module": "@jupyter-widgets/controls",
      "model_module_version": "1.5.0",
      "model_name": "HTMLModel",
      "state": {
       "_dom_classes": [],
       "_model_module": "@jupyter-widgets/controls",
       "_model_module_version": "1.5.0",
       "_model_name": "HTMLModel",
       "_view_count": null,
       "_view_module": "@jupyter-widgets/controls",
       "_view_module_version": "1.5.0",
       "_view_name": "HTMLView",
       "description": "",
       "description_tooltip": null,
       "layout": "IPY_MODEL_c8bdb9cd1f814df699dfef149ebca6ae",
       "placeholder": "​",
       "style": "IPY_MODEL_48780a6879284ef3b4cc098dc9b8a6c6",
       "value": " 241M/241M [00:01&lt;00:00, 272MB/s]"
      }
     },
     "5c2a0fe36f3c4a2e8542837b8ee6e266": {
      "model_module": "@jupyter-widgets/base",
      "model_module_version": "1.2.0",
      "model_name": "LayoutModel",
      "state": {
       "_model_module": "@jupyter-widgets/base",
       "_model_module_version": "1.2.0",
       "_model_name": "LayoutModel",
       "_view_count": null,
       "_view_module": "@jupyter-widgets/base",
       "_view_module_version": "1.2.0",
       "_view_name": "LayoutView",
       "align_content": null,
       "align_items": null,
       "align_self": null,
       "border": null,
       "bottom": null,
       "display": null,
       "flex": null,
       "flex_flow": null,
       "grid_area": null,
       "grid_auto_columns": null,
       "grid_auto_flow": null,
       "grid_auto_rows": null,
       "grid_column": null,
       "grid_gap": null,
       "grid_row": null,
       "grid_template_areas": null,
       "grid_template_columns": null,
       "grid_template_rows": null,
       "height": null,
       "justify_content": null,
       "justify_items": null,
       "left": null,
       "margin": null,
       "max_height": null,
       "max_width": null,
       "min_height": null,
       "min_width": null,
       "object_fit": null,
       "object_position": null,
       "order": null,
       "overflow": null,
       "overflow_x": null,
       "overflow_y": null,
       "padding": null,
       "right": null,
       "top": null,
       "visibility": null,
       "width": null
      }
     },
     "6caea132df124f69bd76e88cb81d3eb2": {
      "model_module": "@jupyter-widgets/controls",
      "model_module_version": "1.5.0",
      "model_name": "DescriptionStyleModel",
      "state": {
       "_model_module": "@jupyter-widgets/controls",
       "_model_module_version": "1.5.0",
       "_model_name": "DescriptionStyleModel",
       "_view_count": null,
       "_view_module": "@jupyter-widgets/base",
       "_view_module_version": "1.2.0",
       "_view_name": "StyleView",
       "description_width": ""
      }
     },
     "8a8c1a85c428498fbdc3d45be51febbb": {
      "model_module": "@jupyter-widgets/controls",
      "model_module_version": "1.5.0",
      "model_name": "FloatProgressModel",
      "state": {
       "_dom_classes": [],
       "_model_module": "@jupyter-widgets/controls",
       "_model_module_version": "1.5.0",
       "_model_name": "FloatProgressModel",
       "_view_count": null,
       "_view_module": "@jupyter-widgets/controls",
       "_view_module_version": "1.5.0",
       "_view_name": "ProgressView",
       "bar_style": "success",
       "description": "",
       "description_tooltip": null,
       "layout": "IPY_MODEL_9f06290f480749edba3a81d0f2febadc",
       "max": 241053050,
       "min": 0,
       "orientation": "horizontal",
       "style": "IPY_MODEL_a5e58198a2d74c45b75c8755bf7bbdda",
       "value": 241053050
      }
     },
     "92f93d289765400d84abad5c6d905bc5": {
      "model_module": "@jupyter-widgets/base",
      "model_module_version": "1.2.0",
      "model_name": "LayoutModel",
      "state": {
       "_model_module": "@jupyter-widgets/base",
       "_model_module_version": "1.2.0",
       "_model_name": "LayoutModel",
       "_view_count": null,
       "_view_module": "@jupyter-widgets/base",
       "_view_module_version": "1.2.0",
       "_view_name": "LayoutView",
       "align_content": null,
       "align_items": null,
       "align_self": null,
       "border": null,
       "bottom": null,
       "display": null,
       "flex": null,
       "flex_flow": null,
       "grid_area": null,
       "grid_auto_columns": null,
       "grid_auto_flow": null,
       "grid_auto_rows": null,
       "grid_column": null,
       "grid_gap": null,
       "grid_row": null,
       "grid_template_areas": null,
       "grid_template_columns": null,
       "grid_template_rows": null,
       "height": null,
       "justify_content": null,
       "justify_items": null,
       "left": null,
       "margin": null,
       "max_height": null,
       "max_width": null,
       "min_height": null,
       "min_width": null,
       "object_fit": null,
       "object_position": null,
       "order": null,
       "overflow": null,
       "overflow_x": null,
       "overflow_y": null,
       "padding": null,
       "right": null,
       "top": null,
       "visibility": null,
       "width": null
      }
     },
     "9a57786e5e7745fdac40eb3dfa97cde4": {
      "model_module": "@jupyter-widgets/base",
      "model_module_version": "1.2.0",
      "model_name": "LayoutModel",
      "state": {
       "_model_module": "@jupyter-widgets/base",
       "_model_module_version": "1.2.0",
       "_model_name": "LayoutModel",
       "_view_count": null,
       "_view_module": "@jupyter-widgets/base",
       "_view_module_version": "1.2.0",
       "_view_name": "LayoutView",
       "align_content": null,
       "align_items": null,
       "align_self": null,
       "border": null,
       "bottom": null,
       "display": null,
       "flex": null,
       "flex_flow": null,
       "grid_area": null,
       "grid_auto_columns": null,
       "grid_auto_flow": null,
       "grid_auto_rows": null,
       "grid_column": null,
       "grid_gap": null,
       "grid_row": null,
       "grid_template_areas": null,
       "grid_template_columns": null,
       "grid_template_rows": null,
       "height": null,
       "justify_content": null,
       "justify_items": null,
       "left": null,
       "margin": null,
       "max_height": null,
       "max_width": null,
       "min_height": null,
       "min_width": null,
       "object_fit": null,
       "object_position": null,
       "order": null,
       "overflow": null,
       "overflow_x": null,
       "overflow_y": null,
       "padding": null,
       "right": null,
       "top": null,
       "visibility": null,
       "width": null
      }
     },
     "9c58de2ad920425b9d070c80507ec14f": {
      "model_module": "@jupyter-widgets/base",
      "model_module_version": "1.2.0",
      "model_name": "LayoutModel",
      "state": {
       "_model_module": "@jupyter-widgets/base",
       "_model_module_version": "1.2.0",
       "_model_name": "LayoutModel",
       "_view_count": null,
       "_view_module": "@jupyter-widgets/base",
       "_view_module_version": "1.2.0",
       "_view_name": "LayoutView",
       "align_content": null,
       "align_items": null,
       "align_self": null,
       "border": null,
       "bottom": null,
       "display": null,
       "flex": null,
       "flex_flow": null,
       "grid_area": null,
       "grid_auto_columns": null,
       "grid_auto_flow": null,
       "grid_auto_rows": null,
       "grid_column": null,
       "grid_gap": null,
       "grid_row": null,
       "grid_template_areas": null,
       "grid_template_columns": null,
       "grid_template_rows": null,
       "height": null,
       "justify_content": null,
       "justify_items": null,
       "left": null,
       "margin": null,
       "max_height": null,
       "max_width": null,
       "min_height": null,
       "min_width": null,
       "object_fit": null,
       "object_position": null,
       "order": null,
       "overflow": null,
       "overflow_x": null,
       "overflow_y": null,
       "padding": null,
       "right": null,
       "top": null,
       "visibility": null,
       "width": null
      }
     },
     "9dcc5eb6ed8840a5bd1ef84d9f6a2831": {
      "model_module": "@jupyter-widgets/controls",
      "model_module_version": "1.5.0",
      "model_name": "HTMLModel",
      "state": {
       "_dom_classes": [],
       "_model_module": "@jupyter-widgets/controls",
       "_model_module_version": "1.5.0",
       "_model_name": "HTMLModel",
       "_view_count": null,
       "_view_module": "@jupyter-widgets/controls",
       "_view_module_version": "1.5.0",
       "_view_name": "HTMLView",
       "description": "",
       "description_tooltip": null,
       "layout": "IPY_MODEL_a8e7212527074a8e984d31ee09b5cae1",
       "placeholder": "​",
       "style": "IPY_MODEL_12fc7c12531f4283aca09e2b5dfcf04a",
       "value": " 8.76k/8.76k [00:00&lt;00:00, 757kB/s]"
      }
     },
     "9ea9e5b5d8e34960a5e5856b076322d6": {
      "model_module": "@jupyter-widgets/controls",
      "model_module_version": "1.5.0",
      "model_name": "FloatProgressModel",
      "state": {
       "_dom_classes": [],
       "_model_module": "@jupyter-widgets/controls",
       "_model_module_version": "1.5.0",
       "_model_name": "FloatProgressModel",
       "_view_count": null,
       "_view_module": "@jupyter-widgets/controls",
       "_view_module_version": "1.5.0",
       "_view_name": "ProgressView",
       "bar_style": "success",
       "description": "",
       "description_tooltip": null,
       "layout": "IPY_MODEL_5c2a0fe36f3c4a2e8542837b8ee6e266",
       "max": 8755,
       "min": 0,
       "orientation": "horizontal",
       "style": "IPY_MODEL_dc2c1602d41547aebca06a7770a5a093",
       "value": 8755
      }
     },
     "9f06290f480749edba3a81d0f2febadc": {
      "model_module": "@jupyter-widgets/base",
      "model_module_version": "1.2.0",
      "model_name": "LayoutModel",
      "state": {
       "_model_module": "@jupyter-widgets/base",
       "_model_module_version": "1.2.0",
       "_model_name": "LayoutModel",
       "_view_count": null,
       "_view_module": "@jupyter-widgets/base",
       "_view_module_version": "1.2.0",
       "_view_name": "LayoutView",
       "align_content": null,
       "align_items": null,
       "align_self": null,
       "border": null,
       "bottom": null,
       "display": null,
       "flex": null,
       "flex_flow": null,
       "grid_area": null,
       "grid_auto_columns": null,
       "grid_auto_flow": null,
       "grid_auto_rows": null,
       "grid_column": null,
       "grid_gap": null,
       "grid_row": null,
       "grid_template_areas": null,
       "grid_template_columns": null,
       "grid_template_rows": null,
       "height": null,
       "justify_content": null,
       "justify_items": null,
       "left": null,
       "margin": null,
       "max_height": null,
       "max_width": null,
       "min_height": null,
       "min_width": null,
       "object_fit": null,
       "object_position": null,
       "order": null,
       "overflow": null,
       "overflow_x": null,
       "overflow_y": null,
       "padding": null,
       "right": null,
       "top": null,
       "visibility": null,
       "width": null
      }
     },
     "a354c6cbf932485c9bce0bb1020a060d": {
      "model_module": "@jupyter-widgets/base",
      "model_module_version": "1.2.0",
      "model_name": "LayoutModel",
      "state": {
       "_model_module": "@jupyter-widgets/base",
       "_model_module_version": "1.2.0",
       "_model_name": "LayoutModel",
       "_view_count": null,
       "_view_module": "@jupyter-widgets/base",
       "_view_module_version": "1.2.0",
       "_view_name": "LayoutView",
       "align_content": null,
       "align_items": null,
       "align_self": null,
       "border": null,
       "bottom": null,
       "display": null,
       "flex": null,
       "flex_flow": null,
       "grid_area": null,
       "grid_auto_columns": null,
       "grid_auto_flow": null,
       "grid_auto_rows": null,
       "grid_column": null,
       "grid_gap": null,
       "grid_row": null,
       "grid_template_areas": null,
       "grid_template_columns": null,
       "grid_template_rows": null,
       "height": null,
       "justify_content": null,
       "justify_items": null,
       "left": null,
       "margin": null,
       "max_height": null,
       "max_width": null,
       "min_height": null,
       "min_width": null,
       "object_fit": null,
       "object_position": null,
       "order": null,
       "overflow": null,
       "overflow_x": null,
       "overflow_y": null,
       "padding": null,
       "right": null,
       "top": null,
       "visibility": null,
       "width": null
      }
     },
     "a5e58198a2d74c45b75c8755bf7bbdda": {
      "model_module": "@jupyter-widgets/controls",
      "model_module_version": "1.5.0",
      "model_name": "ProgressStyleModel",
      "state": {
       "_model_module": "@jupyter-widgets/controls",
       "_model_module_version": "1.5.0",
       "_model_name": "ProgressStyleModel",
       "_view_count": null,
       "_view_module": "@jupyter-widgets/base",
       "_view_module_version": "1.2.0",
       "_view_name": "StyleView",
       "bar_color": null,
       "description_width": ""
      }
     },
     "a8e7212527074a8e984d31ee09b5cae1": {
      "model_module": "@jupyter-widgets/base",
      "model_module_version": "1.2.0",
      "model_name": "LayoutModel",
      "state": {
       "_model_module": "@jupyter-widgets/base",
       "_model_module_version": "1.2.0",
       "_model_name": "LayoutModel",
       "_view_count": null,
       "_view_module": "@jupyter-widgets/base",
       "_view_module_version": "1.2.0",
       "_view_name": "LayoutView",
       "align_content": null,
       "align_items": null,
       "align_self": null,
       "border": null,
       "bottom": null,
       "display": null,
       "flex": null,
       "flex_flow": null,
       "grid_area": null,
       "grid_auto_columns": null,
       "grid_auto_flow": null,
       "grid_auto_rows": null,
       "grid_column": null,
       "grid_gap": null,
       "grid_row": null,
       "grid_template_areas": null,
       "grid_template_columns": null,
       "grid_template_rows": null,
       "height": null,
       "justify_content": null,
       "justify_items": null,
       "left": null,
       "margin": null,
       "max_height": null,
       "max_width": null,
       "min_height": null,
       "min_width": null,
       "object_fit": null,
       "object_position": null,
       "order": null,
       "overflow": null,
       "overflow_x": null,
       "overflow_y": null,
       "padding": null,
       "right": null,
       "top": null,
       "visibility": null,
       "width": null
      }
     },
     "c8bdb9cd1f814df699dfef149ebca6ae": {
      "model_module": "@jupyter-widgets/base",
      "model_module_version": "1.2.0",
      "model_name": "LayoutModel",
      "state": {
       "_model_module": "@jupyter-widgets/base",
       "_model_module_version": "1.2.0",
       "_model_name": "LayoutModel",
       "_view_count": null,
       "_view_module": "@jupyter-widgets/base",
       "_view_module_version": "1.2.0",
       "_view_name": "LayoutView",
       "align_content": null,
       "align_items": null,
       "align_self": null,
       "border": null,
       "bottom": null,
       "display": null,
       "flex": null,
       "flex_flow": null,
       "grid_area": null,
       "grid_auto_columns": null,
       "grid_auto_flow": null,
       "grid_auto_rows": null,
       "grid_column": null,
       "grid_gap": null,
       "grid_row": null,
       "grid_template_areas": null,
       "grid_template_columns": null,
       "grid_template_rows": null,
       "height": null,
       "justify_content": null,
       "justify_items": null,
       "left": null,
       "margin": null,
       "max_height": null,
       "max_width": null,
       "min_height": null,
       "min_width": null,
       "object_fit": null,
       "object_position": null,
       "order": null,
       "overflow": null,
       "overflow_x": null,
       "overflow_y": null,
       "padding": null,
       "right": null,
       "top": null,
       "visibility": null,
       "width": null
      }
     },
     "dc2c1602d41547aebca06a7770a5a093": {
      "model_module": "@jupyter-widgets/controls",
      "model_module_version": "1.5.0",
      "model_name": "ProgressStyleModel",
      "state": {
       "_model_module": "@jupyter-widgets/controls",
       "_model_module_version": "1.5.0",
       "_model_name": "ProgressStyleModel",
       "_view_count": null,
       "_view_module": "@jupyter-widgets/base",
       "_view_module_version": "1.2.0",
       "_view_name": "StyleView",
       "bar_color": null,
       "description_width": ""
      }
     },
     "e754b22514fb4b82a8b37a7a0f55a30e": {
      "model_module": "@jupyter-widgets/controls",
      "model_module_version": "1.5.0",
      "model_name": "DescriptionStyleModel",
      "state": {
       "_model_module": "@jupyter-widgets/controls",
       "_model_module_version": "1.5.0",
       "_model_name": "DescriptionStyleModel",
       "_view_count": null,
       "_view_module": "@jupyter-widgets/base",
       "_view_module_version": "1.2.0",
       "_view_name": "StyleView",
       "description_width": ""
      }
     },
     "f07bcff83e38470ba4b1bdbf1ddfbd01": {
      "model_module": "@jupyter-widgets/controls",
      "model_module_version": "1.5.0",
      "model_name": "HBoxModel",
      "state": {
       "_dom_classes": [],
       "_model_module": "@jupyter-widgets/controls",
       "_model_module_version": "1.5.0",
       "_model_name": "HBoxModel",
       "_view_count": null,
       "_view_module": "@jupyter-widgets/controls",
       "_view_module_version": "1.5.0",
       "_view_name": "HBoxView",
       "box_style": "",
       "children": [
        "IPY_MODEL_335f7ec3f61e4450946836c9a2977edd",
        "IPY_MODEL_9ea9e5b5d8e34960a5e5856b076322d6",
        "IPY_MODEL_9dcc5eb6ed8840a5bd1ef84d9f6a2831"
       ],
       "layout": "IPY_MODEL_9c58de2ad920425b9d070c80507ec14f"
      }
     },
     "f4099c3159334d40a0edecbe874693b6": {
      "model_module": "@jupyter-widgets/controls",
      "model_module_version": "1.5.0",
      "model_name": "HTMLModel",
      "state": {
       "_dom_classes": [],
       "_model_module": "@jupyter-widgets/controls",
       "_model_module_version": "1.5.0",
       "_model_name": "HTMLModel",
       "_view_count": null,
       "_view_module": "@jupyter-widgets/controls",
       "_view_module_version": "1.5.0",
       "_view_name": "HTMLView",
       "description": "",
       "description_tooltip": null,
       "layout": "IPY_MODEL_92f93d289765400d84abad5c6d905bc5",
       "placeholder": "​",
       "style": "IPY_MODEL_e754b22514fb4b82a8b37a7a0f55a30e",
       "value": "model.safetensors: 100%"
      }
     }
    },
    "version_major": 2,
    "version_minor": 0
   }
  }
 },
 "nbformat": 4,
 "nbformat_minor": 5
}
