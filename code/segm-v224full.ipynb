{
 "cells": [
  {
   "cell_type": "code",
   "execution_count": 1,
   "id": "2c57ba49",
   "metadata": {
    "execution": {
     "iopub.execute_input": "2024-02-26T13:48:06.114688Z",
     "iopub.status.busy": "2024-02-26T13:48:06.113999Z",
     "iopub.status.idle": "2024-02-26T13:48:06.118273Z",
     "shell.execute_reply": "2024-02-26T13:48:06.117547Z"
    },
    "papermill": {
     "duration": 0.015966,
     "end_time": "2024-02-26T13:48:06.120085",
     "exception": false,
     "start_time": "2024-02-26T13:48:06.104119",
     "status": "completed"
    },
    "tags": []
   },
   "outputs": [],
   "source": [
    "# !pip install -q segmentation_models_pytorch"
   ]
  },
  {
   "cell_type": "code",
   "execution_count": 2,
   "id": "cae6f60e",
   "metadata": {
    "execution": {
     "iopub.execute_input": "2024-02-26T13:48:06.137777Z",
     "iopub.status.busy": "2024-02-26T13:48:06.137500Z",
     "iopub.status.idle": "2024-02-26T13:48:12.244728Z",
     "shell.execute_reply": "2024-02-26T13:48:12.243771Z"
    },
    "papermill": {
     "duration": 6.118544,
     "end_time": "2024-02-26T13:48:12.247053",
     "exception": false,
     "start_time": "2024-02-26T13:48:06.128509",
     "status": "completed"
    },
    "tags": []
   },
   "outputs": [],
   "source": [
    "import os\n",
    "# os.environ[\"CUDA_VISIBLE_DEVICES\"] = \"0\"\n",
    "\n",
    "import cv2\n",
    "import tifffile\n",
    "import numpy as np\n",
    "import pandas as pd\n",
    "import matplotlib.pyplot as plt\n",
    "import gc\n",
    "import warnings\n",
    "warnings.filterwarnings(\"ignore\")\n",
    "\n",
    "import random\n",
    "import torch\n",
    "import torch.nn as nn\n",
    "import albumentations\n",
    "\n",
    "# import segmentation_models_pytorch as smp\n",
    "import skimage\n",
    "\n",
    "\n",
    "from tqdm import tqdm\n",
    "import torch.optim as optim\n",
    "from torch.utils.data import TensorDataset, DataLoader,Dataset\n",
    "from fastprogress import master_bar, progress_bar\n",
    "\n",
    "def create_dir(path):\n",
    "    if os.path.isdir(path)==False:\n",
    "        os.makedirs(path)"
   ]
  },
  {
   "cell_type": "code",
   "execution_count": 1,
   "id": "0fa9db79",
   "metadata": {
    "execution": {
     "iopub.execute_input": "2024-02-26T13:48:12.265411Z",
     "iopub.status.busy": "2024-02-26T13:48:12.264990Z",
     "iopub.status.idle": "2024-02-26T13:48:12.270185Z",
     "shell.execute_reply": "2024-02-26T13:48:12.269333Z"
    },
    "papermill": {
     "duration": 0.016429,
     "end_time": "2024-02-26T13:48:12.272014",
     "exception": false,
     "start_time": "2024-02-26T13:48:12.255585",
     "status": "completed"
    },
    "tags": []
   },
   "outputs": [],
   "source": [
    "# # CONFIGURE \n",
    "\n",
    "# # Set Data Paths\n",
    "# test_path='test_satellite/'\n",
    "# train_path='train_satellite/'\n",
    "# labels_path='train_kelp/'\n",
    "\n",
    "\n",
    "# # Create directories\n",
    "# # test_predmask_path='test_kelp/'\n",
    "# # create_dir(test_predmask_path)\n",
    "\n",
    "# # set weights directory for new training saving\n",
    "# weights_path='weights/'\n",
    "# create_dir(weights_path)\n",
    "\n",
    "\n",
    "# RETRAIN= False # if true retrain else use trained weights for inference\n",
    "# trained_weights = 'trained_weights/' # meaningful only when RETRAIN=False\n",
    "\n",
    "\n",
    "# # directory for prediction probabilities \n",
    "# test_preds_dir = 'test_preds/'\n",
    "# create_dir(test_preds_dir)\n",
    "\n",
    "from config import test_path, train_path, labels_path, weights_path, RETRAIN, trained_weights, test_preds_dir\n",
    "\n",
    "# DO NOT EDIT BELOW"
   ]
  },
  {
   "cell_type": "code",
   "execution_count": 2,
   "id": "568b467b",
   "metadata": {},
   "outputs": [
    {
     "data": {
      "text/plain": [
       "('test_satellite/',\n",
       " 'train_satellite/',\n",
       " 'train_kelp/',\n",
       " 'weights/',\n",
       " False,\n",
       " 'trained_weights/',\n",
       " 'test_preds/')"
      ]
     },
     "execution_count": 2,
     "metadata": {},
     "output_type": "execute_result"
    }
   ],
   "source": [
    "test_path, train_path, labels_path, weights_path, RETRAIN, trained_weights, test_preds_dir"
   ]
  },
  {
   "cell_type": "code",
   "execution_count": 4,
   "id": "e8a3d1e9",
   "metadata": {
    "execution": {
     "iopub.execute_input": "2024-02-26T13:48:12.289694Z",
     "iopub.status.busy": "2024-02-26T13:48:12.289426Z",
     "iopub.status.idle": "2024-02-26T13:48:12.295344Z",
     "shell.execute_reply": "2024-02-26T13:48:12.294486Z"
    },
    "papermill": {
     "duration": 0.017102,
     "end_time": "2024-02-26T13:48:12.297299",
     "exception": false,
     "start_time": "2024-02-26T13:48:12.280197",
     "status": "completed"
    },
    "tags": []
   },
   "outputs": [],
   "source": [
    "basename='segm_v224full'\n",
    "\n",
    "\n",
    "# training schedule variables\n",
    "epochs=32\n",
    "snapshots = 1\n",
    "lr_0 = 0.00005\n",
    "WARMUP_EPOCHS=0\n",
    "\n",
    "# training input variables\n",
    "SIZE=768 # resize image size\n",
    "channels=[0,1,3] # SWIR, NIR, Green\n",
    "meansCH = np.array( [0.485, 0.456, 0.406] )\n",
    "stdsCH = np.array( [0.229, 0.224, 0.225] )\n",
    "stdsCH *= 0.9\n",
    "CLIPMIN=6000\n",
    "CLIPMAX=24000\n",
    "\n",
    "\n",
    "BA=3 # Batch Accumulation\n",
    "num_workers = 4 # \n",
    "bs = 2 # Batch Size"
   ]
  },
  {
   "cell_type": "code",
   "execution_count": 5,
   "id": "f8dd36bf",
   "metadata": {
    "execution": {
     "iopub.execute_input": "2024-02-26T13:48:12.314856Z",
     "iopub.status.busy": "2024-02-26T13:48:12.314553Z",
     "iopub.status.idle": "2024-02-26T13:48:13.048908Z",
     "shell.execute_reply": "2024-02-26T13:48:13.047976Z"
    },
    "papermill": {
     "duration": 0.745319,
     "end_time": "2024-02-26T13:48:13.050873",
     "exception": false,
     "start_time": "2024-02-26T13:48:12.305554",
     "status": "completed"
    },
    "tags": []
   },
   "outputs": [
    {
     "data": {
      "text/plain": [
       "(1426, 5635, 5635, 'FF979226_satellite.tif', 'WG210136_kelp.tif')"
      ]
     },
     "execution_count": 5,
     "metadata": {},
     "output_type": "execute_result"
    }
   ],
   "source": [
    "test_image_names=os.listdir(test_path)\n",
    "train_image_names=os.listdir(train_path)\n",
    "mask_names = os.listdir(labels_path)\n",
    "len(test_image_names),len(train_image_names),len(mask_names),test_image_names[0],mask_names[0]"
   ]
  },
  {
   "cell_type": "code",
   "execution_count": 3,
   "id": "4ebd8681",
   "metadata": {
    "execution": {
     "iopub.execute_input": "2024-02-26T13:48:13.069164Z",
     "iopub.status.busy": "2024-02-26T13:48:13.068860Z",
     "iopub.status.idle": "2024-02-26T13:48:13.093981Z",
     "shell.execute_reply": "2024-02-26T13:48:13.093135Z"
    },
    "papermill": {
     "duration": 0.036398,
     "end_time": "2024-02-26T13:48:13.095889",
     "exception": false,
     "start_time": "2024-02-26T13:48:13.059491",
     "status": "completed"
    },
    "tags": []
   },
   "outputs": [],
   "source": [
    "full_train_img_paths= np.array([train_path+x for x in train_image_names])\n",
    "full_train_msk_paths= np.array([labels_path+x.split('_')[0]+'_kelp.tif' for x in train_image_names])\n",
    "# full_test_img_paths= np.array([test_path+x for x in test_image_names])\n",
    "# test_image_names=np.load('/kaggle/input/needkelp/kafe_test_image_names.npz')['arr_0']\n",
    "full_test_img_paths=np.array([test_path+x for x in test_image_names])\n",
    "len(full_train_img_paths),len(full_train_msk_paths),len(full_test_img_paths),full_train_img_paths[:2],full_test_img_paths[:2]\n"
   ]
  },
  {
   "cell_type": "code",
   "execution_count": null,
   "id": "c7fad7d4",
   "metadata": {},
   "outputs": [],
   "source": [
    "# vids=np.load('/kaggle/input/needkelp/valid_imids_ph2.npz')['arr_0']\n",
    "# tids=np.load('/kaggle/input/needkelp/train_imids_ph2.npz')['arr_0']\n",
    "# len(tids),len(vids)\n",
    "\n",
    "# train_ids= np.array([train_path+x for x in tids])\n",
    "# val_ids= np.array([train_path+x for x in vids])\n",
    "# train_ids.shape, val_ids.shape\n",
    "\n",
    "# train_ids=np.concatenate((train_ids,val_ids))\n",
    "\n",
    "train_ids=np.array([train_path+x for x in train_image_names])\n",
    "train_ids.shape,train_ids[:3]"
   ]
  },
  {
   "cell_type": "code",
   "execution_count": null,
   "id": "49e4194f",
   "metadata": {},
   "outputs": [],
   "source": []
  },
  {
   "cell_type": "code",
   "execution_count": 7,
   "id": "717132e3",
   "metadata": {
    "execution": {
     "iopub.execute_input": "2024-02-26T13:48:13.115422Z",
     "iopub.status.busy": "2024-02-26T13:48:13.114689Z",
     "iopub.status.idle": "2024-02-26T13:48:33.252397Z",
     "shell.execute_reply": "2024-02-26T13:48:33.251545Z"
    },
    "papermill": {
     "duration": 20.15038,
     "end_time": "2024-02-26T13:48:33.254748",
     "exception": false,
     "start_time": "2024-02-26T13:48:13.104368",
     "status": "completed"
    },
    "tags": []
   },
   "outputs": [
    {
     "data": {
      "application/vnd.jupyter.widget-view+json": {
       "model_id": "bb6f997af81844668ccbbeeb34b09c3c",
       "version_major": 2,
       "version_minor": 0
      },
      "text/plain": [
       "config.json:   0%|          | 0.00/8.76k [00:00<?, ?B/s]"
      ]
     },
     "metadata": {},
     "output_type": "display_data"
    },
    {
     "data": {
      "application/vnd.jupyter.widget-view+json": {
       "model_id": "ab707a45e4de4e71904af2df5d55e49c",
       "version_major": 2,
       "version_minor": 0
      },
      "text/plain": [
       "model.safetensors:   0%|          | 0.00/241M [00:00<?, ?B/s]"
      ]
     },
     "metadata": {},
     "output_type": "display_data"
    }
   ],
   "source": [
    "from transformers import SwinConfig, UperNetConfig, UperNetForSemanticSegmentation\n",
    "ENCODER = 'UPNTcnvxtT'\n",
    "model = UperNetForSemanticSegmentation.from_pretrained(\"openmmlab/upernet-convnext-tiny\")\n",
    "model.decode_head.classifier = torch.nn.Conv2d(512, 1, kernel_size=(1, 1), stride=(1, 1))"
   ]
  },
  {
   "cell_type": "code",
   "execution_count": 8,
   "id": "455520d3",
   "metadata": {
    "execution": {
     "iopub.execute_input": "2024-02-26T13:48:33.274144Z",
     "iopub.status.busy": "2024-02-26T13:48:33.273655Z",
     "iopub.status.idle": "2024-02-26T13:48:33.277630Z",
     "shell.execute_reply": "2024-02-26T13:48:33.276862Z"
    },
    "papermill": {
     "duration": 0.015502,
     "end_time": "2024-02-26T13:48:33.279500",
     "exception": false,
     "start_time": "2024-02-26T13:48:33.263998",
     "status": "completed"
    },
    "tags": []
   },
   "outputs": [],
   "source": [
    "# import transformers,safetensors\n",
    "# transformers.__version__,safetensors.__version__\n",
    "# ('4.29.2', '0.3.0')"
   ]
  },
  {
   "cell_type": "code",
   "execution_count": 9,
   "id": "dcf9562b",
   "metadata": {
    "execution": {
     "iopub.execute_input": "2024-02-26T13:48:33.298505Z",
     "iopub.status.busy": "2024-02-26T13:48:33.297955Z",
     "iopub.status.idle": "2024-02-26T13:48:33.305616Z",
     "shell.execute_reply": "2024-02-26T13:48:33.304779Z"
    },
    "papermill": {
     "duration": 0.019316,
     "end_time": "2024-02-26T13:48:33.307639",
     "exception": false,
     "start_time": "2024-02-26T13:48:33.288323",
     "status": "completed"
    },
    "tags": []
   },
   "outputs": [],
   "source": [
    "def cosine_anneal_schedule(t):\n",
    "    cos_inner = np.pi * (t % (epochs // snapshots))\n",
    "    cos_inner /= epochs // snapshots\n",
    "    cos_out = np.cos(cos_inner) + 1\n",
    "    return float(lr_0 / 2 * cos_out)\n",
    "cosine_anneal_schedule_list=[cosine_anneal_schedule(x) for x in range(epochs)]\n",
    "# cosine_anneal_schedule_list\n",
    "# WARMUP_EPOCHS=5\n",
    "# cosine_anneal_schedule_list=[0.000001]*WARMUP_EPOCHS+cosine_anneal_schedule_list\n",
    "# lr_0 = cosine_anneal_schedule_list[0]\n",
    "# epochs=len(cosine_anneal_schedule_list)\n",
    "def adjust_optim(optimizer, n_iter):\n",
    "    optimizer.param_groups[0]['lr'] = cosine_anneal_schedule_list[n_iter % epochs]\n"
   ]
  },
  {
   "cell_type": "code",
   "execution_count": 10,
   "id": "b79e07f6",
   "metadata": {
    "execution": {
     "iopub.execute_input": "2024-02-26T13:48:33.326817Z",
     "iopub.status.busy": "2024-02-26T13:48:33.326137Z",
     "iopub.status.idle": "2024-02-26T13:48:33.329739Z",
     "shell.execute_reply": "2024-02-26T13:48:33.328918Z"
    },
    "papermill": {
     "duration": 0.015072,
     "end_time": "2024-02-26T13:48:33.331553",
     "exception": false,
     "start_time": "2024-02-26T13:48:33.316481",
     "status": "completed"
    },
    "tags": []
   },
   "outputs": [],
   "source": [
    "# save_epochs=[epochs,epochs-int(epochs/snapshots)]"
   ]
  },
  {
   "cell_type": "code",
   "execution_count": 11,
   "id": "87caf430",
   "metadata": {
    "execution": {
     "iopub.execute_input": "2024-02-26T13:48:33.350428Z",
     "iopub.status.busy": "2024-02-26T13:48:33.350162Z",
     "iopub.status.idle": "2024-02-26T13:48:33.366099Z",
     "shell.execute_reply": "2024-02-26T13:48:33.365260Z"
    },
    "papermill": {
     "duration": 0.027751,
     "end_time": "2024-02-26T13:48:33.368044",
     "exception": false,
     "start_time": "2024-02-26T13:48:33.340293",
     "status": "completed"
    },
    "tags": []
   },
   "outputs": [],
   "source": [
    "\n",
    "Ms = meansCH.mean()\n",
    "Ss = stdsCH.mean()\n",
    "\n",
    "RANDOM_ERASE_PROB=0.25\n",
    "MAX_ERASE_DIM=0.1\n",
    "RANDOM_ERASE_MAX_TIMES=5\n",
    "\n",
    "class KelpDataset_disk(torch.utils.data.Dataset):\n",
    "    \"\"\"Reads in images, transforms pixel values, and serves a\n",
    "    dictionary containing chip ids, image tensors, and\n",
    "    label masks (where available).\n",
    "    \"\"\"\n",
    "\n",
    "    def __init__(self, x_paths,y_paths, transforms=None, preprocessing=None, mode='train'):\n",
    "        self.x_paths = x_paths\n",
    "        self.y_paths = y_paths\n",
    "        # self.ids = ids\n",
    "        self.transforms = transforms\n",
    "        self.preprocessing = preprocessing\n",
    "        self.mode=mode\n",
    "\n",
    "    def __len__(self):\n",
    "        return len(self.x_paths)\n",
    "\n",
    "    def __getitem__(self, idx):\n",
    "        # Loads a 3-channel image from a chip-level dataframe\n",
    "        # x_arr = images[idx].astype('float')\n",
    "        # y_arr = masks[idx]\n",
    "        x_arr=tifffile.imread(self.x_paths[idx]).astype('float32')\n",
    "        t=x_arr.copy()\n",
    "        x_arr=np.clip(x_arr,CLIPMIN,CLIPMAX)\n",
    "        x_arr[t<=-32000]=0\n",
    "        # del t\n",
    "\n",
    "        if self.mode=='test':\n",
    "            y_arr=np.zeros((350,350)).astype('uint8')\n",
    "        else:\n",
    "            y_arr=tifffile.imread(self.y_paths[idx])\n",
    "\n",
    "        \n",
    "        if self.mode=='train':\n",
    "            if (random.random()<RANDOM_ERASE_PROB):\n",
    "                RANDOM_ERASE_TIMES = np.random.choice(np.arange(1,RANDOM_ERASE_MAX_TIMES+1))\n",
    "                for a in range(RANDOM_ERASE_TIMES):\n",
    "                    ULc=(int(random.random()*x_arr.shape[0]),int(random.random()*x_arr.shape[1]))\n",
    "                    EH = int(min(x_arr.shape[0]-ULc[0], random.random()*MAX_ERASE_DIM*x_arr.shape[0]))\n",
    "                    EW = int(min(x_arr.shape[1]-ULc[1], random.random()*MAX_ERASE_DIM*x_arr.shape[1]))\n",
    "                    x_arr[ULc[0]:ULc[0]+EH, ULc[1]:ULc[1]+EW,...] = CLIPMIN\n",
    "                    x_arr[t<=-32000]=0                \n",
    "                    y_arr[ULc[0]:ULc[0]+EH, ULc[1]:ULc[1]+EW] = 0\n",
    "        del t\n",
    "        y_arr = np.expand_dims(y_arr, -1).astype('float32')\n",
    "        \n",
    "        # print(x_arr.shape,y_arr.shape)\n",
    "        # Apply data augmentations, if provided\n",
    "        if self.transforms:\n",
    "            augmented = self.transforms(image=x_arr, mask=y_arr)\n",
    "            x_arr, y_arr = augmented['image'], augmented['mask']\n",
    "        # x_arr = np.transpose(x_arr, [2, 0, 1])\n",
    "        \n",
    "\n",
    "\n",
    "        # # ****GLOBAL****  Min-max normalization\n",
    "        x_arr = x_arr[...,channels]/CLIPMAX\n",
    "        x_arr = (x_arr - meansCH)/stdsCH\n",
    "        \n",
    "        x_arr = np.transpose(x_arr, [2, 0, 1])\n",
    "        y_arr = np.transpose(y_arr, [2, 0, 1])\n",
    "        \n",
    "        if self.preprocessing:\n",
    "            preprocessed = self.preprocessing(image=x_arr, mask=y_arr)\n",
    "            # preprocessed = self.preprocessing(image=x_arr)\n",
    "            x_arr = preprocessed['image']\n",
    "            y_arr = preprocessed['mask']\n",
    "\n",
    "        return x_arr.astype('float32'), y_arr.astype('float32')#.astype('uint8')#, not_missing_mask.astype('uint8')"
   ]
  },
  {
   "cell_type": "code",
   "execution_count": 4,
   "id": "9a7713c4",
   "metadata": {
    "execution": {
     "iopub.execute_input": "2024-02-26T13:48:33.432422Z",
     "iopub.status.busy": "2024-02-26T13:48:33.432160Z",
     "iopub.status.idle": "2024-02-26T13:48:33.445262Z",
     "shell.execute_reply": "2024-02-26T13:48:33.444440Z"
    },
    "papermill": {
     "duration": 0.025349,
     "end_time": "2024-02-26T13:48:33.447279",
     "exception": false,
     "start_time": "2024-02-26T13:48:33.421930",
     "status": "completed"
    },
    "tags": []
   },
   "outputs": [],
   "source": []
  },
  {
   "cell_type": "code",
   "execution_count": 14,
   "id": "ef66656c",
   "metadata": {
    "execution": {
     "iopub.execute_input": "2024-02-26T13:48:33.466640Z",
     "iopub.status.busy": "2024-02-26T13:48:33.466379Z",
     "iopub.status.idle": "2024-02-26T13:48:33.469828Z",
     "shell.execute_reply": "2024-02-26T13:48:33.469017Z"
    },
    "papermill": {
     "duration": 0.015495,
     "end_time": "2024-02-26T13:48:33.471891",
     "exception": false,
     "start_time": "2024-02-26T13:48:33.456396",
     "status": "completed"
    },
    "tags": []
   },
   "outputs": [],
   "source": [
    "# train_ids=np.array([train_path+x for x in os.listdir(train_path) ])"
   ]
  },
  {
   "cell_type": "code",
   "execution_count": 15,
   "id": "039147a6",
   "metadata": {
    "execution": {
     "iopub.execute_input": "2024-02-26T13:48:33.491171Z",
     "iopub.status.busy": "2024-02-26T13:48:33.490907Z",
     "iopub.status.idle": "2024-02-26T13:48:33.494503Z",
     "shell.execute_reply": "2024-02-26T13:48:33.493657Z"
    },
    "papermill": {
     "duration": 0.0152,
     "end_time": "2024-02-26T13:48:33.496418",
     "exception": false,
     "start_time": "2024-02-26T13:48:33.481218",
     "status": "completed"
    },
    "tags": []
   },
   "outputs": [],
   "source": [
    "# val_ids.max(),len(full_train_img_paths)#images.shape"
   ]
  },
  {
   "cell_type": "code",
   "execution_count": 16,
   "id": "358a8455",
   "metadata": {
    "execution": {
     "iopub.execute_input": "2024-02-26T13:48:33.515644Z",
     "iopub.status.busy": "2024-02-26T13:48:33.515386Z",
     "iopub.status.idle": "2024-02-26T13:48:33.522670Z",
     "shell.execute_reply": "2024-02-26T13:48:33.521911Z"
    },
    "papermill": {
     "duration": 0.018992,
     "end_time": "2024-02-26T13:48:33.524449",
     "exception": false,
     "start_time": "2024-02-26T13:48:33.505457",
     "status": "completed"
    },
    "tags": []
   },
   "outputs": [],
   "source": [
    "from sklearn.metrics import jaccard_score\n",
    "def get_dice_coef(gt, preds, THRESH=0.5):\n",
    "    #gt shape BxCxHxW\n",
    "    #preds shape BxHxW\n",
    "    dice = np.sum((preds>THRESH)[gt[:,0,...]==1])*2.0 / (np.sum((preds>THRESH)) + np.sum(gt[:,0,...]))\n",
    "    return dice\n",
    "\n",
    "\n",
    "class DiceLoss(nn.Module):\n",
    "    def __init__(self, weight=None, size_average=True):\n",
    "        super(DiceLoss, self).__init__()\n",
    "\n",
    "    def forward(self, inputs, targets, eps=1e-7):\n",
    "        \n",
    "        # #comment out if your model contains a sigmoid or equivalent activation layer\n",
    "        # inputs = F.sigmoid(inputs)       \n",
    "        \n",
    "        #flatten label and prediction tensors\n",
    "        inputs = inputs.view(-1)\n",
    "        targets = targets.view(-1)\n",
    "        \n",
    "        intersection = (inputs * targets).sum()                            \n",
    "        dice = (2.*intersection )/(inputs.sum() + targets.sum() + eps)  \n",
    "        \n",
    "        return 1 - dice\n",
    "\n"
   ]
  },
  {
   "cell_type": "code",
   "execution_count": null,
   "id": "b77b2137",
   "metadata": {
    "papermill": {
     "duration": 0.008746,
     "end_time": "2024-02-26T13:48:33.542378",
     "exception": false,
     "start_time": "2024-02-26T13:48:33.533632",
     "status": "completed"
    },
    "tags": []
   },
   "outputs": [],
   "source": []
  },
  {
   "cell_type": "code",
   "execution_count": 17,
   "id": "7616fc8d",
   "metadata": {
    "execution": {
     "iopub.execute_input": "2024-02-26T13:48:33.561267Z",
     "iopub.status.busy": "2024-02-26T13:48:33.560994Z",
     "iopub.status.idle": "2024-02-26T13:48:33.566543Z",
     "shell.execute_reply": "2024-02-26T13:48:33.565712Z"
    },
    "papermill": {
     "duration": 0.0171,
     "end_time": "2024-02-26T13:48:33.568477",
     "exception": false,
     "start_time": "2024-02-26T13:48:33.551377",
     "status": "completed"
    },
    "tags": []
   },
   "outputs": [],
   "source": [
    "training_transformations = albumentations.Compose(\n",
    "    [\n",
    "        albumentations.Resize(SIZE, SIZE, interpolation=2),\n",
    "        albumentations.RandomRotate90(),\n",
    "        # albumentations.RandomRotate90(p=1),\n",
    "        albumentations.HorizontalFlip(),\n",
    "        albumentations.VerticalFlip(),\n",
    "    ]\n",
    ")\n",
    "validation_transformations = albumentations.Compose(\n",
    "    [\n",
    "        albumentations.Resize(SIZE, SIZE, interpolation=2),\n",
    "    ]\n",
    ")"
   ]
  },
  {
   "cell_type": "code",
   "execution_count": 18,
   "id": "267314fb",
   "metadata": {
    "execution": {
     "iopub.execute_input": "2024-02-26T13:48:33.587442Z",
     "iopub.status.busy": "2024-02-26T13:48:33.587195Z",
     "iopub.status.idle": "2024-02-26T13:48:36.335547Z",
     "shell.execute_reply": "2024-02-26T13:48:36.334766Z"
    },
    "papermill": {
     "duration": 2.760527,
     "end_time": "2024-02-26T13:48:36.337919",
     "exception": false,
     "start_time": "2024-02-26T13:48:33.577392",
     "status": "completed"
    },
    "scrolled": true,
    "tags": []
   },
   "outputs": [],
   "source": [
    "\n",
    "name=ENCODER+'_'+basename\n",
    "model.cuda()\n",
    "\n",
    "if RETRAIN==True:\n",
    "    optimizer = optim.AdamW(model.parameters(), lr=lr_0)\n",
    "    # optimizer=optim.AdamW([\n",
    "    #                 {'params': model.encoder.parameters()},\n",
    "    #                 {'params': model.decoder.parameters(), 'lr': lr_0*5},\n",
    "    #                 {'params': model.segmentation_head.parameters()}\n",
    "    #             ], lr=lr_0)\n",
    "\n",
    "\n",
    "    train_dataset = KelpDataset_disk(x_paths=train_ids,\n",
    "                                     y_paths=[x.replace('satellite', 'kelp') for x in train_ids],\n",
    "                                 transforms = training_transformations,\n",
    "                                    )\n",
    "\n",
    "    train_loader = DataLoader(train_dataset, batch_size=bs, shuffle=True, num_workers=num_workers, drop_last=True)\n",
    "\n",
    "\n",
    "    criterion1 = DiceLoss()\n",
    "\n",
    "    mb = master_bar(range(epochs))\n",
    "    loss_log=[]\n",
    "    for epoch in mb:\n",
    "\n",
    "        avg_train_loss = 0.\n",
    "        model.train()\n",
    "\n",
    "\n",
    "        pb = progress_bar(train_loader)\n",
    "        for ii, (data, target) in enumerate(pb):\n",
    "\n",
    "            data, target = data.cuda(non_blocking=True), target.cuda(non_blocking=True)\n",
    "\n",
    "\n",
    "            alpha = 1\n",
    "            # optimizer.zero_grad()\n",
    "            output = model(data)\n",
    "            output=output.logits\n",
    "            output=torch.sigmoid(output)\n",
    "\n",
    "            loss = criterion1(output,  target.to(dtype=torch.float))\n",
    "\n",
    "            loss.backward()\n",
    "            if (ii + 1) % BA == 0:            \n",
    "                optimizer.step()\n",
    "                # optimizer.zero_grad()\n",
    "                optimizer.zero_grad(set_to_none=True)  \n",
    "\n",
    "            # optimizer.step()\n",
    "            if ii % 1000 == 0:\n",
    "                loss_log.append(loss.item())\n",
    "            avg_train_loss += loss.item() / len(train_loader)\n",
    "\n",
    "        print('Epoch: {} - Loss: {:.6f}'.format(epoch + 1, avg_train_loss))\n",
    "\n",
    "\n",
    "        adjust_optim(optimizer, (epoch + 1))\n",
    "\n",
    "        gc.collect()\n",
    "\n",
    "    torch.save(model.state_dict(), weights_path+name+'_last.pt')\n",
    "else:\n",
    "    model.load_state_dict(torch.load(  trained_weights+ENCODER+'_'+basename+'_last.pt') )      "
   ]
  },
  {
   "cell_type": "code",
   "execution_count": null,
   "id": "62c6b702",
   "metadata": {},
   "outputs": [],
   "source": [
    "model.eval()\n",
    "print('model eval')"
   ]
  },
  {
   "cell_type": "code",
   "execution_count": 19,
   "id": "35eb89bd",
   "metadata": {
    "execution": {
     "iopub.execute_input": "2024-02-26T13:48:36.357813Z",
     "iopub.status.busy": "2024-02-26T13:48:36.357485Z",
     "iopub.status.idle": "2024-02-26T13:48:36.362445Z",
     "shell.execute_reply": "2024-02-26T13:48:36.361598Z"
    },
    "papermill": {
     "duration": 0.016968,
     "end_time": "2024-02-26T13:48:36.364398",
     "exception": false,
     "start_time": "2024-02-26T13:48:36.347430",
     "status": "completed"
    },
    "tags": []
   },
   "outputs": [],
   "source": [
    "test_dataset = KelpDataset_disk(x_paths=full_test_img_paths,\n",
    "                                y_paths=None,\n",
    "                             transforms = validation_transformations,\n",
    "                             # preprocessing=get_preprocessing(preprocessing_fn)\n",
    "                                 mode='test'\n",
    "                                )\n",
    "\n",
    "test_loader = DataLoader(test_dataset, batch_size=bs, shuffle=False, num_workers=num_workers)\n"
   ]
  },
  {
   "cell_type": "code",
   "execution_count": 20,
   "id": "529a01b0",
   "metadata": {
    "execution": {
     "iopub.execute_input": "2024-02-26T13:48:36.383457Z",
     "iopub.status.busy": "2024-02-26T13:48:36.383172Z",
     "iopub.status.idle": "2024-02-26T13:59:31.746813Z",
     "shell.execute_reply": "2024-02-26T13:59:31.745876Z"
    },
    "papermill": {
     "duration": 655.375645,
     "end_time": "2024-02-26T13:59:31.749093",
     "exception": false,
     "start_time": "2024-02-26T13:48:36.373448",
     "status": "completed"
    },
    "tags": []
   },
   "outputs": [
    {
     "data": {
      "text/html": [
       "\n",
       "<style>\n",
       "    /* Turns off some styling */\n",
       "    progress {\n",
       "        /* gets rid of default border in Firefox and Opera. */\n",
       "        border: none;\n",
       "        /* Needs to be in here for Safari polyfill so background images work as expected. */\n",
       "        background-size: auto;\n",
       "    }\n",
       "    progress:not([value]), progress:not([value])::-webkit-progress-bar {\n",
       "        background: repeating-linear-gradient(45deg, #7e7e7e, #7e7e7e 10px, #5c5c5c 10px, #5c5c5c 20px);\n",
       "    }\n",
       "    .progress-bar-interrupted, .progress-bar-interrupted::-webkit-progress-bar {\n",
       "        background: #F44336;\n",
       "    }\n",
       "</style>\n"
      ],
      "text/plain": [
       "<IPython.core.display.HTML object>"
      ]
     },
     "metadata": {},
     "output_type": "display_data"
    },
    {
     "data": {
      "text/html": [
       "\n",
       "    <div>\n",
       "      <progress value='713' class='' max='713' style='width:300px; height:20px; vertical-align: middle;'></progress>\n",
       "      100.00% [713/713 10:43&lt;00:00]\n",
       "    </div>\n",
       "    "
      ],
      "text/plain": [
       "<IPython.core.display.HTML object>"
      ]
     },
     "metadata": {},
     "output_type": "display_data"
    },
    {
     "name": "stderr",
     "output_type": "stream",
     "text": [
      "2024-02-26 13:48:39.380542: E external/local_xla/xla/stream_executor/cuda/cuda_dnn.cc:9261] Unable to register cuDNN factory: Attempting to register factory for plugin cuDNN when one has already been registered\n",
      "2024-02-26 13:48:39.380638: E external/local_xla/xla/stream_executor/cuda/cuda_fft.cc:607] Unable to register cuFFT factory: Attempting to register factory for plugin cuFFT when one has already been registered\n",
      "2024-02-26 13:48:39.505836: E external/local_xla/xla/stream_executor/cuda/cuda_blas.cc:1515] Unable to register cuBLAS factory: Attempting to register factory for plugin cuBLAS when one has already been registered\n"
     ]
    }
   ],
   "source": [
    "with torch.no_grad():\n",
    "\n",
    "    test_preds1 =[]\n",
    "    test_preds2 =[]\n",
    "    test_preds3 =[]\n",
    "    test_preds4 =[]\n",
    "\n",
    "\n",
    "    pb = progress_bar(test_loader)\n",
    "    for i, (x_batch, y_batch) in enumerate(pb):\n",
    "\n",
    "        preds1 = torch.sigmoid(model(x_batch.cuda(non_blocking=True)).logits).detach()\n",
    "        preds2 = torch.sigmoid(model(torch.flip(x_batch, dims=[2]).cuda(non_blocking=True)).logits).detach()\n",
    "        preds3 = torch.sigmoid(model(torch.flip(x_batch, dims=[3]).cuda(non_blocking=True)).logits).detach()\n",
    "        preds4 = torch.sigmoid(model(torch.flip(x_batch, dims=[2,3]).cuda(non_blocking=True)).logits).detach()\n",
    "\n",
    "        test_preds1.append(preds1.cpu())\n",
    "        test_preds2.append(preds2.cpu())\n",
    "        test_preds3.append(preds3.cpu())\n",
    "        test_preds4.append(preds4.cpu())\n",
    "    test_preds1=np.vstack(test_preds1)[:,0,...]    \n",
    "    test_preds2=np.vstack(test_preds2)[:,0,...]    \n",
    "    test_preds3=np.vstack(test_preds3)[:,0,...]    \n",
    "    test_preds4=np.vstack(test_preds4)[:,0,...]    \n",
    "\n",
    "    # test_preds=(test_preds1+test_preds2[...,::-1,:]+test_preds3[...,:,::-1])/3\n",
    "    test_preds=(test_preds1+test_preds2[...,::-1,:]+test_preds3[...,:,::-1]+test_preds4[...,::-1,::-1])/4\n",
    "    \n"
   ]
  },
  {
   "cell_type": "code",
   "execution_count": 21,
   "id": "e6be59fe",
   "metadata": {
    "execution": {
     "iopub.execute_input": "2024-02-26T13:59:31.769942Z",
     "iopub.status.busy": "2024-02-26T13:59:31.769616Z",
     "iopub.status.idle": "2024-02-26T14:00:39.988696Z",
     "shell.execute_reply": "2024-02-26T14:00:39.987015Z"
    },
    "papermill": {
     "duration": 68.232127,
     "end_time": "2024-02-26T14:00:39.991165",
     "exception": false,
     "start_time": "2024-02-26T13:59:31.759038",
     "status": "completed"
    },
    "tags": []
   },
   "outputs": [],
   "source": [
    "np.savez(test_preds_dir+basename[5:], test_preds.astype('float16'))"
   ]
  },
  {
   "cell_type": "code",
   "execution_count": 22,
   "id": "af44fd68",
   "metadata": {
    "execution": {
     "iopub.execute_input": "2024-02-26T14:00:40.012952Z",
     "iopub.status.busy": "2024-02-26T14:00:40.012141Z",
     "iopub.status.idle": "2024-02-26T14:00:40.252812Z",
     "shell.execute_reply": "2024-02-26T14:00:40.251932Z"
    },
    "papermill": {
     "duration": 0.253882,
     "end_time": "2024-02-26T14:00:40.255366",
     "exception": false,
     "start_time": "2024-02-26T14:00:40.001484",
     "status": "completed"
    },
    "tags": []
   },
   "outputs": [
    {
     "data": {
      "image/png": "[encoded data removed]",
      "text/plain": [
       "<Figure size 640x480 with 1 Axes>"
      ]
     },
     "metadata": {},
     "output_type": "display_data"
    }
   ],
   "source": [
    "plt.imshow(test_preds[0]>0.5)\n",
    "plt.show()"
   ]
  },
  {
   "cell_type": "code",
   "execution_count": 5,
   "id": "648fa001",
   "metadata": {
    "execution": {
     "iopub.execute_input": "2024-02-26T14:00:40.279210Z",
     "iopub.status.busy": "2024-02-26T14:00:40.278644Z",
     "iopub.status.idle": "2024-02-26T14:00:55.710216Z",
     "shell.execute_reply": "2024-02-26T14:00:55.709199Z"
    },
    "papermill": {
     "duration": 15.446596,
     "end_time": "2024-02-26T14:00:55.712202",
     "exception": false,
     "start_time": "2024-02-26T14:00:40.265606",
     "status": "completed"
    },
    "tags": []
   },
   "outputs": [],
   "source": [
    "# test_preds = np.array([skimage.transform.resize(x, (350,350)) for x in test_preds])\n",
    "# test_preds.shape"
   ]
  },
  {
   "cell_type": "code",
   "execution_count": 6,
   "id": "790b7dc5",
   "metadata": {
    "execution": {
     "iopub.execute_input": "2024-02-26T14:00:55.733617Z",
     "iopub.status.busy": "2024-02-26T14:00:55.733041Z",
     "iopub.status.idle": "2024-02-26T14:00:55.859633Z",
     "shell.execute_reply": "2024-02-26T14:00:55.858521Z"
    },
    "papermill": {
     "duration": 0.140467,
     "end_time": "2024-02-26T14:00:55.862693",
     "exception": false,
     "start_time": "2024-02-26T14:00:55.722226",
     "status": "completed"
    },
    "tags": []
   },
   "outputs": [],
   "source": [
    "# THRESH=0.5\n",
    "# test_preds = np.array([(x>THRESH).astype('uint8') for x in test_preds])"
   ]
  },
  {
   "cell_type": "code",
   "execution_count": 7,
   "id": "0ed9abae",
   "metadata": {
    "execution": {
     "iopub.execute_input": "2024-02-26T14:00:55.884755Z",
     "iopub.status.busy": "2024-02-26T14:00:55.884440Z",
     "iopub.status.idle": "2024-02-26T14:00:57.049849Z",
     "shell.execute_reply": "2024-02-26T14:00:57.048504Z"
    },
    "papermill": {
     "duration": 1.178438,
     "end_time": "2024-02-26T14:00:57.052077",
     "exception": false,
     "start_time": "2024-02-26T14:00:55.873639",
     "status": "completed"
    },
    "tags": []
   },
   "outputs": [],
   "source": [
    "# [cv2.imwrite(test_predmask_path+test_image_names[i].split('_')[0]+'_kelp.tif', test_preds[i])\n",
    "#  for i in range(len(test_preds))]\n",
    "# print('saved in disk')"
   ]
  },
  {
   "cell_type": "code",
   "execution_count": null,
   "id": "8a32f0d9",
   "metadata": {
    "papermill": {
     "duration": 0.009764,
     "end_time": "2024-02-26T14:00:57.072749",
     "exception": false,
     "start_time": "2024-02-26T14:00:57.062985",
     "status": "completed"
    },
    "tags": []
   },
   "outputs": [],
   "source": []
  },
  {
   "cell_type": "code",
   "execution_count": 8,
   "id": "3b5344db",
   "metadata": {
    "execution": {
     "iopub.execute_input": "2024-02-26T14:00:57.140077Z",
     "iopub.status.busy": "2024-02-26T14:00:57.139295Z",
     "iopub.status.idle": "2024-02-26T14:00:58.701455Z",
     "shell.execute_reply": "2024-02-26T14:00:58.700213Z"
    },
    "papermill": {
     "duration": 1.621375,
     "end_time": "2024-02-26T14:00:58.703897",
     "exception": false,
     "start_time": "2024-02-26T14:00:57.082522",
     "status": "completed"
    },
    "tags": []
   },
   "outputs": [],
   "source": [
    "# # Remember to avoid including the inference dir itself\n",
    "# !cd test_kelp && zip -rq subm_v224full.zip *"
   ]
  },
  {
   "cell_type": "code",
   "execution_count": 9,
   "id": "885c35f6",
   "metadata": {
    "execution": {
     "iopub.execute_input": "2024-02-26T14:00:58.726078Z",
     "iopub.status.busy": "2024-02-26T14:00:58.725296Z",
     "iopub.status.idle": "2024-02-26T14:01:00.053927Z",
     "shell.execute_reply": "2024-02-26T14:01:00.052788Z"
    },
    "papermill": {
     "duration": 1.341883,
     "end_time": "2024-02-26T14:01:00.056177",
     "exception": false,
     "start_time": "2024-02-26T14:00:58.714294",
     "status": "completed"
    },
    "tags": []
   },
   "outputs": [],
   "source": [
    "# !du -h subm_v224full.zip"
   ]
  },
  {
   "cell_type": "code",
   "execution_count": 10,
   "id": "75da4618",
   "metadata": {
    "execution": {
     "iopub.execute_input": "2024-02-26T14:01:00.079039Z",
     "iopub.status.busy": "2024-02-26T14:01:00.078134Z",
     "iopub.status.idle": "2024-02-26T14:01:01.425560Z",
     "shell.execute_reply": "2024-02-26T14:01:01.424251Z"
    },
    "papermill": {
     "duration": 1.36151,
     "end_time": "2024-02-26T14:01:01.428192",
     "exception": false,
     "start_time": "2024-02-26T14:01:00.066682",
     "status": "completed"
    },
    "tags": []
   },
   "outputs": [],
   "source": [
    "# !rm -r test_kelp"
   ]
  },
  {
   "cell_type": "code",
   "execution_count": null,
   "id": "1326854a",
   "metadata": {
    "papermill": {
     "duration": 0.010732,
     "end_time": "2024-02-26T14:01:01.451429",
     "exception": false,
     "start_time": "2024-02-26T14:01:01.440697",
     "status": "completed"
    },
    "tags": []
   },
   "outputs": [],
   "source": []
  }
 ],
 "metadata": {
  "kaggle": {
   "accelerator": "gpu",
   "dataSources": [
    {
     "datasetId": 4497321,
     "sourceId": 7703751,
     "sourceType": "datasetVersion"
    },
    {
     "datasetId": 4275820,
     "sourceId": 7587464,
     "sourceType": "datasetVersion"
    },
    {
     "sourceId": 157416039,
     "sourceType": "kernelVersion"
    }
   ],
   "dockerImageVersionId": 30648,
   "isGpuEnabled": true,
   "isInternetEnabled": true,
   "language": "python",
   "sourceType": "notebook"
  },
  "kernelspec": {
   "display_name": "Python 3",
   "language": "python",
   "name": "python3"
  },
  "language_info": {
   "codemirror_mode": {
    "name": "ipython",
    "version": 3
   },
   "file_extension": ".py",
   "mimetype": "text/x-python",
   "name": "python",
   "nbconvert_exporter": "python",
   "pygments_lexer": "ipython3",
   "version": "3.6.15"
  },
  "papermill": {
   "default_parameters": {},
   "duration": 781.425839,
   "end_time": "2024-02-26T14:01:04.929583",
   "environment_variables": {},
   "exception": null,
   "input_path": "__notebook__.ipynb",
   "output_path": "__notebook__.ipynb",
   "parameters": {},
   "start_time": "2024-02-26T13:48:03.503744",
   "version": "2.5.0"
  },
  "widgets": {
   "application/vnd.jupyter.widget-state+json": {
    "state": {
     "1ba2bd16308547e98849da05fdf8a2e8": {
      "model_module": "@jupyter-widgets/controls",
      "model_module_version": "1.5.0",
      "model_name": "ProgressStyleModel",
      "state": {
       "_model_module": "@jupyter-widgets/controls",
       "_model_module_version": "1.5.0",
       "_model_name": "ProgressStyleModel",
       "_view_count": null,
       "_view_module": "@jupyter-widgets/base",
       "_view_module_version": "1.2.0",
       "_view_name": "StyleView",
       "bar_color": null,
       "description_width": ""
      }
     },
     "3f7f8769f3c4462eb0c32269a6d0945f": {
      "model_module": "@jupyter-widgets/base",
      "model_module_version": "1.2.0",
      "model_name": "LayoutModel",
      "state": {
       "_model_module": "@jupyter-widgets/base",
       "_model_module_version": "1.2.0",
       "_model_name": "LayoutModel",
       "_view_count": null,
       "_view_module": "@jupyter-widgets/base",
       "_view_module_version": "1.2.0",
       "_view_name": "LayoutView",
       "align_content": null,
       "align_items": null,
       "align_self": null,
       "border": null,
       "bottom": null,
       "display": null,
       "flex": null,
       "flex_flow": null,
       "grid_area": null,
       "grid_auto_columns": null,
       "grid_auto_flow": null,
       "grid_auto_rows": null,
       "grid_column": null,
       "grid_gap": null,
       "grid_row": null,
       "grid_template_areas": null,
       "grid_template_columns": null,
       "grid_template_rows": null,
       "height": null,
       "justify_content": null,
       "justify_items": null,
       "left": null,
       "margin": null,
       "max_height": null,
       "max_width": null,
       "min_height": null,
       "min_width": null,
       "object_fit": null,
       "object_position": null,
       "order": null,
       "overflow": null,
       "overflow_x": null,
       "overflow_y": null,
       "padding": null,
       "right": null,
       "top": null,
       "visibility": null,
       "width": null
      }
     },
     "3fb70c0e1c60402e8e42222abb23d30b": {
      "model_module": "@jupyter-widgets/base",
      "model_module_version": "1.2.0",
      "model_name": "LayoutModel",
      "state": {
       "_model_module": "@jupyter-widgets/base",
       "_model_module_version": "1.2.0",
       "_model_name": "LayoutModel",
       "_view_count": null,
       "_view_module": "@jupyter-widgets/base",
       "_view_module_version": "1.2.0",
       "_view_name": "LayoutView",
       "align_content": null,
       "align_items": null,
       "align_self": null,
       "border": null,
       "bottom": null,
       "display": null,
       "flex": null,
       "flex_flow": null,
       "grid_area": null,
       "grid_auto_columns": null,
       "grid_auto_flow": null,
       "grid_auto_rows": null,
       "grid_column": null,
       "grid_gap": null,
       "grid_row": null,
       "grid_template_areas": null,
       "grid_template_columns": null,
       "grid_template_rows": null,
       "height": null,
       "justify_content": null,
       "justify_items": null,
       "left": null,
       "margin": null,
       "max_height": null,
       "max_width": null,
       "min_height": null,
       "min_width": null,
       "object_fit": null,
       "object_position": null,
       "order": null,
       "overflow": null,
       "overflow_x": null,
       "overflow_y": null,
       "padding": null,
       "right": null,
       "top": null,
       "visibility": null,
       "width": null
      }
     },
     "494431a9549f45ec80fc8dc8d471d7a2": {
      "model_module": "@jupyter-widgets/base",
      "model_module_version": "1.2.0",
      "model_name": "LayoutModel",
      "state": {
       "_model_module": "@jupyter-widgets/base",
       "_model_module_version": "1.2.0",
       "_model_name": "LayoutModel",
       "_view_count": null,
       "_view_module": "@jupyter-widgets/base",
       "_view_module_version": "1.2.0",
       "_view_name": "LayoutView",
       "align_content": null,
       "align_items": null,
       "align_self": null,
       "border": null,
       "bottom": null,
       "display": null,
       "flex": null,
       "flex_flow": null,
       "grid_area": null,
       "grid_auto_columns": null,
       "grid_auto_flow": null,
       "grid_auto_rows": null,
       "grid_column": null,
       "grid_gap": null,
       "grid_row": null,
       "grid_template_areas": null,
       "grid_template_columns": null,
       "grid_template_rows": null,
       "height": null,
       "justify_content": null,
       "justify_items": null,
       "left": null,
       "margin": null,
       "max_height": null,
       "max_width": null,
       "min_height": null,
       "min_width": null,
       "object_fit": null,
       "object_position": null,
       "order": null,
       "overflow": null,
       "overflow_x": null,
       "overflow_y": null,
       "padding": null,
       "right": null,
       "top": null,
       "visibility": null,
       "width": null
      }
     },
     "4b080e2296e94515abf510d44147c7cf": {
      "model_module": "@jupyter-widgets/controls",
      "model_module_version": "1.5.0",
      "model_name": "HTMLModel",
      "state": {
       "_dom_classes": [],
       "_model_module": "@jupyter-widgets/controls",
       "_model_module_version": "1.5.0",
       "_model_name": "HTMLModel",
       "_view_count": null,
       "_view_module": "@jupyter-widgets/controls",
       "_view_module_version": "1.5.0",
       "_view_name": "HTMLView",
       "description": "",
       "description_tooltip": null,
       "layout": "IPY_MODEL_3fb70c0e1c60402e8e42222abb23d30b",
       "placeholder": "​",
       "style": "IPY_MODEL_9b8198ec984e437bac648f112197b520",
       "value": "model.safetensors: 100%"
      }
     },
     "4c7c9ddf4361447aa9fb97da07988edf": {
      "model_module": "@jupyter-widgets/base",
      "model_module_version": "1.2.0",
      "model_name": "LayoutModel",
      "state": {
       "_model_module": "@jupyter-widgets/base",
       "_model_module_version": "1.2.0",
       "_model_name": "LayoutModel",
       "_view_count": null,
       "_view_module": "@jupyter-widgets/base",
       "_view_module_version": "1.2.0",
       "_view_name": "LayoutView",
       "align_content": null,
       "align_items": null,
       "align_self": null,
       "border": null,
       "bottom": null,
       "display": null,
       "flex": null,
       "flex_flow": null,
       "grid_area": null,
       "grid_auto_columns": null,
       "grid_auto_flow": null,
       "grid_auto_rows": null,
       "grid_column": null,
       "grid_gap": null,
       "grid_row": null,
       "grid_template_areas": null,
       "grid_template_columns": null,
       "grid_template_rows": null,
       "height": null,
       "justify_content": null,
       "justify_items": null,
       "left": null,
       "margin": null,
       "max_height": null,
       "max_width": null,
       "min_height": null,
       "min_width": null,
       "object_fit": null,
       "object_position": null,
       "order": null,
       "overflow": null,
       "overflow_x": null,
       "overflow_y": null,
       "padding": null,
       "right": null,
       "top": null,
       "visibility": null,
       "width": null
      }
     },
     "5095da8cc3f64405a25aed59bccda4f6": {
      "model_module": "@jupyter-widgets/base",
      "model_module_version": "1.2.0",
      "model_name": "LayoutModel",
      "state": {
       "_model_module": "@jupyter-widgets/base",
       "_model_module_version": "1.2.0",
       "_model_name": "LayoutModel",
       "_view_count": null,
       "_view_module": "@jupyter-widgets/base",
       "_view_module_version": "1.2.0",
       "_view_name": "LayoutView",
       "align_content": null,
       "align_items": null,
       "align_self": null,
       "border": null,
       "bottom": null,
       "display": null,
       "flex": null,
       "flex_flow": null,
       "grid_area": null,
       "grid_auto_columns": null,
       "grid_auto_flow": null,
       "grid_auto_rows": null,
       "grid_column": null,
       "grid_gap": null,
       "grid_row": null,
       "grid_template_areas": null,
       "grid_template_columns": null,
       "grid_template_rows": null,
       "height": null,
       "justify_content": null,
       "justify_items": null,
       "left": null,
       "margin": null,
       "max_height": null,
       "max_width": null,
       "min_height": null,
       "min_width": null,
       "object_fit": null,
       "object_position": null,
       "order": null,
       "overflow": null,
       "overflow_x": null,
       "overflow_y": null,
       "padding": null,
       "right": null,
       "top": null,
       "visibility": null,
       "width": null
      }
     },
     "6372196a86e04f728fef22567cae63f8": {
      "model_module": "@jupyter-widgets/base",
      "model_module_version": "1.2.0",
      "model_name": "LayoutModel",
      "state": {
       "_model_module": "@jupyter-widgets/base",
       "_model_module_version": "1.2.0",
       "_model_name": "LayoutModel",
       "_view_count": null,
       "_view_module": "@jupyter-widgets/base",
       "_view_module_version": "1.2.0",
       "_view_name": "LayoutView",
       "align_content": null,
       "align_items": null,
       "align_self": null,
       "border": null,
       "bottom": null,
       "display": null,
       "flex": null,
       "flex_flow": null,
       "grid_area": null,
       "grid_auto_columns": null,
       "grid_auto_flow": null,
       "grid_auto_rows": null,
       "grid_column": null,
       "grid_gap": null,
       "grid_row": null,
       "grid_template_areas": null,
       "grid_template_columns": null,
       "grid_template_rows": null,
       "height": null,
       "justify_content": null,
       "justify_items": null,
       "left": null,
       "margin": null,
       "max_height": null,
       "max_width": null,
       "min_height": null,
       "min_width": null,
       "object_fit": null,
       "object_position": null,
       "order": null,
       "overflow": null,
       "overflow_x": null,
       "overflow_y": null,
       "padding": null,
       "right": null,
       "top": null,
       "visibility": null,
       "width": null
      }
     },
     "7442df5a9cdc461db301d998ee7331b3": {
      "model_module": "@jupyter-widgets/controls",
      "model_module_version": "1.5.0",
      "model_name": "FloatProgressModel",
      "state": {
       "_dom_classes": [],
       "_model_module": "@jupyter-widgets/controls",
       "_model_module_version": "1.5.0",
       "_model_name": "FloatProgressModel",
       "_view_count": null,
       "_view_module": "@jupyter-widgets/controls",
       "_view_module_version": "1.5.0",
       "_view_name": "ProgressView",
       "bar_style": "success",
       "description": "",
       "description_tooltip": null,
       "layout": "IPY_MODEL_fc08977a63234229a4f1686fcffe6ae5",
       "max": 8755,
       "min": 0,
       "orientation": "horizontal",
       "style": "IPY_MODEL_1ba2bd16308547e98849da05fdf8a2e8",
       "value": 8755
      }
     },
     "7eaa829af7774d728b1666ec3dbca4b4": {
      "model_module": "@jupyter-widgets/controls",
      "model_module_version": "1.5.0",
      "model_name": "HTMLModel",
      "state": {
       "_dom_classes": [],
       "_model_module": "@jupyter-widgets/controls",
       "_model_module_version": "1.5.0",
       "_model_name": "HTMLModel",
       "_view_count": null,
       "_view_module": "@jupyter-widgets/controls",
       "_view_module_version": "1.5.0",
       "_view_name": "HTMLView",
       "description": "",
       "description_tooltip": null,
       "layout": "IPY_MODEL_ef962fa80bba4c0c9535f1cacb3c9adf",
       "placeholder": "​",
       "style": "IPY_MODEL_f1e44bb7b5de4c24be5875c3a7fa0245",
       "value": "config.json: 100%"
      }
     },
     "84937d7002c048bbb0847ea13436ad4d": {
      "model_module": "@jupyter-widgets/controls",
      "model_module_version": "1.5.0",
      "model_name": "DescriptionStyleModel",
      "state": {
       "_model_module": "@jupyter-widgets/controls",
       "_model_module_version": "1.5.0",
       "_model_name": "DescriptionStyleModel",
       "_view_count": null,
       "_view_module": "@jupyter-widgets/base",
       "_view_module_version": "1.2.0",
       "_view_name": "StyleView",
       "description_width": ""
      }
     },
     "860ac48e7be44ab28b041b896bf11136": {
      "model_module": "@jupyter-widgets/controls",
      "model_module_version": "1.5.0",
      "model_name": "DescriptionStyleModel",
      "state": {
       "_model_module": "@jupyter-widgets/controls",
       "_model_module_version": "1.5.0",
       "_model_name": "DescriptionStyleModel",
       "_view_count": null,
       "_view_module": "@jupyter-widgets/base",
       "_view_module_version": "1.2.0",
       "_view_name": "StyleView",
       "description_width": ""
      }
     },
     "8972eb75456746708c775030c801fd49": {
      "model_module": "@jupyter-widgets/controls",
      "model_module_version": "1.5.0",
      "model_name": "FloatProgressModel",
      "state": {
       "_dom_classes": [],
       "_model_module": "@jupyter-widgets/controls",
       "_model_module_version": "1.5.0",
       "_model_name": "FloatProgressModel",
       "_view_count": null,
       "_view_module": "@jupyter-widgets/controls",
       "_view_module_version": "1.5.0",
       "_view_name": "ProgressView",
       "bar_style": "success",
       "description": "",
       "description_tooltip": null,
       "layout": "IPY_MODEL_3f7f8769f3c4462eb0c32269a6d0945f",
       "max": 241053050,
       "min": 0,
       "orientation": "horizontal",
       "style": "IPY_MODEL_c915f342aa7a4ec4baee05667bb55d57",
       "value": 241053050
      }
     },
     "9b8198ec984e437bac648f112197b520": {
      "model_module": "@jupyter-widgets/controls",
      "model_module_version": "1.5.0",
      "model_name": "DescriptionStyleModel",
      "state": {
       "_model_module": "@jupyter-widgets/controls",
       "_model_module_version": "1.5.0",
       "_model_name": "DescriptionStyleModel",
       "_view_count": null,
       "_view_module": "@jupyter-widgets/base",
       "_view_module_version": "1.2.0",
       "_view_name": "StyleView",
       "description_width": ""
      }
     },
     "ab707a45e4de4e71904af2df5d55e49c": {
      "model_module": "@jupyter-widgets/controls",
      "model_module_version": "1.5.0",
      "model_name": "HBoxModel",
      "state": {
       "_dom_classes": [],
       "_model_module": "@jupyter-widgets/controls",
       "_model_module_version": "1.5.0",
       "_model_name": "HBoxModel",
       "_view_count": null,
       "_view_module": "@jupyter-widgets/controls",
       "_view_module_version": "1.5.0",
       "_view_name": "HBoxView",
       "box_style": "",
       "children": [
        "IPY_MODEL_4b080e2296e94515abf510d44147c7cf",
        "IPY_MODEL_8972eb75456746708c775030c801fd49",
        "IPY_MODEL_eb86589653e9477ba9fa0a4e7bf2b116"
       ],
       "layout": "IPY_MODEL_494431a9549f45ec80fc8dc8d471d7a2"
      }
     },
     "bb6f997af81844668ccbbeeb34b09c3c": {
      "model_module": "@jupyter-widgets/controls",
      "model_module_version": "1.5.0",
      "model_name": "HBoxModel",
      "state": {
       "_dom_classes": [],
       "_model_module": "@jupyter-widgets/controls",
       "_model_module_version": "1.5.0",
       "_model_name": "HBoxModel",
       "_view_count": null,
       "_view_module": "@jupyter-widgets/controls",
       "_view_module_version": "1.5.0",
       "_view_name": "HBoxView",
       "box_style": "",
       "children": [
        "IPY_MODEL_7eaa829af7774d728b1666ec3dbca4b4",
        "IPY_MODEL_7442df5a9cdc461db301d998ee7331b3",
        "IPY_MODEL_fa995019f3d84566b3c49092fec9bd87"
       ],
       "layout": "IPY_MODEL_4c7c9ddf4361447aa9fb97da07988edf"
      }
     },
     "c915f342aa7a4ec4baee05667bb55d57": {
      "model_module": "@jupyter-widgets/controls",
      "model_module_version": "1.5.0",
      "model_name": "ProgressStyleModel",
      "state": {
       "_model_module": "@jupyter-widgets/controls",
       "_model_module_version": "1.5.0",
       "_model_name": "ProgressStyleModel",
       "_view_count": null,
       "_view_module": "@jupyter-widgets/base",
       "_view_module_version": "1.2.0",
       "_view_name": "StyleView",
       "bar_color": null,
       "description_width": ""
      }
     },
     "eb86589653e9477ba9fa0a4e7bf2b116": {
      "model_module": "@jupyter-widgets/controls",
      "model_module_version": "1.5.0",
      "model_name": "HTMLModel",
      "state": {
       "_dom_classes": [],
       "_model_module": "@jupyter-widgets/controls",
       "_model_module_version": "1.5.0",
       "_model_name": "HTMLModel",
       "_view_count": null,
       "_view_module": "@jupyter-widgets/controls",
       "_view_module_version": "1.5.0",
       "_view_name": "HTMLView",
       "description": "",
       "description_tooltip": null,
       "layout": "IPY_MODEL_6372196a86e04f728fef22567cae63f8",
       "placeholder": "​",
       "style": "IPY_MODEL_860ac48e7be44ab28b041b896bf11136",
       "value": " 241M/241M [00:13&lt;00:00, 20.1MB/s]"
      }
     },
     "ef962fa80bba4c0c9535f1cacb3c9adf": {
      "model_module": "@jupyter-widgets/base",
      "model_module_version": "1.2.0",
      "model_name": "LayoutModel",
      "state": {
       "_model_module": "@jupyter-widgets/base",
       "_model_module_version": "1.2.0",
       "_model_name": "LayoutModel",
       "_view_count": null,
       "_view_module": "@jupyter-widgets/base",
       "_view_module_version": "1.2.0",
       "_view_name": "LayoutView",
       "align_content": null,
       "align_items": null,
       "align_self": null,
       "border": null,
       "bottom": null,
       "display": null,
       "flex": null,
       "flex_flow": null,
       "grid_area": null,
       "grid_auto_columns": null,
       "grid_auto_flow": null,
       "grid_auto_rows": null,
       "grid_column": null,
       "grid_gap": null,
       "grid_row": null,
       "grid_template_areas": null,
       "grid_template_columns": null,
       "grid_template_rows": null,
       "height": null,
       "justify_content": null,
       "justify_items": null,
       "left": null,
       "margin": null,
       "max_height": null,
       "max_width": null,
       "min_height": null,
       "min_width": null,
       "object_fit": null,
       "object_position": null,
       "order": null,
       "overflow": null,
       "overflow_x": null,
       "overflow_y": null,
       "padding": null,
       "right": null,
       "top": null,
       "visibility": null,
       "width": null
      }
     },
     "f1e44bb7b5de4c24be5875c3a7fa0245": {
      "model_module": "@jupyter-widgets/controls",
      "model_module_version": "1.5.0",
      "model_name": "DescriptionStyleModel",
      "state": {
       "_model_module": "@jupyter-widgets/controls",
       "_model_module_version": "1.5.0",
       "_model_name": "DescriptionStyleModel",
       "_view_count": null,
       "_view_module": "@jupyter-widgets/base",
       "_view_module_version": "1.2.0",
       "_view_name": "StyleView",
       "description_width": ""
      }
     },
     "fa995019f3d84566b3c49092fec9bd87": {
      "model_module": "@jupyter-widgets/controls",
      "model_module_version": "1.5.0",
      "model_name": "HTMLModel",
      "state": {
       "_dom_classes": [],
       "_model_module": "@jupyter-widgets/controls",
       "_model_module_version": "1.5.0",
       "_model_name": "HTMLModel",
       "_view_count": null,
       "_view_module": "@jupyter-widgets/controls",
       "_view_module_version": "1.5.0",
       "_view_name": "HTMLView",
       "description": "",
       "description_tooltip": null,
       "layout": "IPY_MODEL_5095da8cc3f64405a25aed59bccda4f6",
       "placeholder": "​",
       "style": "IPY_MODEL_84937d7002c048bbb0847ea13436ad4d",
       "value": " 8.76k/8.76k [00:00&lt;00:00, 816kB/s]"
      }
     },
     "fc08977a63234229a4f1686fcffe6ae5": {
      "model_module": "@jupyter-widgets/base",
      "model_module_version": "1.2.0",
      "model_name": "LayoutModel",
      "state": {
       "_model_module": "@jupyter-widgets/base",
       "_model_module_version": "1.2.0",
       "_model_name": "LayoutModel",
       "_view_count": null,
       "_view_module": "@jupyter-widgets/base",
       "_view_module_version": "1.2.0",
       "_view_name": "LayoutView",
       "align_content": null,
       "align_items": null,
       "align_self": null,
       "border": null,
       "bottom": null,
       "display": null,
       "flex": null,
       "flex_flow": null,
       "grid_area": null,
       "grid_auto_columns": null,
       "grid_auto_flow": null,
       "grid_auto_rows": null,
       "grid_column": null,
       "grid_gap": null,
       "grid_row": null,
       "grid_template_areas": null,
       "grid_template_columns": null,
       "grid_template_rows": null,
       "height": null,
       "justify_content": null,
       "justify_items": null,
       "left": null,
       "margin": null,
       "max_height": null,
       "max_width": null,
       "min_height": null,
       "min_width": null,
       "object_fit": null,
       "object_position": null,
       "order": null,
       "overflow": null,
       "overflow_x": null,
       "overflow_y": null,
       "padding": null,
       "right": null,
       "top": null,
       "visibility": null,
       "width": null
      }
     }
    },
    "version_major": 2,
    "version_minor": 0
   }
  }
 },
 "nbformat": 4,
 "nbformat_minor": 5
}
