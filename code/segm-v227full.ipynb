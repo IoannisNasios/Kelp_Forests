{
 "cells": [
  {
   "cell_type": "code",
   "execution_count": 1,
   "id": "a5c51e78",
   "metadata": {
    "execution": {
     "iopub.execute_input": "2024-02-26T16:04:03.854356Z",
     "iopub.status.busy": "2024-02-26T16:04:03.853959Z",
     "iopub.status.idle": "2024-02-26T16:04:25.030974Z",
     "shell.execute_reply": "2024-02-26T16:04:25.029655Z"
    },
    "papermill": {
     "duration": 21.191429,
     "end_time": "2024-02-26T16:04:25.034103",
     "exception": false,
     "start_time": "2024-02-26T16:04:03.842674",
     "status": "completed"
    },
    "tags": []
   },
   "outputs": [],
   "source": [
    "# !pip install -q segmentation_models_pytorch"
   ]
  },
  {
   "cell_type": "code",
   "execution_count": 2,
   "id": "0c91fd1a",
   "metadata": {
    "execution": {
     "iopub.execute_input": "2024-02-26T16:04:25.056220Z",
     "iopub.status.busy": "2024-02-26T16:04:25.055892Z",
     "iopub.status.idle": "2024-02-26T16:04:36.840971Z",
     "shell.execute_reply": "2024-02-26T16:04:36.840095Z"
    },
    "papermill": {
     "duration": 11.797347,
     "end_time": "2024-02-26T16:04:36.843316",
     "exception": false,
     "start_time": "2024-02-26T16:04:25.045969",
     "status": "completed"
    },
    "tags": []
   },
   "outputs": [],
   "source": [
    "import os\n",
    "# os.environ[\"CUDA_VISIBLE_DEVICES\"] = \"0\"\n",
    "\n",
    "import cv2\n",
    "import tifffile\n",
    "import numpy as np\n",
    "import pandas as pd\n",
    "import matplotlib.pyplot as plt\n",
    "import gc\n",
    "import warnings\n",
    "warnings.filterwarnings(\"ignore\")\n",
    "\n",
    "import random\n",
    "import torch\n",
    "import torch.nn as nn\n",
    "import albumentations\n",
    "\n",
    "import segmentation_models_pytorch as smp\n",
    "import skimage\n",
    "\n",
    "\n",
    "from tqdm import tqdm\n",
    "import torch.optim as optim\n",
    "from torch.utils.data import TensorDataset, DataLoader,Dataset\n",
    "from fastprogress import master_bar, progress_bar\n",
    "\n",
    "def create_dir(path):\n",
    "    if os.path.isdir(path)==False:\n",
    "        os.makedirs(path)"
   ]
  },
  {
   "cell_type": "code",
   "execution_count": 1,
   "id": "be8851c9",
   "metadata": {
    "execution": {
     "iopub.execute_input": "2024-02-26T16:04:36.860868Z",
     "iopub.status.busy": "2024-02-26T16:04:36.860237Z",
     "iopub.status.idle": "2024-02-26T16:04:36.865623Z",
     "shell.execute_reply": "2024-02-26T16:04:36.864874Z"
    },
    "papermill": {
     "duration": 0.015958,
     "end_time": "2024-02-26T16:04:36.867407",
     "exception": false,
     "start_time": "2024-02-26T16:04:36.851449",
     "status": "completed"
    },
    "tags": []
   },
   "outputs": [],
   "source": [
    "# # CONFIGURE \n",
    "\n",
    "# # Set Data Paths\n",
    "# test_path='test_satellite/'\n",
    "# train_path='train_satellite/'\n",
    "# labels_path='train_kelp/'\n",
    "\n",
    "\n",
    "# # Create directories\n",
    "# # test_predmask_path='test_kelp/'\n",
    "# # create_dir(test_predmask_path)\n",
    "\n",
    "# # set weights directory for new training saving\n",
    "# weights_path='weights/'\n",
    "# create_dir(weights_path)\n",
    "\n",
    "\n",
    "# RETRAIN= False # if true retrain else use trained weights for inference\n",
    "# trained_weights = 'trained_weights/' # meaningful only when RETRAIN=False\n",
    "\n",
    "\n",
    "# # directory for prediction probabilities \n",
    "# test_preds_dir = 'test_preds/'\n",
    "# create_dir(test_preds_dir)\n",
    "\n",
    "from config import test_path, train_path, labels_path, weights_path, RETRAIN, trained_weights, test_preds_dir\n",
    "\n",
    "# DO NOT EDIT BELOW"
   ]
  },
  {
   "cell_type": "code",
   "execution_count": 2,
   "id": "3db8d3b3",
   "metadata": {},
   "outputs": [
    {
     "data": {
      "text/plain": [
       "('test_satellite/',\n",
       " 'train_satellite/',\n",
       " 'train_kelp/',\n",
       " 'weights/',\n",
       " False,\n",
       " 'trained_weights/',\n",
       " 'test_preds/')"
      ]
     },
     "execution_count": 2,
     "metadata": {},
     "output_type": "execute_result"
    }
   ],
   "source": [
    "test_path, train_path, labels_path, weights_path, RETRAIN, trained_weights, test_preds_dir"
   ]
  },
  {
   "cell_type": "code",
   "execution_count": 4,
   "id": "c0f6340c",
   "metadata": {
    "execution": {
     "iopub.execute_input": "2024-02-26T16:04:36.883791Z",
     "iopub.status.busy": "2024-02-26T16:04:36.883549Z",
     "iopub.status.idle": "2024-02-26T16:04:36.889405Z",
     "shell.execute_reply": "2024-02-26T16:04:36.888599Z"
    },
    "papermill": {
     "duration": 0.016085,
     "end_time": "2024-02-26T16:04:36.891221",
     "exception": false,
     "start_time": "2024-02-26T16:04:36.875136",
     "status": "completed"
    },
    "tags": []
   },
   "outputs": [],
   "source": [
    "basename='segm_v227full'\n",
    "\n",
    "\n",
    "# training schedule variables\n",
    "epochs=32\n",
    "snapshots = 1\n",
    "lr_0 = 0.00005\n",
    "WARMUP_EPOCHS=0\n",
    "\n",
    "# training input variables\n",
    "SIZE=512 # resize image size\n",
    "channels=[0,1,3] # SWIR, NIR, Green\n",
    "meansCH = np.array( [0.485, 0.456, 0.406] )\n",
    "stdsCH = np.array( [0.229, 0.224, 0.225] )\n",
    "stdsCH *= 0.9\n",
    "CLIPMIN=6000\n",
    "CLIPMAX=24000\n",
    "\n",
    "\n",
    "BA=3 # Batch Accumulation\n",
    "num_workers = 4 # \n",
    "bs = 2 # Batch Size\n"
   ]
  },
  {
   "cell_type": "code",
   "execution_count": 5,
   "id": "65d28a06",
   "metadata": {
    "execution": {
     "iopub.execute_input": "2024-02-26T16:04:36.907415Z",
     "iopub.status.busy": "2024-02-26T16:04:36.907161Z",
     "iopub.status.idle": "2024-02-26T16:04:37.680133Z",
     "shell.execute_reply": "2024-02-26T16:04:37.679155Z"
    },
    "papermill": {
     "duration": 0.783364,
     "end_time": "2024-02-26T16:04:37.682268",
     "exception": false,
     "start_time": "2024-02-26T16:04:36.898904",
     "status": "completed"
    },
    "tags": []
   },
   "outputs": [
    {
     "data": {
      "text/plain": [
       "(1426, 5635, 5635, 'FF979226_satellite.tif', 'WG210136_kelp.tif')"
      ]
     },
     "execution_count": 5,
     "metadata": {},
     "output_type": "execute_result"
    }
   ],
   "source": [
    "test_image_names=os.listdir(test_path)\n",
    "train_image_names=os.listdir(train_path)\n",
    "mask_names = os.listdir(labels_path)\n",
    "len(test_image_names),len(train_image_names),len(mask_names),test_image_names[0],mask_names[0]"
   ]
  },
  {
   "cell_type": "code",
   "execution_count": 3,
   "id": "2b6d8b05",
   "metadata": {
    "execution": {
     "iopub.execute_input": "2024-02-26T16:04:37.699696Z",
     "iopub.status.busy": "2024-02-26T16:04:37.699406Z",
     "iopub.status.idle": "2024-02-26T16:04:37.730512Z",
     "shell.execute_reply": "2024-02-26T16:04:37.729707Z"
    },
    "papermill": {
     "duration": 0.041622,
     "end_time": "2024-02-26T16:04:37.732346",
     "exception": false,
     "start_time": "2024-02-26T16:04:37.690724",
     "status": "completed"
    },
    "tags": []
   },
   "outputs": [],
   "source": [
    "full_train_img_paths= np.array([train_path+x for x in train_image_names])\n",
    "full_train_msk_paths= np.array([labels_path+x.split('_')[0]+'_kelp.tif' for x in train_image_names])\n",
    "# full_test_img_paths= np.array([test_path+x for x in test_image_names])\n",
    "# test_image_names=np.load('/kaggle/input/needkelp/kafe_test_image_names.npz')['arr_0']\n",
    "full_test_img_paths=np.array([test_path+x for x in test_image_names])\n",
    "len(full_train_img_paths),len(full_train_msk_paths),len(full_test_img_paths),full_train_img_paths[:2],full_test_img_paths[:2]\n"
   ]
  },
  {
   "cell_type": "code",
   "execution_count": null,
   "id": "f8a98258",
   "metadata": {},
   "outputs": [],
   "source": [
    "# vids=np.load('/kaggle/input/needkelp/valid_imids_ph2.npz')['arr_0']\n",
    "# tids=np.load('/kaggle/input/needkelp/train_imids_ph2.npz')['arr_0']\n",
    "# len(tids),len(vids)\n",
    "\n",
    "# train_ids= np.array([train_path+x for x in tids])\n",
    "# val_ids= np.array([train_path+x for x in vids])\n",
    "# train_ids.shape, val_ids.shape\n",
    "\n",
    "# train_ids=np.concatenate((train_ids,val_ids))\n",
    "\n",
    "train_ids=np.array([train_path+x for x in train_image_names])\n",
    "train_ids.shape,train_ids[:3]"
   ]
  },
  {
   "cell_type": "code",
   "execution_count": null,
   "id": "b72a8ca3",
   "metadata": {},
   "outputs": [],
   "source": []
  },
  {
   "cell_type": "code",
   "execution_count": 7,
   "id": "9e6778b0",
   "metadata": {
    "execution": {
     "iopub.execute_input": "2024-02-26T16:04:37.750804Z",
     "iopub.status.busy": "2024-02-26T16:04:37.750528Z",
     "iopub.status.idle": "2024-02-26T16:05:28.632927Z",
     "shell.execute_reply": "2024-02-26T16:05:28.631903Z"
    },
    "papermill": {
     "duration": 50.89455,
     "end_time": "2024-02-26T16:05:28.635930",
     "exception": false,
     "start_time": "2024-02-26T16:04:37.741380",
     "status": "completed"
    },
    "tags": []
   },
   "outputs": [
    {
     "data": {
      "application/vnd.jupyter.widget-view+json": {
       "model_id": "9546fef7931a474daaf013b29e4b6ba6",
       "version_major": 2,
       "version_minor": 0
      },
      "text/plain": [
       "config.json:   0%|          | 0.00/8.76k [00:00<?, ?B/s]"
      ]
     },
     "metadata": {},
     "output_type": "display_data"
    },
    {
     "data": {
      "application/vnd.jupyter.widget-view+json": {
       "model_id": "43a5f20aa15945a5877aea65fbb79985",
       "version_major": 2,
       "version_minor": 0
      },
      "text/plain": [
       "model.safetensors:   0%|          | 0.00/489M [00:00<?, ?B/s]"
      ]
     },
     "metadata": {},
     "output_type": "display_data"
    }
   ],
   "source": [
    "from transformers import SwinConfig, UperNetConfig, UperNetForSemanticSegmentation\n",
    "ENCODER = 'UPNTcnvxtB'\n",
    "# model = UperNetForSemanticSegmentation.from_pretrained(\"openmmlab/upernet-convnext-tiny\")\n",
    "model = UperNetForSemanticSegmentation.from_pretrained(\"openmmlab/upernet-convnext-base\")\n",
    "model.decode_head.classifier = torch.nn.Conv2d(512, 1, kernel_size=(1, 1), stride=(1, 1))"
   ]
  },
  {
   "cell_type": "code",
   "execution_count": 8,
   "id": "216f7844",
   "metadata": {
    "execution": {
     "iopub.execute_input": "2024-02-26T16:05:28.659812Z",
     "iopub.status.busy": "2024-02-26T16:05:28.659297Z",
     "iopub.status.idle": "2024-02-26T16:05:28.663618Z",
     "shell.execute_reply": "2024-02-26T16:05:28.662611Z"
    },
    "papermill": {
     "duration": 0.016944,
     "end_time": "2024-02-26T16:05:28.665498",
     "exception": false,
     "start_time": "2024-02-26T16:05:28.648554",
     "status": "completed"
    },
    "tags": []
   },
   "outputs": [],
   "source": [
    "# import transformers,safetensors\n",
    "# transformers.__version__,safetensors.__version__"
   ]
  },
  {
   "cell_type": "code",
   "execution_count": 9,
   "id": "87faf5a0",
   "metadata": {
    "execution": {
     "iopub.execute_input": "2024-02-26T16:05:28.684070Z",
     "iopub.status.busy": "2024-02-26T16:05:28.683752Z",
     "iopub.status.idle": "2024-02-26T16:05:28.692657Z",
     "shell.execute_reply": "2024-02-26T16:05:28.691799Z"
    },
    "papermill": {
     "duration": 0.020985,
     "end_time": "2024-02-26T16:05:28.694966",
     "exception": false,
     "start_time": "2024-02-26T16:05:28.673981",
     "status": "completed"
    },
    "tags": []
   },
   "outputs": [],
   "source": [
    "def cosine_anneal_schedule(t):\n",
    "    cos_inner = np.pi * (t % (epochs // snapshots))\n",
    "    cos_inner /= epochs // snapshots\n",
    "    cos_out = np.cos(cos_inner) + 1\n",
    "    return float(lr_0 / 2 * cos_out)\n",
    "cosine_anneal_schedule_list=[cosine_anneal_schedule(x) for x in range(epochs)]\n",
    "# cosine_anneal_schedule_list\n",
    "# WARMUP_EPOCHS=5\n",
    "# cosine_anneal_schedule_list=[0.000001]*WARMUP_EPOCHS+cosine_anneal_schedule_list\n",
    "# lr_0 = cosine_anneal_schedule_list[0]\n",
    "# epochs=len(cosine_anneal_schedule_list)\n",
    "def adjust_optim(optimizer, n_iter):\n",
    "    optimizer.param_groups[0]['lr'] = cosine_anneal_schedule_list[n_iter % epochs]\n",
    "\n"
   ]
  },
  {
   "cell_type": "code",
   "execution_count": 10,
   "id": "659be6af",
   "metadata": {
    "execution": {
     "iopub.execute_input": "2024-02-26T16:05:28.721068Z",
     "iopub.status.busy": "2024-02-26T16:05:28.720755Z",
     "iopub.status.idle": "2024-02-26T16:05:28.736919Z",
     "shell.execute_reply": "2024-02-26T16:05:28.735988Z"
    },
    "papermill": {
     "duration": 0.031311,
     "end_time": "2024-02-26T16:05:28.738870",
     "exception": false,
     "start_time": "2024-02-26T16:05:28.707559",
     "status": "completed"
    },
    "tags": []
   },
   "outputs": [],
   "source": [
    "\n",
    "Ms = meansCH.mean()\n",
    "Ss = stdsCH.mean()\n",
    "\n",
    "RANDOM_ERASE_PROB=0.25\n",
    "MAX_ERASE_DIM=0.1\n",
    "RANDOM_ERASE_MAX_TIMES=5\n",
    "\n",
    "class KelpDataset_disk(torch.utils.data.Dataset):\n",
    "    \"\"\"Reads in images, transforms pixel values, and serves a\n",
    "    dictionary containing chip ids, image tensors, and\n",
    "    label masks (where available).\n",
    "    \"\"\"\n",
    "\n",
    "    def __init__(self, x_paths,y_paths, transforms=None, preprocessing=None, mode='train'):\n",
    "        self.x_paths = x_paths\n",
    "        self.y_paths = y_paths\n",
    "        # self.ids = ids\n",
    "        self.transforms = transforms\n",
    "        self.preprocessing = preprocessing\n",
    "        self.mode=mode\n",
    "\n",
    "    def __len__(self):\n",
    "        return len(self.x_paths)\n",
    "\n",
    "    def __getitem__(self, idx):\n",
    "        # Loads a 3-channel image from a chip-level dataframe\n",
    "        # x_arr = images[idx].astype('float')\n",
    "        # y_arr = masks[idx]\n",
    "        x_arr=tifffile.imread(self.x_paths[idx]).astype('float32')\n",
    "        t=x_arr.copy()\n",
    "        x_arr=np.clip(x_arr,CLIPMIN,CLIPMAX)\n",
    "        x_arr[t<=-32000]=0\n",
    "        # del t\n",
    "\n",
    "        if self.mode=='test':\n",
    "            y_arr=np.zeros((350,350)).astype('uint8')\n",
    "        else:\n",
    "            y_arr=tifffile.imread(self.y_paths[idx])\n",
    "\n",
    "        \n",
    "        if self.mode=='train':\n",
    "            if (random.random()<RANDOM_ERASE_PROB):\n",
    "                RANDOM_ERASE_TIMES = np.random.choice(np.arange(1,RANDOM_ERASE_MAX_TIMES+1))\n",
    "                for a in range(RANDOM_ERASE_TIMES):\n",
    "                    ULc=(int(random.random()*x_arr.shape[0]),int(random.random()*x_arr.shape[1]))\n",
    "                    EH = int(min(x_arr.shape[0]-ULc[0], random.random()*MAX_ERASE_DIM*x_arr.shape[0]))\n",
    "                    EW = int(min(x_arr.shape[1]-ULc[1], random.random()*MAX_ERASE_DIM*x_arr.shape[1]))\n",
    "                    x_arr[ULc[0]:ULc[0]+EH, ULc[1]:ULc[1]+EW,...] = CLIPMIN\n",
    "                    x_arr[t<=-32000]=0                \n",
    "                    y_arr[ULc[0]:ULc[0]+EH, ULc[1]:ULc[1]+EW] = 0\n",
    "        del t\n",
    "        y_arr = np.expand_dims(y_arr, -1).astype('float32')\n",
    "        \n",
    "        # print(x_arr.shape,y_arr.shape)\n",
    "        # Apply data augmentations, if provided\n",
    "        if self.transforms:\n",
    "            augmented = self.transforms(image=x_arr, mask=y_arr)\n",
    "            x_arr, y_arr = augmented['image'], augmented['mask']\n",
    "        # x_arr = np.transpose(x_arr, [2, 0, 1])\n",
    "        \n",
    "\n",
    "\n",
    "        # # ****GLOBAL****  Min-max normalization\n",
    "        x_arr = x_arr[...,channels]/CLIPMAX\n",
    "        x_arr = (x_arr - meansCH)/stdsCH\n",
    "        \n",
    "        x_arr = np.transpose(x_arr, [2, 0, 1])\n",
    "        y_arr = np.transpose(y_arr, [2, 0, 1])\n",
    "        \n",
    "        if self.preprocessing:\n",
    "            preprocessed = self.preprocessing(image=x_arr, mask=y_arr)\n",
    "            x_arr = preprocessed['image']\n",
    "            y_arr = preprocessed['mask']\n",
    "\n",
    "        return x_arr.astype('float32'), y_arr.astype('float32')#.astype('uint8')#, not_missing_mask.astype('uint8')"
   ]
  },
  {
   "cell_type": "code",
   "execution_count": 4,
   "id": "1fd8bd7c",
   "metadata": {
    "execution": {
     "iopub.execute_input": "2024-02-26T16:05:28.807145Z",
     "iopub.status.busy": "2024-02-26T16:05:28.806771Z",
     "iopub.status.idle": "2024-02-26T16:05:28.826529Z",
     "shell.execute_reply": "2024-02-26T16:05:28.825649Z"
    },
    "papermill": {
     "duration": 0.031394,
     "end_time": "2024-02-26T16:05:28.828422",
     "exception": false,
     "start_time": "2024-02-26T16:05:28.797028",
     "status": "completed"
    },
    "tags": []
   },
   "outputs": [],
   "source": []
  },
  {
   "cell_type": "code",
   "execution_count": 13,
   "id": "b959ab1a",
   "metadata": {
    "execution": {
     "iopub.execute_input": "2024-02-26T16:05:28.849954Z",
     "iopub.status.busy": "2024-02-26T16:05:28.849548Z",
     "iopub.status.idle": "2024-02-26T16:05:28.853494Z",
     "shell.execute_reply": "2024-02-26T16:05:28.852736Z"
    },
    "papermill": {
     "duration": 0.017906,
     "end_time": "2024-02-26T16:05:28.855302",
     "exception": false,
     "start_time": "2024-02-26T16:05:28.837396",
     "status": "completed"
    },
    "tags": []
   },
   "outputs": [],
   "source": [
    "# train_ids=np.array([train_path+x for x in os.listdir(train_path) ])"
   ]
  },
  {
   "cell_type": "code",
   "execution_count": 14,
   "id": "3404ff5d",
   "metadata": {
    "execution": {
     "iopub.execute_input": "2024-02-26T16:05:28.874372Z",
     "iopub.status.busy": "2024-02-26T16:05:28.874121Z",
     "iopub.status.idle": "2024-02-26T16:05:28.881918Z",
     "shell.execute_reply": "2024-02-26T16:05:28.881089Z"
    },
    "papermill": {
     "duration": 0.019531,
     "end_time": "2024-02-26T16:05:28.883907",
     "exception": false,
     "start_time": "2024-02-26T16:05:28.864376",
     "status": "completed"
    },
    "tags": []
   },
   "outputs": [],
   "source": [
    "from sklearn.metrics import jaccard_score\n",
    "def get_dice_coef(gt, preds, THRESH=0.5):\n",
    "    #gt shape BxCxHxW\n",
    "    #preds shape BxHxW\n",
    "    dice = np.sum((preds>THRESH)[gt[:,0,...]==1])*2.0 / (np.sum((preds>THRESH)) + np.sum(gt[:,0,...]))\n",
    "    return dice\n",
    "\n",
    "\n",
    "class DiceLoss(nn.Module):\n",
    "    def __init__(self, weight=None, size_average=True):\n",
    "        super(DiceLoss, self).__init__()\n",
    "\n",
    "    def forward(self, inputs, targets, eps=1e-7):\n",
    "        \n",
    "        # #comment out if your model contains a sigmoid or equivalent activation layer\n",
    "        # inputs = F.sigmoid(inputs)       \n",
    "        \n",
    "        #flatten label and prediction tensors\n",
    "        inputs = inputs.view(-1)\n",
    "        targets = targets.view(-1)\n",
    "        \n",
    "        intersection = (inputs * targets).sum()                            \n",
    "        dice = (2.*intersection )/(inputs.sum() + targets.sum() + eps)  \n",
    "        \n",
    "        return 1 - dice\n"
   ]
  },
  {
   "cell_type": "code",
   "execution_count": 15,
   "id": "dcef183b",
   "metadata": {
    "execution": {
     "iopub.execute_input": "2024-02-26T16:05:28.902500Z",
     "iopub.status.busy": "2024-02-26T16:05:28.902240Z",
     "iopub.status.idle": "2024-02-26T16:05:28.907992Z",
     "shell.execute_reply": "2024-02-26T16:05:28.907180Z"
    },
    "papermill": {
     "duration": 0.017349,
     "end_time": "2024-02-26T16:05:28.909959",
     "exception": false,
     "start_time": "2024-02-26T16:05:28.892610",
     "status": "completed"
    },
    "tags": []
   },
   "outputs": [],
   "source": [
    "\n",
    "training_transformations = albumentations.Compose(\n",
    "    [\n",
    "        albumentations.Resize(SIZE, SIZE, interpolation=2),\n",
    "        albumentations.RandomRotate90(),\n",
    "        # albumentations.RandomRotate90(p=1),\n",
    "        albumentations.HorizontalFlip(),\n",
    "        albumentations.VerticalFlip(),\n",
    "    ]\n",
    ")\n",
    "validation_transformations = albumentations.Compose(\n",
    "    [\n",
    "        albumentations.Resize(SIZE, SIZE, interpolation=2),\n",
    "    ]\n",
    ")"
   ]
  },
  {
   "cell_type": "code",
   "execution_count": 16,
   "id": "fafeb477",
   "metadata": {
    "execution": {
     "iopub.execute_input": "2024-02-26T16:05:28.929672Z",
     "iopub.status.busy": "2024-02-26T16:05:28.929385Z",
     "iopub.status.idle": "2024-02-26T16:05:34.335053Z",
     "shell.execute_reply": "2024-02-26T16:05:34.334179Z"
    },
    "papermill": {
     "duration": 5.418205,
     "end_time": "2024-02-26T16:05:34.337454",
     "exception": false,
     "start_time": "2024-02-26T16:05:28.919249",
     "status": "completed"
    },
    "scrolled": true,
    "tags": []
   },
   "outputs": [],
   "source": [
    "name=ENCODER+'_'+basename\n",
    "model.cuda()\n",
    "\n",
    "if RETRAIN==True:\n",
    "    optimizer = optim.AdamW(model.parameters(), lr=lr_0)\n",
    "    # optimizer=optim.AdamW([\n",
    "    #                 {'params': model.encoder.parameters()},\n",
    "    #                 {'params': model.decoder.parameters(), 'lr': lr_0*5},\n",
    "    #                 {'params': model.segmentation_head.parameters()}\n",
    "    #             ], lr=lr_0)\n",
    "\n",
    "    train_dataset = KelpDataset_disk(x_paths=train_ids,\n",
    "                                     y_paths=[x.replace('satellite', 'kelp') for x in train_ids],\n",
    "                                 transforms = training_transformations,\n",
    "                                    )\n",
    "\n",
    "    train_loader = DataLoader(train_dataset, batch_size=bs, shuffle=True, num_workers=num_workers, drop_last=True)\n",
    "\n",
    "\n",
    "    criterion1 = DiceLoss()\n",
    "\n",
    "    mb = master_bar(range(epochs))\n",
    "    loss_log=[]\n",
    "    for epoch in mb:\n",
    "\n",
    "        avg_train_loss = 0.\n",
    "        model.train()\n",
    "\n",
    "\n",
    "        pb = progress_bar(train_loader)\n",
    "        for ii, (data, target) in enumerate(pb):\n",
    "\n",
    "            data, target = data.cuda(non_blocking=True), target.cuda(non_blocking=True)\n",
    "\n",
    "\n",
    "            alpha = 1\n",
    "            # optimizer.zero_grad()\n",
    "            output = model(data)\n",
    "            output=output.logits\n",
    "            output=torch.sigmoid(output)\n",
    "\n",
    "            loss = criterion1(output,  target.to(dtype=torch.float))\n",
    "\n",
    "            loss.backward()\n",
    "            if (ii + 1) % BA == 0:            \n",
    "                optimizer.step()\n",
    "                # optimizer.zero_grad()\n",
    "                optimizer.zero_grad(set_to_none=True)  \n",
    "\n",
    "            # optimizer.step()\n",
    "            if ii % 1000 == 0:\n",
    "                loss_log.append(loss.item())\n",
    "            avg_train_loss += loss.item() / len(train_loader)\n",
    "\n",
    "        print('Epoch: {} - Loss: {:.6f}'.format(epoch + 1, avg_train_loss))\n",
    "\n",
    "        adjust_optim(optimizer, (epoch + 1))\n",
    "\n",
    "        gc.collect()\n",
    "\n",
    "    torch.save(model.state_dict(), weights_path+name+'_last.pt')\n",
    "else:\n",
    "    model.load_state_dict(torch.load(  trained_weights+ENCODER+'_'+basename+'_last.pt') )        "
   ]
  },
  {
   "cell_type": "code",
   "execution_count": 17,
   "id": "cfc7f08f",
   "metadata": {
    "execution": {
     "iopub.execute_input": "2024-02-26T16:05:34.356691Z",
     "iopub.status.busy": "2024-02-26T16:05:34.356416Z",
     "iopub.status.idle": "2024-02-26T16:05:34.363494Z",
     "shell.execute_reply": "2024-02-26T16:05:34.362625Z"
    },
    "papermill": {
     "duration": 0.019038,
     "end_time": "2024-02-26T16:05:34.365663",
     "exception": false,
     "start_time": "2024-02-26T16:05:34.346625",
     "status": "completed"
    },
    "tags": []
   },
   "outputs": [
    {
     "name": "stdout",
     "output_type": "stream",
     "text": [
      "model eval\n"
     ]
    }
   ],
   "source": [
    "model.eval()\n",
    "print('model eval')"
   ]
  },
  {
   "cell_type": "code",
   "execution_count": 18,
   "id": "25c5a899",
   "metadata": {
    "execution": {
     "iopub.execute_input": "2024-02-26T16:05:34.384527Z",
     "iopub.status.busy": "2024-02-26T16:05:34.384208Z",
     "iopub.status.idle": "2024-02-26T16:05:34.389117Z",
     "shell.execute_reply": "2024-02-26T16:05:34.388263Z"
    },
    "papermill": {
     "duration": 0.016136,
     "end_time": "2024-02-26T16:05:34.390892",
     "exception": false,
     "start_time": "2024-02-26T16:05:34.374756",
     "status": "completed"
    },
    "tags": []
   },
   "outputs": [],
   "source": [
    "test_dataset = KelpDataset_disk(x_paths=full_test_img_paths,\n",
    "                                y_paths=None,\n",
    "                             transforms = validation_transformations,\n",
    "                             # preprocessing=get_preprocessing(preprocessing_fn)\n",
    "                                 mode='test'\n",
    "                                )\n",
    "\n",
    "test_loader = DataLoader(test_dataset, batch_size=bs, shuffle=False, num_workers=num_workers)\n"
   ]
  },
  {
   "cell_type": "code",
   "execution_count": 5,
   "id": "c13e62a4",
   "metadata": {
    "execution": {
     "iopub.execute_input": "2024-02-26T16:05:34.409173Z",
     "iopub.status.busy": "2024-02-26T16:05:34.408906Z",
     "iopub.status.idle": "2024-02-26T16:12:52.427719Z",
     "shell.execute_reply": "2024-02-26T16:12:52.426858Z"
    },
    "papermill": {
     "duration": 438.030756,
     "end_time": "2024-02-26T16:12:52.430127",
     "exception": false,
     "start_time": "2024-02-26T16:05:34.399371",
     "status": "completed"
    },
    "tags": []
   },
   "outputs": [],
   "source": [
    "with torch.no_grad():\n",
    "\n",
    "    test_preds1 =[]\n",
    "    test_preds2 =[]\n",
    "    test_preds3 =[]\n",
    "    test_preds4 =[]\n",
    "\n",
    "\n",
    "    pb = progress_bar(test_loader)\n",
    "    for i, (x_batch, y_batch) in enumerate(pb):\n",
    "\n",
    "        preds1 = torch.sigmoid(model(x_batch.cuda(non_blocking=True)).logits).detach()\n",
    "        preds2 = torch.sigmoid(model(torch.flip(x_batch, dims=[2]).cuda(non_blocking=True)).logits).detach()\n",
    "        preds3 = torch.sigmoid(model(torch.flip(x_batch, dims=[3]).cuda(non_blocking=True)).logits).detach()\n",
    "        preds4 = torch.sigmoid(model(torch.flip(x_batch, dims=[2,3]).cuda(non_blocking=True)).logits).detach()\n",
    "\n",
    "        test_preds1.append(preds1.cpu())\n",
    "        test_preds2.append(preds2.cpu())\n",
    "        test_preds3.append(preds3.cpu())\n",
    "        test_preds4.append(preds4.cpu())\n",
    "    test_preds1=np.vstack(test_preds1)[:,0,...]    \n",
    "    test_preds2=np.vstack(test_preds2)[:,0,...]    \n",
    "    test_preds3=np.vstack(test_preds3)[:,0,...]    \n",
    "    test_preds4=np.vstack(test_preds4)[:,0,...]    \n",
    "\n",
    "    # test_preds=(test_preds1+test_preds2[...,::-1,:]+test_preds3[...,:,::-1])/3\n",
    "    test_preds=(test_preds1+test_preds2[...,::-1,:]+test_preds3[...,:,::-1]+test_preds4[...,::-1,::-1])/4\n"
   ]
  },
  {
   "cell_type": "code",
   "execution_count": 20,
   "id": "9d78f7dc",
   "metadata": {
    "execution": {
     "iopub.execute_input": "2024-02-26T16:12:52.449908Z",
     "iopub.status.busy": "2024-02-26T16:12:52.449583Z",
     "iopub.status.idle": "2024-02-26T16:13:22.150491Z",
     "shell.execute_reply": "2024-02-26T16:13:22.149123Z"
    },
    "papermill": {
     "duration": 29.713715,
     "end_time": "2024-02-26T16:13:22.153243",
     "exception": false,
     "start_time": "2024-02-26T16:12:52.439528",
     "status": "completed"
    },
    "tags": []
   },
   "outputs": [],
   "source": [
    "# np.savez('testProbs/v227full', test_preds.astype('float16'))\n",
    "np.savez(test_preds_dir+basename[5:], test_preds.astype('float16'))"
   ]
  },
  {
   "cell_type": "code",
   "execution_count": 21,
   "id": "cc2e672f",
   "metadata": {
    "execution": {
     "iopub.execute_input": "2024-02-26T16:13:22.177128Z",
     "iopub.status.busy": "2024-02-26T16:13:22.176729Z",
     "iopub.status.idle": "2024-02-26T16:13:22.380388Z",
     "shell.execute_reply": "2024-02-26T16:13:22.379360Z"
    },
    "papermill": {
     "duration": 0.217742,
     "end_time": "2024-02-26T16:13:22.382379",
     "exception": false,
     "start_time": "2024-02-26T16:13:22.164637",
     "status": "completed"
    },
    "tags": []
   },
   "outputs": [
    {
     "data": {
      "image/png": "[encoded data removed]",
      "text/plain": [
       "<Figure size 640x480 with 1 Axes>"
      ]
     },
     "metadata": {},
     "output_type": "display_data"
    }
   ],
   "source": [
    "plt.imshow(test_preds[0]>0.5)\n",
    "plt.show()"
   ]
  },
  {
   "cell_type": "code",
   "execution_count": 6,
   "id": "528a3c90",
   "metadata": {
    "execution": {
     "iopub.execute_input": "2024-02-26T16:13:22.402906Z",
     "iopub.status.busy": "2024-02-26T16:13:22.402208Z",
     "iopub.status.idle": "2024-02-26T16:13:31.919650Z",
     "shell.execute_reply": "2024-02-26T16:13:31.918749Z"
    },
    "papermill": {
     "duration": 9.529827,
     "end_time": "2024-02-26T16:13:31.921649",
     "exception": false,
     "start_time": "2024-02-26T16:13:22.391822",
     "status": "completed"
    },
    "tags": []
   },
   "outputs": [],
   "source": [
    "# test_preds = np.array([skimage.transform.resize(x, (350,350)) for x in test_preds])\n",
    "# test_preds.shape"
   ]
  },
  {
   "cell_type": "code",
   "execution_count": 7,
   "id": "02606b5b",
   "metadata": {
    "execution": {
     "iopub.execute_input": "2024-02-26T16:13:31.942239Z",
     "iopub.status.busy": "2024-02-26T16:13:31.941485Z",
     "iopub.status.idle": "2024-02-26T16:13:32.067613Z",
     "shell.execute_reply": "2024-02-26T16:13:32.066765Z"
    },
    "papermill": {
     "duration": 0.138961,
     "end_time": "2024-02-26T16:13:32.070162",
     "exception": false,
     "start_time": "2024-02-26T16:13:31.931201",
     "status": "completed"
    },
    "tags": []
   },
   "outputs": [],
   "source": [
    "# THRESH=0.5\n",
    "# test_preds = np.array([(x>THRESH).astype('uint8') for x in test_preds])"
   ]
  },
  {
   "cell_type": "code",
   "execution_count": 8,
   "id": "bf773da9",
   "metadata": {
    "execution": {
     "iopub.execute_input": "2024-02-26T16:13:32.091159Z",
     "iopub.status.busy": "2024-02-26T16:13:32.090866Z",
     "iopub.status.idle": "2024-02-26T16:13:33.246481Z",
     "shell.execute_reply": "2024-02-26T16:13:33.245451Z"
    },
    "papermill": {
     "duration": 1.16805,
     "end_time": "2024-02-26T16:13:33.248621",
     "exception": false,
     "start_time": "2024-02-26T16:13:32.080571",
     "status": "completed"
    },
    "tags": []
   },
   "outputs": [],
   "source": [
    "# [cv2.imwrite(test_predmask_path+test_image_names[i].split('_')[0]+'_kelp.tif', test_preds[i])\n",
    "#  for i in range(len(test_preds))]\n",
    "# print('saved in disk')"
   ]
  },
  {
   "cell_type": "code",
   "execution_count": null,
   "id": "2b4312b9",
   "metadata": {
    "papermill": {
     "duration": 0.009563,
     "end_time": "2024-02-26T16:13:33.268829",
     "exception": false,
     "start_time": "2024-02-26T16:13:33.259266",
     "status": "completed"
    },
    "tags": []
   },
   "outputs": [],
   "source": []
  },
  {
   "cell_type": "code",
   "execution_count": 9,
   "id": "b35d1155",
   "metadata": {
    "execution": {
     "iopub.execute_input": "2024-02-26T16:13:33.288852Z",
     "iopub.status.busy": "2024-02-26T16:13:33.288527Z",
     "iopub.status.idle": "2024-02-26T16:13:34.624265Z",
     "shell.execute_reply": "2024-02-26T16:13:34.623123Z"
    },
    "papermill": {
     "duration": 1.348493,
     "end_time": "2024-02-26T16:13:34.626688",
     "exception": false,
     "start_time": "2024-02-26T16:13:33.278195",
     "status": "completed"
    },
    "tags": []
   },
   "outputs": [],
   "source": [
    "# # Remember to avoid including the inference dir itself\n",
    "# !cd test_kelp && zip -rq subm_v227full.zip *"
   ]
  },
  {
   "cell_type": "code",
   "execution_count": 10,
   "id": "70af4d76",
   "metadata": {
    "execution": {
     "iopub.execute_input": "2024-02-26T16:13:34.648134Z",
     "iopub.status.busy": "2024-02-26T16:13:34.647436Z",
     "iopub.status.idle": "2024-02-26T16:13:35.743580Z",
     "shell.execute_reply": "2024-02-26T16:13:35.742404Z"
    },
    "papermill": {
     "duration": 1.10924,
     "end_time": "2024-02-26T16:13:35.745793",
     "exception": false,
     "start_time": "2024-02-26T16:13:34.636553",
     "status": "completed"
    },
    "tags": []
   },
   "outputs": [],
   "source": [
    "# !du -h subm_v227full.zip"
   ]
  },
  {
   "cell_type": "code",
   "execution_count": 11,
   "id": "80c1d5f9",
   "metadata": {
    "execution": {
     "iopub.execute_input": "2024-02-26T16:13:35.766907Z",
     "iopub.status.busy": "2024-02-26T16:13:35.766590Z",
     "iopub.status.idle": "2024-02-26T16:13:36.892076Z",
     "shell.execute_reply": "2024-02-26T16:13:36.890693Z"
    },
    "papermill": {
     "duration": 1.138688,
     "end_time": "2024-02-26T16:13:36.894666",
     "exception": false,
     "start_time": "2024-02-26T16:13:35.755978",
     "status": "completed"
    },
    "tags": []
   },
   "outputs": [],
   "source": [
    "# !rm -r test_kelp"
   ]
  },
  {
   "cell_type": "code",
   "execution_count": null,
   "id": "331c10d9",
   "metadata": {},
   "outputs": [],
   "source": []
  }
 ],
 "metadata": {
  "kaggle": {
   "accelerator": "gpu",
   "dataSources": [
    {
     "datasetId": 4497321,
     "sourceId": 7703751,
     "sourceType": "datasetVersion"
    },
    {
     "datasetId": 4275820,
     "sourceId": 7587464,
     "sourceType": "datasetVersion"
    },
    {
     "sourceId": 157416039,
     "sourceType": "kernelVersion"
    }
   ],
   "dockerImageVersionId": 30648,
   "isGpuEnabled": true,
   "isInternetEnabled": true,
   "language": "python",
   "sourceType": "notebook"
  },
  "kernelspec": {
   "display_name": "Python 3",
   "language": "python",
   "name": "python3"
  },
  "language_info": {
   "codemirror_mode": {
    "name": "ipython",
    "version": 3
   },
   "file_extension": ".py",
   "mimetype": "text/x-python",
   "name": "python",
   "nbconvert_exporter": "python",
   "pygments_lexer": "ipython3",
   "version": "3.6.15"
  },
  "papermill": {
   "default_parameters": {},
   "duration": 579.420342,
   "end_time": "2024-02-26T16:13:40.540469",
   "environment_variables": {},
   "exception": null,
   "input_path": "__notebook__.ipynb",
   "output_path": "__notebook__.ipynb",
   "parameters": {},
   "start_time": "2024-02-26T16:04:01.120127",
   "version": "2.5.0"
  },
  "widgets": {
   "application/vnd.jupyter.widget-state+json": {
    "state": {
     "06a3978314b643e78f050a894f82491c": {
      "model_module": "@jupyter-widgets/controls",
      "model_module_version": "1.5.0",
      "model_name": "HTMLModel",
      "state": {
       "_dom_classes": [],
       "_model_module": "@jupyter-widgets/controls",
       "_model_module_version": "1.5.0",
       "_model_name": "HTMLModel",
       "_view_count": null,
       "_view_module": "@jupyter-widgets/controls",
       "_view_module_version": "1.5.0",
       "_view_name": "HTMLView",
       "description": "",
       "description_tooltip": null,
       "layout": "IPY_MODEL_dbc9e46a451c42bc9e61d16fc465c37b",
       "placeholder": "​",
       "style": "IPY_MODEL_9367a2bdcbb44269af2cedb1e341de54",
       "value": "model.safetensors: 100%"
      }
     },
     "0c36cc2c929d41759f3de686077284ab": {
      "model_module": "@jupyter-widgets/controls",
      "model_module_version": "1.5.0",
      "model_name": "DescriptionStyleModel",
      "state": {
       "_model_module": "@jupyter-widgets/controls",
       "_model_module_version": "1.5.0",
       "_model_name": "DescriptionStyleModel",
       "_view_count": null,
       "_view_module": "@jupyter-widgets/base",
       "_view_module_version": "1.2.0",
       "_view_name": "StyleView",
       "description_width": ""
      }
     },
     "13e79c04ac2e4300aebb67684bbcc71a": {
      "model_module": "@jupyter-widgets/controls",
      "model_module_version": "1.5.0",
      "model_name": "HTMLModel",
      "state": {
       "_dom_classes": [],
       "_model_module": "@jupyter-widgets/controls",
       "_model_module_version": "1.5.0",
       "_model_name": "HTMLModel",
       "_view_count": null,
       "_view_module": "@jupyter-widgets/controls",
       "_view_module_version": "1.5.0",
       "_view_name": "HTMLView",
       "description": "",
       "description_tooltip": null,
       "layout": "IPY_MODEL_d8d3dead2dd94358a248a2e370ed56cf",
       "placeholder": "​",
       "style": "IPY_MODEL_198b15b84e894804ae16f1e56d371a7c",
       "value": "config.json: 100%"
      }
     },
     "198b15b84e894804ae16f1e56d371a7c": {
      "model_module": "@jupyter-widgets/controls",
      "model_module_version": "1.5.0",
      "model_name": "DescriptionStyleModel",
      "state": {
       "_model_module": "@jupyter-widgets/controls",
       "_model_module_version": "1.5.0",
       "_model_name": "DescriptionStyleModel",
       "_view_count": null,
       "_view_module": "@jupyter-widgets/base",
       "_view_module_version": "1.2.0",
       "_view_name": "StyleView",
       "description_width": ""
      }
     },
     "1e2a56149c724fda96a4645007203f5d": {
      "model_module": "@jupyter-widgets/base",
      "model_module_version": "1.2.0",
      "model_name": "LayoutModel",
      "state": {
       "_model_module": "@jupyter-widgets/base",
       "_model_module_version": "1.2.0",
       "_model_name": "LayoutModel",
       "_view_count": null,
       "_view_module": "@jupyter-widgets/base",
       "_view_module_version": "1.2.0",
       "_view_name": "LayoutView",
       "align_content": null,
       "align_items": null,
       "align_self": null,
       "border": null,
       "bottom": null,
       "display": null,
       "flex": null,
       "flex_flow": null,
       "grid_area": null,
       "grid_auto_columns": null,
       "grid_auto_flow": null,
       "grid_auto_rows": null,
       "grid_column": null,
       "grid_gap": null,
       "grid_row": null,
       "grid_template_areas": null,
       "grid_template_columns": null,
       "grid_template_rows": null,
       "height": null,
       "justify_content": null,
       "justify_items": null,
       "left": null,
       "margin": null,
       "max_height": null,
       "max_width": null,
       "min_height": null,
       "min_width": null,
       "object_fit": null,
       "object_position": null,
       "order": null,
       "overflow": null,
       "overflow_x": null,
       "overflow_y": null,
       "padding": null,
       "right": null,
       "top": null,
       "visibility": null,
       "width": null
      }
     },
     "25c607762ef141fe96b9ba97ec44057b": {
      "model_module": "@jupyter-widgets/controls",
      "model_module_version": "1.5.0",
      "model_name": "FloatProgressModel",
      "state": {
       "_dom_classes": [],
       "_model_module": "@jupyter-widgets/controls",
       "_model_module_version": "1.5.0",
       "_model_name": "FloatProgressModel",
       "_view_count": null,
       "_view_module": "@jupyter-widgets/controls",
       "_view_module_version": "1.5.0",
       "_view_name": "ProgressView",
       "bar_style": "success",
       "description": "",
       "description_tooltip": null,
       "layout": "IPY_MODEL_7bf9e53f5cf847c7bc1c3b1f294cc55c",
       "max": 8758,
       "min": 0,
       "orientation": "horizontal",
       "style": "IPY_MODEL_9eb2d9700b0343799823d90f21f4bf41",
       "value": 8758
      }
     },
     "43a5f20aa15945a5877aea65fbb79985": {
      "model_module": "@jupyter-widgets/controls",
      "model_module_version": "1.5.0",
      "model_name": "HBoxModel",
      "state": {
       "_dom_classes": [],
       "_model_module": "@jupyter-widgets/controls",
       "_model_module_version": "1.5.0",
       "_model_name": "HBoxModel",
       "_view_count": null,
       "_view_module": "@jupyter-widgets/controls",
       "_view_module_version": "1.5.0",
       "_view_name": "HBoxView",
       "box_style": "",
       "children": [
        "IPY_MODEL_06a3978314b643e78f050a894f82491c",
        "IPY_MODEL_7c519431ed4f4e279398077b9a1cbf17",
        "IPY_MODEL_c96ef066fea84607845a49c7e96d10a6"
       ],
       "layout": "IPY_MODEL_562ddf0c759f4bfc95f01fbc02f6869c"
      }
     },
     "542f2db20af24a0299f33e9ee308bd37": {
      "model_module": "@jupyter-widgets/controls",
      "model_module_version": "1.5.0",
      "model_name": "ProgressStyleModel",
      "state": {
       "_model_module": "@jupyter-widgets/controls",
       "_model_module_version": "1.5.0",
       "_model_name": "ProgressStyleModel",
       "_view_count": null,
       "_view_module": "@jupyter-widgets/base",
       "_view_module_version": "1.2.0",
       "_view_name": "StyleView",
       "bar_color": null,
       "description_width": ""
      }
     },
     "562ddf0c759f4bfc95f01fbc02f6869c": {
      "model_module": "@jupyter-widgets/base",
      "model_module_version": "1.2.0",
      "model_name": "LayoutModel",
      "state": {
       "_model_module": "@jupyter-widgets/base",
       "_model_module_version": "1.2.0",
       "_model_name": "LayoutModel",
       "_view_count": null,
       "_view_module": "@jupyter-widgets/base",
       "_view_module_version": "1.2.0",
       "_view_name": "LayoutView",
       "align_content": null,
       "align_items": null,
       "align_self": null,
       "border": null,
       "bottom": null,
       "display": null,
       "flex": null,
       "flex_flow": null,
       "grid_area": null,
       "grid_auto_columns": null,
       "grid_auto_flow": null,
       "grid_auto_rows": null,
       "grid_column": null,
       "grid_gap": null,
       "grid_row": null,
       "grid_template_areas": null,
       "grid_template_columns": null,
       "grid_template_rows": null,
       "height": null,
       "justify_content": null,
       "justify_items": null,
       "left": null,
       "margin": null,
       "max_height": null,
       "max_width": null,
       "min_height": null,
       "min_width": null,
       "object_fit": null,
       "object_position": null,
       "order": null,
       "overflow": null,
       "overflow_x": null,
       "overflow_y": null,
       "padding": null,
       "right": null,
       "top": null,
       "visibility": null,
       "width": null
      }
     },
     "7bf9e53f5cf847c7bc1c3b1f294cc55c": {
      "model_module": "@jupyter-widgets/base",
      "model_module_version": "1.2.0",
      "model_name": "LayoutModel",
      "state": {
       "_model_module": "@jupyter-widgets/base",
       "_model_module_version": "1.2.0",
       "_model_name": "LayoutModel",
       "_view_count": null,
       "_view_module": "@jupyter-widgets/base",
       "_view_module_version": "1.2.0",
       "_view_name": "LayoutView",
       "align_content": null,
       "align_items": null,
       "align_self": null,
       "border": null,
       "bottom": null,
       "display": null,
       "flex": null,
       "flex_flow": null,
       "grid_area": null,
       "grid_auto_columns": null,
       "grid_auto_flow": null,
       "grid_auto_rows": null,
       "grid_column": null,
       "grid_gap": null,
       "grid_row": null,
       "grid_template_areas": null,
       "grid_template_columns": null,
       "grid_template_rows": null,
       "height": null,
       "justify_content": null,
       "justify_items": null,
       "left": null,
       "margin": null,
       "max_height": null,
       "max_width": null,
       "min_height": null,
       "min_width": null,
       "object_fit": null,
       "object_position": null,
       "order": null,
       "overflow": null,
       "overflow_x": null,
       "overflow_y": null,
       "padding": null,
       "right": null,
       "top": null,
       "visibility": null,
       "width": null
      }
     },
     "7c519431ed4f4e279398077b9a1cbf17": {
      "model_module": "@jupyter-widgets/controls",
      "model_module_version": "1.5.0",
      "model_name": "FloatProgressModel",
      "state": {
       "_dom_classes": [],
       "_model_module": "@jupyter-widgets/controls",
       "_model_module_version": "1.5.0",
       "_model_name": "FloatProgressModel",
       "_view_count": null,
       "_view_module": "@jupyter-widgets/controls",
       "_view_module_version": "1.5.0",
       "_view_name": "ProgressView",
       "bar_style": "success",
       "description": "",
       "description_tooltip": null,
       "layout": "IPY_MODEL_ad94f9f0bf434d2785a1d9fdd3738784",
       "max": 488514240,
       "min": 0,
       "orientation": "horizontal",
       "style": "IPY_MODEL_542f2db20af24a0299f33e9ee308bd37",
       "value": 488514240
      }
     },
     "7e5e23fc60d44e60ac377c81b0ff1192": {
      "model_module": "@jupyter-widgets/base",
      "model_module_version": "1.2.0",
      "model_name": "LayoutModel",
      "state": {
       "_model_module": "@jupyter-widgets/base",
       "_model_module_version": "1.2.0",
       "_model_name": "LayoutModel",
       "_view_count": null,
       "_view_module": "@jupyter-widgets/base",
       "_view_module_version": "1.2.0",
       "_view_name": "LayoutView",
       "align_content": null,
       "align_items": null,
       "align_self": null,
       "border": null,
       "bottom": null,
       "display": null,
       "flex": null,
       "flex_flow": null,
       "grid_area": null,
       "grid_auto_columns": null,
       "grid_auto_flow": null,
       "grid_auto_rows": null,
       "grid_column": null,
       "grid_gap": null,
       "grid_row": null,
       "grid_template_areas": null,
       "grid_template_columns": null,
       "grid_template_rows": null,
       "height": null,
       "justify_content": null,
       "justify_items": null,
       "left": null,
       "margin": null,
       "max_height": null,
       "max_width": null,
       "min_height": null,
       "min_width": null,
       "object_fit": null,
       "object_position": null,
       "order": null,
       "overflow": null,
       "overflow_x": null,
       "overflow_y": null,
       "padding": null,
       "right": null,
       "top": null,
       "visibility": null,
       "width": null
      }
     },
     "9050b24efcd7453ba1a197264554ef5c": {
      "model_module": "@jupyter-widgets/base",
      "model_module_version": "1.2.0",
      "model_name": "LayoutModel",
      "state": {
       "_model_module": "@jupyter-widgets/base",
       "_model_module_version": "1.2.0",
       "_model_name": "LayoutModel",
       "_view_count": null,
       "_view_module": "@jupyter-widgets/base",
       "_view_module_version": "1.2.0",
       "_view_name": "LayoutView",
       "align_content": null,
       "align_items": null,
       "align_self": null,
       "border": null,
       "bottom": null,
       "display": null,
       "flex": null,
       "flex_flow": null,
       "grid_area": null,
       "grid_auto_columns": null,
       "grid_auto_flow": null,
       "grid_auto_rows": null,
       "grid_column": null,
       "grid_gap": null,
       "grid_row": null,
       "grid_template_areas": null,
       "grid_template_columns": null,
       "grid_template_rows": null,
       "height": null,
       "justify_content": null,
       "justify_items": null,
       "left": null,
       "margin": null,
       "max_height": null,
       "max_width": null,
       "min_height": null,
       "min_width": null,
       "object_fit": null,
       "object_position": null,
       "order": null,
       "overflow": null,
       "overflow_x": null,
       "overflow_y": null,
       "padding": null,
       "right": null,
       "top": null,
       "visibility": null,
       "width": null
      }
     },
     "9367a2bdcbb44269af2cedb1e341de54": {
      "model_module": "@jupyter-widgets/controls",
      "model_module_version": "1.5.0",
      "model_name": "DescriptionStyleModel",
      "state": {
       "_model_module": "@jupyter-widgets/controls",
       "_model_module_version": "1.5.0",
       "_model_name": "DescriptionStyleModel",
       "_view_count": null,
       "_view_module": "@jupyter-widgets/base",
       "_view_module_version": "1.2.0",
       "_view_name": "StyleView",
       "description_width": ""
      }
     },
     "9546fef7931a474daaf013b29e4b6ba6": {
      "model_module": "@jupyter-widgets/controls",
      "model_module_version": "1.5.0",
      "model_name": "HBoxModel",
      "state": {
       "_dom_classes": [],
       "_model_module": "@jupyter-widgets/controls",
       "_model_module_version": "1.5.0",
       "_model_name": "HBoxModel",
       "_view_count": null,
       "_view_module": "@jupyter-widgets/controls",
       "_view_module_version": "1.5.0",
       "_view_name": "HBoxView",
       "box_style": "",
       "children": [
        "IPY_MODEL_13e79c04ac2e4300aebb67684bbcc71a",
        "IPY_MODEL_25c607762ef141fe96b9ba97ec44057b",
        "IPY_MODEL_bb783b950c83422a86074c7ba7d39371"
       ],
       "layout": "IPY_MODEL_9050b24efcd7453ba1a197264554ef5c"
      }
     },
     "9eb2d9700b0343799823d90f21f4bf41": {
      "model_module": "@jupyter-widgets/controls",
      "model_module_version": "1.5.0",
      "model_name": "ProgressStyleModel",
      "state": {
       "_model_module": "@jupyter-widgets/controls",
       "_model_module_version": "1.5.0",
       "_model_name": "ProgressStyleModel",
       "_view_count": null,
       "_view_module": "@jupyter-widgets/base",
       "_view_module_version": "1.2.0",
       "_view_name": "StyleView",
       "bar_color": null,
       "description_width": ""
      }
     },
     "ad94f9f0bf434d2785a1d9fdd3738784": {
      "model_module": "@jupyter-widgets/base",
      "model_module_version": "1.2.0",
      "model_name": "LayoutModel",
      "state": {
       "_model_module": "@jupyter-widgets/base",
       "_model_module_version": "1.2.0",
       "_model_name": "LayoutModel",
       "_view_count": null,
       "_view_module": "@jupyter-widgets/base",
       "_view_module_version": "1.2.0",
       "_view_name": "LayoutView",
       "align_content": null,
       "align_items": null,
       "align_self": null,
       "border": null,
       "bottom": null,
       "display": null,
       "flex": null,
       "flex_flow": null,
       "grid_area": null,
       "grid_auto_columns": null,
       "grid_auto_flow": null,
       "grid_auto_rows": null,
       "grid_column": null,
       "grid_gap": null,
       "grid_row": null,
       "grid_template_areas": null,
       "grid_template_columns": null,
       "grid_template_rows": null,
       "height": null,
       "justify_content": null,
       "justify_items": null,
       "left": null,
       "margin": null,
       "max_height": null,
       "max_width": null,
       "min_height": null,
       "min_width": null,
       "object_fit": null,
       "object_position": null,
       "order": null,
       "overflow": null,
       "overflow_x": null,
       "overflow_y": null,
       "padding": null,
       "right": null,
       "top": null,
       "visibility": null,
       "width": null
      }
     },
     "bb783b950c83422a86074c7ba7d39371": {
      "model_module": "@jupyter-widgets/controls",
      "model_module_version": "1.5.0",
      "model_name": "HTMLModel",
      "state": {
       "_dom_classes": [],
       "_model_module": "@jupyter-widgets/controls",
       "_model_module_version": "1.5.0",
       "_model_name": "HTMLModel",
       "_view_count": null,
       "_view_module": "@jupyter-widgets/controls",
       "_view_module_version": "1.5.0",
       "_view_name": "HTMLView",
       "description": "",
       "description_tooltip": null,
       "layout": "IPY_MODEL_1e2a56149c724fda96a4645007203f5d",
       "placeholder": "​",
       "style": "IPY_MODEL_0c36cc2c929d41759f3de686077284ab",
       "value": " 8.76k/8.76k [00:00&lt;00:00, 705kB/s]"
      }
     },
     "bc5d6f9ac1a04a1aad9b7585e5863bf5": {
      "model_module": "@jupyter-widgets/controls",
      "model_module_version": "1.5.0",
      "model_name": "DescriptionStyleModel",
      "state": {
       "_model_module": "@jupyter-widgets/controls",
       "_model_module_version": "1.5.0",
       "_model_name": "DescriptionStyleModel",
       "_view_count": null,
       "_view_module": "@jupyter-widgets/base",
       "_view_module_version": "1.2.0",
       "_view_name": "StyleView",
       "description_width": ""
      }
     },
     "c96ef066fea84607845a49c7e96d10a6": {
      "model_module": "@jupyter-widgets/controls",
      "model_module_version": "1.5.0",
      "model_name": "HTMLModel",
      "state": {
       "_dom_classes": [],
       "_model_module": "@jupyter-widgets/controls",
       "_model_module_version": "1.5.0",
       "_model_name": "HTMLModel",
       "_view_count": null,
       "_view_module": "@jupyter-widgets/controls",
       "_view_module_version": "1.5.0",
       "_view_name": "HTMLView",
       "description": "",
       "description_tooltip": null,
       "layout": "IPY_MODEL_7e5e23fc60d44e60ac377c81b0ff1192",
       "placeholder": "​",
       "style": "IPY_MODEL_bc5d6f9ac1a04a1aad9b7585e5863bf5",
       "value": " 489M/489M [00:46&lt;00:00, 14.0MB/s]"
      }
     },
     "d8d3dead2dd94358a248a2e370ed56cf": {
      "model_module": "@jupyter-widgets/base",
      "model_module_version": "1.2.0",
      "model_name": "LayoutModel",
      "state": {
       "_model_module": "@jupyter-widgets/base",
       "_model_module_version": "1.2.0",
       "_model_name": "LayoutModel",
       "_view_count": null,
       "_view_module": "@jupyter-widgets/base",
       "_view_module_version": "1.2.0",
       "_view_name": "LayoutView",
       "align_content": null,
       "align_items": null,
       "align_self": null,
       "border": null,
       "bottom": null,
       "display": null,
       "flex": null,
       "flex_flow": null,
       "grid_area": null,
       "grid_auto_columns": null,
       "grid_auto_flow": null,
       "grid_auto_rows": null,
       "grid_column": null,
       "grid_gap": null,
       "grid_row": null,
       "grid_template_areas": null,
       "grid_template_columns": null,
       "grid_template_rows": null,
       "height": null,
       "justify_content": null,
       "justify_items": null,
       "left": null,
       "margin": null,
       "max_height": null,
       "max_width": null,
       "min_height": null,
       "min_width": null,
       "object_fit": null,
       "object_position": null,
       "order": null,
       "overflow": null,
       "overflow_x": null,
       "overflow_y": null,
       "padding": null,
       "right": null,
       "top": null,
       "visibility": null,
       "width": null
      }
     },
     "dbc9e46a451c42bc9e61d16fc465c37b": {
      "model_module": "@jupyter-widgets/base",
      "model_module_version": "1.2.0",
      "model_name": "LayoutModel",
      "state": {
       "_model_module": "@jupyter-widgets/base",
       "_model_module_version": "1.2.0",
       "_model_name": "LayoutModel",
       "_view_count": null,
       "_view_module": "@jupyter-widgets/base",
       "_view_module_version": "1.2.0",
       "_view_name": "LayoutView",
       "align_content": null,
       "align_items": null,
       "align_self": null,
       "border": null,
       "bottom": null,
       "display": null,
       "flex": null,
       "flex_flow": null,
       "grid_area": null,
       "grid_auto_columns": null,
       "grid_auto_flow": null,
       "grid_auto_rows": null,
       "grid_column": null,
       "grid_gap": null,
       "grid_row": null,
       "grid_template_areas": null,
       "grid_template_columns": null,
       "grid_template_rows": null,
       "height": null,
       "justify_content": null,
       "justify_items": null,
       "left": null,
       "margin": null,
       "max_height": null,
       "max_width": null,
       "min_height": null,
       "min_width": null,
       "object_fit": null,
       "object_position": null,
       "order": null,
       "overflow": null,
       "overflow_x": null,
       "overflow_y": null,
       "padding": null,
       "right": null,
       "top": null,
       "visibility": null,
       "width": null
      }
     }
    },
    "version_major": 2,
    "version_minor": 0
   }
  }
 },
 "nbformat": 4,
 "nbformat_minor": 5
}
